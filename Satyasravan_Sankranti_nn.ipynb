{
 "cells": [
  {
   "cell_type": "markdown",
   "metadata": {
    "id": "BLoSiXRfJZPi"
   },
   "source": [
    "Problem statement: To build a CNN based model which can accurately detect melanoma. Melanoma is a type of cancer that can be deadly if not detected early. It accounts for 75% of skin cancer deaths. A solution which can evaluate images and alert the dermatologists about the presence of melanoma has the potential to reduce a lot of manual effort needed in diagnosis.\n",
    "\n",
    "Importing Skin Cancer Data\n",
    "To do: Take necessary actions to read the data\n",
    "Importing all the important libraries\n"
   ]
  },
  {
   "cell_type": "code",
   "execution_count": 1,
   "metadata": {
    "executionInfo": {
     "elapsed": 4053,
     "status": "ok",
     "timestamp": 1666187851248,
     "user": {
      "displayName": "satya sravan",
      "userId": "17412231274937908256"
     },
     "user_tz": -330
    },
    "id": "oioOoKvhJdDy"
   },
   "outputs": [],
   "source": [
    "import pathlib\n",
    "import tensorflow as tf\n",
    "import matplotlib.pyplot as plt\n",
    "import numpy as np\n",
    "import pandas as pd\n",
    "import os\n",
    "import PIL\n",
    "from tensorflow import keras\n",
    "from tensorflow.keras import layers\n",
    "from tensorflow.keras.models import Sequential\n",
    "from glob import glob"
   ]
  },
  {
   "cell_type": "code",
   "execution_count": 2,
   "metadata": {
    "executionInfo": {
     "elapsed": 3,
     "status": "ok",
     "timestamp": 1666187859790,
     "user": {
      "displayName": "satya sravan",
      "userId": "17412231274937908256"
     },
     "user_tz": -330
    },
    "id": "ChCvynQDZdiq"
   },
   "outputs": [],
   "source": [
    "## If you are using the data by mounting the google drive, use the following :\n",
    "## from google.colab import drive\n",
    "## drive.mount('/content/gdrive')\n",
    "##Ref:https://towardsdatascience.com/downloading-datasets-into-google-drive-via-google-colab-bcb1b30b0166"
   ]
  },
  {
   "cell_type": "markdown",
   "metadata": {
    "id": "8SItFGo6Zt0g"
   },
   "source": [
    "This assignment uses a dataset of about 2357 images of skin cancer types. The dataset contains 9 sub-directories in each train and test subdirectories. The 9 sub-directories contains the images of 9 skin cancer types respectively."
   ]
  },
  {
   "cell_type": "code",
   "execution_count": 3,
   "metadata": {
    "colab": {
     "base_uri": "https://localhost:8080/"
    },
    "executionInfo": {
     "elapsed": 12928,
     "status": "ok",
     "timestamp": 1666187878639,
     "user": {
      "displayName": "satya sravan",
      "userId": "17412231274937908256"
     },
     "user_tz": -330
    },
    "id": "vZWBBtc3ZurN",
    "outputId": "e511be76-a481-4609-dd8b-bcfe2834351b"
   },
   "outputs": [
    {
     "name": "stdout",
     "output_type": "stream",
     "text": [
      "Mounted at /content/gdrive\n",
      "Mounted at /content/drive\n"
     ]
    }
   ],
   "source": [
    "# Defining the path for train and test images\n",
    "## Todo: Update the paths of the train and test dataset\n",
    "from google.colab import drive\n",
    "drive.mount('/content/gdrive')\n",
    "\n",
    "from google.colab import drive\n",
    "drive.mount('/content/drive')\n",
    "root_path = '/content/drive/MyDrive/Skin cancer ISIC The International Skin Imaging Collaboration'\n",
    "data_dir_train = pathlib.Path(root_path + '/Train')\n",
    "data_dir_test = pathlib.Path(root_path + '/Test')"
   ]
  },
  {
   "cell_type": "code",
   "execution_count": 4,
   "metadata": {
    "colab": {
     "base_uri": "https://localhost:8080/"
    },
    "executionInfo": {
     "elapsed": 6,
     "status": "ok",
     "timestamp": 1666187881399,
     "user": {
      "displayName": "satya sravan",
      "userId": "17412231274937908256"
     },
     "user_tz": -330
    },
    "id": "kudgwhBgZ5L0",
    "outputId": "50642c5b-e6a3-49c1-b535-73f3a3a3c8c3"
   },
   "outputs": [
    {
     "name": "stdout",
     "output_type": "stream",
     "text": [
      "2239\n",
      "118\n"
     ]
    }
   ],
   "source": [
    "image_count_train = len(list(data_dir_train.glob('*/*.jpg')))\n",
    "print(image_count_train)\n",
    "image_count_test = len(list(data_dir_test.glob('*/*.jpg')))\n",
    "print(image_count_test)"
   ]
  },
  {
   "cell_type": "markdown",
   "metadata": {
    "id": "4xO6vjMSgXPn"
   },
   "source": [
    "Load images using keras.preprocessing\n",
    "Let's load these images off disk using the helpful image_dataset_from_directory utility.\n",
    "\n",
    "Create a dataset\n",
    "Define some parameters for the loader:"
   ]
  },
  {
   "cell_type": "code",
   "execution_count": 5,
   "metadata": {
    "executionInfo": {
     "elapsed": 4,
     "status": "ok",
     "timestamp": 1666187892316,
     "user": {
      "displayName": "satya sravan",
      "userId": "17412231274937908256"
     },
     "user_tz": -330
    },
    "id": "j3yUvVwmgb4-"
   },
   "outputs": [],
   "source": [
    "batch_size = 32\n",
    "img_height = 180\n",
    "img_width = 180\n"
   ]
  },
  {
   "cell_type": "markdown",
   "metadata": {
    "id": "hTWsnZxngiRV"
   },
   "source": [
    "Use 80% of the images for training, and 20% for validation."
   ]
  },
  {
   "cell_type": "code",
   "execution_count": 6,
   "metadata": {
    "colab": {
     "base_uri": "https://localhost:8080/"
    },
    "executionInfo": {
     "elapsed": 1754,
     "status": "ok",
     "timestamp": 1666187908136,
     "user": {
      "displayName": "satya sravan",
      "userId": "17412231274937908256"
     },
     "user_tz": -330
    },
    "id": "hg00WvPEgimP",
    "outputId": "5aa42f33-b325-4719-e27f-19e30c88b5c9"
   },
   "outputs": [
    {
     "name": "stdout",
     "output_type": "stream",
     "text": [
      "Found 2239 files belonging to 9 classes.\n",
      "Using 1792 files for training.\n"
     ]
    }
   ],
   "source": [
    "## Write your train dataset here\n",
    "## Note use seed=123 while creating your dataset using tf.keras.preprocessing.image_dataset_from_directory\n",
    "## Note, make sure your resize your images to the size img_height*img_width, while writting the dataset\n",
    "#Generates a tf.data.Dataset from the image files in the directory.\n",
    "## below are to do tasks\n",
    "train_ds = tf.keras.utils.image_dataset_from_directory(\n",
    "            data_dir_train,\n",
    "            batch_size=batch_size,\n",
    "            image_size=(img_height, img_width),\n",
    "            seed=123,\n",
    "            validation_split=0.2,\n",
    "            subset='training',\n",
    "            )"
   ]
  },
  {
   "cell_type": "code",
   "execution_count": 7,
   "metadata": {
    "colab": {
     "base_uri": "https://localhost:8080/"
    },
    "executionInfo": {
     "elapsed": 1243,
     "status": "ok",
     "timestamp": 1666187914518,
     "user": {
      "displayName": "satya sravan",
      "userId": "17412231274937908256"
     },
     "user_tz": -330
    },
    "id": "2nH5o6pXgyx4",
    "outputId": "eddb82ee-f36e-4c07-b87c-fb158c5bb313"
   },
   "outputs": [
    {
     "name": "stdout",
     "output_type": "stream",
     "text": [
      "Found 2239 files belonging to 9 classes.\n",
      "Using 447 files for validation.\n"
     ]
    }
   ],
   "source": [
    "## Write your validation dataset here\n",
    "## Note use seed=123 while creating your dataset using tf.keras.preprocessing.image_dataset_from_directory\n",
    "## Note, make sure your resize your images to the size img_height*img_width, while writting the dataset\n",
    "#Generates a tf.data.Dataset from the image files in the directory.\n",
    "## below are to do tasks\n",
    "val_ds = tf.keras.utils.image_dataset_from_directory(\n",
    "            data_dir_train,\n",
    "            batch_size=batch_size,\n",
    "            image_size=(img_height, img_width),\n",
    "            seed=123,\n",
    "            validation_split=0.2,\n",
    "            subset='validation',\n",
    "            )"
   ]
  },
  {
   "cell_type": "code",
   "execution_count": 8,
   "metadata": {
    "colab": {
     "base_uri": "https://localhost:8080/"
    },
    "executionInfo": {
     "elapsed": 1001,
     "status": "ok",
     "timestamp": 1666187919878,
     "user": {
      "displayName": "satya sravan",
      "userId": "17412231274937908256"
     },
     "user_tz": -330
    },
    "id": "TPYBo4l1g-lR",
    "outputId": "b29728fc-cd7e-47ce-fe39-879b0bdd869e"
   },
   "outputs": [
    {
     "name": "stdout",
     "output_type": "stream",
     "text": [
      "['actinic keratosis', 'basal cell carcinoma', 'dermatofibroma', 'melanoma', 'nevus', 'pigmented benign keratosis', 'seborrheic keratosis', 'squamous cell carcinoma', 'vascular lesion']\n"
     ]
    }
   ],
   "source": [
    "# List out all the classes of skin cancer and store them in a list. \n",
    "# You can find the class names in the class_names attribute on these datasets. \n",
    "# These correspond to the directory names in alphabetical order.\n",
    "class_names = train_ds.class_names\n",
    "print(class_names)"
   ]
  },
  {
   "cell_type": "code",
   "execution_count": 9,
   "metadata": {
    "executionInfo": {
     "elapsed": 3,
     "status": "ok",
     "timestamp": 1666187927549,
     "user": {
      "displayName": "satya sravan",
      "userId": "17412231274937908256"
     },
     "user_tz": -330
    },
    "id": "RX2TPFVBhDxJ"
   },
   "outputs": [],
   "source": [
    "##Visualize the data\n",
    "#Todo, create a code to visualize one instance of all the nine classes present in the dataset"
   ]
  },
  {
   "cell_type": "code",
   "execution_count": 10,
   "metadata": {
    "colab": {
     "base_uri": "https://localhost:8080/",
     "height": 264
    },
    "executionInfo": {
     "elapsed": 305891,
     "status": "ok",
     "timestamp": 1666188236188,
     "user": {
      "displayName": "satya sravan",
      "userId": "17412231274937908256"
     },
     "user_tz": -330
    },
    "id": "jOPdV32_hPVN",
    "outputId": "c97fe45f-b2cf-4531-f9df-20ce9d1d77ac"
   },
   "outputs": [
    {
     "data": {
      "image/png": "[encoded data removed]",
      "text/plain": [
       "<Figure size 432x288 with 9 Axes>"
      ]
     },
     "metadata": {
      "needs_background": "light"
     },
     "output_type": "display_data"
    }
   ],
   "source": [
    "### your code goes here, you can use training or validation data to visualize\n",
    "import matplotlib.pyplot as plt\n",
    "for j in range(len(class_names)):\n",
    "    filtered_ds = train_ds.filter(lambda x, l: tf.math.equal(l[0], j))\n",
    "    for image, label in filtered_ds.take(1):\n",
    "        ax = plt.subplot(3, 3, j+1)\n",
    "        plt.imshow(image[j].numpy().astype('uint8'))\n",
    "        plt.title(class_names[label.numpy()[j]])\n",
    "        plt.axis('off')"
   ]
  },
  {
   "cell_type": "code",
   "execution_count": null,
   "metadata": {
    "id": "OwV_ODzOhSAN"
   },
   "outputs": [],
   "source": []
  },
  {
   "cell_type": "markdown",
   "metadata": {
    "id": "lBBzoGWAjxdS"
   },
   "source": [
    "The image_batch is a tensor of the shape (32, 180, 180, 3). This is a batch of 32 images of shape 180x180x3 (the last dimension refers to color channels RGB). The label_batch is a tensor of the shape (32,), these are corresponding labels to the 32 images.\n",
    "\n",
    "Dataset.cache() keeps the images in memory after they're loaded off disk during the first epoch.\n",
    "\n",
    "Dataset.prefetch() overlaps data preprocessing and model execution while training."
   ]
  },
  {
   "cell_type": "code",
   "execution_count": 11,
   "metadata": {
    "executionInfo": {
     "elapsed": 4,
     "status": "ok",
     "timestamp": 1666188267941,
     "user": {
      "displayName": "satya sravan",
      "userId": "17412231274937908256"
     },
     "user_tz": -330
    },
    "id": "SQUxKCSOjyZd"
   },
   "outputs": [],
   "source": [
    "AUTOTUNE = tf.data.experimental.AUTOTUNE\n",
    "train_ds = train_ds.cache().shuffle(1000).prefetch(buffer_size=AUTOTUNE)\n",
    "val_ds = val_ds.cache().prefetch(buffer_size=AUTOTUNE)"
   ]
  },
  {
   "cell_type": "code",
   "execution_count": null,
   "metadata": {
    "id": "RmKSoakbj0mo"
   },
   "outputs": [],
   "source": []
  },
  {
   "cell_type": "markdown",
   "metadata": {
    "id": "j-ml3adij3sY"
   },
   "source": [
    "Create the model\n",
    "Todo: Create a CNN model, which can accurately detect 9 classes present in the dataset. Use layers.experimental.preprocessing.Rescaling to normalize pixel values between (0,1). The RGB channel values are in the [0, 255] range. This is not ideal for a neural network. Here, it is good to standardize values to be in the [0, 1]"
   ]
  },
  {
   "cell_type": "code",
   "execution_count": 12,
   "metadata": {
    "executionInfo": {
     "elapsed": 11,
     "status": "ok",
     "timestamp": 1666188299183,
     "user": {
      "displayName": "satya sravan",
      "userId": "17412231274937908256"
     },
     "user_tz": -330
    },
    "id": "19QSBpN-j4FN"
   },
   "outputs": [],
   "source": [
    "### Your code goes here\n",
    "#The Keras sequence class helps create a layer cluster that is linearly stacked into a tf. keras. Model.\n",
    "num_class = 9\n",
    "model = tf.keras.Sequential([\n",
    "    layers.Rescaling(scale = 1./255, input_shape = (180,180,3)),\n",
    "    layers.Conv2D(16,3,padding='same',activation= 'relu'),\n",
    "    layers.MaxPooling2D(pool_size = 2, strides = 2),    \n",
    "    layers.Conv2D(32,3,padding='same',activation= 'relu'),\n",
    "    layers.MaxPooling2D(pool_size = 2, strides = 2),\n",
    "    layers.Conv2D(64,3,padding='same',activation= 'relu'),\n",
    "    layers.MaxPooling2D(pool_size = 2, strides = 2),\n",
    "    layers.Flatten(),\n",
    "    layers.Dense(128,activation='relu'),\n",
    "    layers.Dense(num_class)\n",
    "])"
   ]
  },
  {
   "cell_type": "markdown",
   "metadata": {
    "id": "HoPmrFUZkGor"
   },
   "source": [
    "Compile the model.\n",
    "\n",
    "Choose an appropirate optimiser and loss function for model training"
   ]
  },
  {
   "cell_type": "code",
   "execution_count": 14,
   "metadata": {
    "executionInfo": {
     "elapsed": 16,
     "status": "ok",
     "timestamp": 1666188389588,
     "user": {
      "displayName": "satya sravan",
      "userId": "17412231274937908256"
     },
     "user_tz": -330
    },
    "id": "Sjq9VFuekErp"
   },
   "outputs": [],
   "source": [
    "### Todo, choose an appropirate optimiser and loss function\n",
    "#loss: Sparse Categorical Crossentropy Calculates the crossentropy loss between labels and predictions.\n",
    "model.compile(optimizer='adam',\n",
    "              loss=tf.keras.losses.SparseCategoricalCrossentropy(from_logits = True),\n",
    "              metrics=['accuracy'])"
   ]
  },
  {
   "cell_type": "code",
   "execution_count": 15,
   "metadata": {
    "colab": {
     "base_uri": "https://localhost:8080/"
    },
    "executionInfo": {
     "elapsed": 14,
     "status": "ok",
     "timestamp": 1666188398172,
     "user": {
      "displayName": "satya sravan",
      "userId": "17412231274937908256"
     },
     "user_tz": -330
    },
    "id": "dI0_TtfCkR5y",
    "outputId": "aa49091f-44f5-4f51-93b4-2c7ab1be1474"
   },
   "outputs": [
    {
     "name": "stdout",
     "output_type": "stream",
     "text": [
      "Model: \"sequential\"\n",
      "_________________________________________________________________\n",
      " Layer (type)                Output Shape              Param #   \n",
      "=================================================================\n",
      " rescaling (Rescaling)       (None, 180, 180, 3)       0         \n",
      "                                                                 \n",
      " conv2d (Conv2D)             (None, 180, 180, 16)      448       \n",
      "                                                                 \n",
      " max_pooling2d (MaxPooling2D  (None, 90, 90, 16)       0         \n",
      " )                                                               \n",
      "                                                                 \n",
      " conv2d_1 (Conv2D)           (None, 90, 90, 32)        4640      \n",
      "                                                                 \n",
      " max_pooling2d_1 (MaxPooling  (None, 45, 45, 32)       0         \n",
      " 2D)                                                             \n",
      "                                                                 \n",
      " conv2d_2 (Conv2D)           (None, 45, 45, 64)        18496     \n",
      "                                                                 \n",
      " max_pooling2d_2 (MaxPooling  (None, 22, 22, 64)       0         \n",
      " 2D)                                                             \n",
      "                                                                 \n",
      " flatten (Flatten)           (None, 30976)             0         \n",
      "                                                                 \n",
      " dense (Dense)               (None, 128)               3965056   \n",
      "                                                                 \n",
      " dense_1 (Dense)             (None, 9)                 1161      \n",
      "                                                                 \n",
      "=================================================================\n",
      "Total params: 3,989,801\n",
      "Trainable params: 3,989,801\n",
      "Non-trainable params: 0\n",
      "_________________________________________________________________\n"
     ]
    }
   ],
   "source": [
    "# View the summary of all layers\n",
    "model.summary()"
   ]
  },
  {
   "cell_type": "code",
   "execution_count": 16,
   "metadata": {
    "executionInfo": {
     "elapsed": 4,
     "status": "ok",
     "timestamp": 1666188428457,
     "user": {
      "displayName": "satya sravan",
      "userId": "17412231274937908256"
     },
     "user_tz": -330
    },
    "id": "hghN4xmfkUJy"
   },
   "outputs": [],
   "source": [
    "#Train the model"
   ]
  },
  {
   "cell_type": "code",
   "execution_count": 17,
   "metadata": {
    "colab": {
     "base_uri": "https://localhost:8080/"
    },
    "executionInfo": {
     "elapsed": 237689,
     "status": "ok",
     "timestamp": 1666188683163,
     "user": {
      "displayName": "satya sravan",
      "userId": "17412231274937908256"
     },
     "user_tz": -330
    },
    "id": "Us8A9R6-kb4F",
    "outputId": "35f5d67c-2cd9-484a-a457-3bd71610d52e"
   },
   "outputs": [
    {
     "name": "stdout",
     "output_type": "stream",
     "text": [
      "Epoch 1/20\n",
      "56/56 [==============================] - 199s 2s/step - loss: 2.0548 - accuracy: 0.2333 - val_loss: 1.8095 - val_accuracy: 0.4004\n",
      "Epoch 2/20\n",
      "56/56 [==============================] - 2s 30ms/step - loss: 1.6866 - accuracy: 0.3962 - val_loss: 1.6200 - val_accuracy: 0.4295\n",
      "Epoch 3/20\n",
      "56/56 [==============================] - 1s 25ms/step - loss: 1.4943 - accuracy: 0.4660 - val_loss: 1.4091 - val_accuracy: 0.5056\n",
      "Epoch 4/20\n",
      "56/56 [==============================] - 1s 25ms/step - loss: 1.3673 - accuracy: 0.5195 - val_loss: 1.3889 - val_accuracy: 0.5190\n",
      "Epoch 5/20\n",
      "56/56 [==============================] - 1s 25ms/step - loss: 1.2867 - accuracy: 0.5458 - val_loss: 1.3945 - val_accuracy: 0.5391\n",
      "Epoch 6/20\n",
      "56/56 [==============================] - 1s 25ms/step - loss: 1.2421 - accuracy: 0.5625 - val_loss: 1.4438 - val_accuracy: 0.4989\n",
      "Epoch 7/20\n",
      "56/56 [==============================] - 1s 25ms/step - loss: 1.1809 - accuracy: 0.5843 - val_loss: 1.4493 - val_accuracy: 0.5503\n",
      "Epoch 8/20\n",
      "56/56 [==============================] - 1s 25ms/step - loss: 1.1436 - accuracy: 0.6088 - val_loss: 1.3570 - val_accuracy: 0.5481\n",
      "Epoch 9/20\n",
      "56/56 [==============================] - 1s 26ms/step - loss: 1.0331 - accuracy: 0.6417 - val_loss: 1.3410 - val_accuracy: 0.5302\n",
      "Epoch 10/20\n",
      "56/56 [==============================] - 1s 25ms/step - loss: 0.9353 - accuracy: 0.6635 - val_loss: 1.3624 - val_accuracy: 0.5324\n",
      "Epoch 11/20\n",
      "56/56 [==============================] - 1s 25ms/step - loss: 0.9240 - accuracy: 0.6696 - val_loss: 1.4502 - val_accuracy: 0.5481\n",
      "Epoch 12/20\n",
      "56/56 [==============================] - 1s 26ms/step - loss: 0.8355 - accuracy: 0.7065 - val_loss: 1.4922 - val_accuracy: 0.5391\n",
      "Epoch 13/20\n",
      "56/56 [==============================] - 1s 25ms/step - loss: 0.7518 - accuracy: 0.7461 - val_loss: 1.4658 - val_accuracy: 0.5570\n",
      "Epoch 14/20\n",
      "56/56 [==============================] - 1s 26ms/step - loss: 0.6799 - accuracy: 0.7533 - val_loss: 1.8386 - val_accuracy: 0.5145\n",
      "Epoch 15/20\n",
      "56/56 [==============================] - 1s 26ms/step - loss: 0.6470 - accuracy: 0.7612 - val_loss: 1.5741 - val_accuracy: 0.5570\n",
      "Epoch 16/20\n",
      "56/56 [==============================] - 1s 26ms/step - loss: 0.6055 - accuracy: 0.7857 - val_loss: 1.9654 - val_accuracy: 0.5459\n",
      "Epoch 17/20\n",
      "56/56 [==============================] - 1s 26ms/step - loss: 0.5326 - accuracy: 0.8052 - val_loss: 1.8271 - val_accuracy: 0.5168\n",
      "Epoch 18/20\n",
      "56/56 [==============================] - 1s 26ms/step - loss: 0.5436 - accuracy: 0.8041 - val_loss: 1.7235 - val_accuracy: 0.5660\n",
      "Epoch 19/20\n",
      "56/56 [==============================] - 1s 25ms/step - loss: 0.4703 - accuracy: 0.8209 - val_loss: 1.9801 - val_accuracy: 0.5459\n",
      "Epoch 20/20\n",
      "56/56 [==============================] - 1s 26ms/step - loss: 0.3831 - accuracy: 0.8532 - val_loss: 2.0385 - val_accuracy: 0.5414\n"
     ]
    }
   ],
   "source": [
    "epochs = 20\n",
    "history = model.fit(\n",
    "  train_ds,\n",
    "  validation_data=val_ds,\n",
    "  epochs=epochs\n",
    ")"
   ]
  },
  {
   "cell_type": "code",
   "execution_count": null,
   "metadata": {
    "id": "aJgBUUgtkgD_"
   },
   "outputs": [],
   "source": []
  },
  {
   "cell_type": "markdown",
   "metadata": {
    "id": "8GtFf2-FleoT"
   },
   "source": [
    "Visualizing training results"
   ]
  },
  {
   "cell_type": "code",
   "execution_count": 18,
   "metadata": {
    "colab": {
     "base_uri": "https://localhost:8080/",
     "height": 444
    },
    "executionInfo": {
     "elapsed": 1315,
     "status": "ok",
     "timestamp": 1666188731165,
     "user": {
      "displayName": "satya sravan",
      "userId": "17412231274937908256"
     },
     "user_tz": -330
    },
    "id": "LeBM_F9Mle9f",
    "outputId": "1c97ca9f-c51c-4f83-9a04-7ff0ab6b06d7"
   },
   "outputs": [
    {
     "data": {
      "image/png": "[encoded data removed]",
      "text/plain": [
       "<Figure size 504x504 with 2 Axes>"
      ]
     },
     "metadata": {
      "needs_background": "light"
     },
     "output_type": "display_data"
    }
   ],
   "source": [
    "acc = history.history['accuracy']\n",
    "val_acc = history.history['val_accuracy']\n",
    "\n",
    "loss = history.history['loss']\n",
    "val_loss = history.history['val_loss']\n",
    "\n",
    "epochs_range = range(epochs)\n",
    "\n",
    "plt.figure(figsize=(7, 7))\n",
    "plt.subplot(1, 2, 1)\n",
    "plt.plot(epochs_range, acc, label='Training Accuracy')\n",
    "plt.plot(epochs_range, val_acc, label='Validation Accuracy')\n",
    "plt.legend(loc='lower right')\n",
    "plt.title('Training and Validation Accuracy')\n",
    "\n",
    "plt.subplot(1, 2, 2)\n",
    "plt.plot(epochs_range, loss, label='Training Loss')\n",
    "plt.plot(epochs_range, val_loss, label='Validation Loss')\n",
    "plt.legend(loc='upper right')\n",
    "plt.title('Training and Validation Loss')\n",
    "plt.show()"
   ]
  },
  {
   "cell_type": "code",
   "execution_count": null,
   "metadata": {
    "id": "5Endc--Nllj4"
   },
   "outputs": [],
   "source": []
  },
  {
   "cell_type": "markdown",
   "metadata": {
    "id": "SWK6HqGrlsHW"
   },
   "source": [
    "Todo: Write your findings after the model fit, see if there is an evidence of model overfit or underfit\n",
    "Write your findings here\n",
    "Findings:-\n",
    "The above model is clearly the case of overfitting and the model doesn't seem to be learning anything from the dataset.\n",
    "   (1) Training accuracy is very high, but the validation accuracy is around 50%.\n",
    "   (2) The loss on the training set decrease after each epoch, but in the case of the validation set: it climbs back again after the 5th epoch.\n",
    "\n",
    "Instead of generalizing and learning real features and general relationships, the model is memorizing the data"
   ]
  },
  {
   "cell_type": "code",
   "execution_count": 19,
   "metadata": {
    "executionInfo": {
     "elapsed": 4,
     "status": "ok",
     "timestamp": 1666188830659,
     "user": {
      "displayName": "satya sravan",
      "userId": "17412231274937908256"
     },
     "user_tz": -330
    },
    "id": "KwhEMOeLl6r0"
   },
   "outputs": [],
   "source": [
    "# Todo, after you have analysed the model fit history for presence of underfit or overfit, choose an appropriate data augumentation strategy. \n",
    "# Your code goes here\n",
    "data_augmentation = tf.keras.Sequential([\n",
    "  layers.experimental.preprocessing.RandomFlip(\"horizontal_and_vertical\"),\n",
    "  layers.experimental.preprocessing.RandomRotation(0.2),\n",
    "  layers.experimental.preprocessing.RandomZoom(height_factor=(0.2,0.3), width_factor=(0.2,0.3))  \n",
    "])"
   ]
  },
  {
   "cell_type": "code",
   "execution_count": 20,
   "metadata": {
    "colab": {
     "base_uri": "https://localhost:8080/",
     "height": 264
    },
    "executionInfo": {
     "elapsed": 4641,
     "status": "ok",
     "timestamp": 1666188880849,
     "user": {
      "displayName": "satya sravan",
      "userId": "17412231274937908256"
     },
     "user_tz": -330
    },
    "id": "1stDle55l8xJ",
    "outputId": "4c5eab23-0cc9-4142-f8b4-226dd5a7126c"
   },
   "outputs": [
    {
     "data": {
      "image/png": "[encoded data removed]",
      "text/plain": [
       "<Figure size 432x288 with 9 Axes>"
      ]
     },
     "metadata": {
      "needs_background": "light"
     },
     "output_type": "display_data"
    }
   ],
   "source": [
    "# Todo, visualize how your augmentation strategy works for one instance of training image.\n",
    "# Your code goes here\n",
    "for img, labels in train_ds.take(1):\n",
    "    for k in range(9):\n",
    "        ax=plt.subplot(3,3,k+1)\n",
    "        plt.imshow(data_augmentation(img)[k].numpy().astype('uint8'))\n",
    "        plt.title(class_names[labels[k]])\n",
    "        plt.axis(\"off\")"
   ]
  },
  {
   "cell_type": "code",
   "execution_count": null,
   "metadata": {
    "id": "PQ11CYUSmIT0"
   },
   "outputs": [],
   "source": []
  },
  {
   "cell_type": "markdown",
   "metadata": {
    "id": "P95fCOgNmST3"
   },
   "source": [
    "Todo:\n",
    "Create the model, compile and train the model"
   ]
  },
  {
   "cell_type": "code",
   "execution_count": 21,
   "metadata": {
    "executionInfo": {
     "elapsed": 15,
     "status": "ok",
     "timestamp": 1666188936827,
     "user": {
      "displayName": "satya sravan",
      "userId": "17412231274937908256"
     },
     "user_tz": -330
    },
    "id": "gVzjkEnTmSpt"
   },
   "outputs": [],
   "source": [
    "## You can use Dropout layer if there is an evidence of overfitting in your findings\n",
    "## https://www.tensorflow.org/tutorials/images/data_augmentation\n",
    "## https://www.tensorflow.org/api_docs/python/tf/keras/layers/experimental/preprocessing/RandomFlip\n",
    "## Your code goes here\n",
    "#The Keras sequence class helps create a layer cluster that is linearly stacked into a tf. keras. Model.\n",
    "\n",
    "num_classes = 9\n",
    "model = Sequential([\n",
    "  data_augmentation,\n",
    "  layers.Rescaling(1./255),\n",
    "  layers.Conv2D(16, 3, padding='same', activation='relu'),\n",
    "  layers.MaxPooling2D(),\n",
    "  layers.Conv2D(32, 3, padding='same', activation='relu'),\n",
    "  layers.MaxPooling2D(),\n",
    "  layers.Conv2D(64, 3, padding='same', activation='relu'),\n",
    "  layers.MaxPooling2D(),\n",
    "  layers.Dropout(0.3),\n",
    "  layers.Flatten(),\n",
    "  layers.Dense(128, activation='relu'),\n",
    "  layers.Dropout(0.2),\n",
    "  layers.Dense(num_classes)\n",
    "])"
   ]
  },
  {
   "cell_type": "markdown",
   "metadata": {
    "id": "iCr2k9__mbHk"
   },
   "source": [
    "Compile the model"
   ]
  },
  {
   "cell_type": "code",
   "execution_count": 22,
   "metadata": {
    "executionInfo": {
     "elapsed": 739,
     "status": "ok",
     "timestamp": 1666188965638,
     "user": {
      "displayName": "satya sravan",
      "userId": "17412231274937908256"
     },
     "user_tz": -330
    },
    "id": "mPp4_AtKmcWp"
   },
   "outputs": [],
   "source": [
    "## Your code goes here\n",
    "\n",
    "model.compile(optimizer='adam',\n",
    "              loss=tf.keras.losses.SparseCategoricalCrossentropy(from_logits = True),\n",
    "              metrics=['accuracy'])"
   ]
  },
  {
   "cell_type": "code",
   "execution_count": 23,
   "metadata": {
    "colab": {
     "base_uri": "https://localhost:8080/"
    },
    "executionInfo": {
     "elapsed": 61385,
     "status": "ok",
     "timestamp": 1666189038287,
     "user": {
      "displayName": "satya sravan",
      "userId": "17412231274937908256"
     },
     "user_tz": -330
    },
    "id": "XWULE_cdmegr",
    "outputId": "5a6530f3-0cbf-4282-fbb9-41544146cae8"
   },
   "outputs": [
    {
     "name": "stdout",
     "output_type": "stream",
     "text": [
      "Epoch 1/20\n",
      "56/56 [==============================] - 5s 53ms/step - loss: 2.1591 - accuracy: 0.1892 - val_loss: 1.9709 - val_accuracy: 0.2975\n",
      "Epoch 2/20\n",
      "56/56 [==============================] - 3s 49ms/step - loss: 1.8958 - accuracy: 0.3158 - val_loss: 1.7024 - val_accuracy: 0.4049\n",
      "Epoch 3/20\n",
      "56/56 [==============================] - 3s 50ms/step - loss: 1.6211 - accuracy: 0.4157 - val_loss: 1.4890 - val_accuracy: 0.4922\n",
      "Epoch 4/20\n",
      "56/56 [==============================] - 3s 49ms/step - loss: 1.5294 - accuracy: 0.4676 - val_loss: 1.4546 - val_accuracy: 0.5078\n",
      "Epoch 5/20\n",
      "56/56 [==============================] - 3s 49ms/step - loss: 1.4139 - accuracy: 0.5106 - val_loss: 1.4535 - val_accuracy: 0.4989\n",
      "Epoch 6/20\n",
      "56/56 [==============================] - 3s 48ms/step - loss: 1.3836 - accuracy: 0.5140 - val_loss: 1.3472 - val_accuracy: 0.5481\n",
      "Epoch 7/20\n",
      "56/56 [==============================] - 3s 49ms/step - loss: 1.3566 - accuracy: 0.5223 - val_loss: 1.4411 - val_accuracy: 0.4944\n",
      "Epoch 8/20\n",
      "56/56 [==============================] - 3s 49ms/step - loss: 1.3339 - accuracy: 0.5195 - val_loss: 1.3542 - val_accuracy: 0.5347\n",
      "Epoch 9/20\n",
      "56/56 [==============================] - 3s 50ms/step - loss: 1.3314 - accuracy: 0.5268 - val_loss: 1.3100 - val_accuracy: 0.5503\n",
      "Epoch 10/20\n",
      "56/56 [==============================] - 3s 52ms/step - loss: 1.2999 - accuracy: 0.5430 - val_loss: 1.3450 - val_accuracy: 0.5391\n",
      "Epoch 11/20\n",
      "56/56 [==============================] - 3s 50ms/step - loss: 1.3122 - accuracy: 0.5340 - val_loss: 1.3430 - val_accuracy: 0.5078\n",
      "Epoch 12/20\n",
      "56/56 [==============================] - 3s 49ms/step - loss: 1.2680 - accuracy: 0.5491 - val_loss: 1.3476 - val_accuracy: 0.5414\n",
      "Epoch 13/20\n",
      "56/56 [==============================] - 3s 49ms/step - loss: 1.2845 - accuracy: 0.5352 - val_loss: 1.2969 - val_accuracy: 0.5481\n",
      "Epoch 14/20\n",
      "56/56 [==============================] - 3s 51ms/step - loss: 1.2598 - accuracy: 0.5541 - val_loss: 1.3091 - val_accuracy: 0.5190\n",
      "Epoch 15/20\n",
      "56/56 [==============================] - 3s 49ms/step - loss: 1.2230 - accuracy: 0.5458 - val_loss: 1.3653 - val_accuracy: 0.5168\n",
      "Epoch 16/20\n",
      "56/56 [==============================] - 3s 49ms/step - loss: 1.2122 - accuracy: 0.5670 - val_loss: 1.2830 - val_accuracy: 0.5347\n",
      "Epoch 17/20\n",
      "56/56 [==============================] - 3s 50ms/step - loss: 1.1780 - accuracy: 0.5787 - val_loss: 1.4742 - val_accuracy: 0.5101\n",
      "Epoch 18/20\n",
      "56/56 [==============================] - 3s 49ms/step - loss: 1.2501 - accuracy: 0.5552 - val_loss: 1.2911 - val_accuracy: 0.5436\n",
      "Epoch 19/20\n",
      "56/56 [==============================] - 3s 48ms/step - loss: 1.2063 - accuracy: 0.5636 - val_loss: 1.3115 - val_accuracy: 0.5638\n",
      "Epoch 20/20\n",
      "56/56 [==============================] - 3s 54ms/step - loss: 1.2180 - accuracy: 0.5631 - val_loss: 1.3964 - val_accuracy: 0.5302\n"
     ]
    }
   ],
   "source": [
    "## Your code goes here, note: train your model for 20 epochs\n",
    "epochs = 20\n",
    "history = model.fit(\n",
    "  train_ds,\n",
    "  validation_data=val_ds,\n",
    "  epochs=epochs\n",
    ") ## your training code"
   ]
  },
  {
   "cell_type": "code",
   "execution_count": null,
   "metadata": {
    "id": "Qgc6GJs2mhmE"
   },
   "outputs": [],
   "source": []
  },
  {
   "cell_type": "markdown",
   "metadata": {
    "id": "rJpE-RCam0Uf"
   },
   "source": [
    "Visualize the results"
   ]
  },
  {
   "cell_type": "code",
   "execution_count": 30,
   "metadata": {
    "colab": {
     "base_uri": "https://localhost:8080/",
     "height": 444
    },
    "executionInfo": {
     "elapsed": 8,
     "status": "ok",
     "timestamp": 1666189273976,
     "user": {
      "displayName": "satya sravan",
      "userId": "17412231274937908256"
     },
     "user_tz": -330
    },
    "id": "PKuCRB8Pm1et",
    "outputId": "b83a857f-041d-4081-fa5e-a4bc950e84cb"
   },
   "outputs": [
    {
     "data": {
      "image/png": "[encoded data removed]",
      "text/plain": [
       "<Figure size 504x504 with 2 Axes>"
      ]
     },
     "metadata": {
      "needs_background": "light"
     },
     "output_type": "display_data"
    }
   ],
   "source": [
    "acc = history.history['accuracy']\n",
    "val_acc = history.history['val_accuracy']\n",
    "\n",
    "loss = history.history['loss']\n",
    "val_loss = history.history['val_loss']\n",
    "\n",
    "epochs_range = range(epochs)\n",
    "\n",
    "plt.figure(figsize=(7, 7))\n",
    "plt.subplot(1, 2, 1)\n",
    "plt.plot(epochs_range, acc, label='Training Accuracy')\n",
    "plt.plot(epochs_range, val_acc, label='Validation Accuracy')\n",
    "plt.legend(loc='lower right')\n",
    "plt.title('Training and Validation Accuracy')\n",
    "\n",
    "plt.subplot(1, 2, 2)\n",
    "plt.plot(epochs_range, loss, label='Training Loss')\n",
    "plt.plot(epochs_range, val_loss, label='Validation Loss')\n",
    "plt.legend(loc='upper right')\n",
    "plt.title('Training and Validation Loss')\n",
    "plt.show()"
   ]
  },
  {
   "cell_type": "code",
   "execution_count": null,
   "metadata": {
    "id": "IMq3bj4Ym-tX"
   },
   "outputs": [],
   "source": []
  },
  {
   "cell_type": "markdown",
   "metadata": {
    "id": "dqA9MCIKnua4"
   },
   "source": [
    "Todo: Write your findings after the model fit, see if there is an evidence of model overfit or underfit. Do you think there is some improvement now as compared to the previous model run?\n",
    "\n",
    "Findings:-\n",
    "Use of data augmentation and dropout layer in the above model has reduced the problem of overfitting.\n",
    "\n",
    "The accuracy of the model has greatly increased alongwith the synchronization of verification accuracy. The loss function is synchronously exhausting for the training and validation data.\n",
    "\n",
    "Todo: Find the distribution of classes in the training dataset.\n",
    "Context: In Real life scenarios , datasets can have class imbalance, one class can have proportionately higher number of samples as compared with the other data. Class imbalance will have a detrimental effect on the final model quality. Sanity check is required.  It becomes important to check what is the distribution of classes in the datasets."
   ]
  },
  {
   "cell_type": "code",
   "execution_count": 31,
   "metadata": {
    "executionInfo": {
     "elapsed": 5,
     "status": "ok",
     "timestamp": 1666189471649,
     "user": {
      "displayName": "satya sravan",
      "userId": "17412231274937908256"
     },
     "user_tz": -330
    },
    "id": "9p8q_4ueoYOK"
   },
   "outputs": [],
   "source": [
    "## Your code goes here.\n",
    "## original_df - > path_list, lesion_list\n",
    "path_list=[]\n",
    "lesion_list=[]"
   ]
  },
  {
   "cell_type": "code",
   "execution_count": 32,
   "metadata": {
    "colab": {
     "base_uri": "https://localhost:8080/",
     "height": 424
    },
    "executionInfo": {
     "elapsed": 745,
     "status": "ok",
     "timestamp": 1666189532833,
     "user": {
      "displayName": "satya sravan",
      "userId": "17412231274937908256"
     },
     "user_tz": -330
    },
    "id": "xrKRCTWsoaVB",
    "outputId": "2873478b-e3fa-449b-ab2a-8fcd7c45a578"
   },
   "outputs": [
    {
     "data": {
      "text/html": [
       "\n",
       "  <div id=\"df-7e794a36-84dc-40c9-9c73-5580952466e6\">\n",
       "    <div class=\"colab-df-container\">\n",
       "      <div>\n",
       "<style scoped>\n",
       "    .dataframe tbody tr th:only-of-type {\n",
       "        vertical-align: middle;\n",
       "    }\n",
       "\n",
       "    .dataframe tbody tr th {\n",
       "        vertical-align: top;\n",
       "    }\n",
       "\n",
       "    .dataframe thead th {\n",
       "        text-align: right;\n",
       "    }\n",
       "</style>\n",
       "<table border=\"1\" class=\"dataframe\">\n",
       "  <thead>\n",
       "    <tr style=\"text-align: right;\">\n",
       "      <th></th>\n",
       "      <th>Path</th>\n",
       "      <th>Label</th>\n",
       "    </tr>\n",
       "  </thead>\n",
       "  <tbody>\n",
       "    <tr>\n",
       "      <th>0</th>\n",
       "      <td>/content/drive/MyDrive/Skin cancer ISIC The In...</td>\n",
       "      <td>actinic keratosis</td>\n",
       "    </tr>\n",
       "    <tr>\n",
       "      <th>1</th>\n",
       "      <td>/content/drive/MyDrive/Skin cancer ISIC The In...</td>\n",
       "      <td>actinic keratosis</td>\n",
       "    </tr>\n",
       "    <tr>\n",
       "      <th>2</th>\n",
       "      <td>/content/drive/MyDrive/Skin cancer ISIC The In...</td>\n",
       "      <td>actinic keratosis</td>\n",
       "    </tr>\n",
       "    <tr>\n",
       "      <th>3</th>\n",
       "      <td>/content/drive/MyDrive/Skin cancer ISIC The In...</td>\n",
       "      <td>actinic keratosis</td>\n",
       "    </tr>\n",
       "    <tr>\n",
       "      <th>4</th>\n",
       "      <td>/content/drive/MyDrive/Skin cancer ISIC The In...</td>\n",
       "      <td>actinic keratosis</td>\n",
       "    </tr>\n",
       "    <tr>\n",
       "      <th>...</th>\n",
       "      <td>...</td>\n",
       "      <td>...</td>\n",
       "    </tr>\n",
       "    <tr>\n",
       "      <th>2234</th>\n",
       "      <td>/content/drive/MyDrive/Skin cancer ISIC The In...</td>\n",
       "      <td>vascular lesion</td>\n",
       "    </tr>\n",
       "    <tr>\n",
       "      <th>2235</th>\n",
       "      <td>/content/drive/MyDrive/Skin cancer ISIC The In...</td>\n",
       "      <td>vascular lesion</td>\n",
       "    </tr>\n",
       "    <tr>\n",
       "      <th>2236</th>\n",
       "      <td>/content/drive/MyDrive/Skin cancer ISIC The In...</td>\n",
       "      <td>vascular lesion</td>\n",
       "    </tr>\n",
       "    <tr>\n",
       "      <th>2237</th>\n",
       "      <td>/content/drive/MyDrive/Skin cancer ISIC The In...</td>\n",
       "      <td>vascular lesion</td>\n",
       "    </tr>\n",
       "    <tr>\n",
       "      <th>2238</th>\n",
       "      <td>/content/drive/MyDrive/Skin cancer ISIC The In...</td>\n",
       "      <td>vascular lesion</td>\n",
       "    </tr>\n",
       "  </tbody>\n",
       "</table>\n",
       "<p>2239 rows × 2 columns</p>\n",
       "</div>\n",
       "      <button class=\"colab-df-convert\" onclick=\"convertToInteractive('df-7e794a36-84dc-40c9-9c73-5580952466e6')\"\n",
       "              title=\"Convert this dataframe to an interactive table.\"\n",
       "              style=\"display:none;\">\n",
       "        \n",
       "  <svg xmlns=\"http://www.w3.org/2000/svg\" height=\"24px\"viewBox=\"0 0 24 24\"\n",
       "       width=\"24px\">\n",
       "    <path d=\"M0 0h24v24H0V0z\" fill=\"none\"/>\n",
       "    <path d=\"M18.56 5.44l.94 2.06.94-2.06 2.06-.94-2.06-.94-.94-2.06-.94 2.06-2.06.94zm-11 1L8.5 8.5l.94-2.06 2.06-.94-2.06-.94L8.5 2.5l-.94 2.06-2.06.94zm10 10l.94 2.06.94-2.06 2.06-.94-2.06-.94-.94-2.06-.94 2.06-2.06.94z\"/><path d=\"M17.41 7.96l-1.37-1.37c-.4-.4-.92-.59-1.43-.59-.52 0-1.04.2-1.43.59L10.3 9.45l-7.72 7.72c-.78.78-.78 2.05 0 2.83L4 21.41c.39.39.9.59 1.41.59.51 0 1.02-.2 1.41-.59l7.78-7.78 2.81-2.81c.8-.78.8-2.07 0-2.86zM5.41 20L4 18.59l7.72-7.72 1.47 1.35L5.41 20z\"/>\n",
       "  </svg>\n",
       "      </button>\n",
       "      \n",
       "  <style>\n",
       "    .colab-df-container {\n",
       "      display:flex;\n",
       "      flex-wrap:wrap;\n",
       "      gap: 12px;\n",
       "    }\n",
       "\n",
       "    .colab-df-convert {\n",
       "      background-color: #E8F0FE;\n",
       "      border: none;\n",
       "      border-radius: 50%;\n",
       "      cursor: pointer;\n",
       "      display: none;\n",
       "      fill: #1967D2;\n",
       "      height: 32px;\n",
       "      padding: 0 0 0 0;\n",
       "      width: 32px;\n",
       "    }\n",
       "\n",
       "    .colab-df-convert:hover {\n",
       "      background-color: #E2EBFA;\n",
       "      box-shadow: 0px 1px 2px rgba(60, 64, 67, 0.3), 0px 1px 3px 1px rgba(60, 64, 67, 0.15);\n",
       "      fill: #174EA6;\n",
       "    }\n",
       "\n",
       "    [theme=dark] .colab-df-convert {\n",
       "      background-color: #3B4455;\n",
       "      fill: #D2E3FC;\n",
       "    }\n",
       "\n",
       "    [theme=dark] .colab-df-convert:hover {\n",
       "      background-color: #434B5C;\n",
       "      box-shadow: 0px 1px 3px 1px rgba(0, 0, 0, 0.15);\n",
       "      filter: drop-shadow(0px 1px 2px rgba(0, 0, 0, 0.3));\n",
       "      fill: #FFFFFF;\n",
       "    }\n",
       "  </style>\n",
       "\n",
       "      <script>\n",
       "        const buttonEl =\n",
       "          document.querySelector('#df-7e794a36-84dc-40c9-9c73-5580952466e6 button.colab-df-convert');\n",
       "        buttonEl.style.display =\n",
       "          google.colab.kernel.accessAllowed ? 'block' : 'none';\n",
       "\n",
       "        async function convertToInteractive(key) {\n",
       "          const element = document.querySelector('#df-7e794a36-84dc-40c9-9c73-5580952466e6');\n",
       "          const dataTable =\n",
       "            await google.colab.kernel.invokeFunction('convertToInteractive',\n",
       "                                                     [key], {});\n",
       "          if (!dataTable) return;\n",
       "\n",
       "          const docLinkHtml = 'Like what you see? Visit the ' +\n",
       "            '<a target=\"_blank\" href=https://colab.research.google.com/notebooks/data_table.ipynb>data table notebook</a>'\n",
       "            + ' to learn more about interactive tables.';\n",
       "          element.innerHTML = '';\n",
       "          dataTable['output_type'] = 'display_data';\n",
       "          await google.colab.output.renderOutput(dataTable, element);\n",
       "          const docLink = document.createElement('div');\n",
       "          docLink.innerHTML = docLinkHtml;\n",
       "          element.appendChild(docLink);\n",
       "        }\n",
       "      </script>\n",
       "    </div>\n",
       "  </div>\n",
       "  "
      ],
      "text/plain": [
       "                                                   Path              Label\n",
       "0     /content/drive/MyDrive/Skin cancer ISIC The In...  actinic keratosis\n",
       "1     /content/drive/MyDrive/Skin cancer ISIC The In...  actinic keratosis\n",
       "2     /content/drive/MyDrive/Skin cancer ISIC The In...  actinic keratosis\n",
       "3     /content/drive/MyDrive/Skin cancer ISIC The In...  actinic keratosis\n",
       "4     /content/drive/MyDrive/Skin cancer ISIC The In...  actinic keratosis\n",
       "...                                                 ...                ...\n",
       "2234  /content/drive/MyDrive/Skin cancer ISIC The In...    vascular lesion\n",
       "2235  /content/drive/MyDrive/Skin cancer ISIC The In...    vascular lesion\n",
       "2236  /content/drive/MyDrive/Skin cancer ISIC The In...    vascular lesion\n",
       "2237  /content/drive/MyDrive/Skin cancer ISIC The In...    vascular lesion\n",
       "2238  /content/drive/MyDrive/Skin cancer ISIC The In...    vascular lesion\n",
       "\n",
       "[2239 rows x 2 columns]"
      ]
     },
     "execution_count": 32,
     "metadata": {},
     "output_type": "execute_result"
    }
   ],
   "source": [
    "for k in class_names:\n",
    "  for l in data_dir_train.glob(k+'/*.jpg'):\n",
    "    path_list.append(str(l))\n",
    "    lesion_list.append(k)\n",
    "dataframe_dict_original = dict(zip(path_list, lesion_list))\n",
    "original_df = pd.DataFrame(list(dataframe_dict_original.items()),columns=['Path','Label'])\n",
    "original_df"
   ]
  },
  {
   "cell_type": "code",
   "execution_count": 33,
   "metadata": {
    "colab": {
     "base_uri": "https://localhost:8080/",
     "height": 350
    },
    "executionInfo": {
     "elapsed": 1487,
     "status": "ok",
     "timestamp": 1666189569906,
     "user": {
      "displayName": "satya sravan",
      "userId": "17412231274937908256"
     },
     "user_tz": -330
    },
    "id": "cU0G0al3opaM",
    "outputId": "9476d7b1-0df5-4859-c245-a539921914b1"
   },
   "outputs": [
    {
     "data": {
      "text/plain": [
       "<BarContainer object of 9 artists>"
      ]
     },
     "execution_count": 33,
     "metadata": {},
     "output_type": "execute_result"
    },
    {
     "data": {
      "image/png": "[encoded data removed]",
      "text/plain": [
       "<Figure size 1584x576 with 1 Axes>"
      ]
     },
     "metadata": {
      "needs_background": "light"
     },
     "output_type": "display_data"
    }
   ],
   "source": [
    "# glob('./Skin cancer ISIC The International Skin Imaging Collaboration/train/*/*')\n",
    "# './Skin cancer ISIC The International Skin Imaging Collaboration/train\\\\actinic keratosis\\\\ISIC_0025780.jpg'\n",
    "class_count=[]\n",
    "for k in class_names:\n",
    "    class_count.append(len(list(data_dir_train.glob(k+'/*.jpg'))))\n",
    "plt.figure(figsize=(22,8))\n",
    "plt.bar(class_names,class_count)"
   ]
  },
  {
   "cell_type": "code",
   "execution_count": null,
   "metadata": {
    "id": "L-js3x2WoyFp"
   },
   "outputs": [],
   "source": []
  },
  {
   "cell_type": "markdown",
   "metadata": {
    "id": "lUyopL71pFNK"
   },
   "source": [
    "Todo: Write your findings here:\n",
    "- Which class has the least number of samples?\n",
    "\n",
    "The least number of samples are in seborrheic keratosis.\n",
    "\n",
    "- Which classes dominate the data in terms proportionate number of samples?\n",
    "\n",
    "The classes dominating in the data are:-\n",
    "* pigmented benign\n",
    "* melanoma\n",
    "* basal cell carcinoma\n",
    "* nevus\n",
    "\n",
    "Todo: Rectify the class imbalance\n",
    "Context: You can use a python package known as Augmentor (https://augmentor.readthedocs.io/en/master/) to add more samples across all classes so that none of the classes have very few samples."
   ]
  },
  {
   "cell_type": "code",
   "execution_count": 34,
   "metadata": {
    "colab": {
     "base_uri": "https://localhost:8080/"
    },
    "executionInfo": {
     "elapsed": 5812,
     "status": "ok",
     "timestamp": 1666189759078,
     "user": {
      "displayName": "satya sravan",
      "userId": "17412231274937908256"
     },
     "user_tz": -330
    },
    "id": "NnDHhwIjpHex",
    "outputId": "c1967d3e-83af-4cc3-d99d-6e42b62197b7"
   },
   "outputs": [
    {
     "name": "stdout",
     "output_type": "stream",
     "text": [
      "Looking in indexes: https://pypi.org/simple, https://us-python.pkg.dev/colab-wheels/public/simple/\n",
      "Collecting Augmentor\n",
      "  Downloading Augmentor-0.2.10-py2.py3-none-any.whl (38 kB)\n",
      "Requirement already satisfied: numpy>=1.11.0 in /usr/local/lib/python3.7/dist-packages (from Augmentor) (1.21.6)\n",
      "Requirement already satisfied: tqdm>=4.9.0 in /usr/local/lib/python3.7/dist-packages (from Augmentor) (4.64.1)\n",
      "Requirement already satisfied: Pillow>=5.2.0 in /usr/local/lib/python3.7/dist-packages (from Augmentor) (7.1.2)\n",
      "Requirement already satisfied: future>=0.16.0 in /usr/local/lib/python3.7/dist-packages (from Augmentor) (0.16.0)\n",
      "Installing collected packages: Augmentor\n",
      "Successfully installed Augmentor-0.2.10\n"
     ]
    }
   ],
   "source": [
    "!pip install Augmentor"
   ]
  },
  {
   "cell_type": "markdown",
   "metadata": {
    "id": "tE5wiFhcplGO"
   },
   "source": [
    "To use Augmentor, the following general procedure is followed:\n",
    "\n",
    "Instantiate a Pipeline object pointing to a directory containing your initial image data set.\n",
    "Define a number of operations to perform on this data set using your Pipeline object.\n",
    "Execute these operations by calling the Pipeline’s sample() method."
   ]
  },
  {
   "cell_type": "code",
   "execution_count": 36,
   "metadata": {
    "colab": {
     "base_uri": "https://localhost:8080/"
    },
    "executionInfo": {
     "elapsed": 348208,
     "status": "ok",
     "timestamp": 1666190456135,
     "user": {
      "displayName": "satya sravan",
      "userId": "17412231274937908256"
     },
     "user_tz": -330
    },
    "id": "E11E9W-AplhC",
    "outputId": "9bab7c4f-66a6-4d6c-dae1-7c666597a959"
   },
   "outputs": [
    {
     "name": "stdout",
     "output_type": "stream",
     "text": [
      "Initialised with 114 image(s) found.\n",
      "Output directory set to /content/drive/MyDrive/Skin cancer ISIC The International Skin Imaging Collaboration/Train/actinic keratosis/output."
     ]
    },
    {
     "name": "stderr",
     "output_type": "stream",
     "text": [
      "Processing <PIL.Image.Image image mode=RGB size=600x450 at 0x7FBCE95EDA90>: 100%|██████████| 500/500 [00:18<00:00, 27.39 Samples/s]\n"
     ]
    },
    {
     "name": "stdout",
     "output_type": "stream",
     "text": [
      "Initialised with 376 image(s) found.\n",
      "Output directory set to /content/drive/MyDrive/Skin cancer ISIC The International Skin Imaging Collaboration/Train/basal cell carcinoma/output."
     ]
    },
    {
     "name": "stderr",
     "output_type": "stream",
     "text": [
      "Processing <PIL.Image.Image image mode=RGB size=600x450 at 0x7FBCE95E44D0>: 100%|██████████| 500/500 [00:18<00:00, 26.59 Samples/s]\n"
     ]
    },
    {
     "name": "stdout",
     "output_type": "stream",
     "text": [
      "Initialised with 95 image(s) found.\n",
      "Output directory set to /content/drive/MyDrive/Skin cancer ISIC The International Skin Imaging Collaboration/Train/dermatofibroma/output."
     ]
    },
    {
     "name": "stderr",
     "output_type": "stream",
     "text": [
      "Processing <PIL.JpegImagePlugin.JpegImageFile image mode=RGB size=600x450 at 0x7FBDDBC97090>: 100%|██████████| 500/500 [00:18<00:00, 27.16 Samples/s]\n"
     ]
    },
    {
     "name": "stdout",
     "output_type": "stream",
     "text": [
      "Initialised with 438 image(s) found.\n",
      "Output directory set to /content/drive/MyDrive/Skin cancer ISIC The International Skin Imaging Collaboration/Train/melanoma/output."
     ]
    },
    {
     "name": "stderr",
     "output_type": "stream",
     "text": [
      "Processing <PIL.Image.Image image mode=RGB size=3072x2304 at 0x7FBD0A02C490>: 100%|██████████| 500/500 [01:43<00:00,  4.85 Samples/s]\n"
     ]
    },
    {
     "name": "stdout",
     "output_type": "stream",
     "text": [
      "Initialised with 357 image(s) found.\n",
      "Output directory set to /content/drive/MyDrive/Skin cancer ISIC The International Skin Imaging Collaboration/Train/nevus/output."
     ]
    },
    {
     "name": "stderr",
     "output_type": "stream",
     "text": [
      "Processing <PIL.Image.Image image mode=RGB size=1024x768 at 0x7FBCF060EF90>: 100%|██████████| 500/500 [01:28<00:00,  5.65 Samples/s]\n"
     ]
    },
    {
     "name": "stdout",
     "output_type": "stream",
     "text": [
      "Initialised with 462 image(s) found.\n",
      "Output directory set to /content/drive/MyDrive/Skin cancer ISIC The International Skin Imaging Collaboration/Train/pigmented benign keratosis/output."
     ]
    },
    {
     "name": "stderr",
     "output_type": "stream",
     "text": [
      "Processing <PIL.Image.Image image mode=RGB size=600x450 at 0x7FBCF02EF1D0>: 100%|██████████| 500/500 [00:18<00:00, 27.10 Samples/s]\n"
     ]
    },
    {
     "name": "stdout",
     "output_type": "stream",
     "text": [
      "Initialised with 77 image(s) found.\n",
      "Output directory set to /content/drive/MyDrive/Skin cancer ISIC The International Skin Imaging Collaboration/Train/seborrheic keratosis/output."
     ]
    },
    {
     "name": "stderr",
     "output_type": "stream",
     "text": [
      "Processing <PIL.Image.Image image mode=RGB size=1024x768 at 0x7FBCF06CC750>: 100%|██████████| 500/500 [00:43<00:00, 11.57 Samples/s]\n"
     ]
    },
    {
     "name": "stdout",
     "output_type": "stream",
     "text": [
      "Initialised with 181 image(s) found.\n",
      "Output directory set to /content/drive/MyDrive/Skin cancer ISIC The International Skin Imaging Collaboration/Train/squamous cell carcinoma/output."
     ]
    },
    {
     "name": "stderr",
     "output_type": "stream",
     "text": [
      "Processing <PIL.Image.Image image mode=RGB size=600x450 at 0x7FBCF19FA6D0>: 100%|██████████| 500/500 [00:18<00:00, 27.37 Samples/s]\n"
     ]
    },
    {
     "name": "stdout",
     "output_type": "stream",
     "text": [
      "Initialised with 139 image(s) found.\n",
      "Output directory set to /content/drive/MyDrive/Skin cancer ISIC The International Skin Imaging Collaboration/Train/vascular lesion/output."
     ]
    },
    {
     "name": "stderr",
     "output_type": "stream",
     "text": [
      "Processing <PIL.JpegImagePlugin.JpegImageFile image mode=RGB size=600x450 at 0x7FBCF06DCA90>: 100%|██████████| 500/500 [00:18<00:00, 27.13 Samples/s]\n"
     ]
    }
   ],
   "source": [
    "path_to_training_dataset=\"/content/drive/MyDrive/Skin cancer ISIC The International Skin Imaging Collaboration/Train/\"\n",
    "import Augmentor\n",
    "for i in class_names:\n",
    "    p = Augmentor.Pipeline(path_to_training_dataset + i)\n",
    "    p.rotate(probability = 0.7, max_left_rotation=10, max_right_rotation=10)\n",
    "    p.sample(500) ## We are adding 500 samples per class to make sure that none of the classes are sparse."
   ]
  },
  {
   "cell_type": "markdown",
   "metadata": {
    "id": "xZ65Ld2LsNko"
   },
   "source": [
    "Augmentor has stored the augmented images in the output sub-directory of each of the sub-directories of skin cancer types.. Lets take a look at total count of augmented images."
   ]
  },
  {
   "cell_type": "code",
   "execution_count": 37,
   "metadata": {
    "colab": {
     "base_uri": "https://localhost:8080/"
    },
    "executionInfo": {
     "elapsed": 40,
     "status": "ok",
     "timestamp": 1666190482403,
     "user": {
      "displayName": "satya sravan",
      "userId": "17412231274937908256"
     },
     "user_tz": -330
    },
    "id": "SdyHhpeQsOdV",
    "outputId": "05bdc356-b495-428a-aeaa-62b1eeaa252f"
   },
   "outputs": [
    {
     "name": "stdout",
     "output_type": "stream",
     "text": [
      "4500\n"
     ]
    }
   ],
   "source": [
    "image_count_train = len(list(data_dir_train.glob('*/output/*.jpg')))\n",
    "print(image_count_train)"
   ]
  },
  {
   "cell_type": "markdown",
   "metadata": {
    "id": "yA3u7PFYsUEQ"
   },
   "source": [
    "\n",
    "Lets see the distribution of augmented data after adding new images to the original training data."
   ]
  },
  {
   "cell_type": "code",
   "execution_count": 38,
   "metadata": {
    "colab": {
     "base_uri": "https://localhost:8080/"
    },
    "executionInfo": {
     "elapsed": 8,
     "status": "ok",
     "timestamp": 1666190505530,
     "user": {
      "displayName": "satya sravan",
      "userId": "17412231274937908256"
     },
     "user_tz": -330
    },
    "id": "TXN0X2MKsUcd",
    "outputId": "8e09bc4d-0b3c-450b-fe93-093c4c2ad7ba"
   },
   "outputs": [
    {
     "data": {
      "text/plain": [
       "['/content/drive/MyDrive/Skin cancer ISIC The International Skin Imaging Collaboration/Train/actinic keratosis/output/actinic keratosis_original_ISIC_0031040.jpg_eae6adf1-d1a5-4dcd-91b0-bafed79f864a.jpg',\n",
       " '/content/drive/MyDrive/Skin cancer ISIC The International Skin Imaging Collaboration/Train/actinic keratosis/output/actinic keratosis_original_ISIC_0029041.jpg_a3605d60-6bae-4ac1-917d-37b9a15daa37.jpg',\n",
       " '/content/drive/MyDrive/Skin cancer ISIC The International Skin Imaging Collaboration/Train/actinic keratosis/output/actinic keratosis_original_ISIC_0029840.jpg_54e7b50f-a352-4a65-9d6b-ff61a4ab5348.jpg',\n",
       " '/content/drive/MyDrive/Skin cancer ISIC The International Skin Imaging Collaboration/Train/actinic keratosis/output/actinic keratosis_original_ISIC_0026040.jpg_5f394422-737e-47e8-813a-04d95fdd5550.jpg',\n",
       " '/content/drive/MyDrive/Skin cancer ISIC The International Skin Imaging Collaboration/Train/actinic keratosis/output/actinic keratosis_original_ISIC_0033494.jpg_e8d77a93-26f5-4506-9e90-49fb6cc4cee6.jpg',\n",
       " '/content/drive/MyDrive/Skin cancer ISIC The International Skin Imaging Collaboration/Train/actinic keratosis/output/actinic keratosis_original_ISIC_0030242.jpg_367838ca-7743-44da-a0c2-6019b72c9d1c.jpg',\n",
       " '/content/drive/MyDrive/Skin cancer ISIC The International Skin Imaging Collaboration/Train/actinic keratosis/output/actinic keratosis_original_ISIC_0028517.jpg_c44e5f75-077f-4382-988a-a9903dc26071.jpg',\n",
       " '/content/drive/MyDrive/Skin cancer ISIC The International Skin Imaging Collaboration/Train/actinic keratosis/output/actinic keratosis_original_ISIC_0025803.jpg_f23334fc-b911-450e-aa0b-8bdba15d5da3.jpg',\n",
       " '/content/drive/MyDrive/Skin cancer ISIC The International Skin Imaging Collaboration/Train/actinic keratosis/output/actinic keratosis_original_ISIC_0027958.jpg_6fe57dfa-0b41-4d39-a88f-984cab51c7d3.jpg',\n",
       " '/content/drive/MyDrive/Skin cancer ISIC The International Skin Imaging Collaboration/Train/actinic keratosis/output/actinic keratosis_original_ISIC_0030655.jpg_af357e40-7cf4-4dc2-83c0-a90d1ae20ab5.jpg',\n",
       " '/content/drive/MyDrive/Skin cancer ISIC The International Skin Imaging Collaboration/Train/actinic keratosis/output/actinic keratosis_original_ISIC_0033494.jpg_1fef93a4-7efc-4b31-acc6-89c6496a98aa.jpg',\n",
       " '/content/drive/MyDrive/Skin cancer ISIC The International Skin Imaging Collaboration/Train/actinic keratosis/output/actinic keratosis_original_ISIC_0030036.jpg_66f82ae0-fc29-4df2-823f-50ed865f861d.jpg',\n",
       " '/content/drive/MyDrive/Skin cancer ISIC The International Skin Imaging Collaboration/Train/actinic keratosis/output/actinic keratosis_original_ISIC_0025780.jpg_e00218f3-7aa1-4d96-8330-8785f1c28e35.jpg',\n",
       " '/content/drive/MyDrive/Skin cancer ISIC The International Skin Imaging Collaboration/Train/actinic keratosis/output/actinic keratosis_original_ISIC_0030463.jpg_71988613-78c0-4bbf-b55c-0bb454b4786e.jpg',\n",
       " '/content/drive/MyDrive/Skin cancer ISIC The International Skin Imaging Collaboration/Train/actinic keratosis/output/actinic keratosis_original_ISIC_0027650.jpg_58d96c5e-b210-45d8-8920-26c70991ff8e.jpg',\n",
       " '/content/drive/MyDrive/Skin cancer ISIC The International Skin Imaging Collaboration/Train/actinic keratosis/output/actinic keratosis_original_ISIC_0030877.jpg_cb77ab19-0416-4bf9-9f41-13ad0745a6f5.jpg',\n",
       " '/content/drive/MyDrive/Skin cancer ISIC The International Skin Imaging Collaboration/Train/actinic keratosis/output/actinic keratosis_original_ISIC_0032854.jpg_8d70fb5d-1aca-4bcb-ab19-f058e7c3746f.jpg',\n",
       " '/content/drive/MyDrive/Skin cancer ISIC The International Skin Imaging Collaboration/Train/actinic keratosis/output/actinic keratosis_original_ISIC_0029900.jpg_ccbfec25-1fab-436d-8a82-e0da982f9296.jpg',\n",
       " '/content/drive/MyDrive/Skin cancer ISIC The International Skin Imaging Collaboration/Train/actinic keratosis/output/actinic keratosis_original_ISIC_0033866.jpg_36420d27-c577-42a4-8778-04154390e1f2.jpg',\n",
       " '/content/drive/MyDrive/Skin cancer ISIC The International Skin Imaging Collaboration/Train/actinic keratosis/output/actinic keratosis_original_ISIC_0031609.jpg_6462254a-62e4-4afa-b8ec-690cda487fd3.jpg',\n",
       " '/content/drive/MyDrive/Skin cancer ISIC The International Skin Imaging Collaboration/Train/actinic keratosis/output/actinic keratosis_original_ISIC_0027650.jpg_bc1eb2bb-96c5-444d-8eb9-4dbb36d46361.jpg',\n",
       " '/content/drive/MyDrive/Skin cancer ISIC The International Skin Imaging Collaboration/Train/actinic keratosis/output/actinic keratosis_original_ISIC_0026702.jpg_8de19f32-c091-4ea7-ab80-bc791fda02cb.jpg',\n",
       " '/content/drive/MyDrive/Skin cancer ISIC The International Skin Imaging Collaboration/Train/actinic keratosis/output/actinic keratosis_original_ISIC_0028393.jpg_c3d7f9d1-35ea-466f-8e9b-a5fd41a106d2.jpg',\n",
       " '/content/drive/MyDrive/Skin cancer ISIC The International Skin Imaging Collaboration/Train/actinic keratosis/output/actinic keratosis_original_ISIC_0030826.jpg_fbf1a439-b65e-49d2-97e5-9b704a254f13.jpg',\n",
       " '/content/drive/MyDrive/Skin cancer ISIC The International Skin Imaging Collaboration/Train/actinic keratosis/output/actinic keratosis_original_ISIC_0025992.jpg_6a094266-7471-418a-a8fc-5cd2913bfaff.jpg',\n",
       " '/content/drive/MyDrive/Skin cancer ISIC The International Skin Imaging Collaboration/Train/actinic keratosis/output/actinic keratosis_original_ISIC_0026040.jpg_d2534ae1-bdf6-48ed-abf7-07f28693b354.jpg',\n",
       " '/content/drive/MyDrive/Skin cancer ISIC The International Skin Imaging Collaboration/Train/actinic keratosis/output/actinic keratosis_original_ISIC_0029900.jpg_75514f54-710a-40f0-ab64-ed440167d91b.jpg',\n",
       " '/content/drive/MyDrive/Skin cancer ISIC The International Skin Imaging Collaboration/Train/actinic keratosis/output/actinic keratosis_original_ISIC_0026171.jpg_c79c2276-9765-43f1-9a04-bcbb003869c1.jpg',\n",
       " '/content/drive/MyDrive/Skin cancer ISIC The International Skin Imaging Collaboration/Train/actinic keratosis/output/actinic keratosis_original_ISIC_0025803.jpg_84ab1eb4-1d3d-408e-88dd-7b2c17bebf4f.jpg',\n",
       " '/content/drive/MyDrive/Skin cancer ISIC The International Skin Imaging Collaboration/Train/actinic keratosis/output/actinic keratosis_original_ISIC_0031823.jpg_9d313cad-87ae-461d-a642-4ae1e1ed863b.jpg',\n",
       " '/content/drive/MyDrive/Skin cancer ISIC The International Skin Imaging Collaboration/Train/actinic keratosis/output/actinic keratosis_original_ISIC_0027562.jpg_7e76a3f7-a08a-4d8c-820d-c53650e51464.jpg',\n",
       " '/content/drive/MyDrive/Skin cancer ISIC The International Skin Imaging Collaboration/Train/actinic keratosis/output/actinic keratosis_original_ISIC_0028990.jpg_bdbd33d1-93f4-4ab1-8aaa-3d7a57f7bd8e.jpg',\n",
       " '/content/drive/MyDrive/Skin cancer ISIC The International Skin Imaging Collaboration/Train/actinic keratosis/output/actinic keratosis_original_ISIC_0028941.jpg_32215c7d-efea-4c8c-a48f-a173260d2077.jpg',\n",
       " '/content/drive/MyDrive/Skin cancer ISIC The International Skin Imaging Collaboration/Train/actinic keratosis/output/actinic keratosis_original_ISIC_0030463.jpg_73959173-2efd-48a8-97f5-cf7113b26747.jpg',\n",
       " '/content/drive/MyDrive/Skin cancer ISIC The International Skin Imaging Collaboration/Train/actinic keratosis/output/actinic keratosis_original_ISIC_0028076.jpg_7b73654e-46ed-480b-ac1c-3390188bd5ef.jpg',\n",
       " '/content/drive/MyDrive/Skin cancer ISIC The International Skin Imaging Collaboration/Train/actinic keratosis/output/actinic keratosis_original_ISIC_0026848.jpg_f2fc83ae-e2fd-4f54-bf9f-79a3158ccf7d.jpg',\n",
       " '/content/drive/MyDrive/Skin cancer ISIC The International Skin Imaging Collaboration/Train/actinic keratosis/output/actinic keratosis_original_ISIC_0028393.jpg_541b41fb-f618-46f9-b0c1-f88aa26dbfff.jpg',\n",
       " '/content/drive/MyDrive/Skin cancer ISIC The International Skin Imaging Collaboration/Train/actinic keratosis/output/actinic keratosis_original_ISIC_0029900.jpg_f91c10b3-b575-4105-af3c-0855d411e139.jpg',\n",
       " '/content/drive/MyDrive/Skin cancer ISIC The International Skin Imaging Collaboration/Train/actinic keratosis/output/actinic keratosis_original_ISIC_0028314.jpg_cba5d23c-eca6-46cc-b729-677b2ebed03f.jpg',\n",
       " '/content/drive/MyDrive/Skin cancer ISIC The International Skin Imaging Collaboration/Train/actinic keratosis/output/actinic keratosis_original_ISIC_0030344.jpg_0c1c17a1-15af-41df-b72e-0233798562e4.jpg',\n",
       " '/content/drive/MyDrive/Skin cancer ISIC The International Skin Imaging Collaboration/Train/actinic keratosis/output/actinic keratosis_original_ISIC_0030133.jpg_6380aa63-73b0-44e5-a993-8c161d6826d9.jpg',\n",
       " '/content/drive/MyDrive/Skin cancer ISIC The International Skin Imaging Collaboration/Train/actinic keratosis/output/actinic keratosis_original_ISIC_0030877.jpg_5aff040b-6ae5-4de8-88b5-136685894e64.jpg',\n",
       " '/content/drive/MyDrive/Skin cancer ISIC The International Skin Imaging Collaboration/Train/actinic keratosis/output/actinic keratosis_original_ISIC_0027615.jpg_8180efe6-84fd-47de-b662-b9e0d9fac36f.jpg',\n",
       " '/content/drive/MyDrive/Skin cancer ISIC The International Skin Imaging Collaboration/Train/actinic keratosis/output/actinic keratosis_original_ISIC_0028370.jpg_23e5d55a-8084-4c38-b136-45ef51a56af4.jpg',\n",
       " '/content/drive/MyDrive/Skin cancer ISIC The International Skin Imaging Collaboration/Train/actinic keratosis/output/actinic keratosis_original_ISIC_0026626.jpg_60f249b3-0857-4d8f-a020-e73ae6ffeebc.jpg',\n",
       " '/content/drive/MyDrive/Skin cancer ISIC The International Skin Imaging Collaboration/Train/actinic keratosis/output/actinic keratosis_original_ISIC_0026525.jpg_403c2fc3-a310-4d92-b9b6-57eedee92e36.jpg',\n",
       " '/content/drive/MyDrive/Skin cancer ISIC The International Skin Imaging Collaboration/Train/actinic keratosis/output/actinic keratosis_original_ISIC_0029025.jpg_e07436bc-ba3f-409f-a1a9-1fdd58b20c0a.jpg',\n",
       " '/content/drive/MyDrive/Skin cancer ISIC The International Skin Imaging Collaboration/Train/actinic keratosis/output/actinic keratosis_original_ISIC_0029830.jpg_0a05e666-6fed-4ae0-abdf-d6b2e3bb2836.jpg',\n",
       " '/content/drive/MyDrive/Skin cancer ISIC The International Skin Imaging Collaboration/Train/actinic keratosis/output/actinic keratosis_original_ISIC_0029133.jpg_fa610837-a0a8-4296-ad7f-95f706899a4e.jpg',\n",
       " '/content/drive/MyDrive/Skin cancer ISIC The International Skin Imaging Collaboration/Train/actinic keratosis/output/actinic keratosis_original_ISIC_0032135.jpg_c34154d9-5ed4-48b3-92e0-8deef4a1b7cd.jpg',\n",
       " '/content/drive/MyDrive/Skin cancer ISIC The International Skin Imaging Collaboration/Train/actinic keratosis/output/actinic keratosis_original_ISIC_0030408.jpg_0f49f5b7-1feb-45a0-8b36-ec033c77985a.jpg',\n",
       " '/content/drive/MyDrive/Skin cancer ISIC The International Skin Imaging Collaboration/Train/actinic keratosis/output/actinic keratosis_original_ISIC_0026984.jpg_9869852d-d578-4a66-85bd-3607857ccee0.jpg',\n",
       " '/content/drive/MyDrive/Skin cancer ISIC The International Skin Imaging Collaboration/Train/actinic keratosis/output/actinic keratosis_original_ISIC_0029025.jpg_c3737fac-fe07-4dd5-a4e0-4025460d7379.jpg',\n",
       " '/content/drive/MyDrive/Skin cancer ISIC The International Skin Imaging Collaboration/Train/actinic keratosis/output/actinic keratosis_original_ISIC_0031335.jpg_5f12185d-9dac-4b13-b8da-93cceaf877c5.jpg',\n",
       " '/content/drive/MyDrive/Skin cancer ISIC The International Skin Imaging Collaboration/Train/actinic keratosis/output/actinic keratosis_original_ISIC_0028393.jpg_2fd55916-8f08-4183-8d96-4d972b1ba5d8.jpg',\n",
       " '/content/drive/MyDrive/Skin cancer ISIC The International Skin Imaging Collaboration/Train/actinic keratosis/output/actinic keratosis_original_ISIC_0030344.jpg_ac3204dc-ab4f-4199-b5b7-642bbfeb10a5.jpg',\n",
       " '/content/drive/MyDrive/Skin cancer ISIC The International Skin Imaging Collaboration/Train/actinic keratosis/output/actinic keratosis_original_ISIC_0027668.jpg_ccd516a8-fee5-4050-9304-5ebe786e35eb.jpg',\n",
       " '/content/drive/MyDrive/Skin cancer ISIC The International Skin Imaging Collaboration/Train/actinic keratosis/output/actinic keratosis_original_ISIC_0031506.jpg_8a6e1958-f74a-4c83-b104-62c442478298.jpg',\n",
       " '/content/drive/MyDrive/Skin cancer ISIC The International Skin Imaging Collaboration/Train/actinic keratosis/output/actinic keratosis_original_ISIC_0026457.jpg_14f5418e-0428-4396-a000-d679bf44f044.jpg',\n",
       " '/content/drive/MyDrive/Skin cancer ISIC The International Skin Imaging Collaboration/Train/actinic keratosis/output/actinic keratosis_original_ISIC_0028558.jpg_6276269c-ad4c-4b01-9ccb-dbe7ed35ad01.jpg',\n",
       " '/content/drive/MyDrive/Skin cancer ISIC The International Skin Imaging Collaboration/Train/actinic keratosis/output/actinic keratosis_original_ISIC_0029041.jpg_db5cc3ba-8ec7-4740-bcca-6f290bf885b3.jpg',\n",
       " '/content/drive/MyDrive/Skin cancer ISIC The International Skin Imaging Collaboration/Train/actinic keratosis/output/actinic keratosis_original_ISIC_0026984.jpg_353be1cd-4ae4-44ea-9dc1-8ab89504051d.jpg',\n",
       " '/content/drive/MyDrive/Skin cancer ISIC The International Skin Imaging Collaboration/Train/actinic keratosis/output/actinic keratosis_original_ISIC_0028558.jpg_0db1a1d7-d8c1-4628-838d-38235f1916bc.jpg',\n",
       " '/content/drive/MyDrive/Skin cancer ISIC The International Skin Imaging Collaboration/Train/actinic keratosis/output/actinic keratosis_original_ISIC_0029500.jpg_fab1665e-409a-430e-833d-ca892b080eaf.jpg',\n",
       " '/content/drive/MyDrive/Skin cancer ISIC The International Skin Imaging Collaboration/Train/actinic keratosis/output/actinic keratosis_original_ISIC_0029781.jpg_1c5641c3-b02a-4242-8502-fbca71436dc0.jpg',\n",
       " '/content/drive/MyDrive/Skin cancer ISIC The International Skin Imaging Collaboration/Train/actinic keratosis/output/actinic keratosis_original_ISIC_0033413.jpg_d31547ff-5b4e-46b0-b6b2-b77d8be2fa94.jpg',\n",
       " '/content/drive/MyDrive/Skin cancer ISIC The International Skin Imaging Collaboration/Train/actinic keratosis/output/actinic keratosis_original_ISIC_0029659.jpg_737d9496-debd-4676-a01f-18f4793f7a3e.jpg',\n",
       " '/content/drive/MyDrive/Skin cancer ISIC The International Skin Imaging Collaboration/Train/actinic keratosis/output/actinic keratosis_original_ISIC_0030036.jpg_66d87798-8405-49a3-87d5-3a3645af67f1.jpg',\n",
       " '/content/drive/MyDrive/Skin cancer ISIC The International Skin Imaging Collaboration/Train/actinic keratosis/output/actinic keratosis_original_ISIC_0033151.jpg_f462fc21-2c4f-4df1-8deb-ef345d4c309a.jpg',\n",
       " '/content/drive/MyDrive/Skin cancer ISIC The International Skin Imaging Collaboration/Train/actinic keratosis/output/actinic keratosis_original_ISIC_0029900.jpg_150ae119-3657-42e9-89a6-3fdbd8c93bc0.jpg',\n",
       " '/content/drive/MyDrive/Skin cancer ISIC The International Skin Imaging Collaboration/Train/actinic keratosis/output/actinic keratosis_original_ISIC_0033456.jpg_407795ea-a414-40e0-bfdb-312da3292c3f.jpg',\n",
       " '/content/drive/MyDrive/Skin cancer ISIC The International Skin Imaging Collaboration/Train/actinic keratosis/output/actinic keratosis_original_ISIC_0025803.jpg_a01ef4f1-bc38-4da6-b62c-d84d5b624761.jpg',\n",
       " '/content/drive/MyDrive/Skin cancer ISIC The International Skin Imaging Collaboration/Train/actinic keratosis/output/actinic keratosis_original_ISIC_0028941.jpg_01bdd6bf-ddab-4600-895f-96bb0a0edf2d.jpg',\n",
       " '/content/drive/MyDrive/Skin cancer ISIC The International Skin Imaging Collaboration/Train/actinic keratosis/output/actinic keratosis_original_ISIC_0028941.jpg_6ea36d50-8b5d-4b49-91e5-8db96225d866.jpg',\n",
       " '/content/drive/MyDrive/Skin cancer ISIC The International Skin Imaging Collaboration/Train/actinic keratosis/output/actinic keratosis_original_ISIC_0026212.jpg_fdb30cce-353f-4ce4-9e0d-e590567f3262.jpg',\n",
       " '/content/drive/MyDrive/Skin cancer ISIC The International Skin Imaging Collaboration/Train/actinic keratosis/output/actinic keratosis_original_ISIC_0030344.jpg_febdd63e-8e2d-47c1-8e59-beb7486c7984.jpg',\n",
       " '/content/drive/MyDrive/Skin cancer ISIC The International Skin Imaging Collaboration/Train/actinic keratosis/output/actinic keratosis_original_ISIC_0029025.jpg_b5f29d65-958d-4c37-ada0-d6e2acf8901d.jpg',\n",
       " '/content/drive/MyDrive/Skin cancer ISIC The International Skin Imaging Collaboration/Train/actinic keratosis/output/actinic keratosis_original_ISIC_0030491.jpg_d37ca1b7-b89d-4f1a-bd63-27525a0ebaee.jpg',\n",
       " '/content/drive/MyDrive/Skin cancer ISIC The International Skin Imaging Collaboration/Train/actinic keratosis/output/actinic keratosis_original_ISIC_0028076.jpg_7d635e31-c0e4-40b7-9a91-5ac1358d8860.jpg',\n",
       " '/content/drive/MyDrive/Skin cancer ISIC The International Skin Imaging Collaboration/Train/actinic keratosis/output/actinic keratosis_original_ISIC_0033494.jpg_318d6de8-332b-4dff-831f-341ed7ef6d2e.jpg',\n",
       " '/content/drive/MyDrive/Skin cancer ISIC The International Skin Imaging Collaboration/Train/actinic keratosis/output/actinic keratosis_original_ISIC_0029309.jpg_2a2ae4c1-f0b3-403a-ae11-5bc7188b9bd6.jpg',\n",
       " '/content/drive/MyDrive/Skin cancer ISIC The International Skin Imaging Collaboration/Train/actinic keratosis/output/actinic keratosis_original_ISIC_0026702.jpg_de9c998a-b546-44ba-ae9e-f1abe46577e9.jpg',\n",
       " '/content/drive/MyDrive/Skin cancer ISIC The International Skin Imaging Collaboration/Train/actinic keratosis/output/actinic keratosis_original_ISIC_0030133.jpg_3258dfac-82cd-4bbf-99fe-9b3182be7fd0.jpg',\n",
       " '/content/drive/MyDrive/Skin cancer ISIC The International Skin Imaging Collaboration/Train/actinic keratosis/output/actinic keratosis_original_ISIC_0026040.jpg_677f87c4-c1f7-4852-ae7d-0f69f5d9c5f2.jpg',\n",
       " '/content/drive/MyDrive/Skin cancer ISIC The International Skin Imaging Collaboration/Train/actinic keratosis/output/actinic keratosis_original_ISIC_0031823.jpg_58071acf-04f1-408b-9b47-82285b87936c.jpg',\n",
       " '/content/drive/MyDrive/Skin cancer ISIC The International Skin Imaging Collaboration/Train/actinic keratosis/output/actinic keratosis_original_ISIC_0029210.jpg_aa1d6fa6-e1fb-4091-a8ce-b95a4b9b5e8c.jpg',\n",
       " '/content/drive/MyDrive/Skin cancer ISIC The International Skin Imaging Collaboration/Train/actinic keratosis/output/actinic keratosis_original_ISIC_0031381.jpg_fdb129bb-def3-4d2d-8028-49a0b061c035.jpg',\n",
       " '/content/drive/MyDrive/Skin cancer ISIC The International Skin Imaging Collaboration/Train/actinic keratosis/output/actinic keratosis_original_ISIC_0033705.jpg_e6ae1463-82e0-487f-8f3d-a4d702387e66.jpg',\n",
       " '/content/drive/MyDrive/Skin cancer ISIC The International Skin Imaging Collaboration/Train/actinic keratosis/output/actinic keratosis_original_ISIC_0030655.jpg_28b9c2d2-4cf7-4588-af54-c1f9dc8fe782.jpg',\n",
       " '/content/drive/MyDrive/Skin cancer ISIC The International Skin Imaging Collaboration/Train/actinic keratosis/output/actinic keratosis_original_ISIC_0031292.jpg_f694ea49-12cc-43c2-9482-470cb3ad1197.jpg',\n",
       " '/content/drive/MyDrive/Skin cancer ISIC The International Skin Imaging Collaboration/Train/actinic keratosis/output/actinic keratosis_original_ISIC_0032404.jpg_b0202914-7b36-4c80-b29a-d5f0d04e449d.jpg',\n",
       " '/content/drive/MyDrive/Skin cancer ISIC The International Skin Imaging Collaboration/Train/actinic keratosis/output/actinic keratosis_original_ISIC_0031381.jpg_c805242a-f26e-47fb-880f-daec7aaa13ad.jpg',\n",
       " '/content/drive/MyDrive/Skin cancer ISIC The International Skin Imaging Collaboration/Train/actinic keratosis/output/actinic keratosis_original_ISIC_0030463.jpg_6971defb-d561-4c0d-b42f-76556de56bb6.jpg',\n",
       " '/content/drive/MyDrive/Skin cancer ISIC The International Skin Imaging Collaboration/Train/actinic keratosis/output/actinic keratosis_original_ISIC_0030036.jpg_39f96cdf-fdbe-44c3-b936-bc56ed119bcf.jpg',\n",
       " '/content/drive/MyDrive/Skin cancer ISIC The International Skin Imaging Collaboration/Train/actinic keratosis/output/actinic keratosis_original_ISIC_0033151.jpg_2b86940e-c62c-4a53-8301-b6970adfcb09.jpg',\n",
       " '/content/drive/MyDrive/Skin cancer ISIC The International Skin Imaging Collaboration/Train/actinic keratosis/output/actinic keratosis_original_ISIC_0029930.jpg_0d87921d-9fc6-470b-ad42-a08d580e59d2.jpg',\n",
       " '/content/drive/MyDrive/Skin cancer ISIC The International Skin Imaging Collaboration/Train/actinic keratosis/output/actinic keratosis_original_ISIC_0033811.jpg_26a28768-7777-4965-a427-f8122cf2b25e.jpg',\n",
       " '/content/drive/MyDrive/Skin cancer ISIC The International Skin Imaging Collaboration/Train/actinic keratosis/output/actinic keratosis_original_ISIC_0033151.jpg_ce6d84e7-8f23-42df-a985-86c59a82cab6.jpg',\n",
       " '/content/drive/MyDrive/Skin cancer ISIC The International Skin Imaging Collaboration/Train/actinic keratosis/output/actinic keratosis_original_ISIC_0029659.jpg_a99e6840-8865-4332-85c3-0382a82589ef.jpg',\n",
       " '/content/drive/MyDrive/Skin cancer ISIC The International Skin Imaging Collaboration/Train/actinic keratosis/output/actinic keratosis_original_ISIC_0026468.jpg_b2e482a8-f042-4539-8f48-318cc33f4475.jpg',\n",
       " '/content/drive/MyDrive/Skin cancer ISIC The International Skin Imaging Collaboration/Train/actinic keratosis/output/actinic keratosis_original_ISIC_0030133.jpg_ac64cf13-52df-4474-9fc0-86ae3c110840.jpg',\n",
       " '/content/drive/MyDrive/Skin cancer ISIC The International Skin Imaging Collaboration/Train/actinic keratosis/output/actinic keratosis_original_ISIC_0033456.jpg_ef6d206c-f972-4b6f-ab05-ccf52d67c856.jpg',\n",
       " '/content/drive/MyDrive/Skin cancer ISIC The International Skin Imaging Collaboration/Train/actinic keratosis/output/actinic keratosis_original_ISIC_0033456.jpg_7ec7e094-1fe4-4f69-b9b2-0896afd4bb4e.jpg',\n",
       " '/content/drive/MyDrive/Skin cancer ISIC The International Skin Imaging Collaboration/Train/actinic keratosis/output/actinic keratosis_original_ISIC_0032437.jpg_587b83f9-04d7-4a0e-9935-8a64eed54e0f.jpg',\n",
       " '/content/drive/MyDrive/Skin cancer ISIC The International Skin Imaging Collaboration/Train/actinic keratosis/output/actinic keratosis_original_ISIC_0029659.jpg_0616533c-c1ee-4b66-a817-db2102cf3237.jpg',\n",
       " '/content/drive/MyDrive/Skin cancer ISIC The International Skin Imaging Collaboration/Train/actinic keratosis/output/actinic keratosis_original_ISIC_0025780.jpg_c466bad5-3aab-438d-91aa-2f928654d193.jpg',\n",
       " '/content/drive/MyDrive/Skin cancer ISIC The International Skin Imaging Collaboration/Train/actinic keratosis/output/actinic keratosis_original_ISIC_0030826.jpg_7373930c-ea9a-40f2-9467-b9dd4ee658cf.jpg',\n",
       " '/content/drive/MyDrive/Skin cancer ISIC The International Skin Imaging Collaboration/Train/actinic keratosis/output/actinic keratosis_original_ISIC_0030133.jpg_d034572e-e437-443b-8257-48a9fd09ae7f.jpg',\n",
       " '/content/drive/MyDrive/Skin cancer ISIC The International Skin Imaging Collaboration/Train/actinic keratosis/output/actinic keratosis_original_ISIC_0027452.jpg_ae75ab74-bf90-4d0f-ad76-25af90f9d656.jpg',\n",
       " '/content/drive/MyDrive/Skin cancer ISIC The International Skin Imaging Collaboration/Train/actinic keratosis/output/actinic keratosis_original_ISIC_0030877.jpg_e0e1c322-392f-44cd-803f-7ea11d2e966e.jpg',\n",
       " '/content/drive/MyDrive/Skin cancer ISIC The International Skin Imaging Collaboration/Train/actinic keratosis/output/actinic keratosis_original_ISIC_0032404.jpg_f21e5a78-10f1-4e51-95c1-b94dba23f52a.jpg',\n",
       " '/content/drive/MyDrive/Skin cancer ISIC The International Skin Imaging Collaboration/Train/actinic keratosis/output/actinic keratosis_original_ISIC_0031108.jpg_89afdd50-7495-4ee6-82c8-abb869b06891.jpg',\n",
       " '/content/drive/MyDrive/Skin cancer ISIC The International Skin Imaging Collaboration/Train/actinic keratosis/output/actinic keratosis_original_ISIC_0028558.jpg_dca46fca-6fb7-4f43-845e-4cc3fd2245a5.jpg',\n",
       " '/content/drive/MyDrive/Skin cancer ISIC The International Skin Imaging Collaboration/Train/actinic keratosis/output/actinic keratosis_original_ISIC_0032135.jpg_a003ec87-cdbd-43a7-9c6f-c245e938d8f7.jpg',\n",
       " '/content/drive/MyDrive/Skin cancer ISIC The International Skin Imaging Collaboration/Train/actinic keratosis/output/actinic keratosis_original_ISIC_0028314.jpg_014f4d45-28d7-4a5c-815f-f3acc0115a36.jpg',\n",
       " '/content/drive/MyDrive/Skin cancer ISIC The International Skin Imaging Collaboration/Train/actinic keratosis/output/actinic keratosis_original_ISIC_0030142.jpg_1cde740a-09b3-4af1-8dd7-148380f72c04.jpg',\n",
       " '/content/drive/MyDrive/Skin cancer ISIC The International Skin Imaging Collaboration/Train/actinic keratosis/output/actinic keratosis_original_ISIC_0027172.jpg_76593970-58e7-46f9-8e84-2868ef6a17f3.jpg',\n",
       " '/content/drive/MyDrive/Skin cancer ISIC The International Skin Imaging Collaboration/Train/actinic keratosis/output/actinic keratosis_original_ISIC_0028941.jpg_2f8df865-d4a8-4bff-942f-4a2acdf2c52c.jpg',\n",
       " '/content/drive/MyDrive/Skin cancer ISIC The International Skin Imaging Collaboration/Train/actinic keratosis/output/actinic keratosis_original_ISIC_0032404.jpg_ef5d8dee-bac4-4c7d-89ea-69c2fcbc33f7.jpg',\n",
       " '/content/drive/MyDrive/Skin cancer ISIC The International Skin Imaging Collaboration/Train/actinic keratosis/output/actinic keratosis_original_ISIC_0029025.jpg_080f5809-cbb4-44cd-9dab-9dffa1b9ae21.jpg',\n",
       " '/content/drive/MyDrive/Skin cancer ISIC The International Skin Imaging Collaboration/Train/actinic keratosis/output/actinic keratosis_original_ISIC_0027452.jpg_bf02194a-c631-4acb-9350-9d53378407e5.jpg',\n",
       " '/content/drive/MyDrive/Skin cancer ISIC The International Skin Imaging Collaboration/Train/actinic keratosis/output/actinic keratosis_original_ISIC_0029500.jpg_e09c0b5b-dbb2-429c-94c7-29559a6033ff.jpg',\n",
       " '/content/drive/MyDrive/Skin cancer ISIC The International Skin Imaging Collaboration/Train/actinic keratosis/output/actinic keratosis_original_ISIC_0031040.jpg_566fa30b-3a18-4eb2-a5c6-0ecf52c2ba8a.jpg',\n",
       " '/content/drive/MyDrive/Skin cancer ISIC The International Skin Imaging Collaboration/Train/actinic keratosis/output/actinic keratosis_original_ISIC_0026212.jpg_032eb472-f506-4f11-9dcb-f3cd31244e6e.jpg',\n",
       " '/content/drive/MyDrive/Skin cancer ISIC The International Skin Imaging Collaboration/Train/actinic keratosis/output/actinic keratosis_original_ISIC_0025992.jpg_1c143012-1ce2-4bda-b2eb-aa3e8dbb9704.jpg',\n",
       " '/content/drive/MyDrive/Skin cancer ISIC The International Skin Imaging Collaboration/Train/actinic keratosis/output/actinic keratosis_original_ISIC_0027950.jpg_80df32fd-557d-4657-af61-9fd9ba2c7179.jpg',\n",
       " '/content/drive/MyDrive/Skin cancer ISIC The International Skin Imaging Collaboration/Train/actinic keratosis/output/actinic keratosis_original_ISIC_0027958.jpg_ce468d05-d439-4ca4-b80e-e4da087ddce9.jpg',\n",
       " '/content/drive/MyDrive/Skin cancer ISIC The International Skin Imaging Collaboration/Train/actinic keratosis/output/actinic keratosis_original_ISIC_0033494.jpg_cc2a0801-cea7-4f8b-990a-fd2535135931.jpg',\n",
       " '/content/drive/MyDrive/Skin cancer ISIC The International Skin Imaging Collaboration/Train/actinic keratosis/output/actinic keratosis_original_ISIC_0026457.jpg_fbba5af7-6a10-4349-b9af-8a475da6c953.jpg',\n",
       " '/content/drive/MyDrive/Skin cancer ISIC The International Skin Imaging Collaboration/Train/actinic keratosis/output/actinic keratosis_original_ISIC_0033151.jpg_716fdd8b-0e11-4dd3-9979-b91bf8e16005.jpg',\n",
       " '/content/drive/MyDrive/Skin cancer ISIC The International Skin Imaging Collaboration/Train/actinic keratosis/output/actinic keratosis_original_ISIC_0030586.jpg_bd8f0878-7849-48d7-947d-23c4ddea1e34.jpg',\n",
       " '/content/drive/MyDrive/Skin cancer ISIC The International Skin Imaging Collaboration/Train/actinic keratosis/output/actinic keratosis_original_ISIC_0028314.jpg_6e380f60-c9cc-4b52-a69f-8301b991d93a.jpg',\n",
       " '/content/drive/MyDrive/Skin cancer ISIC The International Skin Imaging Collaboration/Train/actinic keratosis/output/actinic keratosis_original_ISIC_0029309.jpg_de73f396-cd92-48d9-80bd-7ad118ea5799.jpg',\n",
       " '/content/drive/MyDrive/Skin cancer ISIC The International Skin Imaging Collaboration/Train/actinic keratosis/output/actinic keratosis_original_ISIC_0026729.jpg_5ceda5e8-b636-4298-9bcb-a03d649b2595.jpg',\n",
       " '/content/drive/MyDrive/Skin cancer ISIC The International Skin Imaging Collaboration/Train/actinic keratosis/output/actinic keratosis_original_ISIC_0030463.jpg_3578698b-32e2-4984-94de-fa1a86861331.jpg',\n",
       " '/content/drive/MyDrive/Skin cancer ISIC The International Skin Imaging Collaboration/Train/actinic keratosis/output/actinic keratosis_original_ISIC_0028370.jpg_86906149-d86a-4114-b790-67e233e5b328.jpg',\n",
       " '/content/drive/MyDrive/Skin cancer ISIC The International Skin Imaging Collaboration/Train/actinic keratosis/output/actinic keratosis_original_ISIC_0029309.jpg_56d5b786-413f-4318-ae5e-13fd7563f54a.jpg',\n",
       " '/content/drive/MyDrive/Skin cancer ISIC The International Skin Imaging Collaboration/Train/actinic keratosis/output/actinic keratosis_original_ISIC_0029840.jpg_15f11e51-5827-429b-b15c-fc25f6581fb5.jpg',\n",
       " '/content/drive/MyDrive/Skin cancer ISIC The International Skin Imaging Collaboration/Train/actinic keratosis/output/actinic keratosis_original_ISIC_0027452.jpg_057d8b32-4260-4be4-84df-6307ff8a63af.jpg',\n",
       " '/content/drive/MyDrive/Skin cancer ISIC The International Skin Imaging Collaboration/Train/actinic keratosis/output/actinic keratosis_original_ISIC_0031823.jpg_7938faf8-35aa-4692-bd08-e5e97f8cf465.jpg',\n",
       " '/content/drive/MyDrive/Skin cancer ISIC The International Skin Imaging Collaboration/Train/actinic keratosis/output/actinic keratosis_original_ISIC_0031922.jpg_0a007501-2701-4b63-b901-d6efe9c33fce.jpg',\n",
       " '/content/drive/MyDrive/Skin cancer ISIC The International Skin Imaging Collaboration/Train/actinic keratosis/output/actinic keratosis_original_ISIC_0026650.jpg_9fd814f7-a465-4fd3-966d-48ba5139b929.jpg',\n",
       " '/content/drive/MyDrive/Skin cancer ISIC The International Skin Imaging Collaboration/Train/actinic keratosis/output/actinic keratosis_original_ISIC_0026171.jpg_85005a96-f36b-4feb-b271-7bd96056b1a8.jpg',\n",
       " '/content/drive/MyDrive/Skin cancer ISIC The International Skin Imaging Collaboration/Train/actinic keratosis/output/actinic keratosis_original_ISIC_0029309.jpg_1ca35c1e-53c6-4fff-9bd8-670abf36dfbd.jpg',\n",
       " '/content/drive/MyDrive/Skin cancer ISIC The International Skin Imaging Collaboration/Train/actinic keratosis/output/actinic keratosis_original_ISIC_0033494.jpg_58be352c-16cd-468e-a5e7-87af08cdf2fb.jpg',\n",
       " '/content/drive/MyDrive/Skin cancer ISIC The International Skin Imaging Collaboration/Train/actinic keratosis/output/actinic keratosis_original_ISIC_0026525.jpg_b4a8d4e1-9138-48a5-a539-bfa782c5c64e.jpg',\n",
       " '/content/drive/MyDrive/Skin cancer ISIC The International Skin Imaging Collaboration/Train/actinic keratosis/output/actinic keratosis_original_ISIC_0027536.jpg_186866fc-87ed-41a9-a635-7a07c30d19c4.jpg',\n",
       " '/content/drive/MyDrive/Skin cancer ISIC The International Skin Imaging Collaboration/Train/actinic keratosis/output/actinic keratosis_original_ISIC_0027580.jpg_97f5cb0e-7e09-4fc6-a479-306d782b3807.jpg',\n",
       " '/content/drive/MyDrive/Skin cancer ISIC The International Skin Imaging Collaboration/Train/actinic keratosis/output/actinic keratosis_original_ISIC_0032437.jpg_55ed5820-fb55-48e4-8318-42ca4e58de7f.jpg',\n",
       " '/content/drive/MyDrive/Skin cancer ISIC The International Skin Imaging Collaboration/Train/actinic keratosis/output/actinic keratosis_original_ISIC_0029713.jpg_68d64a52-bb08-40da-8a51-3e910eb8fb73.jpg',\n",
       " '/content/drive/MyDrive/Skin cancer ISIC The International Skin Imaging Collaboration/Train/actinic keratosis/output/actinic keratosis_original_ISIC_0030825.jpg_def71338-cd96-471d-9a0a-d71c98a11573.jpg',\n",
       " '/content/drive/MyDrive/Skin cancer ISIC The International Skin Imaging Collaboration/Train/actinic keratosis/output/actinic keratosis_original_ISIC_0026040.jpg_837afd1a-2c56-4703-8c7c-73761a4171a9.jpg',\n",
       " '/content/drive/MyDrive/Skin cancer ISIC The International Skin Imaging Collaboration/Train/actinic keratosis/output/actinic keratosis_original_ISIC_0031381.jpg_8251d8f2-f50a-495e-8b2e-749de2ccbc4b.jpg',\n",
       " '/content/drive/MyDrive/Skin cancer ISIC The International Skin Imaging Collaboration/Train/actinic keratosis/output/actinic keratosis_original_ISIC_0027958.jpg_02898804-db40-4502-81f4-481ed148949c.jpg',\n",
       " '/content/drive/MyDrive/Skin cancer ISIC The International Skin Imaging Collaboration/Train/actinic keratosis/output/actinic keratosis_original_ISIC_0032437.jpg_e98f8f91-6dcd-4743-9502-46a7802abeae.jpg',\n",
       " '/content/drive/MyDrive/Skin cancer ISIC The International Skin Imaging Collaboration/Train/actinic keratosis/output/actinic keratosis_original_ISIC_0030143.jpg_758a1fb9-84ab-48d6-950f-b666e85a7a2b.jpg',\n",
       " '/content/drive/MyDrive/Skin cancer ISIC The International Skin Imaging Collaboration/Train/actinic keratosis/output/actinic keratosis_original_ISIC_0030344.jpg_a80003af-0dee-4b99-ac0e-b883e106050e.jpg',\n",
       " '/content/drive/MyDrive/Skin cancer ISIC The International Skin Imaging Collaboration/Train/actinic keratosis/output/actinic keratosis_original_ISIC_0030242.jpg_b605d562-b034-4916-9b1d-56176e9ae2bb.jpg',\n",
       " '/content/drive/MyDrive/Skin cancer ISIC The International Skin Imaging Collaboration/Train/actinic keratosis/output/actinic keratosis_original_ISIC_0032135.jpg_2c641848-a8f8-46da-bca4-9630fdc31ae1.jpg',\n",
       " '/content/drive/MyDrive/Skin cancer ISIC The International Skin Imaging Collaboration/Train/actinic keratosis/output/actinic keratosis_original_ISIC_0031228.jpg_f445742a-e4c1-4ee2-b506-f5f581a5dc83.jpg',\n",
       " '/content/drive/MyDrive/Skin cancer ISIC The International Skin Imaging Collaboration/Train/actinic keratosis/output/actinic keratosis_original_ISIC_0026194.jpg_dc2c1f03-a0fb-4915-a1dd-e8d1e4f1afe9.jpg',\n",
       " '/content/drive/MyDrive/Skin cancer ISIC The International Skin Imaging Collaboration/Train/actinic keratosis/output/actinic keratosis_original_ISIC_0033456.jpg_d8b1fd70-7b7a-49d9-9174-870cea1d8676.jpg',\n",
       " '/content/drive/MyDrive/Skin cancer ISIC The International Skin Imaging Collaboration/Train/actinic keratosis/output/actinic keratosis_original_ISIC_0030036.jpg_b6e514a9-2a29-44d2-b3fc-f243e83b502a.jpg',\n",
       " '/content/drive/MyDrive/Skin cancer ISIC The International Skin Imaging Collaboration/Train/actinic keratosis/output/actinic keratosis_original_ISIC_0031292.jpg_58fad055-514d-40ce-9f38-7cdb27158b40.jpg',\n",
       " '/content/drive/MyDrive/Skin cancer ISIC The International Skin Imaging Collaboration/Train/actinic keratosis/output/actinic keratosis_original_ISIC_0026171.jpg_37e1eed3-4b0a-44f9-bd42-bd8c14360122.jpg',\n",
       " '/content/drive/MyDrive/Skin cancer ISIC The International Skin Imaging Collaboration/Train/actinic keratosis/output/actinic keratosis_original_ISIC_0026468.jpg_8ae104e8-170a-491a-8b23-0280c6805d9d.jpg',\n",
       " '/content/drive/MyDrive/Skin cancer ISIC The International Skin Imaging Collaboration/Train/actinic keratosis/output/actinic keratosis_original_ISIC_0033151.jpg_56606ea0-9990-4fe5-a9a9-12a54d89fb48.jpg',\n",
       " '/content/drive/MyDrive/Skin cancer ISIC The International Skin Imaging Collaboration/Train/actinic keratosis/output/actinic keratosis_original_ISIC_0025780.jpg_2a53861c-0783-4989-90cc-249ed7b98f81.jpg',\n",
       " '/content/drive/MyDrive/Skin cancer ISIC The International Skin Imaging Collaboration/Train/actinic keratosis/output/actinic keratosis_original_ISIC_0026468.jpg_cc749aef-5a21-4db8-9d4b-09c251188c81.jpg',\n",
       " '/content/drive/MyDrive/Skin cancer ISIC The International Skin Imaging Collaboration/Train/actinic keratosis/output/actinic keratosis_original_ISIC_0026984.jpg_597141cc-236a-4ab4-8b49-f56e7dad2834.jpg',\n",
       " '/content/drive/MyDrive/Skin cancer ISIC The International Skin Imaging Collaboration/Train/actinic keratosis/output/actinic keratosis_original_ISIC_0031040.jpg_b7db61b1-3c75-4093-9bf2-5f4979e93cee.jpg',\n",
       " '/content/drive/MyDrive/Skin cancer ISIC The International Skin Imaging Collaboration/Train/actinic keratosis/output/actinic keratosis_original_ISIC_0026905.jpg_b73e5cdc-d08f-4625-8b52-e8b3725119b7.jpg',\n",
       " '/content/drive/MyDrive/Skin cancer ISIC The International Skin Imaging Collaboration/Train/actinic keratosis/output/actinic keratosis_original_ISIC_0031228.jpg_12e35a69-6601-4189-882a-c03446da136a.jpg',\n",
       " '/content/drive/MyDrive/Skin cancer ISIC The International Skin Imaging Collaboration/Train/actinic keratosis/output/actinic keratosis_original_ISIC_0033811.jpg_8a1a9152-d476-41e3-81f9-8c0cbc328c2a.jpg',\n",
       " '/content/drive/MyDrive/Skin cancer ISIC The International Skin Imaging Collaboration/Train/actinic keratosis/output/actinic keratosis_original_ISIC_0031228.jpg_f5864547-c5d8-4876-925d-c112b3407b3d.jpg',\n",
       " '/content/drive/MyDrive/Skin cancer ISIC The International Skin Imaging Collaboration/Train/actinic keratosis/output/actinic keratosis_original_ISIC_0031922.jpg_b6c5c865-a815-40d2-8506-9deb43b4ec62.jpg',\n",
       " '/content/drive/MyDrive/Skin cancer ISIC The International Skin Imaging Collaboration/Train/actinic keratosis/output/actinic keratosis_original_ISIC_0027896.jpg_da48997b-318c-4d51-a204-a2969b3e3409.jpg',\n",
       " '/content/drive/MyDrive/Skin cancer ISIC The International Skin Imaging Collaboration/Train/actinic keratosis/output/actinic keratosis_original_ISIC_0025953.jpg_cc7509af-0d4c-4115-8437-6ea41fe6e03e.jpg',\n",
       " '/content/drive/MyDrive/Skin cancer ISIC The International Skin Imaging Collaboration/Train/actinic keratosis/output/actinic keratosis_original_ISIC_0031609.jpg_255b54d7-2eaa-47e7-bdb2-7c71871460d2.jpg',\n",
       " '/content/drive/MyDrive/Skin cancer ISIC The International Skin Imaging Collaboration/Train/actinic keratosis/output/actinic keratosis_original_ISIC_0029930.jpg_db679091-ad8f-439a-84d6-3eb39dd1076f.jpg',\n",
       " '/content/drive/MyDrive/Skin cancer ISIC The International Skin Imaging Collaboration/Train/actinic keratosis/output/actinic keratosis_original_ISIC_0028990.jpg_4de802ea-1060-4ebf-838a-402c0285407c.jpg',\n",
       " '/content/drive/MyDrive/Skin cancer ISIC The International Skin Imaging Collaboration/Train/actinic keratosis/output/actinic keratosis_original_ISIC_0026765.jpg_1f728284-4341-4483-af1f-50b9d90bd797.jpg',\n",
       " '/content/drive/MyDrive/Skin cancer ISIC The International Skin Imaging Collaboration/Train/actinic keratosis/output/actinic keratosis_original_ISIC_0026457.jpg_34be2b27-3afe-40f1-ad5c-9cdb3fadcec9.jpg',\n",
       " '/content/drive/MyDrive/Skin cancer ISIC The International Skin Imaging Collaboration/Train/actinic keratosis/output/actinic keratosis_original_ISIC_0030826.jpg_aa08c3c2-69f9-41e5-8be5-879e71768db5.jpg',\n",
       " '/content/drive/MyDrive/Skin cancer ISIC The International Skin Imaging Collaboration/Train/actinic keratosis/output/actinic keratosis_original_ISIC_0029210.jpg_ae304b32-6ce9-4239-9ac0-62f01a14d109.jpg',\n",
       " '/content/drive/MyDrive/Skin cancer ISIC The International Skin Imaging Collaboration/Train/actinic keratosis/output/actinic keratosis_original_ISIC_0028076.jpg_f8746083-3bf0-4b1e-8432-0109c580cef2.jpg',\n",
       " '/content/drive/MyDrive/Skin cancer ISIC The International Skin Imaging Collaboration/Train/actinic keratosis/output/actinic keratosis_original_ISIC_0025957.jpg_997c3a3e-934d-4b20-bb26-65f77f98d1d0.jpg',\n",
       " '/content/drive/MyDrive/Skin cancer ISIC The International Skin Imaging Collaboration/Train/actinic keratosis/output/actinic keratosis_original_ISIC_0027958.jpg_7f78423c-2874-45f4-9b54-487df538ef3a.jpg',\n",
       " '/content/drive/MyDrive/Skin cancer ISIC The International Skin Imaging Collaboration/Train/actinic keratosis/output/actinic keratosis_original_ISIC_0030825.jpg_a0936ceb-bec5-40e7-9683-efe8bec54e73.jpg',\n",
       " '/content/drive/MyDrive/Skin cancer ISIC The International Skin Imaging Collaboration/Train/actinic keratosis/output/actinic keratosis_original_ISIC_0031823.jpg_6b0ff5c5-e332-44a3-8404-65e40509f3d2.jpg',\n",
       " '/content/drive/MyDrive/Skin cancer ISIC The International Skin Imaging Collaboration/Train/actinic keratosis/output/actinic keratosis_original_ISIC_0026457.jpg_bcb14bfd-a69a-4290-893e-7f459c145e4f.jpg',\n",
       " '/content/drive/MyDrive/Skin cancer ISIC The International Skin Imaging Collaboration/Train/actinic keratosis/output/actinic keratosis_original_ISIC_0029025.jpg_7d59d313-c69a-442d-9120-0fa2432ba05f.jpg',\n",
       " '/content/drive/MyDrive/Skin cancer ISIC The International Skin Imaging Collaboration/Train/actinic keratosis/output/actinic keratosis_original_ISIC_0027884.jpg_ae826a8f-acea-4821-aba7-8614f3db050b.jpg',\n",
       " '/content/drive/MyDrive/Skin cancer ISIC The International Skin Imaging Collaboration/Train/actinic keratosis/output/actinic keratosis_original_ISIC_0030463.jpg_5934608d-e7a4-42f3-b5ab-914fbc550858.jpg',\n",
       " '/content/drive/MyDrive/Skin cancer ISIC The International Skin Imaging Collaboration/Train/actinic keratosis/output/actinic keratosis_original_ISIC_0028314.jpg_915cee69-1397-4d3b-a909-f2e5c88a7863.jpg',\n",
       " '/content/drive/MyDrive/Skin cancer ISIC The International Skin Imaging Collaboration/Train/actinic keratosis/output/actinic keratosis_original_ISIC_0026468.jpg_c3ef0daf-8b31-4570-9b49-49d8ccf38a95.jpg',\n",
       " '/content/drive/MyDrive/Skin cancer ISIC The International Skin Imaging Collaboration/Train/actinic keratosis/output/actinic keratosis_original_ISIC_0027536.jpg_e1f12df5-d032-4ab3-b279-441db7dbc92c.jpg',\n",
       " '/content/drive/MyDrive/Skin cancer ISIC The International Skin Imaging Collaboration/Train/actinic keratosis/output/actinic keratosis_original_ISIC_0026650.jpg_eaf9359a-24e9-47c7-b128-841f1a907f8a.jpg',\n",
       " '/content/drive/MyDrive/Skin cancer ISIC The International Skin Imaging Collaboration/Train/actinic keratosis/output/actinic keratosis_original_ISIC_0028370.jpg_3532a6a9-449b-4b07-8ca3-9bdf44cd0789.jpg',\n",
       " '/content/drive/MyDrive/Skin cancer ISIC The International Skin Imaging Collaboration/Train/actinic keratosis/output/actinic keratosis_original_ISIC_0028190.jpg_d89ff2e2-c4aa-4962-b8ce-938c7eae9183.jpg',\n",
       " '/content/drive/MyDrive/Skin cancer ISIC The International Skin Imaging Collaboration/Train/actinic keratosis/output/actinic keratosis_original_ISIC_0031108.jpg_b4a453ec-107b-40f1-836d-5a3fea89fcd3.jpg',\n",
       " '/content/drive/MyDrive/Skin cancer ISIC The International Skin Imaging Collaboration/Train/actinic keratosis/output/actinic keratosis_original_ISIC_0029460.jpg_a6885897-655a-46eb-8e31-faac49993af3.jpg',\n",
       " '/content/drive/MyDrive/Skin cancer ISIC The International Skin Imaging Collaboration/Train/actinic keratosis/output/actinic keratosis_original_ISIC_0027334.jpg_4c2e9b73-2a8f-4452-99cb-9945b7178189.jpg',\n",
       " '/content/drive/MyDrive/Skin cancer ISIC The International Skin Imaging Collaboration/Train/actinic keratosis/output/actinic keratosis_original_ISIC_0033866.jpg_8112daac-f1d1-4128-8aa6-3f8e3dbee664.jpg',\n",
       " '/content/drive/MyDrive/Skin cancer ISIC The International Skin Imaging Collaboration/Train/actinic keratosis/output/actinic keratosis_original_ISIC_0030408.jpg_dc96f154-e5c4-4dd3-a724-b3d1ac29fb6e.jpg',\n",
       " '/content/drive/MyDrive/Skin cancer ISIC The International Skin Imaging Collaboration/Train/actinic keratosis/output/actinic keratosis_original_ISIC_0027615.jpg_afaa5f0a-487e-4ae9-bbb9-5f9758414eb6.jpg',\n",
       " '/content/drive/MyDrive/Skin cancer ISIC The International Skin Imaging Collaboration/Train/actinic keratosis/output/actinic keratosis_original_ISIC_0031381.jpg_439c7a4c-4c86-49fa-bd13-f80d9988d176.jpg',\n",
       " '/content/drive/MyDrive/Skin cancer ISIC The International Skin Imaging Collaboration/Train/actinic keratosis/output/actinic keratosis_original_ISIC_0027254.jpg_e95d5de9-aa0a-4201-8d27-b1b96cdb1bc3.jpg',\n",
       " '/content/drive/MyDrive/Skin cancer ISIC The International Skin Imaging Collaboration/Train/actinic keratosis/output/actinic keratosis_original_ISIC_0029500.jpg_3ac36f6e-4dd9-491a-9950-e579ee9f46ea.jpg',\n",
       " '/content/drive/MyDrive/Skin cancer ISIC The International Skin Imaging Collaboration/Train/actinic keratosis/output/actinic keratosis_original_ISIC_0026984.jpg_57287f67-d1d6-4eb4-b0d8-3dae0001191c.jpg',\n",
       " '/content/drive/MyDrive/Skin cancer ISIC The International Skin Imaging Collaboration/Train/actinic keratosis/output/actinic keratosis_original_ISIC_0026457.jpg_43b0bf8e-0d85-4ec7-a56c-ae8554a0c6ca.jpg',\n",
       " '/content/drive/MyDrive/Skin cancer ISIC The International Skin Imaging Collaboration/Train/actinic keratosis/output/actinic keratosis_original_ISIC_0030730.jpg_cdcc3c19-f957-4499-a021-d34d25857c8d.jpg',\n",
       " '/content/drive/MyDrive/Skin cancer ISIC The International Skin Imaging Collaboration/Train/actinic keratosis/output/actinic keratosis_original_ISIC_0029900.jpg_361b28a7-35ef-446c-bdb5-f870456eab75.jpg',\n",
       " '/content/drive/MyDrive/Skin cancer ISIC The International Skin Imaging Collaboration/Train/actinic keratosis/output/actinic keratosis_original_ISIC_0029133.jpg_e3e29190-bccd-4d8f-a13d-53cd2461618e.jpg',\n",
       " '/content/drive/MyDrive/Skin cancer ISIC The International Skin Imaging Collaboration/Train/actinic keratosis/output/actinic keratosis_original_ISIC_0032854.jpg_08ef67d8-84e7-4bc7-b3bf-75a94a3612ee.jpg',\n",
       " '/content/drive/MyDrive/Skin cancer ISIC The International Skin Imaging Collaboration/Train/actinic keratosis/output/actinic keratosis_original_ISIC_0029915.jpg_c1569af3-1e91-4747-baab-dca6d9741f41.jpg',\n",
       " '/content/drive/MyDrive/Skin cancer ISIC The International Skin Imaging Collaboration/Train/actinic keratosis/output/actinic keratosis_original_ISIC_0026905.jpg_d370116f-9442-411a-8113-0c1eceb57bbc.jpg',\n",
       " '/content/drive/MyDrive/Skin cancer ISIC The International Skin Imaging Collaboration/Train/actinic keratosis/output/actinic keratosis_original_ISIC_0031609.jpg_a13999db-1055-4515-99a1-b97b9f2be649.jpg',\n",
       " '/content/drive/MyDrive/Skin cancer ISIC The International Skin Imaging Collaboration/Train/actinic keratosis/output/actinic keratosis_original_ISIC_0029827.jpg_8df01071-7266-4ae5-9361-fc4a3666ada9.jpg',\n",
       " '/content/drive/MyDrive/Skin cancer ISIC The International Skin Imaging Collaboration/Train/actinic keratosis/output/actinic keratosis_original_ISIC_0026457.jpg_ead514e9-a99a-4950-abc2-79def618a3c0.jpg',\n",
       " '/content/drive/MyDrive/Skin cancer ISIC The International Skin Imaging Collaboration/Train/actinic keratosis/output/actinic keratosis_original_ISIC_0030133.jpg_406bd4e9-83cf-4258-aabe-716458369735.jpg',\n",
       " '/content/drive/MyDrive/Skin cancer ISIC The International Skin Imaging Collaboration/Train/actinic keratosis/output/actinic keratosis_original_ISIC_0026468.jpg_f0517114-241f-42b7-8859-12d9efd4dcaa.jpg',\n",
       " '/content/drive/MyDrive/Skin cancer ISIC The International Skin Imaging Collaboration/Train/actinic keratosis/output/actinic keratosis_original_ISIC_0031993.jpg_2a52e10e-6606-4138-bc8b-9c3088f7abb9.jpg',\n",
       " '/content/drive/MyDrive/Skin cancer ISIC The International Skin Imaging Collaboration/Train/actinic keratosis/output/actinic keratosis_original_ISIC_0030142.jpg_cce974f0-f24a-4551-9d0c-4a3b7c1949ec.jpg',\n",
       " '/content/drive/MyDrive/Skin cancer ISIC The International Skin Imaging Collaboration/Train/actinic keratosis/output/actinic keratosis_original_ISIC_0028076.jpg_bce2b5fe-79cd-40c1-8842-c15c99a73c4f.jpg',\n",
       " '/content/drive/MyDrive/Skin cancer ISIC The International Skin Imaging Collaboration/Train/actinic keratosis/output/actinic keratosis_original_ISIC_0032404.jpg_adb31741-6554-4855-9643-0e1f30c63f6c.jpg',\n",
       " '/content/drive/MyDrive/Skin cancer ISIC The International Skin Imaging Collaboration/Train/actinic keratosis/output/actinic keratosis_original_ISIC_0027254.jpg_be600c24-03e0-4f3b-a459-c408a02bae23.jpg',\n",
       " '/content/drive/MyDrive/Skin cancer ISIC The International Skin Imaging Collaboration/Train/actinic keratosis/output/actinic keratosis_original_ISIC_0031993.jpg_d8985f0a-5f57-4417-a0ca-93320b2e97b6.jpg',\n",
       " '/content/drive/MyDrive/Skin cancer ISIC The International Skin Imaging Collaboration/Train/actinic keratosis/output/actinic keratosis_original_ISIC_0026702.jpg_669109d0-a608-452d-8ac9-78b5b439eafa.jpg',\n",
       " '/content/drive/MyDrive/Skin cancer ISIC The International Skin Imaging Collaboration/Train/actinic keratosis/output/actinic keratosis_original_ISIC_0031430.jpg_68c3c655-8dc8-4acd-97db-a14065729edf.jpg',\n",
       " '/content/drive/MyDrive/Skin cancer ISIC The International Skin Imaging Collaboration/Train/actinic keratosis/output/actinic keratosis_original_ISIC_0027668.jpg_3860c31b-bc6c-4928-819e-2f8eda744ed4.jpg',\n",
       " '/content/drive/MyDrive/Skin cancer ISIC The International Skin Imaging Collaboration/Train/actinic keratosis/output/actinic keratosis_original_ISIC_0026457.jpg_a9bb094e-2abc-4f9d-abf9-b5581ae8f8d3.jpg',\n",
       " '/content/drive/MyDrive/Skin cancer ISIC The International Skin Imaging Collaboration/Train/actinic keratosis/output/actinic keratosis_original_ISIC_0032404.jpg_1a4706d6-ed8b-49be-83c7-f308c48a60bf.jpg',\n",
       " '/content/drive/MyDrive/Skin cancer ISIC The International Skin Imaging Collaboration/Train/actinic keratosis/output/actinic keratosis_original_ISIC_0029827.jpg_78af85be-7abf-4d80-8be5-6182602b3b09.jpg',\n",
       " '/content/drive/MyDrive/Skin cancer ISIC The International Skin Imaging Collaboration/Train/actinic keratosis/output/actinic keratosis_original_ISIC_0031381.jpg_44390f5e-7082-4808-be16-ecc87ff741d2.jpg',\n",
       " '/content/drive/MyDrive/Skin cancer ISIC The International Skin Imaging Collaboration/Train/actinic keratosis/output/actinic keratosis_original_ISIC_0026457.jpg_a3032cab-af29-4e12-8d17-d3f3b5f61f99.jpg',\n",
       " '/content/drive/MyDrive/Skin cancer ISIC The International Skin Imaging Collaboration/Train/actinic keratosis/output/actinic keratosis_original_ISIC_0025992.jpg_2b619b6b-4862-4471-8353-718d77d12f81.jpg',\n",
       " '/content/drive/MyDrive/Skin cancer ISIC The International Skin Imaging Collaboration/Train/actinic keratosis/output/actinic keratosis_original_ISIC_0028314.jpg_80b0a85a-1510-46c2-b577-8f8abb7db5c7.jpg',\n",
       " '/content/drive/MyDrive/Skin cancer ISIC The International Skin Imaging Collaboration/Train/actinic keratosis/output/actinic keratosis_original_ISIC_0028990.jpg_2f8886b7-f83b-4e5e-9c2f-888dfcf958c4.jpg',\n",
       " '/content/drive/MyDrive/Skin cancer ISIC The International Skin Imaging Collaboration/Train/actinic keratosis/output/actinic keratosis_original_ISIC_0025825.jpg_052fa7ab-46bf-408c-8281-a9491d031082.jpg',\n",
       " '/content/drive/MyDrive/Skin cancer ISIC The International Skin Imaging Collaboration/Train/actinic keratosis/output/actinic keratosis_original_ISIC_0029133.jpg_983aed16-d29d-4510-a809-dab0271eadd0.jpg',\n",
       " '/content/drive/MyDrive/Skin cancer ISIC The International Skin Imaging Collaboration/Train/actinic keratosis/output/actinic keratosis_original_ISIC_0030242.jpg_db92228e-3b5a-472f-ac57-2358808e395d.jpg',\n",
       " '/content/drive/MyDrive/Skin cancer ISIC The International Skin Imaging Collaboration/Train/actinic keratosis/output/actinic keratosis_original_ISIC_0027254.jpg_c805c409-003e-4c8f-845e-a45285a8b231.jpg',\n",
       " '/content/drive/MyDrive/Skin cancer ISIC The International Skin Imaging Collaboration/Train/actinic keratosis/output/actinic keratosis_original_ISIC_0026626.jpg_52a3b059-56a8-4363-89e8-e16581471bad.jpg',\n",
       " '/content/drive/MyDrive/Skin cancer ISIC The International Skin Imaging Collaboration/Train/actinic keratosis/output/actinic keratosis_original_ISIC_0030877.jpg_2a708afc-598a-4401-ac97-310732e7c45c.jpg',\n",
       " '/content/drive/MyDrive/Skin cancer ISIC The International Skin Imaging Collaboration/Train/actinic keratosis/output/actinic keratosis_original_ISIC_0027172.jpg_57c2c39d-660c-4185-836b-430879143d91.jpg',\n",
       " '/content/drive/MyDrive/Skin cancer ISIC The International Skin Imaging Collaboration/Train/actinic keratosis/output/actinic keratosis_original_ISIC_0033494.jpg_e7ac434e-4c16-48da-9b24-1f0dd74efd7f.jpg',\n",
       " '/content/drive/MyDrive/Skin cancer ISIC The International Skin Imaging Collaboration/Train/actinic keratosis/output/actinic keratosis_original_ISIC_0029210.jpg_69bf0322-95fd-4e7c-b60b-4b78bdaa2acf.jpg',\n",
       " '/content/drive/MyDrive/Skin cancer ISIC The International Skin Imaging Collaboration/Train/actinic keratosis/output/actinic keratosis_original_ISIC_0027615.jpg_ce4b0217-e495-4ad6-ab26-582e99e9cf1c.jpg',\n",
       " '/content/drive/MyDrive/Skin cancer ISIC The International Skin Imaging Collaboration/Train/actinic keratosis/output/actinic keratosis_original_ISIC_0028190.jpg_1250d283-2e5e-41fa-9be6-5970c534cc9f.jpg',\n",
       " '/content/drive/MyDrive/Skin cancer ISIC The International Skin Imaging Collaboration/Train/actinic keratosis/output/actinic keratosis_original_ISIC_0029830.jpg_077b3a3d-7799-4328-9b9d-b590716f57e7.jpg',\n",
       " '/content/drive/MyDrive/Skin cancer ISIC The International Skin Imaging Collaboration/Train/actinic keratosis/output/actinic keratosis_original_ISIC_0026468.jpg_285da319-c723-482f-be2e-96ac4a59cff6.jpg',\n",
       " '/content/drive/MyDrive/Skin cancer ISIC The International Skin Imaging Collaboration/Train/actinic keratosis/output/actinic keratosis_original_ISIC_0025803.jpg_b9bc9861-0bb8-4bae-af78-922280d76a7e.jpg',\n",
       " '/content/drive/MyDrive/Skin cancer ISIC The International Skin Imaging Collaboration/Train/actinic keratosis/output/actinic keratosis_original_ISIC_0026709.jpg_3245fd37-40bd-45df-84ae-dcdac98c0c69.jpg',\n",
       " '/content/drive/MyDrive/Skin cancer ISIC The International Skin Imaging Collaboration/Train/actinic keratosis/output/actinic keratosis_original_ISIC_0031381.jpg_68cdf01d-1905-4a30-a60e-5a93ca867987.jpg',\n",
       " '/content/drive/MyDrive/Skin cancer ISIC The International Skin Imaging Collaboration/Train/actinic keratosis/output/actinic keratosis_original_ISIC_0029840.jpg_38679cda-1b43-4087-8e0b-153ca3d5652b.jpg',\n",
       " '/content/drive/MyDrive/Skin cancer ISIC The International Skin Imaging Collaboration/Train/actinic keratosis/output/actinic keratosis_original_ISIC_0029041.jpg_66cea8c1-8b82-4148-8758-8359eaed47b3.jpg',\n",
       " '/content/drive/MyDrive/Skin cancer ISIC The International Skin Imaging Collaboration/Train/actinic keratosis/output/actinic keratosis_original_ISIC_0027615.jpg_156af3f7-d7cf-43dc-8f51-cbfd732ff54c.jpg',\n",
       " '/content/drive/MyDrive/Skin cancer ISIC The International Skin Imaging Collaboration/Train/actinic keratosis/output/actinic keratosis_original_ISIC_0029133.jpg_67ee39e4-1d44-4656-8f48-d6a770fa0110.jpg',\n",
       " '/content/drive/MyDrive/Skin cancer ISIC The International Skin Imaging Collaboration/Train/actinic keratosis/output/actinic keratosis_original_ISIC_0025992.jpg_b9ab37b8-9a4b-495a-a244-e376e5fe70ad.jpg',\n",
       " '/content/drive/MyDrive/Skin cancer ISIC The International Skin Imaging Collaboration/Train/actinic keratosis/output/actinic keratosis_original_ISIC_0025780.jpg_184fa7d1-eb54-4e60-8804-7146219ec2d7.jpg',\n",
       " '/content/drive/MyDrive/Skin cancer ISIC The International Skin Imaging Collaboration/Train/actinic keratosis/output/actinic keratosis_original_ISIC_0026905.jpg_3ce410bf-40e5-4d38-9183-33a6fc2c626f.jpg',\n",
       " '/content/drive/MyDrive/Skin cancer ISIC The International Skin Imaging Collaboration/Train/actinic keratosis/output/actinic keratosis_original_ISIC_0026729.jpg_cff4b5ee-02a6-4422-8174-9043393c0e2e.jpg',\n",
       " '/content/drive/MyDrive/Skin cancer ISIC The International Skin Imaging Collaboration/Train/actinic keratosis/output/actinic keratosis_original_ISIC_0030036.jpg_c3b8602e-4e8b-436e-bdb5-3716dfb8eaaa.jpg',\n",
       " '/content/drive/MyDrive/Skin cancer ISIC The International Skin Imaging Collaboration/Train/actinic keratosis/output/actinic keratosis_original_ISIC_0032199.jpg_9112a49c-56dc-481b-a2d1-9f2bcfc53707.jpg',\n",
       " '/content/drive/MyDrive/Skin cancer ISIC The International Skin Imaging Collaboration/Train/actinic keratosis/output/actinic keratosis_original_ISIC_0030730.jpg_84418f90-9f66-4c74-abdf-064c9f516ed2.jpg',\n",
       " '/content/drive/MyDrive/Skin cancer ISIC The International Skin Imaging Collaboration/Train/actinic keratosis/output/actinic keratosis_original_ISIC_0030344.jpg_a5aafcf6-a2c9-4b29-b66f-c1d0fabe6ad2.jpg',\n",
       " '/content/drive/MyDrive/Skin cancer ISIC The International Skin Imaging Collaboration/Train/actinic keratosis/output/actinic keratosis_original_ISIC_0030826.jpg_e916093f-5875-4a8f-a6be-fe87508b889a.jpg',\n",
       " '/content/drive/MyDrive/Skin cancer ISIC The International Skin Imaging Collaboration/Train/actinic keratosis/output/actinic keratosis_original_ISIC_0029827.jpg_486f92e2-3ef7-4923-811d-e6b50d1c2346.jpg',\n",
       " '/content/drive/MyDrive/Skin cancer ISIC The International Skin Imaging Collaboration/Train/actinic keratosis/output/actinic keratosis_original_ISIC_0029041.jpg_f56b2e1e-41da-4b26-a2c1-278ba1f8780e.jpg',\n",
       " '/content/drive/MyDrive/Skin cancer ISIC The International Skin Imaging Collaboration/Train/actinic keratosis/output/actinic keratosis_original_ISIC_0026525.jpg_b1248580-3722-4945-b2b7-b7459e5ac233.jpg',\n",
       " '/content/drive/MyDrive/Skin cancer ISIC The International Skin Imaging Collaboration/Train/actinic keratosis/output/actinic keratosis_original_ISIC_0027580.jpg_a68e7b80-1c58-4a79-8b96-b63445e2d55a.jpg',\n",
       " '/content/drive/MyDrive/Skin cancer ISIC The International Skin Imaging Collaboration/Train/actinic keratosis/output/actinic keratosis_original_ISIC_0026040.jpg_732a16cf-7db9-4fed-89b9-61d1907a8375.jpg',\n",
       " '/content/drive/MyDrive/Skin cancer ISIC The International Skin Imaging Collaboration/Train/actinic keratosis/output/actinic keratosis_original_ISIC_0026857.jpg_42d1ac4e-3985-4d95-a74b-7e2d6d3b3797.jpg',\n",
       " '/content/drive/MyDrive/Skin cancer ISIC The International Skin Imaging Collaboration/Train/actinic keratosis/output/actinic keratosis_original_ISIC_0032404.jpg_a2b007f1-d6dc-4a09-b261-bd245c67621e.jpg',\n",
       " '/content/drive/MyDrive/Skin cancer ISIC The International Skin Imaging Collaboration/Train/actinic keratosis/output/actinic keratosis_original_ISIC_0027884.jpg_a898bcb1-cf42-4ace-bd29-1b92f9bffab1.jpg',\n",
       " '/content/drive/MyDrive/Skin cancer ISIC The International Skin Imaging Collaboration/Train/actinic keratosis/output/actinic keratosis_original_ISIC_0030586.jpg_1368b880-bee4-4d5f-9432-96a9dfaded8f.jpg',\n",
       " '/content/drive/MyDrive/Skin cancer ISIC The International Skin Imaging Collaboration/Train/actinic keratosis/output/actinic keratosis_original_ISIC_0030242.jpg_7c66038e-8a26-4d66-ad7f-fc0d2cbe945a.jpg',\n",
       " '/content/drive/MyDrive/Skin cancer ISIC The International Skin Imaging Collaboration/Train/actinic keratosis/output/actinic keratosis_original_ISIC_0031506.jpg_5750afbf-4837-4f11-aec8-e1557b5b3090.jpg',\n",
       " '/content/drive/MyDrive/Skin cancer ISIC The International Skin Imaging Collaboration/Train/actinic keratosis/output/actinic keratosis_original_ISIC_0031335.jpg_dd41f4d3-9126-49ee-aae9-ebc3c457dc58.jpg',\n",
       " '/content/drive/MyDrive/Skin cancer ISIC The International Skin Imaging Collaboration/Train/actinic keratosis/output/actinic keratosis_original_ISIC_0033151.jpg_27750643-ab4e-4374-b559-8c243713a28f.jpg',\n",
       " '/content/drive/MyDrive/Skin cancer ISIC The International Skin Imaging Collaboration/Train/actinic keratosis/output/actinic keratosis_original_ISIC_0031993.jpg_078471de-72b1-4c36-a47d-7fe9d17dd598.jpg',\n",
       " '/content/drive/MyDrive/Skin cancer ISIC The International Skin Imaging Collaboration/Train/actinic keratosis/output/actinic keratosis_original_ISIC_0026525.jpg_a3ff0d61-22d6-4ad9-9fbe-9d2069c7386d.jpg',\n",
       " '/content/drive/MyDrive/Skin cancer ISIC The International Skin Imaging Collaboration/Train/actinic keratosis/output/actinic keratosis_original_ISIC_0025992.jpg_f4f11c09-e388-4778-8d34-98639f249773.jpg',\n",
       " '/content/drive/MyDrive/Skin cancer ISIC The International Skin Imaging Collaboration/Train/actinic keratosis/output/actinic keratosis_original_ISIC_0027452.jpg_69038eca-2e4b-42e5-ad32-e0c27c0ac878.jpg',\n",
       " '/content/drive/MyDrive/Skin cancer ISIC The International Skin Imaging Collaboration/Train/actinic keratosis/output/actinic keratosis_original_ISIC_0026457.jpg_09951821-118e-46ca-ad92-d9df9b88d2b8.jpg',\n",
       " '/content/drive/MyDrive/Skin cancer ISIC The International Skin Imaging Collaboration/Train/actinic keratosis/output/actinic keratosis_original_ISIC_0027447.jpg_02719056-e5fa-45d0-9d09-7eda37bec80c.jpg',\n",
       " '/content/drive/MyDrive/Skin cancer ISIC The International Skin Imaging Collaboration/Train/actinic keratosis/output/actinic keratosis_original_ISIC_0027958.jpg_02cb4997-a3f4-42a8-b3b4-0c8cd756c579.jpg',\n",
       " '/content/drive/MyDrive/Skin cancer ISIC The International Skin Imaging Collaboration/Train/actinic keratosis/output/actinic keratosis_original_ISIC_0032422.jpg_f866e978-3884-49f2-91d3-41e548576c50.jpg',\n",
       " '/content/drive/MyDrive/Skin cancer ISIC The International Skin Imaging Collaboration/Train/actinic keratosis/output/actinic keratosis_original_ISIC_0026040.jpg_c0da0fc9-f49f-44a7-8ac5-9435f671de24.jpg',\n",
       " '/content/drive/MyDrive/Skin cancer ISIC The International Skin Imaging Collaboration/Train/actinic keratosis/output/actinic keratosis_original_ISIC_0029781.jpg_cbb92c2e-8feb-416a-8acb-e0c673dfb73e.jpg',\n",
       " '/content/drive/MyDrive/Skin cancer ISIC The International Skin Imaging Collaboration/Train/actinic keratosis/output/actinic keratosis_original_ISIC_0025780.jpg_a5b9d04d-cab5-4fc6-b5ab-dc922795790e.jpg',\n",
       " '/content/drive/MyDrive/Skin cancer ISIC The International Skin Imaging Collaboration/Train/actinic keratosis/output/actinic keratosis_original_ISIC_0026848.jpg_21eed70e-38d8-4d2c-b61f-a37d24dfa956.jpg',\n",
       " '/content/drive/MyDrive/Skin cancer ISIC The International Skin Imaging Collaboration/Train/actinic keratosis/output/actinic keratosis_original_ISIC_0030877.jpg_424b17a8-7985-4027-bd44-af95c2a369b6.jpg',\n",
       " '/content/drive/MyDrive/Skin cancer ISIC The International Skin Imaging Collaboration/Train/actinic keratosis/output/actinic keratosis_original_ISIC_0029713.jpg_bb9ef6c0-8a17-4c25-863b-d8cdeb40ee71.jpg',\n",
       " '/content/drive/MyDrive/Skin cancer ISIC The International Skin Imaging Collaboration/Train/actinic keratosis/output/actinic keratosis_original_ISIC_0030036.jpg_212eeef6-476d-4df4-8b36-a5a0461dc859.jpg',\n",
       " '/content/drive/MyDrive/Skin cancer ISIC The International Skin Imaging Collaboration/Train/actinic keratosis/output/actinic keratosis_original_ISIC_0033413.jpg_74796ee6-09d7-4521-9b13-10768fa3d5bd.jpg',\n",
       " '/content/drive/MyDrive/Skin cancer ISIC The International Skin Imaging Collaboration/Train/actinic keratosis/output/actinic keratosis_original_ISIC_0029840.jpg_c56d1d41-7cd1-4658-b296-c4816cd88d41.jpg',\n",
       " '/content/drive/MyDrive/Skin cancer ISIC The International Skin Imaging Collaboration/Train/actinic keratosis/output/actinic keratosis_original_ISIC_0030825.jpg_c33ab16c-8c55-4c16-9b50-fb73f5352175.jpg',\n",
       " '/content/drive/MyDrive/Skin cancer ISIC The International Skin Imaging Collaboration/Train/actinic keratosis/output/actinic keratosis_original_ISIC_0028517.jpg_ea5874b4-1748-4468-9154-977250759ae1.jpg',\n",
       " '/content/drive/MyDrive/Skin cancer ISIC The International Skin Imaging Collaboration/Train/actinic keratosis/output/actinic keratosis_original_ISIC_0025953.jpg_f9210068-205e-4520-b0a4-e27700f62c0c.jpg',\n",
       " '/content/drive/MyDrive/Skin cancer ISIC The International Skin Imaging Collaboration/Train/actinic keratosis/output/actinic keratosis_original_ISIC_0026194.jpg_68de1e3b-5522-4e2f-a814-e585e3a4eda2.jpg',\n",
       " '/content/drive/MyDrive/Skin cancer ISIC The International Skin Imaging Collaboration/Train/actinic keratosis/output/actinic keratosis_original_ISIC_0032199.jpg_84478092-d5a4-4158-bcca-6fb88bb71c20.jpg',\n",
       " '/content/drive/MyDrive/Skin cancer ISIC The International Skin Imaging Collaboration/Train/actinic keratosis/output/actinic keratosis_original_ISIC_0029781.jpg_cfc2eebc-fa33-4592-8759-f6a2bfd183a8.jpg',\n",
       " '/content/drive/MyDrive/Skin cancer ISIC The International Skin Imaging Collaboration/Train/actinic keratosis/output/actinic keratosis_original_ISIC_0026575.jpg_822eecee-d78d-427b-bfc9-287a712b541e.jpg',\n",
       " '/content/drive/MyDrive/Skin cancer ISIC The International Skin Imaging Collaboration/Train/actinic keratosis/output/actinic keratosis_original_ISIC_0030825.jpg_8649591a-81ad-4acc-bd71-e5950cbd28f4.jpg',\n",
       " '/content/drive/MyDrive/Skin cancer ISIC The International Skin Imaging Collaboration/Train/actinic keratosis/output/actinic keratosis_original_ISIC_0027958.jpg_f4fe2cfe-bcb7-4a5b-a77f-a3f83a1d05ad.jpg',\n",
       " '/content/drive/MyDrive/Skin cancer ISIC The International Skin Imaging Collaboration/Train/actinic keratosis/output/actinic keratosis_original_ISIC_0026905.jpg_41dc7ea9-e8b7-4817-9a5d-053548544412.jpg',\n",
       " '/content/drive/MyDrive/Skin cancer ISIC The International Skin Imaging Collaboration/Train/actinic keratosis/output/actinic keratosis_original_ISIC_0031228.jpg_db8d83dd-66dc-45e3-b1f0-2c2f40711d83.jpg',\n",
       " '/content/drive/MyDrive/Skin cancer ISIC The International Skin Imaging Collaboration/Train/actinic keratosis/output/actinic keratosis_original_ISIC_0033811.jpg_8b6514c0-0714-4acd-afca-65834680bb1a.jpg',\n",
       " '/content/drive/MyDrive/Skin cancer ISIC The International Skin Imaging Collaboration/Train/actinic keratosis/output/actinic keratosis_original_ISIC_0031430.jpg_d19fb5bd-c507-4a6f-869b-b21d01b54493.jpg',\n",
       " '/content/drive/MyDrive/Skin cancer ISIC The International Skin Imaging Collaboration/Train/actinic keratosis/output/actinic keratosis_original_ISIC_0029210.jpg_11054036-4069-4d08-91a8-6820fd73cdb0.jpg',\n",
       " '/content/drive/MyDrive/Skin cancer ISIC The International Skin Imaging Collaboration/Train/actinic keratosis/output/actinic keratosis_original_ISIC_0028990.jpg_e189c6b7-b362-406c-a9fd-5847ba434527.jpg',\n",
       " '/content/drive/MyDrive/Skin cancer ISIC The International Skin Imaging Collaboration/Train/actinic keratosis/output/actinic keratosis_original_ISIC_0028314.jpg_a7f8230a-1879-46af-b7f9-17feb008226d.jpg',\n",
       " '/content/drive/MyDrive/Skin cancer ISIC The International Skin Imaging Collaboration/Train/actinic keratosis/output/actinic keratosis_original_ISIC_0030825.jpg_b95a44c4-6183-42fa-8678-3018ac6e3fa0.jpg',\n",
       " '/content/drive/MyDrive/Skin cancer ISIC The International Skin Imaging Collaboration/Train/actinic keratosis/output/actinic keratosis_original_ISIC_0028941.jpg_3f8c9284-0b5a-4b9b-bfdb-4aa62f1d6f2b.jpg',\n",
       " '/content/drive/MyDrive/Skin cancer ISIC The International Skin Imaging Collaboration/Train/actinic keratosis/output/actinic keratosis_original_ISIC_0029141.jpg_272334e9-711f-4d58-9cbf-116f66c3e709.jpg',\n",
       " '/content/drive/MyDrive/Skin cancer ISIC The International Skin Imaging Collaboration/Train/actinic keratosis/output/actinic keratosis_original_ISIC_0026857.jpg_2bd3a680-b886-4a5f-b8a7-3c3082e4635e.jpg',\n",
       " '/content/drive/MyDrive/Skin cancer ISIC The International Skin Imaging Collaboration/Train/actinic keratosis/output/actinic keratosis_original_ISIC_0027958.jpg_d28907c7-6d37-457d-a785-2bebecc7f58d.jpg',\n",
       " '/content/drive/MyDrive/Skin cancer ISIC The International Skin Imaging Collaboration/Train/actinic keratosis/output/actinic keratosis_original_ISIC_0033866.jpg_d8c77992-04b1-4c8c-9322-fd3f7c56aaec.jpg',\n",
       " '/content/drive/MyDrive/Skin cancer ISIC The International Skin Imaging Collaboration/Train/actinic keratosis/output/actinic keratosis_original_ISIC_0027562.jpg_767f2c64-0624-4187-905e-ea2990794614.jpg',\n",
       " '/content/drive/MyDrive/Skin cancer ISIC The International Skin Imaging Collaboration/Train/actinic keratosis/output/actinic keratosis_original_ISIC_0026729.jpg_00435804-ebfa-4f21-962a-caf2b659b760.jpg',\n",
       " '/content/drive/MyDrive/Skin cancer ISIC The International Skin Imaging Collaboration/Train/actinic keratosis/output/actinic keratosis_original_ISIC_0030586.jpg_626997f4-4071-4766-8d46-9ac9fb8265dc.jpg',\n",
       " '/content/drive/MyDrive/Skin cancer ISIC The International Skin Imaging Collaboration/Train/actinic keratosis/output/actinic keratosis_original_ISIC_0032199.jpg_c137fd6b-2333-4011-82b4-2be2599d2b27.jpg',\n",
       " '/content/drive/MyDrive/Skin cancer ISIC The International Skin Imaging Collaboration/Train/actinic keratosis/output/actinic keratosis_original_ISIC_0026626.jpg_50d6d94d-86e3-4a00-a78f-580f68176963.jpg',\n",
       " '/content/drive/MyDrive/Skin cancer ISIC The International Skin Imaging Collaboration/Train/actinic keratosis/output/actinic keratosis_original_ISIC_0032854.jpg_9609e8bb-34a3-4d2a-9b9b-5651706c0c2a.jpg',\n",
       " '/content/drive/MyDrive/Skin cancer ISIC The International Skin Imaging Collaboration/Train/actinic keratosis/output/actinic keratosis_original_ISIC_0032854.jpg_6d3d2d15-9d77-43f2-a8d9-65c79c9c4c2f.jpg',\n",
       " '/content/drive/MyDrive/Skin cancer ISIC The International Skin Imaging Collaboration/Train/actinic keratosis/output/actinic keratosis_original_ISIC_0030463.jpg_1292ee7c-ba52-47cd-9923-e52bdd85e6be.jpg',\n",
       " '/content/drive/MyDrive/Skin cancer ISIC The International Skin Imaging Collaboration/Train/actinic keratosis/output/actinic keratosis_original_ISIC_0026984.jpg_0da7aa19-8760-42ce-aabf-f7c7095983e7.jpg',\n",
       " '/content/drive/MyDrive/Skin cancer ISIC The International Skin Imaging Collaboration/Train/actinic keratosis/output/actinic keratosis_original_ISIC_0027958.jpg_0d761c11-523a-437f-bca4-805021e9e7b1.jpg',\n",
       " '/content/drive/MyDrive/Skin cancer ISIC The International Skin Imaging Collaboration/Train/actinic keratosis/output/actinic keratosis_original_ISIC_0027334.jpg_b59e86ae-1984-43fe-8db4-6f8016678b54.jpg',\n",
       " '/content/drive/MyDrive/Skin cancer ISIC The International Skin Imaging Collaboration/Train/actinic keratosis/output/actinic keratosis_original_ISIC_0026575.jpg_d2653d71-d10d-4e1e-8135-010e91f37e57.jpg',\n",
       " '/content/drive/MyDrive/Skin cancer ISIC The International Skin Imaging Collaboration/Train/actinic keratosis/output/actinic keratosis_original_ISIC_0028854.jpg_85c251f4-6b72-4e87-9e4c-53c130b730d7.jpg',\n",
       " '/content/drive/MyDrive/Skin cancer ISIC The International Skin Imaging Collaboration/Train/actinic keratosis/output/actinic keratosis_original_ISIC_0031108.jpg_1c21c6de-e492-4934-9964-481ccc90e2c6.jpg',\n",
       " '/content/drive/MyDrive/Skin cancer ISIC The International Skin Imaging Collaboration/Train/actinic keratosis/output/actinic keratosis_original_ISIC_0026984.jpg_71bcf882-2c41-4fc4-b256-8520dce6d9b2.jpg',\n",
       " '/content/drive/MyDrive/Skin cancer ISIC The International Skin Imaging Collaboration/Train/actinic keratosis/output/actinic keratosis_original_ISIC_0030242.jpg_50a80871-498e-4ac7-b81f-59bbf8793896.jpg',\n",
       " '/content/drive/MyDrive/Skin cancer ISIC The International Skin Imaging Collaboration/Train/actinic keratosis/output/actinic keratosis_original_ISIC_0031228.jpg_61da82cb-0e9b-4aed-b0f8-73459393ba80.jpg',\n",
       " '/content/drive/MyDrive/Skin cancer ISIC The International Skin Imaging Collaboration/Train/actinic keratosis/output/actinic keratosis_original_ISIC_0032404.jpg_705124e9-8e50-4ade-8203-481ded68facc.jpg',\n",
       " '/content/drive/MyDrive/Skin cancer ISIC The International Skin Imaging Collaboration/Train/actinic keratosis/output/actinic keratosis_original_ISIC_0029500.jpg_c4ea0452-22f8-496d-b9ac-ea090f0906f7.jpg',\n",
       " '/content/drive/MyDrive/Skin cancer ISIC The International Skin Imaging Collaboration/Train/actinic keratosis/output/actinic keratosis_original_ISIC_0029713.jpg_4474b9ec-774e-4958-ae16-0d0e26ebae84.jpg',\n",
       " '/content/drive/MyDrive/Skin cancer ISIC The International Skin Imaging Collaboration/Train/actinic keratosis/output/actinic keratosis_original_ISIC_0026625.jpg_d17402e1-e0bd-415e-bd7f-4c20db6d44d7.jpg',\n",
       " '/content/drive/MyDrive/Skin cancer ISIC The International Skin Imaging Collaboration/Train/actinic keratosis/output/actinic keratosis_original_ISIC_0032199.jpg_07d400ce-54f6-4931-91aa-554092f931c4.jpg',\n",
       " '/content/drive/MyDrive/Skin cancer ISIC The International Skin Imaging Collaboration/Train/actinic keratosis/output/actinic keratosis_original_ISIC_0027958.jpg_9f99df38-1a0a-4de9-b048-48474ea33664.jpg',\n",
       " '/content/drive/MyDrive/Skin cancer ISIC The International Skin Imaging Collaboration/Train/actinic keratosis/output/actinic keratosis_original_ISIC_0025953.jpg_9cc0d716-5aac-46f5-969c-b9096a73c30e.jpg',\n",
       " '/content/drive/MyDrive/Skin cancer ISIC The International Skin Imaging Collaboration/Train/actinic keratosis/output/actinic keratosis_original_ISIC_0031381.jpg_ece1d34d-7c33-4043-b593-2c86e9692410.jpg',\n",
       " '/content/drive/MyDrive/Skin cancer ISIC The International Skin Imaging Collaboration/Train/actinic keratosis/output/actinic keratosis_original_ISIC_0025780.jpg_5e8f6f21-7864-47ff-ba2e-91e126bf9e47.jpg',\n",
       " '/content/drive/MyDrive/Skin cancer ISIC The International Skin Imaging Collaboration/Train/actinic keratosis/output/actinic keratosis_original_ISIC_0030143.jpg_cedaab4e-8fb8-4759-b3f4-3ccda0334240.jpg',\n",
       " '/content/drive/MyDrive/Skin cancer ISIC The International Skin Imaging Collaboration/Train/actinic keratosis/output/actinic keratosis_original_ISIC_0032135.jpg_94bb898a-2a53-4771-98b6-5cb24f34adaf.jpg',\n",
       " '/content/drive/MyDrive/Skin cancer ISIC The International Skin Imaging Collaboration/Train/actinic keratosis/output/actinic keratosis_original_ISIC_0027802.jpg_c1ef980c-548e-470d-8a00-9fa86300ef36.jpg',\n",
       " '/content/drive/MyDrive/Skin cancer ISIC The International Skin Imaging Collaboration/Train/actinic keratosis/output/actinic keratosis_original_ISIC_0033866.jpg_9f9f00a8-fe74-40f3-9150-e43b7b509d29.jpg',\n",
       " '/content/drive/MyDrive/Skin cancer ISIC The International Skin Imaging Collaboration/Train/actinic keratosis/output/actinic keratosis_original_ISIC_0030036.jpg_3b3383e2-2c9e-4d52-8214-9cb7a5c71372.jpg',\n",
       " '/content/drive/MyDrive/Skin cancer ISIC The International Skin Imaging Collaboration/Train/actinic keratosis/output/actinic keratosis_original_ISIC_0033866.jpg_cd22e479-6ac0-4fbb-9935-199dfea49c03.jpg',\n",
       " '/content/drive/MyDrive/Skin cancer ISIC The International Skin Imaging Collaboration/Train/actinic keratosis/output/actinic keratosis_original_ISIC_0028190.jpg_bacb8662-1572-4084-a132-bb0a87bbe108.jpg',\n",
       " '/content/drive/MyDrive/Skin cancer ISIC The International Skin Imaging Collaboration/Train/actinic keratosis/output/actinic keratosis_original_ISIC_0028820.jpg_9ea18170-410b-4f57-94bc-dc141d60d1e6.jpg',\n",
       " '/content/drive/MyDrive/Skin cancer ISIC The International Skin Imaging Collaboration/Train/actinic keratosis/output/actinic keratosis_original_ISIC_0032135.jpg_eaa30926-0879-4ada-ab69-444a6947af93.jpg',\n",
       " '/content/drive/MyDrive/Skin cancer ISIC The International Skin Imaging Collaboration/Train/actinic keratosis/output/actinic keratosis_original_ISIC_0028063.jpg_a2f915f7-8e28-455d-aea8-1c89b4cdcfe5.jpg',\n",
       " '/content/drive/MyDrive/Skin cancer ISIC The International Skin Imaging Collaboration/Train/actinic keratosis/output/actinic keratosis_original_ISIC_0030143.jpg_7e42529a-a908-40b6-9fd9-31a58271ea7e.jpg',\n",
       " '/content/drive/MyDrive/Skin cancer ISIC The International Skin Imaging Collaboration/Train/actinic keratosis/output/actinic keratosis_original_ISIC_0031506.jpg_0cd41a0d-6adb-498b-a6f9-152805334a05.jpg',\n",
       " '/content/drive/MyDrive/Skin cancer ISIC The International Skin Imaging Collaboration/Train/actinic keratosis/output/actinic keratosis_original_ISIC_0031430.jpg_42b45eef-bd8a-4659-939a-4efcb8145554.jpg',\n",
       " '/content/drive/MyDrive/Skin cancer ISIC The International Skin Imaging Collaboration/Train/actinic keratosis/output/actinic keratosis_original_ISIC_0031430.jpg_a571cb11-906b-4fb7-935a-20e2a610b59d.jpg',\n",
       " '/content/drive/MyDrive/Skin cancer ISIC The International Skin Imaging Collaboration/Train/actinic keratosis/output/actinic keratosis_original_ISIC_0026729.jpg_4ae44ee8-32ef-49df-a61c-a428a987a545.jpg',\n",
       " '/content/drive/MyDrive/Skin cancer ISIC The International Skin Imaging Collaboration/Train/actinic keratosis/output/actinic keratosis_original_ISIC_0029133.jpg_25be2cae-e311-4c40-8037-2e92d3eda974.jpg',\n",
       " '/content/drive/MyDrive/Skin cancer ISIC The International Skin Imaging Collaboration/Train/actinic keratosis/output/actinic keratosis_original_ISIC_0031993.jpg_bedc0ec1-3b12-4bca-b349-bbb797fe7648.jpg',\n",
       " '/content/drive/MyDrive/Skin cancer ISIC The International Skin Imaging Collaboration/Train/actinic keratosis/output/actinic keratosis_original_ISIC_0026765.jpg_5415bcb4-253a-4f2b-9819-87cdf9606819.jpg',\n",
       " '/content/drive/MyDrive/Skin cancer ISIC The International Skin Imaging Collaboration/Train/actinic keratosis/output/actinic keratosis_original_ISIC_0028558.jpg_8ab1fff7-79a3-47a7-b28b-8aecf38360f3.jpg',\n",
       " '/content/drive/MyDrive/Skin cancer ISIC The International Skin Imaging Collaboration/Train/actinic keratosis/output/actinic keratosis_original_ISIC_0030491.jpg_b08db8d7-4eb5-4ea4-8102-4deaaf751e38.jpg',\n",
       " '/content/drive/MyDrive/Skin cancer ISIC The International Skin Imaging Collaboration/Train/actinic keratosis/output/actinic keratosis_original_ISIC_0030408.jpg_6a140d78-e5b9-465c-ac24-98fad8ea5287.jpg',\n",
       " '/content/drive/MyDrive/Skin cancer ISIC The International Skin Imaging Collaboration/Train/actinic keratosis/output/actinic keratosis_original_ISIC_0031609.jpg_093d6588-1bc9-4898-b5d6-9a700dbc1577.jpg',\n",
       " '/content/drive/MyDrive/Skin cancer ISIC The International Skin Imaging Collaboration/Train/actinic keratosis/output/actinic keratosis_original_ISIC_0032206.jpg_de8c6730-cc6d-4b9c-a56e-f30b9706ea79.jpg',\n",
       " '/content/drive/MyDrive/Skin cancer ISIC The International Skin Imaging Collaboration/Train/actinic keratosis/output/actinic keratosis_original_ISIC_0030344.jpg_9176cc7e-3991-42b2-a5c2-dfc480b8e6b0.jpg',\n",
       " '/content/drive/MyDrive/Skin cancer ISIC The International Skin Imaging Collaboration/Train/actinic keratosis/output/actinic keratosis_original_ISIC_0027447.jpg_9ed49af5-cccc-40a1-8c98-869b2a97f05f.jpg',\n",
       " '/content/drive/MyDrive/Skin cancer ISIC The International Skin Imaging Collaboration/Train/actinic keratosis/output/actinic keratosis_original_ISIC_0026905.jpg_7606f9a5-9dc4-4beb-9898-a7e0c1262bb7.jpg',\n",
       " '/content/drive/MyDrive/Skin cancer ISIC The International Skin Imaging Collaboration/Train/actinic keratosis/output/actinic keratosis_original_ISIC_0032854.jpg_db9e0773-5d35-4f52-ad5a-b92afa8ce03f.jpg',\n",
       " '/content/drive/MyDrive/Skin cancer ISIC The International Skin Imaging Collaboration/Train/actinic keratosis/output/actinic keratosis_original_ISIC_0026905.jpg_6906bcd8-960b-4d09-8e4c-1f9d9d3c405b.jpg',\n",
       " '/content/drive/MyDrive/Skin cancer ISIC The International Skin Imaging Collaboration/Train/actinic keratosis/output/actinic keratosis_original_ISIC_0026848.jpg_91f028df-687f-462e-aef9-52c8252dc1bb.jpg',\n",
       " '/content/drive/MyDrive/Skin cancer ISIC The International Skin Imaging Collaboration/Train/actinic keratosis/output/actinic keratosis_original_ISIC_0030825.jpg_6d730a3b-a51e-41bd-8868-6cc7464924a2.jpg',\n",
       " '/content/drive/MyDrive/Skin cancer ISIC The International Skin Imaging Collaboration/Train/actinic keratosis/output/actinic keratosis_original_ISIC_0031108.jpg_919b32c8-a7d9-44a2-82bb-a75b22032ff2.jpg',\n",
       " '/content/drive/MyDrive/Skin cancer ISIC The International Skin Imaging Collaboration/Train/actinic keratosis/output/actinic keratosis_original_ISIC_0027536.jpg_a3af3ce0-4616-4942-9f57-e62db682863d.jpg',\n",
       " '/content/drive/MyDrive/Skin cancer ISIC The International Skin Imaging Collaboration/Train/actinic keratosis/output/actinic keratosis_original_ISIC_0028190.jpg_a254a35e-7977-4faa-a59c-fea6fccdbbdf.jpg',\n",
       " '/content/drive/MyDrive/Skin cancer ISIC The International Skin Imaging Collaboration/Train/actinic keratosis/output/actinic keratosis_original_ISIC_0025780.jpg_e1e2e154-71a7-43b4-859e-2296a6ace543.jpg',\n",
       " '/content/drive/MyDrive/Skin cancer ISIC The International Skin Imaging Collaboration/Train/actinic keratosis/output/actinic keratosis_original_ISIC_0033811.jpg_8ae48af1-2683-4fb2-acbf-8028ef376171.jpg',\n",
       " '/content/drive/MyDrive/Skin cancer ISIC The International Skin Imaging Collaboration/Train/actinic keratosis/output/actinic keratosis_original_ISIC_0030586.jpg_da246a7e-a295-4c0e-934e-c49c27f8ef02.jpg',\n",
       " '/content/drive/MyDrive/Skin cancer ISIC The International Skin Imaging Collaboration/Train/actinic keratosis/output/actinic keratosis_original_ISIC_0026765.jpg_4f52cded-5b00-4cad-9631-81d70ae0bb05.jpg',\n",
       " '/content/drive/MyDrive/Skin cancer ISIC The International Skin Imaging Collaboration/Train/actinic keratosis/output/actinic keratosis_original_ISIC_0031335.jpg_af6c0efb-9cb6-49f7-bbf7-652cfee49803.jpg',\n",
       " '/content/drive/MyDrive/Skin cancer ISIC The International Skin Imaging Collaboration/Train/actinic keratosis/output/actinic keratosis_original_ISIC_0030143.jpg_9363bdf5-6fd7-476d-a6cc-6e6162c5fdda.jpg',\n",
       " '/content/drive/MyDrive/Skin cancer ISIC The International Skin Imaging Collaboration/Train/actinic keratosis/output/actinic keratosis_original_ISIC_0027452.jpg_98846d0f-b7a0-4f4a-9dd3-ee40a2222b79.jpg',\n",
       " '/content/drive/MyDrive/Skin cancer ISIC The International Skin Imaging Collaboration/Train/actinic keratosis/output/actinic keratosis_original_ISIC_0030825.jpg_90576a06-3d61-4fee-b65e-c30a3b93f19c.jpg',\n",
       " '/content/drive/MyDrive/Skin cancer ISIC The International Skin Imaging Collaboration/Train/actinic keratosis/output/actinic keratosis_original_ISIC_0025803.jpg_14f611f6-808d-4172-a0be-81fcd933353a.jpg',\n",
       " '/content/drive/MyDrive/Skin cancer ISIC The International Skin Imaging Collaboration/Train/actinic keratosis/output/actinic keratosis_original_ISIC_0029659.jpg_42f5d5ca-4a22-4675-be58-3974dc301fc0.jpg',\n",
       " '/content/drive/MyDrive/Skin cancer ISIC The International Skin Imaging Collaboration/Train/actinic keratosis/output/actinic keratosis_original_ISIC_0029827.jpg_21448e9f-c1de-4fd4-addd-5d32ceffe97f.jpg',\n",
       " '/content/drive/MyDrive/Skin cancer ISIC The International Skin Imaging Collaboration/Train/actinic keratosis/output/actinic keratosis_original_ISIC_0031430.jpg_fd3e001e-0707-4d91-9448-e1623d3cb73d.jpg',\n",
       " '/content/drive/MyDrive/Skin cancer ISIC The International Skin Imaging Collaboration/Train/actinic keratosis/output/actinic keratosis_original_ISIC_0027650.jpg_6c8a2d24-168d-4edb-a670-79a47bc10cba.jpg',\n",
       " '/content/drive/MyDrive/Skin cancer ISIC The International Skin Imaging Collaboration/Train/actinic keratosis/output/actinic keratosis_original_ISIC_0031922.jpg_6ff78938-5dd8-4118-a7b4-29acbd2fadea.jpg',\n",
       " '/content/drive/MyDrive/Skin cancer ISIC The International Skin Imaging Collaboration/Train/actinic keratosis/output/actinic keratosis_original_ISIC_0028076.jpg_845580ff-75d5-47d3-b529-cea2126678e7.jpg',\n",
       " '/content/drive/MyDrive/Skin cancer ISIC The International Skin Imaging Collaboration/Train/actinic keratosis/output/actinic keratosis_original_ISIC_0030344.jpg_bd06f3a7-775d-4aa7-9faf-379ece9581f8.jpg',\n",
       " '/content/drive/MyDrive/Skin cancer ISIC The International Skin Imaging Collaboration/Train/actinic keratosis/output/actinic keratosis_original_ISIC_0033705.jpg_732e8046-a517-4848-9a92-9579a84758fc.jpg',\n",
       " '/content/drive/MyDrive/Skin cancer ISIC The International Skin Imaging Collaboration/Train/actinic keratosis/output/actinic keratosis_original_ISIC_0028370.jpg_52792da6-0f65-4ed6-a42a-5d4f7cb1380c.jpg',\n",
       " '/content/drive/MyDrive/Skin cancer ISIC The International Skin Imaging Collaboration/Train/actinic keratosis/output/actinic keratosis_original_ISIC_0025780.jpg_d3302d6e-4e62-44a2-b7ba-5ecf35686c3a.jpg',\n",
       " '/content/drive/MyDrive/Skin cancer ISIC The International Skin Imaging Collaboration/Train/actinic keratosis/output/actinic keratosis_original_ISIC_0027958.jpg_a684aa54-c03e-498c-a2aa-1af1a4fb56b6.jpg',\n",
       " '/content/drive/MyDrive/Skin cancer ISIC The International Skin Imaging Collaboration/Train/actinic keratosis/output/actinic keratosis_original_ISIC_0033456.jpg_f055f355-12ee-4dce-8668-5075cf7e2e5e.jpg',\n",
       " '/content/drive/MyDrive/Skin cancer ISIC The International Skin Imaging Collaboration/Train/actinic keratosis/output/actinic keratosis_original_ISIC_0030825.jpg_7f69a6c5-c567-4c1f-b105-bb9582f474a4.jpg',\n",
       " '/content/drive/MyDrive/Skin cancer ISIC The International Skin Imaging Collaboration/Train/actinic keratosis/output/actinic keratosis_original_ISIC_0026765.jpg_362b6059-c42c-4905-8b51-99ba0677591c.jpg',\n",
       " '/content/drive/MyDrive/Skin cancer ISIC The International Skin Imaging Collaboration/Train/actinic keratosis/output/actinic keratosis_original_ISIC_0031609.jpg_e540ec3a-c90b-4750-bd6f-4ace07598c54.jpg',\n",
       " '/content/drive/MyDrive/Skin cancer ISIC The International Skin Imaging Collaboration/Train/actinic keratosis/output/actinic keratosis_original_ISIC_0033866.jpg_656c5ffb-71cd-45bd-b22c-9195b47f83e0.jpg',\n",
       " '/content/drive/MyDrive/Skin cancer ISIC The International Skin Imaging Collaboration/Train/actinic keratosis/output/actinic keratosis_original_ISIC_0028941.jpg_a817f620-1c43-4470-9f02-0f261adafa5e.jpg',\n",
       " '/content/drive/MyDrive/Skin cancer ISIC The International Skin Imaging Collaboration/Train/actinic keratosis/output/actinic keratosis_original_ISIC_0028190.jpg_eb60d8fd-6428-4df8-9ad5-9acc1c06e587.jpg',\n",
       " '/content/drive/MyDrive/Skin cancer ISIC The International Skin Imaging Collaboration/Train/actinic keratosis/output/actinic keratosis_original_ISIC_0026194.jpg_e00bc151-6afc-4bc6-bba0-f3f0a8078813.jpg',\n",
       " '/content/drive/MyDrive/Skin cancer ISIC The International Skin Imaging Collaboration/Train/actinic keratosis/output/actinic keratosis_original_ISIC_0030036.jpg_9416e443-1e9a-477e-8766-127048d8ddbf.jpg',\n",
       " '/content/drive/MyDrive/Skin cancer ISIC The International Skin Imaging Collaboration/Train/actinic keratosis/output/actinic keratosis_original_ISIC_0031381.jpg_f5631cba-2644-4d89-9d03-66cb419112e4.jpg',\n",
       " '/content/drive/MyDrive/Skin cancer ISIC The International Skin Imaging Collaboration/Train/actinic keratosis/output/actinic keratosis_original_ISIC_0030408.jpg_0843f299-96f3-4b0c-823f-866ea9dbe03a.jpg',\n",
       " '/content/drive/MyDrive/Skin cancer ISIC The International Skin Imaging Collaboration/Train/actinic keratosis/output/actinic keratosis_original_ISIC_0029460.jpg_d9684bdb-05fe-4855-975a-a86ed2f36398.jpg',\n",
       " '/content/drive/MyDrive/Skin cancer ISIC The International Skin Imaging Collaboration/Train/actinic keratosis/output/actinic keratosis_original_ISIC_0026626.jpg_da9f3691-c4e3-4804-9801-84fbc6862f89.jpg',\n",
       " '/content/drive/MyDrive/Skin cancer ISIC The International Skin Imaging Collaboration/Train/actinic keratosis/output/actinic keratosis_original_ISIC_0025992.jpg_1dcd1a57-8c6e-49a1-8adb-cd55664206d1.jpg',\n",
       " '/content/drive/MyDrive/Skin cancer ISIC The International Skin Imaging Collaboration/Train/actinic keratosis/output/actinic keratosis_original_ISIC_0030344.jpg_90baeb71-23a2-4f87-9d0e-82626aa7d1cb.jpg',\n",
       " '/content/drive/MyDrive/Skin cancer ISIC The International Skin Imaging Collaboration/Train/actinic keratosis/output/actinic keratosis_original_ISIC_0028063.jpg_a18db3c1-7365-4002-84d4-db1b7584f8e5.jpg',\n",
       " '/content/drive/MyDrive/Skin cancer ISIC The International Skin Imaging Collaboration/Train/actinic keratosis/output/actinic keratosis_original_ISIC_0027452.jpg_1f28715d-9ce3-4197-a270-f8f331e1d64f.jpg',\n",
       " '/content/drive/MyDrive/Skin cancer ISIC The International Skin Imaging Collaboration/Train/actinic keratosis/output/actinic keratosis_original_ISIC_0031430.jpg_55506d3f-efe8-490e-aef5-21f62f6e610b.jpg',\n",
       " '/content/drive/MyDrive/Skin cancer ISIC The International Skin Imaging Collaboration/Train/actinic keratosis/output/actinic keratosis_original_ISIC_0027562.jpg_ac0e92f6-9e51-4792-9acf-84d7bcc7e1fc.jpg',\n",
       " '/content/drive/MyDrive/Skin cancer ISIC The International Skin Imaging Collaboration/Train/actinic keratosis/output/actinic keratosis_original_ISIC_0032135.jpg_9a521b33-76c6-4e05-b069-b08318bff06b.jpg',\n",
       " '/content/drive/MyDrive/Skin cancer ISIC The International Skin Imaging Collaboration/Train/actinic keratosis/output/actinic keratosis_original_ISIC_0030344.jpg_29be21c2-4518-4a56-8c25-729055a76ef2.jpg',\n",
       " '/content/drive/MyDrive/Skin cancer ISIC The International Skin Imaging Collaboration/Train/actinic keratosis/output/actinic keratosis_original_ISIC_0026765.jpg_1dccebac-5667-44fa-abe7-c0d797a5ff71.jpg',\n",
       " '/content/drive/MyDrive/Skin cancer ISIC The International Skin Imaging Collaboration/Train/actinic keratosis/output/actinic keratosis_original_ISIC_0025957.jpg_5fdeef58-c964-46df-8032-80f2a202a4fc.jpg',\n",
       " '/content/drive/MyDrive/Skin cancer ISIC The International Skin Imaging Collaboration/Train/actinic keratosis/output/actinic keratosis_original_ISIC_0030826.jpg_fdb4f98b-4714-4fb6-b0e7-08b6c5d89515.jpg',\n",
       " '/content/drive/MyDrive/Skin cancer ISIC The International Skin Imaging Collaboration/Train/actinic keratosis/output/actinic keratosis_original_ISIC_0025992.jpg_63b22665-243d-4d06-ab5b-b93269850459.jpg',\n",
       " '/content/drive/MyDrive/Skin cancer ISIC The International Skin Imaging Collaboration/Train/actinic keratosis/output/actinic keratosis_original_ISIC_0025953.jpg_72f774ed-a396-4a1f-8f87-cbd2c3806a8f.jpg',\n",
       " '/content/drive/MyDrive/Skin cancer ISIC The International Skin Imaging Collaboration/Train/actinic keratosis/output/actinic keratosis_original_ISIC_0030491.jpg_b660e2a9-f42a-49d5-9825-73ffa50ad891.jpg',\n",
       " '/content/drive/MyDrive/Skin cancer ISIC The International Skin Imaging Collaboration/Train/actinic keratosis/output/actinic keratosis_original_ISIC_0026765.jpg_1dfa681c-e151-43b3-8100-8a7b1cf54cd5.jpg',\n",
       " '/content/drive/MyDrive/Skin cancer ISIC The International Skin Imaging Collaboration/Train/actinic keratosis/output/actinic keratosis_original_ISIC_0029659.jpg_76530206-4cb9-4542-88fc-3e215cca46dd.jpg',\n",
       " '/content/drive/MyDrive/Skin cancer ISIC The International Skin Imaging Collaboration/Train/actinic keratosis/output/actinic keratosis_original_ISIC_0029827.jpg_ee2dd458-0da1-4fbc-9057-721e75ca7a3b.jpg',\n",
       " '/content/drive/MyDrive/Skin cancer ISIC The International Skin Imaging Collaboration/Train/actinic keratosis/output/actinic keratosis_original_ISIC_0029915.jpg_ad855477-8db7-418b-b6c6-e15527407fe3.jpg',\n",
       " '/content/drive/MyDrive/Skin cancer ISIC The International Skin Imaging Collaboration/Train/actinic keratosis/output/actinic keratosis_original_ISIC_0033413.jpg_58c4c69c-d9af-49c1-8ac1-3b7bdd8d645e.jpg',\n",
       " '/content/drive/MyDrive/Skin cancer ISIC The International Skin Imaging Collaboration/Train/actinic keratosis/output/actinic keratosis_original_ISIC_0030133.jpg_d43f60cc-d283-4e46-bf9d-57081c7c65c2.jpg',\n",
       " '/content/drive/MyDrive/Skin cancer ISIC The International Skin Imaging Collaboration/Train/actinic keratosis/output/actinic keratosis_original_ISIC_0026040.jpg_7c152f19-0d9e-4b8e-9e3b-9a2159db8e70.jpg',\n",
       " '/content/drive/MyDrive/Skin cancer ISIC The International Skin Imaging Collaboration/Train/actinic keratosis/output/actinic keratosis_original_ISIC_0029041.jpg_e17f2863-e6a4-407d-91c6-59735a6158c0.jpg',\n",
       " '/content/drive/MyDrive/Skin cancer ISIC The International Skin Imaging Collaboration/Train/actinic keratosis/output/actinic keratosis_original_ISIC_0026194.jpg_b6923825-e3d6-4559-9941-bb9d705422ec.jpg',\n",
       " '/content/drive/MyDrive/Skin cancer ISIC The International Skin Imaging Collaboration/Train/actinic keratosis/output/actinic keratosis_original_ISIC_0028314.jpg_e3ebfe40-3f5f-4cd6-b125-5f742f08d997.jpg',\n",
       " '/content/drive/MyDrive/Skin cancer ISIC The International Skin Imaging Collaboration/Train/actinic keratosis/output/actinic keratosis_original_ISIC_0030826.jpg_c185a29a-0e4f-4473-a047-f020c617e792.jpg',\n",
       " '/content/drive/MyDrive/Skin cancer ISIC The International Skin Imaging Collaboration/Train/actinic keratosis/output/actinic keratosis_original_ISIC_0029141.jpg_f03ffd54-6c19-4e62-92be-500bcbd11686.jpg',\n",
       " '/content/drive/MyDrive/Skin cancer ISIC The International Skin Imaging Collaboration/Train/actinic keratosis/output/actinic keratosis_original_ISIC_0031823.jpg_1423f120-0c1e-4186-9b64-93aec28149e1.jpg',\n",
       " '/content/drive/MyDrive/Skin cancer ISIC The International Skin Imaging Collaboration/Train/actinic keratosis/output/actinic keratosis_original_ISIC_0026457.jpg_eae3a4d8-457a-4b74-b9c4-5745b6bd598f.jpg',\n",
       " '/content/drive/MyDrive/Skin cancer ISIC The International Skin Imaging Collaboration/Train/actinic keratosis/output/actinic keratosis_original_ISIC_0031922.jpg_440222fe-3532-45a5-95c0-7c5d59ecfca4.jpg',\n",
       " '/content/drive/MyDrive/Skin cancer ISIC The International Skin Imaging Collaboration/Train/actinic keratosis/output/actinic keratosis_original_ISIC_0027452.jpg_688fabb2-6892-4d73-8de6-a7ccdcdb6dbd.jpg',\n",
       " '/content/drive/MyDrive/Skin cancer ISIC The International Skin Imaging Collaboration/Train/actinic keratosis/output/actinic keratosis_original_ISIC_0026468.jpg_b95cacee-95a5-4293-ace6-583446c27916.jpg',\n",
       " '/content/drive/MyDrive/Skin cancer ISIC The International Skin Imaging Collaboration/Train/actinic keratosis/output/actinic keratosis_original_ISIC_0033358.jpg_11dde45b-e354-4ec0-ada6-65305bd59e82.jpg',\n",
       " '/content/drive/MyDrive/Skin cancer ISIC The International Skin Imaging Collaboration/Train/actinic keratosis/output/actinic keratosis_original_ISIC_0033494.jpg_59b4dae7-1de9-49ab-b8ce-ae7d9c2ea8bd.jpg',\n",
       " '/content/drive/MyDrive/Skin cancer ISIC The International Skin Imaging Collaboration/Train/actinic keratosis/output/actinic keratosis_original_ISIC_0029500.jpg_7cbec809-42a0-4080-a900-31ed04e4c8e9.jpg',\n",
       " '/content/drive/MyDrive/Skin cancer ISIC The International Skin Imaging Collaboration/Train/actinic keratosis/output/actinic keratosis_original_ISIC_0026149.jpg_58020a04-f29f-4d7f-b6c0-1d729b32550b.jpg',\n",
       " '/content/drive/MyDrive/Skin cancer ISIC The International Skin Imaging Collaboration/Train/actinic keratosis/output/actinic keratosis_original_ISIC_0025780.jpg_957f7b19-8063-4121-8f6c-8afa46324ea8.jpg',\n",
       " '/content/drive/MyDrive/Skin cancer ISIC The International Skin Imaging Collaboration/Train/actinic keratosis/output/actinic keratosis_original_ISIC_0029210.jpg_f1094d11-a80d-4b52-8d47-250db54b07cd.jpg',\n",
       " '/content/drive/MyDrive/Skin cancer ISIC The International Skin Imaging Collaboration/Train/actinic keratosis/output/actinic keratosis_original_ISIC_0032206.jpg_7d25068c-3b89-42f7-8c71-7563b52b2642.jpg',\n",
       " '/content/drive/MyDrive/Skin cancer ISIC The International Skin Imaging Collaboration/Train/actinic keratosis/output/actinic keratosis_original_ISIC_0025825.jpg_2c788bb0-8a79-4d70-a08d-57b9f2069caa.jpg',\n",
       " '/content/drive/MyDrive/Skin cancer ISIC The International Skin Imaging Collaboration/Train/actinic keratosis/output/actinic keratosis_original_ISIC_0028941.jpg_8d4096be-53c9-45de-9a8f-283d4b08df1e.jpg',\n",
       " '/content/drive/MyDrive/Skin cancer ISIC The International Skin Imaging Collaboration/Train/actinic keratosis/output/actinic keratosis_original_ISIC_0033811.jpg_7516c00b-f97f-462e-a9d6-fe5fdd199210.jpg',\n",
       " '/content/drive/MyDrive/Skin cancer ISIC The International Skin Imaging Collaboration/Train/actinic keratosis/output/actinic keratosis_original_ISIC_0027650.jpg_d6b99938-5854-400f-aa81-d28fd7c64e02.jpg',\n",
       " '/content/drive/MyDrive/Skin cancer ISIC The International Skin Imaging Collaboration/Train/actinic keratosis/output/actinic keratosis_original_ISIC_0033494.jpg_f99abe0d-493c-4611-81cb-6e43d0c60009.jpg',\n",
       " '/content/drive/MyDrive/Skin cancer ISIC The International Skin Imaging Collaboration/Train/actinic keratosis/output/actinic keratosis_original_ISIC_0029930.jpg_45a5b0c2-a64e-47b7-be24-25a5bb87374e.jpg',\n",
       " '/content/drive/MyDrive/Skin cancer ISIC The International Skin Imaging Collaboration/Train/actinic keratosis/output/actinic keratosis_original_ISIC_0029830.jpg_7f761965-fc4c-4989-b61b-a2add59ea67b.jpg',\n",
       " '/content/drive/MyDrive/Skin cancer ISIC The International Skin Imaging Collaboration/Train/actinic keratosis/output/actinic keratosis_original_ISIC_0031506.jpg_befcfff3-1e55-4a97-9ca3-1fa2c05a4327.jpg',\n",
       " '/content/drive/MyDrive/Skin cancer ISIC The International Skin Imaging Collaboration/Train/actinic keratosis/output/actinic keratosis_original_ISIC_0025780.jpg_ef6050cc-0aad-43f9-a4e9-3bc58785222b.jpg',\n",
       " '/content/drive/MyDrive/Skin cancer ISIC The International Skin Imaging Collaboration/Train/actinic keratosis/output/actinic keratosis_original_ISIC_0028063.jpg_80883457-3d49-4a8e-a247-1133a8b204a5.jpg',\n",
       " '/content/drive/MyDrive/Skin cancer ISIC The International Skin Imaging Collaboration/Train/actinic keratosis/output/actinic keratosis_original_ISIC_0026040.jpg_66c0a0fa-5199-4059-900b-ce3e10634b96.jpg',\n",
       " '/content/drive/MyDrive/Skin cancer ISIC The International Skin Imaging Collaboration/Train/actinic keratosis/output/actinic keratosis_original_ISIC_0028076.jpg_25f9e6c1-a236-4336-91d5-eb53ca903a0d.jpg',\n",
       " '/content/drive/MyDrive/Skin cancer ISIC The International Skin Imaging Collaboration/Train/actinic keratosis/output/actinic keratosis_original_ISIC_0026626.jpg_f41afa05-37ed-46c6-a055-b5d862d90cca.jpg',\n",
       " '/content/drive/MyDrive/Skin cancer ISIC The International Skin Imaging Collaboration/Train/actinic keratosis/output/actinic keratosis_original_ISIC_0029210.jpg_c993cc09-1123-4486-8de5-1214c0229cf5.jpg',\n",
       " '/content/drive/MyDrive/Skin cancer ISIC The International Skin Imaging Collaboration/Train/actinic keratosis/output/actinic keratosis_original_ISIC_0029500.jpg_100043b4-07d3-48f2-a549-4c1c2823efba.jpg',\n",
       " '/content/drive/MyDrive/Skin cancer ISIC The International Skin Imaging Collaboration/Train/actinic keratosis/output/actinic keratosis_original_ISIC_0032437.jpg_ea7610c4-9ff7-465a-8772-5758757a6a2e.jpg',\n",
       " '/content/drive/MyDrive/Skin cancer ISIC The International Skin Imaging Collaboration/Train/actinic keratosis/output/actinic keratosis_original_ISIC_0028558.jpg_1ff2b8ae-fd6f-4cea-b64d-5988897c6c5b.jpg',\n",
       " '/content/drive/MyDrive/Skin cancer ISIC The International Skin Imaging Collaboration/Train/actinic keratosis/output/actinic keratosis_original_ISIC_0028190.jpg_ecd79f50-88c5-4344-85db-4823ff4d7e8d.jpg',\n",
       " '/content/drive/MyDrive/Skin cancer ISIC The International Skin Imaging Collaboration/Train/actinic keratosis/output/actinic keratosis_original_ISIC_0032854.jpg_594cfe2e-cae8-48bd-a1a7-b9fdff7478e3.jpg',\n",
       " '/content/drive/MyDrive/Skin cancer ISIC The International Skin Imaging Collaboration/Train/actinic keratosis/output/actinic keratosis_original_ISIC_0029713.jpg_12fd94e6-ae0e-4ab9-84e6-c84d8e764012.jpg',\n",
       " '/content/drive/MyDrive/Skin cancer ISIC The International Skin Imaging Collaboration/Train/actinic keratosis/output/actinic keratosis_original_ISIC_0031609.jpg_99e65bb3-6747-41c8-8907-7e4c99987d89.jpg',\n",
       " '/content/drive/MyDrive/Skin cancer ISIC The International Skin Imaging Collaboration/Train/actinic keratosis/output/actinic keratosis_original_ISIC_0028517.jpg_8e5a8679-2605-4f0a-948d-9e6f1c3e2b4f.jpg',\n",
       " '/content/drive/MyDrive/Skin cancer ISIC The International Skin Imaging Collaboration/Train/actinic keratosis/output/actinic keratosis_original_ISIC_0032437.jpg_35a617b5-270e-4e76-aa2b-9115285ff201.jpg',\n",
       " '/content/drive/MyDrive/Skin cancer ISIC The International Skin Imaging Collaboration/Train/actinic keratosis/output/actinic keratosis_original_ISIC_0033456.jpg_66385564-ff66-454e-803f-11f907a34d19.jpg',\n",
       " '/content/drive/MyDrive/Skin cancer ISIC The International Skin Imaging Collaboration/Train/actinic keratosis/output/actinic keratosis_original_ISIC_0031506.jpg_2563b3dc-9b02-4559-97b4-77536ef53772.jpg',\n",
       " '/content/drive/MyDrive/Skin cancer ISIC The International Skin Imaging Collaboration/Train/actinic keratosis/output/actinic keratosis_original_ISIC_0026650.jpg_e03488f8-11d9-4297-9a32-4a04525b4531.jpg',\n",
       " '/content/drive/MyDrive/Skin cancer ISIC The International Skin Imaging Collaboration/Train/actinic keratosis/output/actinic keratosis_original_ISIC_0032422.jpg_e35f63f5-92bf-40f8-aa4c-eecf23ec6056.jpg',\n",
       " '/content/drive/MyDrive/Skin cancer ISIC The International Skin Imaging Collaboration/Train/actinic keratosis/output/actinic keratosis_original_ISIC_0027254.jpg_a9bc2bd4-5ad3-42b6-bf61-0e58e77363a3.jpg',\n",
       " '/content/drive/MyDrive/Skin cancer ISIC The International Skin Imaging Collaboration/Train/actinic keratosis/output/actinic keratosis_original_ISIC_0030491.jpg_0833cc9b-e445-45f2-9a19-079ece8d571b.jpg',\n",
       " '/content/drive/MyDrive/Skin cancer ISIC The International Skin Imaging Collaboration/Train/actinic keratosis/output/actinic keratosis_original_ISIC_0032206.jpg_f3b5e55e-6c1b-402d-a340-15a89f9d85ec.jpg',\n",
       " '/content/drive/MyDrive/Skin cancer ISIC The International Skin Imaging Collaboration/Train/actinic keratosis/output/actinic keratosis_original_ISIC_0026171.jpg_9de8c866-4be2-4e33-ad13-65a2991fd935.jpg',\n",
       " '/content/drive/MyDrive/Skin cancer ISIC The International Skin Imaging Collaboration/Train/actinic keratosis/output/actinic keratosis_original_ISIC_0032135.jpg_60f70b27-e31b-45ff-9f8e-5a423d04ccd7.jpg',\n",
       " '/content/drive/MyDrive/Skin cancer ISIC The International Skin Imaging Collaboration/Train/actinic keratosis/output/actinic keratosis_original_ISIC_0026650.jpg_1d628671-d9a5-4ea7-a2ca-5935998cc2f9.jpg',\n",
       " '/content/drive/MyDrive/Skin cancer ISIC The International Skin Imaging Collaboration/Train/actinic keratosis/output/actinic keratosis_original_ISIC_0028076.jpg_073226aa-a05b-4d9b-9b6d-aee08240d8cb.jpg',\n",
       " '/content/drive/MyDrive/Skin cancer ISIC The International Skin Imaging Collaboration/Train/actinic keratosis/output/actinic keratosis_original_ISIC_0026212.jpg_deaf7b1e-3b1e-45b4-a6da-81292116a91c.jpg',\n",
       " '/content/drive/MyDrive/Skin cancer ISIC The International Skin Imaging Collaboration/Train/actinic keratosis/output/actinic keratosis_original_ISIC_0030463.jpg_8fdecafe-b72e-42fc-a58e-7c4d2bc49bdd.jpg',\n",
       " '/content/drive/MyDrive/Skin cancer ISIC The International Skin Imaging Collaboration/Train/actinic keratosis/output/actinic keratosis_original_ISIC_0028063.jpg_1432bf45-ac21-4726-a02d-a9d14f1362dc.jpg',\n",
       " '/content/drive/MyDrive/Skin cancer ISIC The International Skin Imaging Collaboration/Train/actinic keratosis/output/actinic keratosis_original_ISIC_0027580.jpg_0d728341-9530-4b21-820a-7ef79cdfe574.jpg',\n",
       " '/content/drive/MyDrive/Skin cancer ISIC The International Skin Imaging Collaboration/Train/actinic keratosis/output/actinic keratosis_original_ISIC_0026468.jpg_040539c6-bed5-4f34-ac03-cf3c20e5f96c.jpg',\n",
       " '/content/drive/MyDrive/Skin cancer ISIC The International Skin Imaging Collaboration/Train/actinic keratosis/output/actinic keratosis_original_ISIC_0033456.jpg_b90befa2-d0dc-4a3e-ae0c-1f28bf813f64.jpg',\n",
       " '/content/drive/MyDrive/Skin cancer ISIC The International Skin Imaging Collaboration/Train/actinic keratosis/output/actinic keratosis_original_ISIC_0029041.jpg_72bafddf-56c4-4477-978e-08310ca38a37.jpg',\n",
       " '/content/drive/MyDrive/Skin cancer ISIC The International Skin Imaging Collaboration/Train/actinic keratosis/output/actinic keratosis_original_ISIC_0026149.jpg_f6879c54-ea8e-4a15-8fb2-5285dab55134.jpg',\n",
       " '/content/drive/MyDrive/Skin cancer ISIC The International Skin Imaging Collaboration/Train/actinic keratosis/output/actinic keratosis_original_ISIC_0033811.jpg_2dcdb149-22f5-4124-a548-34986479f144.jpg',\n",
       " '/content/drive/MyDrive/Skin cancer ISIC The International Skin Imaging Collaboration/Train/actinic keratosis/output/actinic keratosis_original_ISIC_0029460.jpg_3af26134-c6b0-4603-888a-5bafffc8de7a.jpg',\n",
       " '/content/drive/MyDrive/Skin cancer ISIC The International Skin Imaging Collaboration/Train/actinic keratosis/output/actinic keratosis_original_ISIC_0032135.jpg_5b720abb-cd25-4576-8fe5-396e3a0de953.jpg',\n",
       " '/content/drive/MyDrive/Skin cancer ISIC The International Skin Imaging Collaboration/Train/actinic keratosis/output/actinic keratosis_original_ISIC_0028076.jpg_436462ef-83aa-422d-a4c0-5b696083b9e2.jpg',\n",
       " '/content/drive/MyDrive/Skin cancer ISIC The International Skin Imaging Collaboration/Train/actinic keratosis/output/actinic keratosis_original_ISIC_0028370.jpg_96eec3c9-b096-4c94-bbba-aeef8733c54d.jpg',\n",
       " '/content/drive/MyDrive/Skin cancer ISIC The International Skin Imaging Collaboration/Train/actinic keratosis/output/actinic keratosis_original_ISIC_0026857.jpg_d803c70c-78d6-4ad1-abfd-652729212d60.jpg',\n",
       " '/content/drive/MyDrive/Skin cancer ISIC The International Skin Imaging Collaboration/Train/actinic keratosis/output/actinic keratosis_original_ISIC_0031823.jpg_41928244-8914-4828-924c-d25a2d4b23f0.jpg',\n",
       " '/content/drive/MyDrive/Skin cancer ISIC The International Skin Imaging Collaboration/Train/actinic keratosis/output/actinic keratosis_original_ISIC_0027615.jpg_87ece8e5-5c6d-4414-8ad9-117ee5eebfe9.jpg',\n",
       " '/content/drive/MyDrive/Skin cancer ISIC The International Skin Imaging Collaboration/Train/basal cell carcinoma/output/basal cell carcinoma_original_ISIC_0030644.jpg_a5eb43d1-09c0-4929-8c1f-4fdfeb537358.jpg',\n",
       " '/content/drive/MyDrive/Skin cancer ISIC The International Skin Imaging Collaboration/Train/basal cell carcinoma/output/basal cell carcinoma_original_ISIC_0028095.jpg_8df27af7-4fdc-4bc4-bbd6-00803bdd0c63.jpg',\n",
       " '/content/drive/MyDrive/Skin cancer ISIC The International Skin Imaging Collaboration/Train/basal cell carcinoma/output/basal cell carcinoma_original_ISIC_0027786.jpg_a8714bfb-e07e-489f-b3a4-a0313d0d94eb.jpg',\n",
       " '/content/drive/MyDrive/Skin cancer ISIC The International Skin Imaging Collaboration/Train/basal cell carcinoma/output/basal cell carcinoma_original_ISIC_0031614.jpg_a23faaae-3b61-4fa6-ba0b-1404c99347b3.jpg',\n",
       " '/content/drive/MyDrive/Skin cancer ISIC The International Skin Imaging Collaboration/Train/basal cell carcinoma/output/basal cell carcinoma_original_ISIC_0028238.jpg_0cabe707-ea9e-4ea9-b715-e28e76e972c4.jpg',\n",
       " '/content/drive/MyDrive/Skin cancer ISIC The International Skin Imaging Collaboration/Train/basal cell carcinoma/output/basal cell carcinoma_original_ISIC_0028486.jpg_ce66c7bd-7cb0-4367-803e-2ed166216aaf.jpg',\n",
       " '/content/drive/MyDrive/Skin cancer ISIC The International Skin Imaging Collaboration/Train/basal cell carcinoma/output/basal cell carcinoma_original_ISIC_0029856.jpg_f9b84fc2-af5a-4bf8-b644-03d0ea894137.jpg',\n",
       " '/content/drive/MyDrive/Skin cancer ISIC The International Skin Imaging Collaboration/Train/basal cell carcinoma/output/basal cell carcinoma_original_ISIC_0025417.jpg_de82aa58-9419-4db5-ba04-eda343660c5c.jpg',\n",
       " '/content/drive/MyDrive/Skin cancer ISIC The International Skin Imaging Collaboration/Train/basal cell carcinoma/output/basal cell carcinoma_original_ISIC_0027609.jpg_f388adb8-31bc-421e-8f82-3657369f1a00.jpg',\n",
       " '/content/drive/MyDrive/Skin cancer ISIC The International Skin Imaging Collaboration/Train/basal cell carcinoma/output/basal cell carcinoma_original_ISIC_0025362.jpg_c21131df-fb02-4651-87df-3e8058545d34.jpg',\n",
       " '/content/drive/MyDrive/Skin cancer ISIC The International Skin Imaging Collaboration/Train/basal cell carcinoma/output/basal cell carcinoma_original_ISIC_0026230.jpg_04d96a4d-9a67-4629-bf20-d4e23659b2aa.jpg',\n",
       " '/content/drive/MyDrive/Skin cancer ISIC The International Skin Imaging Collaboration/Train/basal cell carcinoma/output/basal cell carcinoma_original_ISIC_0030746.jpg_df829065-c045-408e-9a3d-31c9a3b4f85f.jpg',\n",
       " '/content/drive/MyDrive/Skin cancer ISIC The International Skin Imaging Collaboration/Train/basal cell carcinoma/output/basal cell carcinoma_original_ISIC_0029805.jpg_2d2b6f54-1e09-4922-96ee-328fd5a2d833.jpg',\n",
       " '/content/drive/MyDrive/Skin cancer ISIC The International Skin Imaging Collaboration/Train/basal cell carcinoma/output/basal cell carcinoma_original_ISIC_0025576.jpg_7c7afbb1-a6e9-4aa3-b853-b92fca839553.jpg',\n",
       " '/content/drive/MyDrive/Skin cancer ISIC The International Skin Imaging Collaboration/Train/basal cell carcinoma/output/basal cell carcinoma_original_ISIC_0031597.jpg_43ed1c59-7bef-4cb4-9015-fc9f5943d33c.jpg',\n",
       " '/content/drive/MyDrive/Skin cancer ISIC The International Skin Imaging Collaboration/Train/basal cell carcinoma/output/basal cell carcinoma_original_ISIC_0028122.jpg_d432f67a-f34b-4387-a219-ecf8fab5bea9.jpg',\n",
       " '/content/drive/MyDrive/Skin cancer ISIC The International Skin Imaging Collaboration/Train/basal cell carcinoma/output/basal cell carcinoma_original_ISIC_0029083.jpg_350a2b7f-2dd6-4bdb-8726-0ea9c562fd95.jpg',\n",
       " '/content/drive/MyDrive/Skin cancer ISIC The International Skin Imaging Collaboration/Train/basal cell carcinoma/output/basal cell carcinoma_original_ISIC_0027038.jpg_7d990bc9-c76d-4ccf-8a3c-00e19c7a461a.jpg',\n",
       " '/content/drive/MyDrive/Skin cancer ISIC The International Skin Imaging Collaboration/Train/basal cell carcinoma/output/basal cell carcinoma_original_ISIC_0031057.jpg_c55f6543-113d-42cd-ad59-03beace2cd3e.jpg',\n",
       " '/content/drive/MyDrive/Skin cancer ISIC The International Skin Imaging Collaboration/Train/basal cell carcinoma/output/basal cell carcinoma_original_ISIC_0030868.jpg_ece3cea8-c2f2-4c87-8f8c-e3a63d5c47bb.jpg',\n",
       " '/content/drive/MyDrive/Skin cancer ISIC The International Skin Imaging Collaboration/Train/basal cell carcinoma/output/basal cell carcinoma_original_ISIC_0029546.jpg_f3695a78-70b2-4f3a-abd2-5a879cb89ea7.jpg',\n",
       " '/content/drive/MyDrive/Skin cancer ISIC The International Skin Imaging Collaboration/Train/basal cell carcinoma/output/basal cell carcinoma_original_ISIC_0027865.jpg_9218f207-dc8e-486a-933f-4a8c8c56a123.jpg',\n",
       " '/content/drive/MyDrive/Skin cancer ISIC The International Skin Imaging Collaboration/Train/basal cell carcinoma/output/basal cell carcinoma_original_ISIC_0024897.jpg_6fdbfce0-691c-493d-8d61-2fc02b16f090.jpg',\n",
       " '/content/drive/MyDrive/Skin cancer ISIC The International Skin Imaging Collaboration/Train/basal cell carcinoma/output/basal cell carcinoma_original_ISIC_0025630.jpg_1ee88045-b346-47ce-914f-c46eddfa3565.jpg',\n",
       " '/content/drive/MyDrive/Skin cancer ISIC The International Skin Imaging Collaboration/Train/basal cell carcinoma/output/basal cell carcinoma_original_ISIC_0028973.jpg_43895439-0d70-460e-b335-b25e6bff4174.jpg',\n",
       " '/content/drive/MyDrive/Skin cancer ISIC The International Skin Imaging Collaboration/Train/basal cell carcinoma/output/basal cell carcinoma_original_ISIC_0028871.jpg_35adb63d-99e0-4488-b24b-8c6c36b8d399.jpg',\n",
       " '/content/drive/MyDrive/Skin cancer ISIC The International Skin Imaging Collaboration/Train/basal cell carcinoma/output/basal cell carcinoma_original_ISIC_0028994.jpg_8bb24ee3-888a-4d0d-9dd2-fc36e91e92d4.jpg',\n",
       " '/content/drive/MyDrive/Skin cancer ISIC The International Skin Imaging Collaboration/Train/basal cell carcinoma/output/basal cell carcinoma_original_ISIC_0026528.jpg_56911876-3a7a-49a2-8562-2c21682ab3af.jpg',\n",
       " '/content/drive/MyDrive/Skin cancer ISIC The International Skin Imaging Collaboration/Train/basal cell carcinoma/output/basal cell carcinoma_original_ISIC_0030010.jpg_e15aaa7d-9e56-494d-b2bd-ed00a564d3fd.jpg',\n",
       " '/content/drive/MyDrive/Skin cancer ISIC The International Skin Imaging Collaboration/Train/basal cell carcinoma/output/basal cell carcinoma_original_ISIC_0025260.jpg_cef9a9f7-985a-43e4-9745-c18a7add5a1e.jpg',\n",
       " '/content/drive/MyDrive/Skin cancer ISIC The International Skin Imaging Collaboration/Train/basal cell carcinoma/output/basal cell carcinoma_original_ISIC_0026395.jpg_4da631e4-abad-4e71-bfc5-4fbaa4c14373.jpg',\n",
       " '/content/drive/MyDrive/Skin cancer ISIC The International Skin Imaging Collaboration/Train/basal cell carcinoma/output/basal cell carcinoma_original_ISIC_0025530.jpg_b9dcdc42-55da-4f8f-8150-0d77bf19eda6.jpg',\n",
       " '/content/drive/MyDrive/Skin cancer ISIC The International Skin Imaging Collaboration/Train/basal cell carcinoma/output/basal cell carcinoma_original_ISIC_0029669.jpg_1ace4d4f-ddd4-4295-91d6-e76185f545cb.jpg',\n",
       " '/content/drive/MyDrive/Skin cancer ISIC The International Skin Imaging Collaboration/Train/basal cell carcinoma/output/basal cell carcinoma_original_ISIC_0031057.jpg_acb1b1e7-001c-4010-aaa5-ffcd249988fc.jpg',\n",
       " '/content/drive/MyDrive/Skin cancer ISIC The International Skin Imaging Collaboration/Train/basal cell carcinoma/output/basal cell carcinoma_original_ISIC_0029193.jpg_23c8ecad-4508-4ee9-acc9-5807fd814b0a.jpg',\n",
       " '/content/drive/MyDrive/Skin cancer ISIC The International Skin Imaging Collaboration/Train/basal cell carcinoma/output/basal cell carcinoma_original_ISIC_0026192.jpg_4eca2f6f-edf2-4d4d-97c4-cc00a44751de.jpg',\n",
       " '/content/drive/MyDrive/Skin cancer ISIC The International Skin Imaging Collaboration/Train/basal cell carcinoma/output/basal cell carcinoma_original_ISIC_0026442.jpg_582f5358-d32a-45e3-b00c-b900813fe102.jpg',\n",
       " '/content/drive/MyDrive/Skin cancer ISIC The International Skin Imaging Collaboration/Train/basal cell carcinoma/output/basal cell carcinoma_original_ISIC_0031531.jpg_fa6e3518-60fe-45d2-ae73-92bcbea866b2.jpg',\n",
       " '/content/drive/MyDrive/Skin cancer ISIC The International Skin Imaging Collaboration/Train/basal cell carcinoma/output/basal cell carcinoma_original_ISIC_0026968.jpg_5a50a3bc-e61f-4172-8e01-16a769716b72.jpg',\n",
       " '/content/drive/MyDrive/Skin cancer ISIC The International Skin Imaging Collaboration/Train/basal cell carcinoma/output/basal cell carcinoma_original_ISIC_0029466.jpg_ba2166ea-9c0c-4787-9776-08f4fe42cfdd.jpg',\n",
       " '/content/drive/MyDrive/Skin cancer ISIC The International Skin Imaging Collaboration/Train/basal cell carcinoma/output/basal cell carcinoma_original_ISIC_0028818.jpg_32a5eb70-b223-414d-b6cb-c54625cee2b5.jpg',\n",
       " '/content/drive/MyDrive/Skin cancer ISIC The International Skin Imaging Collaboration/Train/basal cell carcinoma/output/basal cell carcinoma_original_ISIC_0029755.jpg_ba78efed-0e1b-4786-b66b-572b83457b47.jpg',\n",
       " '/content/drive/MyDrive/Skin cancer ISIC The International Skin Imaging Collaboration/Train/basal cell carcinoma/output/basal cell carcinoma_original_ISIC_0029644.jpg_fb62dc87-e6cf-400c-b024-a126cff58351.jpg',\n",
       " '/content/drive/MyDrive/Skin cancer ISIC The International Skin Imaging Collaboration/Train/basal cell carcinoma/output/basal cell carcinoma_original_ISIC_0029082.jpg_04df3354-25cc-4606-a26b-4897545931e6.jpg',\n",
       " '/content/drive/MyDrive/Skin cancer ISIC The International Skin Imaging Collaboration/Train/basal cell carcinoma/output/basal cell carcinoma_original_ISIC_0030314.jpg_729e6c6a-831b-4160-a3e5-8013f2c926cc.jpg',\n",
       " '/content/drive/MyDrive/Skin cancer ISIC The International Skin Imaging Collaboration/Train/basal cell carcinoma/output/basal cell carcinoma_original_ISIC_0029263.jpg_a305b35c-6c6c-48d0-bb8e-0f9e9e490781.jpg',\n",
       " '/content/drive/MyDrive/Skin cancer ISIC The International Skin Imaging Collaboration/Train/basal cell carcinoma/output/basal cell carcinoma_original_ISIC_0028693.jpg_d59bf8f6-d209-4510-bd9b-82632580fbea.jpg',\n",
       " '/content/drive/MyDrive/Skin cancer ISIC The International Skin Imaging Collaboration/Train/basal cell carcinoma/output/basal cell carcinoma_original_ISIC_0025932.jpg_a057e345-65f6-4042-a90a-fcb3c717a3d8.jpg',\n",
       " '/content/drive/MyDrive/Skin cancer ISIC The International Skin Imaging Collaboration/Train/basal cell carcinoma/output/basal cell carcinoma_original_ISIC_0027337.jpg_1e1cd552-025e-4eec-973a-3fcfb3c7b0b5.jpg',\n",
       " '/content/drive/MyDrive/Skin cancer ISIC The International Skin Imaging Collaboration/Train/basal cell carcinoma/output/basal cell carcinoma_original_ISIC_0028693.jpg_030f3417-fcfc-4b63-ad02-48ba02d00102.jpg',\n",
       " '/content/drive/MyDrive/Skin cancer ISIC The International Skin Imaging Collaboration/Train/basal cell carcinoma/output/basal cell carcinoma_original_ISIC_0028085.jpg_5fe433c9-0e7e-4933-a552-e297a684029a.jpg',\n",
       " '/content/drive/MyDrive/Skin cancer ISIC The International Skin Imaging Collaboration/Train/basal cell carcinoma/output/basal cell carcinoma_original_ISIC_0026350.jpg_b0b3b566-1a25-43cf-872a-7316f16dff50.jpg',\n",
       " '/content/drive/MyDrive/Skin cancer ISIC The International Skin Imaging Collaboration/Train/basal cell carcinoma/output/basal cell carcinoma_original_ISIC_0028989.jpg_c6914fcc-184e-42df-a020-e0dfc90e6450.jpg',\n",
       " '/content/drive/MyDrive/Skin cancer ISIC The International Skin Imaging Collaboration/Train/basal cell carcinoma/output/basal cell carcinoma_original_ISIC_0031266.jpg_9e0313fd-a720-458d-af56-be68b3f8ff44.jpg',\n",
       " '/content/drive/MyDrive/Skin cancer ISIC The International Skin Imaging Collaboration/Train/basal cell carcinoma/output/basal cell carcinoma_original_ISIC_0027117.jpg_458afb09-726b-4510-966d-869d4f55ee6e.jpg',\n",
       " '/content/drive/MyDrive/Skin cancer ISIC The International Skin Imaging Collaboration/Train/basal cell carcinoma/output/basal cell carcinoma_original_ISIC_0028303.jpg_1116f405-f32a-49fd-a521-adbd79115ac5.jpg',\n",
       " '/content/drive/MyDrive/Skin cancer ISIC The International Skin Imaging Collaboration/Train/basal cell carcinoma/output/basal cell carcinoma_original_ISIC_0029337.jpg_61d15ebc-d469-43b2-b301-1c73838fb564.jpg',\n",
       " '/content/drive/MyDrive/Skin cancer ISIC The International Skin Imaging Collaboration/Train/basal cell carcinoma/output/basal cell carcinoma_original_ISIC_0031041.jpg_f20aee14-d48d-4664-b554-7fb96cf5e0fc.jpg',\n",
       " '/content/drive/MyDrive/Skin cancer ISIC The International Skin Imaging Collaboration/Train/basal cell carcinoma/output/basal cell carcinoma_original_ISIC_0028323.jpg_33ec2693-fdf6-4690-8717-2ed4298d5a7e.jpg',\n",
       " '/content/drive/MyDrive/Skin cancer ISIC The International Skin Imaging Collaboration/Train/basal cell carcinoma/output/basal cell carcinoma_original_ISIC_0029546.jpg_ec8638b1-b463-45ba-970d-b1af97c75da8.jpg',\n",
       " '/content/drive/MyDrive/Skin cancer ISIC The International Skin Imaging Collaboration/Train/basal cell carcinoma/output/basal cell carcinoma_original_ISIC_0031009.jpg_faa520e7-1a99-465c-b424-65a8d51166ac.jpg',\n",
       " '/content/drive/MyDrive/Skin cancer ISIC The International Skin Imaging Collaboration/Train/basal cell carcinoma/output/basal cell carcinoma_original_ISIC_0031569.jpg_9849fd74-3a73-46d5-a1cd-3f986ba8adc1.jpg',\n",
       " '/content/drive/MyDrive/Skin cancer ISIC The International Skin Imaging Collaboration/Train/basal cell carcinoma/output/basal cell carcinoma_original_ISIC_0029974.jpg_f4145f5d-b50d-4914-8ca0-a1eba0bae6c1.jpg',\n",
       " '/content/drive/MyDrive/Skin cancer ISIC The International Skin Imaging Collaboration/Train/basal cell carcinoma/output/basal cell carcinoma_original_ISIC_0031258.jpg_4d962708-db6f-449b-88ea-c072cd26c2e6.jpg',\n",
       " '/content/drive/MyDrive/Skin cancer ISIC The International Skin Imaging Collaboration/Train/basal cell carcinoma/output/basal cell carcinoma_original_ISIC_0030964.jpg_361cb641-2700-4ac2-ac67-e7147d9b349c.jpg',\n",
       " '/content/drive/MyDrive/Skin cancer ISIC The International Skin Imaging Collaboration/Train/basal cell carcinoma/output/basal cell carcinoma_original_ISIC_0030594.jpg_b697d622-38c7-4654-bb7e-c85ef6996429.jpg',\n",
       " '/content/drive/MyDrive/Skin cancer ISIC The International Skin Imaging Collaboration/Train/basal cell carcinoma/output/basal cell carcinoma_original_ISIC_0029263.jpg_08a7b533-8cc2-4d22-89de-f6186ab13da4.jpg',\n",
       " '/content/drive/MyDrive/Skin cancer ISIC The International Skin Imaging Collaboration/Train/basal cell carcinoma/output/basal cell carcinoma_original_ISIC_0029341.jpg_a12efa6a-736c-4c98-9490-3c24b48b6f02.jpg',\n",
       " '/content/drive/MyDrive/Skin cancer ISIC The International Skin Imaging Collaboration/Train/basal cell carcinoma/output/basal cell carcinoma_original_ISIC_0026687.jpg_39ec1d4a-f851-45a4-9c16-004e75b0b2e9.jpg',\n",
       " '/content/drive/MyDrive/Skin cancer ISIC The International Skin Imaging Collaboration/Train/basal cell carcinoma/output/basal cell carcinoma_original_ISIC_0025718.jpg_cd7abb34-3374-42bc-8a82-0b9b2c0028e1.jpg',\n",
       " '/content/drive/MyDrive/Skin cancer ISIC The International Skin Imaging Collaboration/Train/basal cell carcinoma/output/basal cell carcinoma_original_ISIC_0026154.jpg_7dda5ecf-3aa5-452f-8a5e-5aa1bd03983e.jpg',\n",
       " '/content/drive/MyDrive/Skin cancer ISIC The International Skin Imaging Collaboration/Train/basal cell carcinoma/output/basal cell carcinoma_original_ISIC_0029020.jpg_e3a8595e-d295-4844-84c6-6b48719e2c0b.jpg',\n",
       " '/content/drive/MyDrive/Skin cancer ISIC The International Skin Imaging Collaboration/Train/basal cell carcinoma/output/basal cell carcinoma_original_ISIC_0031470.jpg_7d74e5a9-24b5-4d83-b3ce-bf3f24a4ed32.jpg',\n",
       " '/content/drive/MyDrive/Skin cancer ISIC The International Skin Imaging Collaboration/Train/basal cell carcinoma/output/basal cell carcinoma_original_ISIC_0029680.jpg_8f758034-6cff-4a70-9496-58d766ffdf11.jpg',\n",
       " '/content/drive/MyDrive/Skin cancer ISIC The International Skin Imaging Collaboration/Train/basal cell carcinoma/output/basal cell carcinoma_original_ISIC_0028106.jpg_57c02685-144c-483f-833c-84a7c3781c56.jpg',\n",
       " '/content/drive/MyDrive/Skin cancer ISIC The International Skin Imaging Collaboration/Train/basal cell carcinoma/output/basal cell carcinoma_original_ISIC_0027189.jpg_1f26c6e9-c1f6-4fe6-95f7-be270be4d4c3.jpg',\n",
       " '/content/drive/MyDrive/Skin cancer ISIC The International Skin Imaging Collaboration/Train/basal cell carcinoma/output/basal cell carcinoma_original_ISIC_0027966.jpg_3bf9af71-36c1-4f51-aeb2-ccee477f7a96.jpg',\n",
       " '/content/drive/MyDrive/Skin cancer ISIC The International Skin Imaging Collaboration/Train/basal cell carcinoma/output/basal cell carcinoma_original_ISIC_0026988.jpg_26512d56-3543-46d5-af77-1637aa4420c8.jpg',\n",
       " '/content/drive/MyDrive/Skin cancer ISIC The International Skin Imaging Collaboration/Train/basal cell carcinoma/output/basal cell carcinoma_original_ISIC_0029564.jpg_6c1e39fb-cad5-4833-a8ce-a0e535bfde0b.jpg',\n",
       " '/content/drive/MyDrive/Skin cancer ISIC The International Skin Imaging Collaboration/Train/basal cell carcinoma/output/basal cell carcinoma_original_ISIC_0024885.jpg_47b542ff-aa2b-4dfd-8908-3686c10f811d.jpg',\n",
       " '/content/drive/MyDrive/Skin cancer ISIC The International Skin Imaging Collaboration/Train/basal cell carcinoma/output/basal cell carcinoma_original_ISIC_0027998.jpg_cfc58505-1012-42f2-b47e-4973e58099cd.jpg',\n",
       " '/content/drive/MyDrive/Skin cancer ISIC The International Skin Imaging Collaboration/Train/basal cell carcinoma/output/basal cell carcinoma_original_ISIC_0025260.jpg_6c4612df-9b4e-482c-85c8-6e4604237f90.jpg',\n",
       " '/content/drive/MyDrive/Skin cancer ISIC The International Skin Imaging Collaboration/Train/basal cell carcinoma/output/basal cell carcinoma_original_ISIC_0026350.jpg_20f46c3a-4a1b-4ecb-9400-f16fa4a173fb.jpg',\n",
       " '/content/drive/MyDrive/Skin cancer ISIC The International Skin Imaging Collaboration/Train/basal cell carcinoma/output/basal cell carcinoma_original_ISIC_0027851.jpg_1ed7a555-1a62-413b-b74f-b52c3040ae8e.jpg',\n",
       " '/content/drive/MyDrive/Skin cancer ISIC The International Skin Imaging Collaboration/Train/basal cell carcinoma/output/basal cell carcinoma_original_ISIC_0024632.jpg_20e6d84d-04aa-42ed-838e-5de5e4cad830.jpg',\n",
       " '/content/drive/MyDrive/Skin cancer ISIC The International Skin Imaging Collaboration/Train/basal cell carcinoma/output/basal cell carcinoma_original_ISIC_0025285.jpg_9471a9e4-a149-4a74-9055-46285606051d.jpg',\n",
       " '/content/drive/MyDrive/Skin cancer ISIC The International Skin Imaging Collaboration/Train/basal cell carcinoma/output/basal cell carcinoma_original_ISIC_0028570.jpg_e71f630a-c29b-4b30-8f5b-52a5b50e7357.jpg',\n",
       " '/content/drive/MyDrive/Skin cancer ISIC The International Skin Imaging Collaboration/Train/basal cell carcinoma/output/basal cell carcinoma_original_ISIC_0030574.jpg_b652e6c6-8258-48bc-be5c-1b2f32dfb950.jpg',\n",
       " '/content/drive/MyDrive/Skin cancer ISIC The International Skin Imaging Collaboration/Train/basal cell carcinoma/output/basal cell carcinoma_original_ISIC_0028303.jpg_0a65534e-c517-47de-88ac-7e0a3977f704.jpg',\n",
       " '/content/drive/MyDrive/Skin cancer ISIC The International Skin Imaging Collaboration/Train/basal cell carcinoma/output/basal cell carcinoma_original_ISIC_0027046.jpg_22a64f99-80e9-44b9-80db-4b749aedd339.jpg',\n",
       " '/content/drive/MyDrive/Skin cancer ISIC The International Skin Imaging Collaboration/Train/basal cell carcinoma/output/basal cell carcinoma_original_ISIC_0029341.jpg_39c66bfb-6b1c-4d8b-a1cf-b9c46a518c5d.jpg',\n",
       " '/content/drive/MyDrive/Skin cancer ISIC The International Skin Imaging Collaboration/Train/basal cell carcinoma/output/basal cell carcinoma_original_ISIC_0024848.jpg_30522a77-4996-4c28-a50e-3098f9a21be8.jpg',\n",
       " '/content/drive/MyDrive/Skin cancer ISIC The International Skin Imaging Collaboration/Train/basal cell carcinoma/output/basal cell carcinoma_original_ISIC_0026275.jpg_90e45089-711b-4ee6-a2a3-8f1b567361bb.jpg',\n",
       " '/content/drive/MyDrive/Skin cancer ISIC The International Skin Imaging Collaboration/Train/basal cell carcinoma/output/basal cell carcinoma_original_ISIC_0025417.jpg_0ba15361-fe6d-40fe-866d-715038c78aa9.jpg',\n",
       " '/content/drive/MyDrive/Skin cancer ISIC The International Skin Imaging Collaboration/Train/basal cell carcinoma/output/basal cell carcinoma_original_ISIC_0026230.jpg_7d853e5c-7420-46f6-862e-9fbd9351a1c9.jpg',\n",
       " '/content/drive/MyDrive/Skin cancer ISIC The International Skin Imaging Collaboration/Train/basal cell carcinoma/output/basal cell carcinoma_original_ISIC_0031539.jpg_7ab6c11b-b33b-4994-844e-107f65c3752b.jpg',\n",
       " '/content/drive/MyDrive/Skin cancer ISIC The International Skin Imaging Collaboration/Train/basal cell carcinoma/output/basal cell carcinoma_original_ISIC_0025322.jpg_10dcfc53-fa67-4f77-901d-45f09ca1d388.jpg',\n",
       " '/content/drive/MyDrive/Skin cancer ISIC The International Skin Imaging Collaboration/Train/basal cell carcinoma/output/basal cell carcinoma_original_ISIC_0029263.jpg_73be8986-a033-41da-a059-50df3ddd67db.jpg',\n",
       " '/content/drive/MyDrive/Skin cancer ISIC The International Skin Imaging Collaboration/Train/basal cell carcinoma/output/basal cell carcinoma_original_ISIC_0027677.jpg_a8b3624b-5107-4703-b5b4-32695026fbdc.jpg',\n",
       " '/content/drive/MyDrive/Skin cancer ISIC The International Skin Imaging Collaboration/Train/basal cell carcinoma/output/basal cell carcinoma_original_ISIC_0027744.jpg_8e0b911a-8f81-43c8-b0da-31b84065f10d.jpg',\n",
       " '/content/drive/MyDrive/Skin cancer ISIC The International Skin Imaging Collaboration/Train/basal cell carcinoma/output/basal cell carcinoma_original_ISIC_0031526.jpg_6cce79ed-e908-41d6-bc45-0428d9179c5d.jpg',\n",
       " '/content/drive/MyDrive/Skin cancer ISIC The International Skin Imaging Collaboration/Train/basal cell carcinoma/output/basal cell carcinoma_original_ISIC_0025144.jpg_c7207356-5cb8-483e-bacd-523d65bb93f7.jpg',\n",
       " '/content/drive/MyDrive/Skin cancer ISIC The International Skin Imaging Collaboration/Train/basal cell carcinoma/output/basal cell carcinoma_original_ISIC_0030659.jpg_77fe6bb8-8713-4e8d-8567-047abd92aa0e.jpg',\n",
       " '/content/drive/MyDrive/Skin cancer ISIC The International Skin Imaging Collaboration/Train/basal cell carcinoma/output/basal cell carcinoma_original_ISIC_0029466.jpg_90b20d1a-213a-4b8a-a24a-bc45c90be972.jpg',\n",
       " '/content/drive/MyDrive/Skin cancer ISIC The International Skin Imaging Collaboration/Train/basal cell carcinoma/output/basal cell carcinoma_original_ISIC_0025260.jpg_0f1c6c0e-e2e6-47a5-aa3d-b560e0905e15.jpg',\n",
       " '/content/drive/MyDrive/Skin cancer ISIC The International Skin Imaging Collaboration/Train/basal cell carcinoma/output/basal cell carcinoma_original_ISIC_0031384.jpg_98f16cb5-07ac-42e9-8a93-331a556832dd.jpg',\n",
       " '/content/drive/MyDrive/Skin cancer ISIC The International Skin Imaging Collaboration/Train/basal cell carcinoma/output/basal cell carcinoma_original_ISIC_0028807.jpg_38b0315a-2059-4747-92b9-7029c0e0f17d.jpg',\n",
       " '/content/drive/MyDrive/Skin cancer ISIC The International Skin Imaging Collaboration/Train/basal cell carcinoma/output/basal cell carcinoma_original_ISIC_0027546.jpg_3e18a795-c763-429c-8b74-f45bf4894010.jpg',\n",
       " '/content/drive/MyDrive/Skin cancer ISIC The International Skin Imaging Collaboration/Train/basal cell carcinoma/output/basal cell carcinoma_original_ISIC_0030261.jpg_eab1f099-83bf-46e9-8a33-de63e33748ff.jpg',\n",
       " '/content/drive/MyDrive/Skin cancer ISIC The International Skin Imaging Collaboration/Train/basal cell carcinoma/output/basal cell carcinoma_original_ISIC_0026988.jpg_2b0919a5-b86b-4b80-93c2-6bdfbd729bbf.jpg',\n",
       " '/content/drive/MyDrive/Skin cancer ISIC The International Skin Imaging Collaboration/Train/basal cell carcinoma/output/basal cell carcinoma_original_ISIC_0028818.jpg_8b7f7b88-d22b-49a3-b1dc-3e3fb3dc36db.jpg',\n",
       " '/content/drive/MyDrive/Skin cancer ISIC The International Skin Imaging Collaboration/Train/basal cell carcinoma/output/basal cell carcinoma_original_ISIC_0029831.jpg_71014d98-65b5-4246-8074-d367f6f88c01.jpg',\n",
       " '/content/drive/MyDrive/Skin cancer ISIC The International Skin Imaging Collaboration/Train/basal cell carcinoma/output/basal cell carcinoma_original_ISIC_0028329.jpg_5c83c9c6-092f-42a2-a0cd-dae582cdcc20.jpg',\n",
       " '/content/drive/MyDrive/Skin cancer ISIC The International Skin Imaging Collaboration/Train/basal cell carcinoma/output/basal cell carcinoma_original_ISIC_0025557.jpg_50856b7a-bcb1-4999-8cf0-392d472b58e1.jpg',\n",
       " '/content/drive/MyDrive/Skin cancer ISIC The International Skin Imaging Collaboration/Train/basal cell carcinoma/output/basal cell carcinoma_original_ISIC_0027004.jpg_6b60c698-15ba-4f23-8dd1-b049b9cec0ea.jpg',\n",
       " '/content/drive/MyDrive/Skin cancer ISIC The International Skin Imaging Collaboration/Train/basal cell carcinoma/output/basal cell carcinoma_original_ISIC_0027337.jpg_2f1dc8cc-5ab1-45df-8e8b-12b7c08700ca.jpg',\n",
       " '/content/drive/MyDrive/Skin cancer ISIC The International Skin Imaging Collaboration/Train/basal cell carcinoma/output/basal cell carcinoma_original_ISIC_0029857.jpg_9da44edc-b8a8-4202-bb22-2e9b860c5d35.jpg',\n",
       " '/content/drive/MyDrive/Skin cancer ISIC The International Skin Imaging Collaboration/Train/basal cell carcinoma/output/basal cell carcinoma_original_ISIC_0028719.jpg_374c6a60-450e-409a-bf83-657b48ee1984.jpg',\n",
       " '/content/drive/MyDrive/Skin cancer ISIC The International Skin Imaging Collaboration/Train/basal cell carcinoma/output/basal cell carcinoma_original_ISIC_0025617.jpg_f2d1dac3-c553-4658-8682-9a6967c178c8.jpg',\n",
       " '/content/drive/MyDrive/Skin cancer ISIC The International Skin Imaging Collaboration/Train/basal cell carcinoma/output/basal cell carcinoma_original_ISIC_0031056.jpg_b1796387-9d98-4c65-8412-0d84c8e946a7.jpg',\n",
       " '/content/drive/MyDrive/Skin cancer ISIC The International Skin Imaging Collaboration/Train/basal cell carcinoma/output/basal cell carcinoma_original_ISIC_0027229.jpg_c840258f-9e0c-4548-8f09-1ef7ac2d35b6.jpg',\n",
       " '/content/drive/MyDrive/Skin cancer ISIC The International Skin Imaging Collaboration/Train/basal cell carcinoma/output/basal cell carcinoma_original_ISIC_0027744.jpg_9027de28-1b0b-494a-aad9-29cf21b65dc2.jpg',\n",
       " '/content/drive/MyDrive/Skin cancer ISIC The International Skin Imaging Collaboration/Train/basal cell carcinoma/output/basal cell carcinoma_original_ISIC_0031026.jpg_c78b2b92-a7a5-4dd7-8d24-8cfb00f449a5.jpg',\n",
       " '/content/drive/MyDrive/Skin cancer ISIC The International Skin Imaging Collaboration/Train/basal cell carcinoma/output/basal cell carcinoma_original_ISIC_0031243.jpg_d0edec90-03ab-4297-8339-3e7b04d2b725.jpg',\n",
       " '/content/drive/MyDrive/Skin cancer ISIC The International Skin Imaging Collaboration/Train/basal cell carcinoma/output/basal cell carcinoma_original_ISIC_0029501.jpg_f90d48dd-9f4d-4b59-9bad-406dbfe9c97c.jpg',\n",
       " '/content/drive/MyDrive/Skin cancer ISIC The International Skin Imaging Collaboration/Train/basal cell carcinoma/output/basal cell carcinoma_original_ISIC_0027966.jpg_26ae31a7-b229-4307-9a14-1621a9b584aa.jpg',\n",
       " '/content/drive/MyDrive/Skin cancer ISIC The International Skin Imaging Collaboration/Train/basal cell carcinoma/output/basal cell carcinoma_original_ISIC_0031243.jpg_3d769726-22f8-45cf-a50e-4d3b1331a83e.jpg',\n",
       " '/content/drive/MyDrive/Skin cancer ISIC The International Skin Imaging Collaboration/Train/basal cell carcinoma/output/basal cell carcinoma_original_ISIC_0027297.jpg_8425f504-7d83-4a23-9bf9-33335ab90221.jpg',\n",
       " '/content/drive/MyDrive/Skin cancer ISIC The International Skin Imaging Collaboration/Train/basal cell carcinoma/output/basal cell carcinoma_original_ISIC_0029745.jpg_0c5f248f-e6bb-43c8-bbac-a0d58fb57c2c.jpg',\n",
       " '/content/drive/MyDrive/Skin cancer ISIC The International Skin Imaging Collaboration/Train/basal cell carcinoma/output/basal cell carcinoma_original_ISIC_0024564.jpg_794631c1-9a91-41ce-a6e3-dcad344642af.jpg',\n",
       " '/content/drive/MyDrive/Skin cancer ISIC The International Skin Imaging Collaboration/Train/basal cell carcinoma/output/basal cell carcinoma_original_ISIC_0030452.jpg_11c52f6d-56cd-4f2b-b23d-a0ef16746987.jpg',\n",
       " '/content/drive/MyDrive/Skin cancer ISIC The International Skin Imaging Collaboration/Train/basal cell carcinoma/output/basal cell carcinoma_original_ISIC_0028542.jpg_bb3397d0-c1e8-40ae-94d5-19baa236c744.jpg',\n",
       " '/content/drive/MyDrive/Skin cancer ISIC The International Skin Imaging Collaboration/Train/basal cell carcinoma/output/basal cell carcinoma_original_ISIC_0027825.jpg_e4596039-5a84-476c-af30-7fb3b038ef4e.jpg',\n",
       " '/content/drive/MyDrive/Skin cancer ISIC The International Skin Imaging Collaboration/Train/basal cell carcinoma/output/basal cell carcinoma_original_ISIC_0030778.jpg_3cfc3f51-789e-42b5-836c-c6241d7e3d45.jpg',\n",
       " '/content/drive/MyDrive/Skin cancer ISIC The International Skin Imaging Collaboration/Train/basal cell carcinoma/output/basal cell carcinoma_original_ISIC_0024665.jpg_25f9ed74-0f7c-4af4-875d-20d3ad5b25d6.jpg',\n",
       " '/content/drive/MyDrive/Skin cancer ISIC The International Skin Imaging Collaboration/Train/basal cell carcinoma/output/basal cell carcinoma_original_ISIC_0030659.jpg_81262799-8d67-4887-bcaa-d3571ae88b83.jpg',\n",
       " '/content/drive/MyDrive/Skin cancer ISIC The International Skin Imaging Collaboration/Train/basal cell carcinoma/output/basal cell carcinoma_original_ISIC_0027629.jpg_93ecacf7-e4fd-4850-bbf9-f1be6c267d2f.jpg',\n",
       " '/content/drive/MyDrive/Skin cancer ISIC The International Skin Imaging Collaboration/Train/basal cell carcinoma/output/basal cell carcinoma_original_ISIC_0030574.jpg_445f7f09-8f46-487b-a587-9a39f6e18ae4.jpg',\n",
       " '/content/drive/MyDrive/Skin cancer ISIC The International Skin Imaging Collaboration/Train/basal cell carcinoma/output/basal cell carcinoma_original_ISIC_0029899.jpg_2ef9e8c8-6476-48b6-b640-4289d73b9e78.jpg',\n",
       " '/content/drive/MyDrive/Skin cancer ISIC The International Skin Imaging Collaboration/Train/basal cell carcinoma/output/basal cell carcinoma_original_ISIC_0028079.jpg_73914a02-917d-4a7f-9bac-6d313d8a8c11.jpg',\n",
       " '/content/drive/MyDrive/Skin cancer ISIC The International Skin Imaging Collaboration/Train/basal cell carcinoma/output/basal cell carcinoma_original_ISIC_0030690.jpg_549d5346-f3e1-496c-be30-6dad85e09b42.jpg',\n",
       " '/content/drive/MyDrive/Skin cancer ISIC The International Skin Imaging Collaboration/Train/basal cell carcinoma/output/basal cell carcinoma_original_ISIC_0028035.jpg_00c0f36a-e98f-4c4b-bff7-9d6ce3133b9b.jpg',\n",
       " '/content/drive/MyDrive/Skin cancer ISIC The International Skin Imaging Collaboration/Train/basal cell carcinoma/output/basal cell carcinoma_original_ISIC_0026090.jpg_3bf86e8d-d30c-4dc7-936d-4d09b6bf3f29.jpg',\n",
       " '/content/drive/MyDrive/Skin cancer ISIC The International Skin Imaging Collaboration/Train/basal cell carcinoma/output/basal cell carcinoma_original_ISIC_0031614.jpg_941b8093-f10c-4ce1-a126-b1d720381a57.jpg',\n",
       " '/content/drive/MyDrive/Skin cancer ISIC The International Skin Imaging Collaboration/Train/basal cell carcinoma/output/basal cell carcinoma_original_ISIC_0029034.jpg_e1d97fe8-8e76-40ec-a202-82c7e8f4e389.jpg',\n",
       " '/content/drive/MyDrive/Skin cancer ISIC The International Skin Imaging Collaboration/Train/basal cell carcinoma/output/basal cell carcinoma_original_ISIC_0030352.jpg_66c739fa-7874-4670-a13d-a6c488575730.jpg',\n",
       " '/content/drive/MyDrive/Skin cancer ISIC The International Skin Imaging Collaboration/Train/basal cell carcinoma/output/basal cell carcinoma_original_ISIC_0025557.jpg_26a4aef2-f44e-4c35-8e8a-d0b204765c0c.jpg',\n",
       " '/content/drive/MyDrive/Skin cancer ISIC The International Skin Imaging Collaboration/Train/basal cell carcinoma/output/basal cell carcinoma_original_ISIC_0024885.jpg_a5a5423c-ad19-439a-89e7-f99f10ae79f7.jpg',\n",
       " '/content/drive/MyDrive/Skin cancer ISIC The International Skin Imaging Collaboration/Train/basal cell carcinoma/output/basal cell carcinoma_original_ISIC_0027677.jpg_608e7ab6-838f-478d-9dde-bddd975ef161.jpg',\n",
       " '/content/drive/MyDrive/Skin cancer ISIC The International Skin Imaging Collaboration/Train/basal cell carcinoma/output/basal cell carcinoma_original_ISIC_0025940.jpg_840d0f65-836c-4904-8f53-7e6faf6743b8.jpg',\n",
       " '/content/drive/MyDrive/Skin cancer ISIC The International Skin Imaging Collaboration/Train/basal cell carcinoma/output/basal cell carcinoma_original_ISIC_0025299.jpg_6849d73d-cf1e-484f-9acd-e7343c8641db.jpg',\n",
       " '/content/drive/MyDrive/Skin cancer ISIC The International Skin Imaging Collaboration/Train/basal cell carcinoma/output/basal cell carcinoma_original_ISIC_0026574.jpg_7f47d59d-35ad-4e57-ac49-7ed2530cfb74.jpg',\n",
       " '/content/drive/MyDrive/Skin cancer ISIC The International Skin Imaging Collaboration/Train/basal cell carcinoma/output/basal cell carcinoma_original_ISIC_0028095.jpg_4256ea20-0528-4a68-8ccd-5650e57ac499.jpg',\n",
       " '/content/drive/MyDrive/Skin cancer ISIC The International Skin Imaging Collaboration/Train/basal cell carcinoma/output/basal cell carcinoma_original_ISIC_0028238.jpg_b92425af-2376-4a8b-a0a9-f04d30c66d8a.jpg',\n",
       " '/content/drive/MyDrive/Skin cancer ISIC The International Skin Imaging Collaboration/Train/basal cell carcinoma/output/basal cell carcinoma_original_ISIC_0025260.jpg_50e3cbf8-dafe-4785-94d4-3164f4ac3b37.jpg',\n",
       " '/content/drive/MyDrive/Skin cancer ISIC The International Skin Imaging Collaboration/Train/basal cell carcinoma/output/basal cell carcinoma_original_ISIC_0027531.jpg_f5ea3aaa-de11-411c-9fa0-9729602ecb1f.jpg',\n",
       " '/content/drive/MyDrive/Skin cancer ISIC The International Skin Imaging Collaboration/Train/basal cell carcinoma/output/basal cell carcinoma_original_ISIC_0030233.jpg_8323093b-5edb-4238-961a-e3f55b7d948f.jpg',\n",
       " '/content/drive/MyDrive/Skin cancer ISIC The International Skin Imaging Collaboration/Train/basal cell carcinoma/output/basal cell carcinoma_original_ISIC_0030737.jpg_af36d1ac-cd42-4ca3-898d-915e18470c92.jpg',\n",
       " '/content/drive/MyDrive/Skin cancer ISIC The International Skin Imaging Collaboration/Train/basal cell carcinoma/output/basal cell carcinoma_original_ISIC_0029779.jpg_3d935d0c-c553-4569-a4cb-43c3d0062f67.jpg',\n",
       " '/content/drive/MyDrive/Skin cancer ISIC The International Skin Imaging Collaboration/Train/basal cell carcinoma/output/basal cell carcinoma_original_ISIC_0031378.jpg_bbe0a0df-34db-48dd-88eb-2a24ad9c65b0.jpg',\n",
       " '/content/drive/MyDrive/Skin cancer ISIC The International Skin Imaging Collaboration/Train/basal cell carcinoma/output/basal cell carcinoma_original_ISIC_0029352.jpg_ab8805fc-b99e-461d-867f-496972b4588a.jpg',\n",
       " '/content/drive/MyDrive/Skin cancer ISIC The International Skin Imaging Collaboration/Train/basal cell carcinoma/output/basal cell carcinoma_original_ISIC_0028989.jpg_d9bad90f-164d-4b6a-98ed-b3d5632eb1a5.jpg',\n",
       " '/content/drive/MyDrive/Skin cancer ISIC The International Skin Imaging Collaboration/Train/basal cell carcinoma/output/basal cell carcinoma_original_ISIC_0025266.jpg_c643a812-7169-4f2d-ae51-5b5b577815c9.jpg',\n",
       " '/content/drive/MyDrive/Skin cancer ISIC The International Skin Imaging Collaboration/Train/basal cell carcinoma/output/basal cell carcinoma_original_ISIC_0029352.jpg_8f15e4db-d44c-488b-a9a4-18d83a50cb78.jpg',\n",
       " '/content/drive/MyDrive/Skin cancer ISIC The International Skin Imaging Collaboration/Train/basal cell carcinoma/output/basal cell carcinoma_original_ISIC_0024795.jpg_1ed79d7c-78cc-447e-9b22-f31e2c591952.jpg',\n",
       " '/content/drive/MyDrive/Skin cancer ISIC The International Skin Imaging Collaboration/Train/basal cell carcinoma/output/basal cell carcinoma_original_ISIC_0030915.jpg_94c0ae44-6e37-4a10-a4f3-689d0753cfe9.jpg',\n",
       " '/content/drive/MyDrive/Skin cancer ISIC The International Skin Imaging Collaboration/Train/basal cell carcinoma/output/basal cell carcinoma_original_ISIC_0025824.jpg_cde8126e-0afb-40c2-a396-f39ede2ad320.jpg',\n",
       " '/content/drive/MyDrive/Skin cancer ISIC The International Skin Imaging Collaboration/Train/basal cell carcinoma/output/basal cell carcinoma_original_ISIC_0024787.jpg_765fdf45-c726-48ae-802d-383ce747c51f.jpg',\n",
       " '/content/drive/MyDrive/Skin cancer ISIC The International Skin Imaging Collaboration/Train/basal cell carcinoma/output/basal cell carcinoma_original_ISIC_0025260.jpg_5a367b7f-e304-48f1-8c0f-74ea97852fd6.jpg',\n",
       " '/content/drive/MyDrive/Skin cancer ISIC The International Skin Imaging Collaboration/Train/basal cell carcinoma/output/basal cell carcinoma_original_ISIC_0027920.jpg_24f4040e-259a-4df7-be4f-ec265c667bec.jpg',\n",
       " '/content/drive/MyDrive/Skin cancer ISIC The International Skin Imaging Collaboration/Train/basal cell carcinoma/output/basal cell carcinoma_original_ISIC_0029193.jpg_738c5300-2f8d-4b0b-8208-a22c20dae6a7.jpg',\n",
       " '/content/drive/MyDrive/Skin cancer ISIC The International Skin Imaging Collaboration/Train/basal cell carcinoma/output/basal cell carcinoma_original_ISIC_0029489.jpg_34730acf-c8c2-4c8d-b06f-6f8c145b59db.jpg',\n",
       " '/content/drive/MyDrive/Skin cancer ISIC The International Skin Imaging Collaboration/Train/basal cell carcinoma/output/basal cell carcinoma_original_ISIC_0025322.jpg_3a2597c4-53e6-45f5-b70b-f98f64c43f3b.jpg',\n",
       " '/content/drive/MyDrive/Skin cancer ISIC The International Skin Imaging Collaboration/Train/basal cell carcinoma/output/basal cell carcinoma_original_ISIC_0028693.jpg_623afe6d-dde8-4ca1-a2dd-529efc2a4a54.jpg',\n",
       " '/content/drive/MyDrive/Skin cancer ISIC The International Skin Imaging Collaboration/Train/basal cell carcinoma/output/basal cell carcinoma_original_ISIC_0027704.jpg_6552bfc8-d42f-4d94-bcaa-0a7e4280dbe3.jpg',\n",
       " '/content/drive/MyDrive/Skin cancer ISIC The International Skin Imaging Collaboration/Train/basal cell carcinoma/output/basal cell carcinoma_original_ISIC_0028747.jpg_7fc899aa-7e0f-43c4-bf40-d22b50101b23.jpg',\n",
       " '/content/drive/MyDrive/Skin cancer ISIC The International Skin Imaging Collaboration/Train/basal cell carcinoma/output/basal cell carcinoma_original_ISIC_0027531.jpg_5170038f-1d7a-4bd1-a88f-3095491df13d.jpg',\n",
       " '/content/drive/MyDrive/Skin cancer ISIC The International Skin Imaging Collaboration/Train/basal cell carcinoma/output/basal cell carcinoma_original_ISIC_0028719.jpg_1a1fe257-a2c8-4fbc-9b64-3202c9a0cc17.jpg',\n",
       " '/content/drive/MyDrive/Skin cancer ISIC The International Skin Imaging Collaboration/Train/basal cell carcinoma/output/basal cell carcinoma_original_ISIC_0028671.jpg_6515a733-2188-40e2-979e-1e79fc2282b6.jpg',\n",
       " '/content/drive/MyDrive/Skin cancer ISIC The International Skin Imaging Collaboration/Train/basal cell carcinoma/output/basal cell carcinoma_original_ISIC_0029034.jpg_dcb8c739-765f-47e5-9e8c-a637e1603213.jpg',\n",
       " '/content/drive/MyDrive/Skin cancer ISIC The International Skin Imaging Collaboration/Train/basal cell carcinoma/output/basal cell carcinoma_original_ISIC_0027920.jpg_d8397847-14c0-44fa-8347-f85c2ece20c6.jpg',\n",
       " '/content/drive/MyDrive/Skin cancer ISIC The International Skin Imaging Collaboration/Train/basal cell carcinoma/output/basal cell carcinoma_original_ISIC_0028495.jpg_9b1b6105-62e7-4b81-bf89-c95718d364a4.jpg',\n",
       " '/content/drive/MyDrive/Skin cancer ISIC The International Skin Imaging Collaboration/Train/basal cell carcinoma/output/basal cell carcinoma_original_ISIC_0029053.jpg_47f1e45c-cf0a-41cc-8ffd-ed1341b9ae84.jpg',\n",
       " '/content/drive/MyDrive/Skin cancer ISIC The International Skin Imaging Collaboration/Train/basal cell carcinoma/output/basal cell carcinoma_original_ISIC_0029352.jpg_bfd487d5-4d7b-4b02-b609-ad9e4a935c04.jpg',\n",
       " '/content/drive/MyDrive/Skin cancer ISIC The International Skin Imaging Collaboration/Train/basal cell carcinoma/output/basal cell carcinoma_original_ISIC_0024897.jpg_a1e92773-ea25-424d-aaa4-b52b0bc4e969.jpg',\n",
       " '/content/drive/MyDrive/Skin cancer ISIC The International Skin Imaging Collaboration/Train/basal cell carcinoma/output/basal cell carcinoma_original_ISIC_0026952.jpg_cf5125a1-854c-4576-ac0d-f336edf9e4f5.jpg',\n",
       " '/content/drive/MyDrive/Skin cancer ISIC The International Skin Imaging Collaboration/Train/basal cell carcinoma/output/basal cell carcinoma_original_ISIC_0030964.jpg_8ecf6304-34b0-4f2c-b752-2f8ae08023f6.jpg',\n",
       " '/content/drive/MyDrive/Skin cancer ISIC The International Skin Imaging Collaboration/Train/basal cell carcinoma/output/basal cell carcinoma_original_ISIC_0029515.jpg_a7ec6e0b-2f9f-4c1b-96d9-626b9f4ad140.jpg',\n",
       " '/content/drive/MyDrive/Skin cancer ISIC The International Skin Imaging Collaboration/Train/basal cell carcinoma/output/basal cell carcinoma_original_ISIC_0028556.jpg_d5e578ad-424e-4f80-b2f7-9488bc7c5921.jpg',\n",
       " '/content/drive/MyDrive/Skin cancer ISIC The International Skin Imaging Collaboration/Train/basal cell carcinoma/output/basal cell carcinoma_original_ISIC_0025557.jpg_4f8a63f5-e3f0-43b5-b8f0-08f028d678f0.jpg',\n",
       " '/content/drive/MyDrive/Skin cancer ISIC The International Skin Imaging Collaboration/Train/basal cell carcinoma/output/basal cell carcinoma_original_ISIC_0025285.jpg_5030e6ef-9c07-4b74-91e6-c2f4be00df9a.jpg',\n",
       " '/content/drive/MyDrive/Skin cancer ISIC The International Skin Imaging Collaboration/Train/basal cell carcinoma/output/basal cell carcinoma_original_ISIC_0030335.jpg_5438d240-64c9-4777-bf0c-a9da44856017.jpg',\n",
       " '/content/drive/MyDrive/Skin cancer ISIC The International Skin Imaging Collaboration/Train/basal cell carcinoma/output/basal cell carcinoma_original_ISIC_0025046.jpg_03d8a2f6-b4c8-427d-9f63-aa67a82db903.jpg',\n",
       " '/content/drive/MyDrive/Skin cancer ISIC The International Skin Imaging Collaboration/Train/basal cell carcinoma/output/basal cell carcinoma_original_ISIC_0028928.jpg_fb82f177-2779-4ab1-ba85-d623472808ef.jpg',\n",
       " '/content/drive/MyDrive/Skin cancer ISIC The International Skin Imaging Collaboration/Train/basal cell carcinoma/output/basal cell carcinoma_original_ISIC_0025711.jpg_73b6f22f-7dd9-4d37-a67d-6686294a1fdb.jpg',\n",
       " '/content/drive/MyDrive/Skin cancer ISIC The International Skin Imaging Collaboration/Train/basal cell carcinoma/output/basal cell carcinoma_original_ISIC_0030893.jpg_596e1dee-07b7-4ab2-ada5-43d72b39deac.jpg',\n",
       " '/content/drive/MyDrive/Skin cancer ISIC The International Skin Imaging Collaboration/Train/basal cell carcinoma/output/basal cell carcinoma_original_ISIC_0029082.jpg_8cc95962-a174-49fb-800a-0b90cf21938a.jpg',\n",
       " '/content/drive/MyDrive/Skin cancer ISIC The International Skin Imaging Collaboration/Train/basal cell carcinoma/output/basal cell carcinoma_original_ISIC_0029974.jpg_57e8677e-920f-461b-8b72-85fbf080e1f1.jpg',\n",
       " '/content/drive/MyDrive/Skin cancer ISIC The International Skin Imaging Collaboration/Train/basal cell carcinoma/output/basal cell carcinoma_original_ISIC_0029515.jpg_185bf8d7-edf3-47fb-9539-4d3e250a0d8f.jpg',\n",
       " '/content/drive/MyDrive/Skin cancer ISIC The International Skin Imaging Collaboration/Train/basal cell carcinoma/output/basal cell carcinoma_original_ISIC_0025417.jpg_ddfc5ba1-7bbb-4d48-8435-c6ff792b3208.jpg',\n",
       " '/content/drive/MyDrive/Skin cancer ISIC The International Skin Imaging Collaboration/Train/basal cell carcinoma/output/basal cell carcinoma_original_ISIC_0030755.jpg_1f661227-b2d0-4d86-942e-7be94d916c0c.jpg',\n",
       " '/content/drive/MyDrive/Skin cancer ISIC The International Skin Imaging Collaboration/Train/basal cell carcinoma/output/basal cell carcinoma_original_ISIC_0030526.jpg_4f305bd8-fecb-4db9-9147-4af82a185093.jpg',\n",
       " '/content/drive/MyDrive/Skin cancer ISIC The International Skin Imaging Collaboration/Train/basal cell carcinoma/output/basal cell carcinoma_original_ISIC_0029323.jpg_cb5299f5-c63d-4f75-b210-6646603d48ec.jpg',\n",
       " '/content/drive/MyDrive/Skin cancer ISIC The International Skin Imaging Collaboration/Train/basal cell carcinoma/output/basal cell carcinoma_original_ISIC_0031470.jpg_ec4db723-c116-4dd9-a1d1-6035a37d8716.jpg',\n",
       " '/content/drive/MyDrive/Skin cancer ISIC The International Skin Imaging Collaboration/Train/basal cell carcinoma/output/basal cell carcinoma_original_ISIC_0030096.jpg_fc451369-719f-4b98-8ba8-ed16ca6ea122.jpg',\n",
       " '/content/drive/MyDrive/Skin cancer ISIC The International Skin Imaging Collaboration/Train/basal cell carcinoma/output/basal cell carcinoma_original_ISIC_0028556.jpg_054f803f-29e9-46f1-bc3c-655daeb517fc.jpg',\n",
       " '/content/drive/MyDrive/Skin cancer ISIC The International Skin Imaging Collaboration/Train/basal cell carcinoma/output/basal cell carcinoma_original_ISIC_0025601.jpg_0443937b-9e61-4dc8-8964-d603220ecf4d.jpg',\n",
       " '/content/drive/MyDrive/Skin cancer ISIC The International Skin Imaging Collaboration/Train/basal cell carcinoma/output/basal cell carcinoma_original_ISIC_0031597.jpg_908c376c-356a-4e73-9020-e621ab262497.jpg',\n",
       " '/content/drive/MyDrive/Skin cancer ISIC The International Skin Imaging Collaboration/Train/basal cell carcinoma/output/basal cell carcinoma_original_ISIC_0026766.jpg_33a3de71-2b28-45e4-9b52-1828178e7248.jpg',\n",
       " '/content/drive/MyDrive/Skin cancer ISIC The International Skin Imaging Collaboration/Train/basal cell carcinoma/output/basal cell carcinoma_original_ISIC_0026970.jpg_8ccc16a8-513c-4d93-9c41-36f8702c7a32.jpg',\n",
       " '/content/drive/MyDrive/Skin cancer ISIC The International Skin Imaging Collaboration/Train/basal cell carcinoma/output/basal cell carcinoma_original_ISIC_0029337.jpg_b886e24c-f9a1-4c54-9653-1fc2e9a79369.jpg',\n",
       " '/content/drive/MyDrive/Skin cancer ISIC The International Skin Imaging Collaboration/Train/basal cell carcinoma/output/basal cell carcinoma_original_ISIC_0024582.jpg_81827046-2e58-431a-979d-254ddbc7e7fa.jpg',\n",
       " '/content/drive/MyDrive/Skin cancer ISIC The International Skin Imaging Collaboration/Train/basal cell carcinoma/output/basal cell carcinoma_original_ISIC_0025718.jpg_76ed410f-5b01-4253-8949-e172577c5e4c.jpg',\n",
       " '/content/drive/MyDrive/Skin cancer ISIC The International Skin Imaging Collaboration/Train/basal cell carcinoma/output/basal cell carcinoma_original_ISIC_0029342.jpg_21387a6c-15d3-4900-b534-c77292519511.jpg',\n",
       " '/content/drive/MyDrive/Skin cancer ISIC The International Skin Imaging Collaboration/Train/basal cell carcinoma/output/basal cell carcinoma_original_ISIC_0028818.jpg_a5fc51ab-90a7-4d92-bc0a-384f914ce577.jpg',\n",
       " '/content/drive/MyDrive/Skin cancer ISIC The International Skin Imaging Collaboration/Train/basal cell carcinoma/output/basal cell carcinoma_original_ISIC_0025557.jpg_949c7eda-b841-4586-b3b8-a06d8b8ed021.jpg',\n",
       " '/content/drive/MyDrive/Skin cancer ISIC The International Skin Imaging Collaboration/Train/basal cell carcinoma/output/basal cell carcinoma_original_ISIC_0029341.jpg_07de506c-bf0e-462a-b618-767bf5772b0b.jpg',\n",
       " '/content/drive/MyDrive/Skin cancer ISIC The International Skin Imaging Collaboration/Train/basal cell carcinoma/output/basal cell carcinoma_original_ISIC_0027814.jpg_a5e92ca3-a200-49ac-b76f-836b36086ca0.jpg',\n",
       " '/content/drive/MyDrive/Skin cancer ISIC The International Skin Imaging Collaboration/Train/basal cell carcinoma/output/basal cell carcinoma_original_ISIC_0026056.jpg_7858c8d4-9527-4c32-86ba-faef9049c7b3.jpg',\n",
       " '/content/drive/MyDrive/Skin cancer ISIC The International Skin Imaging Collaboration/Train/basal cell carcinoma/output/basal cell carcinoma_original_ISIC_0027058.jpg_af8be959-3b30-4bf8-b1fe-d7a546f6cbcd.jpg',\n",
       " '/content/drive/MyDrive/Skin cancer ISIC The International Skin Imaging Collaboration/Train/basal cell carcinoma/output/basal cell carcinoma_original_ISIC_0027865.jpg_34ed4863-2c57-4c1b-a975-6c106e7cf521.jpg',\n",
       " '/content/drive/MyDrive/Skin cancer ISIC The International Skin Imaging Collaboration/Train/basal cell carcinoma/output/basal cell carcinoma_original_ISIC_0028168.jpg_16fbfd60-cfb8-4da4-a446-728c1a4b20cf.jpg',\n",
       " '/content/drive/MyDrive/Skin cancer ISIC The International Skin Imaging Collaboration/Train/basal cell carcinoma/output/basal cell carcinoma_original_ISIC_0029412.jpg_681b608a-0ca4-4781-b050-534b879c55d7.jpg',\n",
       " '/content/drive/MyDrive/Skin cancer ISIC The International Skin Imaging Collaboration/Train/basal cell carcinoma/output/basal cell carcinoma_original_ISIC_0028556.jpg_6046c50b-4458-4c3a-b4d7-5efc131a8dc0.jpg',\n",
       " '/content/drive/MyDrive/Skin cancer ISIC The International Skin Imaging Collaboration/Train/basal cell carcinoma/output/basal cell carcinoma_original_ISIC_0031009.jpg_81bfd854-ba45-4550-8523-b7bf77064e2b.jpg',\n",
       " '/content/drive/MyDrive/Skin cancer ISIC The International Skin Imaging Collaboration/Train/basal cell carcinoma/output/basal cell carcinoma_original_ISIC_0026940.jpg_e8a75c4a-3129-4347-8749-8b148273bb20.jpg',\n",
       " '/content/drive/MyDrive/Skin cancer ISIC The International Skin Imaging Collaboration/Train/basal cell carcinoma/output/basal cell carcinoma_original_ISIC_0028095.jpg_e2cf07ad-bdc8-4e77-85ff-00e1fd7d2bcf.jpg',\n",
       " '/content/drive/MyDrive/Skin cancer ISIC The International Skin Imaging Collaboration/Train/basal cell carcinoma/output/basal cell carcinoma_original_ISIC_0028457.jpg_a4ce317e-d436-4674-a018-2940067df6ce.jpg',\n",
       " '/content/drive/MyDrive/Skin cancer ISIC The International Skin Imaging Collaboration/Train/basal cell carcinoma/output/basal cell carcinoma_original_ISIC_0028316.jpg_820eab14-de4c-4782-809d-68290640645f.jpg',\n",
       " '/content/drive/MyDrive/Skin cancer ISIC The International Skin Imaging Collaboration/Train/basal cell carcinoma/output/basal cell carcinoma_original_ISIC_0028107.jpg_476c7aea-951e-4f5a-b238-7df2ef097c19.jpg',\n",
       " '/content/drive/MyDrive/Skin cancer ISIC The International Skin Imaging Collaboration/Train/basal cell carcinoma/output/basal cell carcinoma_original_ISIC_0027038.jpg_930bfbbf-ff2e-4bae-b1a8-f15ee07429ca.jpg',\n",
       " '/content/drive/MyDrive/Skin cancer ISIC The International Skin Imaging Collaboration/Train/basal cell carcinoma/output/basal cell carcinoma_original_ISIC_0024634.jpg_7d5b5392-0a72-415c-87b1-1ca80e26c39c.jpg',\n",
       " '/content/drive/MyDrive/Skin cancer ISIC The International Skin Imaging Collaboration/Train/basal cell carcinoma/output/basal cell carcinoma_original_ISIC_0029391.jpg_d7b7eef4-dffa-494e-8ca3-282d3ea1ca5a.jpg',\n",
       " '/content/drive/MyDrive/Skin cancer ISIC The International Skin Imaging Collaboration/Train/basal cell carcinoma/output/basal cell carcinoma_original_ISIC_0027058.jpg_4f184425-0112-4121-84a5-605171b34cd4.jpg',\n",
       " '/content/drive/MyDrive/Skin cancer ISIC The International Skin Imaging Collaboration/Train/basal cell carcinoma/output/basal cell carcinoma_original_ISIC_0025299.jpg_b7392244-b06f-4885-84d5-bee0adbd3917.jpg',\n",
       " '/content/drive/MyDrive/Skin cancer ISIC The International Skin Imaging Collaboration/Train/basal cell carcinoma/output/basal cell carcinoma_original_ISIC_0027545.jpg_0837d575-1802-4d3a-8ac6-96ad7d1dd75c.jpg',\n",
       " '/content/drive/MyDrive/Skin cancer ISIC The International Skin Imaging Collaboration/Train/basal cell carcinoma/output/basal cell carcinoma_original_ISIC_0027004.jpg_0e67a527-e6d6-4719-9fb5-f4a0fb611acc.jpg',\n",
       " '/content/drive/MyDrive/Skin cancer ISIC The International Skin Imaging Collaboration/Train/basal cell carcinoma/output/basal cell carcinoma_original_ISIC_0028570.jpg_2f2433cf-5e9f-4fa7-9014-f041336a31dd.jpg',\n",
       " '/content/drive/MyDrive/Skin cancer ISIC The International Skin Imaging Collaboration/Train/basal cell carcinoma/output/basal cell carcinoma_original_ISIC_0026902.jpg_ba608f8f-b961-4316-be7b-46d08bb16985.jpg',\n",
       " '/content/drive/MyDrive/Skin cancer ISIC The International Skin Imaging Collaboration/Train/basal cell carcinoma/output/basal cell carcinoma_original_ISIC_0029857.jpg_fd8c2961-9eb4-40c8-9fe7-7e8ca0d2854c.jpg',\n",
       " '/content/drive/MyDrive/Skin cancer ISIC The International Skin Imaging Collaboration/Train/basal cell carcinoma/output/basal cell carcinoma_original_ISIC_0027146.jpg_ee3534dd-ba7e-42f4-a2f3-507788a79e4b.jpg',\n",
       " '/content/drive/MyDrive/Skin cancer ISIC The International Skin Imaging Collaboration/Train/basal cell carcinoma/output/basal cell carcinoma_original_ISIC_0029545.jpg_e67fd74e-077e-4b24-a745-044f04b69004.jpg',\n",
       " '/content/drive/MyDrive/Skin cancer ISIC The International Skin Imaging Collaboration/Train/basal cell carcinoma/output/basal cell carcinoma_original_ISIC_0027915.jpg_dc3c484f-a37a-4d49-9dc2-827209270302.jpg',\n",
       " '/content/drive/MyDrive/Skin cancer ISIC The International Skin Imaging Collaboration/Train/basal cell carcinoma/output/basal cell carcinoma_original_ISIC_0026865.jpg_e4a85dc5-fb57-4638-8453-7800f57d2ff1.jpg',\n",
       " '/content/drive/MyDrive/Skin cancer ISIC The International Skin Imaging Collaboration/Train/basal cell carcinoma/output/basal cell carcinoma_original_ISIC_0031400.jpg_10884fe5-20e6-4b4e-8e0b-81ec59ab1e65.jpg',\n",
       " '/content/drive/MyDrive/Skin cancer ISIC The International Skin Imaging Collaboration/Train/basal cell carcinoma/output/basal cell carcinoma_original_ISIC_0031284.jpg_751a475b-6f14-46fe-b828-2cb1984c1fa6.jpg',\n",
       " '/content/drive/MyDrive/Skin cancer ISIC The International Skin Imaging Collaboration/Train/basal cell carcinoma/output/basal cell carcinoma_original_ISIC_0026766.jpg_c8eb6715-0ba6-460c-be59-5143f263160b.jpg',\n",
       " '/content/drive/MyDrive/Skin cancer ISIC The International Skin Imaging Collaboration/Train/basal cell carcinoma/output/basal cell carcinoma_original_ISIC_0029035.jpg_6e86171b-42ff-4f2f-8542-c6a23fb7609c.jpg',\n",
       " '/content/drive/MyDrive/Skin cancer ISIC The International Skin Imaging Collaboration/Train/basal cell carcinoma/output/basal cell carcinoma_original_ISIC_0029331.jpg_8c37dcfb-47c6-41d0-bf43-823db4432dfa.jpg',\n",
       " '/content/drive/MyDrive/Skin cancer ISIC The International Skin Imaging Collaboration/Train/basal cell carcinoma/output/basal cell carcinoma_original_ISIC_0031056.jpg_9b13a882-fa0a-4586-8d15-319e3447656c.jpg',\n",
       " '/content/drive/MyDrive/Skin cancer ISIC The International Skin Imaging Collaboration/Train/basal cell carcinoma/output/basal cell carcinoma_original_ISIC_0027998.jpg_aa5395d0-3839-45af-9d30-01a08caed5a5.jpg',\n",
       " '/content/drive/MyDrive/Skin cancer ISIC The International Skin Imaging Collaboration/Train/basal cell carcinoma/output/basal cell carcinoma_original_ISIC_0030010.jpg_ed024ca0-1ae1-4dc2-beaf-3f9ce2dab1fc.jpg',\n",
       " '/content/drive/MyDrive/Skin cancer ISIC The International Skin Imaging Collaboration/Train/basal cell carcinoma/output/basal cell carcinoma_original_ISIC_0031063.jpg_9a2b87b5-2cc0-4d28-af82-ef7bca556e23.jpg',\n",
       " '/content/drive/MyDrive/Skin cancer ISIC The International Skin Imaging Collaboration/Train/basal cell carcinoma/output/basal cell carcinoma_original_ISIC_0025530.jpg_b1c27b9b-c293-46db-a19e-e4019eed7fc3.jpg',\n",
       " '/content/drive/MyDrive/Skin cancer ISIC The International Skin Imaging Collaboration/Train/basal cell carcinoma/output/basal cell carcinoma_original_ISIC_0031298.jpg_de5d58e0-281c-4e5f-a523-d81d5dcb97b6.jpg',\n",
       " '/content/drive/MyDrive/Skin cancer ISIC The International Skin Imaging Collaboration/Train/basal cell carcinoma/output/basal cell carcinoma_original_ISIC_0029669.jpg_5c1a8f5b-f270-47f0-bac6-b1e14937e4a1.jpg',\n",
       " '/content/drive/MyDrive/Skin cancer ISIC The International Skin Imaging Collaboration/Train/basal cell carcinoma/output/basal cell carcinoma_original_ISIC_0031140.jpg_526977eb-6950-4e29-8aad-48a7effd6082.jpg',\n",
       " '/content/drive/MyDrive/Skin cancer ISIC The International Skin Imaging Collaboration/Train/basal cell carcinoma/output/basal cell carcinoma_original_ISIC_0027759.jpg_e239f5be-a9fb-4731-b57a-ce71527bd928.jpg',\n",
       " '/content/drive/MyDrive/Skin cancer ISIC The International Skin Imaging Collaboration/Train/basal cell carcinoma/output/basal cell carcinoma_original_ISIC_0030574.jpg_9ccee2f9-e01c-4d05-88bf-3ab1c7750b2c.jpg',\n",
       " '/content/drive/MyDrive/Skin cancer ISIC The International Skin Imaging Collaboration/Train/basal cell carcinoma/output/basal cell carcinoma_original_ISIC_0031154.jpg_35236689-5384-4d6c-91a6-63dec638b34d.jpg',\n",
       " '/content/drive/MyDrive/Skin cancer ISIC The International Skin Imaging Collaboration/Train/basal cell carcinoma/output/basal cell carcinoma_original_ISIC_0028728.jpg_ef953342-dc47-47ed-8692-2d127210c1eb.jpg',\n",
       " '/content/drive/MyDrive/Skin cancer ISIC The International Skin Imaging Collaboration/Train/basal cell carcinoma/output/basal cell carcinoma_original_ISIC_0031243.jpg_145cefb9-f6da-4332-8a38-8690638633af.jpg',\n",
       " '/content/drive/MyDrive/Skin cancer ISIC The International Skin Imaging Collaboration/Train/basal cell carcinoma/output/basal cell carcinoma_original_ISIC_0025513.jpg_f33afa34-2151-4f04-9fa5-78845c2ddeb4.jpg',\n",
       " '/content/drive/MyDrive/Skin cancer ISIC The International Skin Imaging Collaboration/Train/basal cell carcinoma/output/basal cell carcinoma_original_ISIC_0031470.jpg_92f32705-9c12-46ea-881c-f88676635d83.jpg',\n",
       " '/content/drive/MyDrive/Skin cancer ISIC The International Skin Imaging Collaboration/Train/basal cell carcinoma/output/basal cell carcinoma_original_ISIC_0025826.jpg_66389a0b-4052-44de-b301-7c04ccf260d3.jpg',\n",
       " '/content/drive/MyDrive/Skin cancer ISIC The International Skin Imaging Collaboration/Train/basal cell carcinoma/output/basal cell carcinoma_original_ISIC_0024949.jpg_84b29f37-ae81-4fa1-b35d-918613b5b1a0.jpg',\n",
       " '/content/drive/MyDrive/Skin cancer ISIC The International Skin Imaging Collaboration/Train/basal cell carcinoma/output/basal cell carcinoma_original_ISIC_0026865.jpg_de6ed1f0-0ed0-4df8-88b0-a3934b17f695.jpg',\n",
       " '/content/drive/MyDrive/Skin cancer ISIC The International Skin Imaging Collaboration/Train/basal cell carcinoma/output/basal cell carcinoma_original_ISIC_0029331.jpg_6fcc52e6-dc82-4798-9202-ae90539860be.jpg',\n",
       " '/content/drive/MyDrive/Skin cancer ISIC The International Skin Imaging Collaboration/Train/basal cell carcinoma/output/basal cell carcinoma_original_ISIC_0031245.jpg_eace34d4-ab92-4ac3-9f81-f1d5500db031.jpg',\n",
       " '/content/drive/MyDrive/Skin cancer ISIC The International Skin Imaging Collaboration/Train/basal cell carcinoma/output/basal cell carcinoma_original_ISIC_0028980.jpg_f415d10a-c06e-4c43-bb25-8c4e109231a0.jpg',\n",
       " '/content/drive/MyDrive/Skin cancer ISIC The International Skin Imaging Collaboration/Train/basal cell carcinoma/output/basal cell carcinoma_original_ISIC_0031450.jpg_262bec07-1705-4461-a222-2b8b4a97692a.jpg',\n",
       " '/content/drive/MyDrive/Skin cancer ISIC The International Skin Imaging Collaboration/Train/basal cell carcinoma/output/basal cell carcinoma_original_ISIC_0029545.jpg_1f9efdba-2baf-40fb-b0fd-2ef21bb8f4ed.jpg',\n",
       " '/content/drive/MyDrive/Skin cancer ISIC The International Skin Imaging Collaboration/Train/basal cell carcinoma/output/basal cell carcinoma_original_ISIC_0024897.jpg_e96a4a40-1180-4afa-b11d-aa090886fced.jpg',\n",
       " '/content/drive/MyDrive/Skin cancer ISIC The International Skin Imaging Collaboration/Train/basal cell carcinoma/output/basal cell carcinoma_original_ISIC_0025260.jpg_f1062a48-aa0b-415d-b1fc-d757d5db69a6.jpg',\n",
       " '/content/drive/MyDrive/Skin cancer ISIC The International Skin Imaging Collaboration/Train/basal cell carcinoma/output/basal cell carcinoma_original_ISIC_0026442.jpg_fff4c587-542e-4ba2-b418-ab4437c4fa5f.jpg',\n",
       " '/content/drive/MyDrive/Skin cancer ISIC The International Skin Imaging Collaboration/Train/basal cell carcinoma/output/basal cell carcinoma_original_ISIC_0029820.jpg_aa5ee615-40f4-49f1-8ce7-088cc294b8c8.jpg',\n",
       " '/content/drive/MyDrive/Skin cancer ISIC The International Skin Imaging Collaboration/Train/basal cell carcinoma/output/basal cell carcinoma_original_ISIC_0031063.jpg_9ebcd709-4fd1-43b8-ba05-a815f2884884.jpg',\n",
       " '/content/drive/MyDrive/Skin cancer ISIC The International Skin Imaging Collaboration/Train/basal cell carcinoma/output/basal cell carcinoma_original_ISIC_0024897.jpg_92c9f717-3a28-45c4-85fc-637dd8c4fb5e.jpg',\n",
       " '/content/drive/MyDrive/Skin cancer ISIC The International Skin Imaging Collaboration/Train/basal cell carcinoma/output/basal cell carcinoma_original_ISIC_0028168.jpg_b1e07f3d-f3ff-4c66-bb8b-d011da06e6d9.jpg',\n",
       " '/content/drive/MyDrive/Skin cancer ISIC The International Skin Imaging Collaboration/Train/basal cell carcinoma/output/basal cell carcinoma_original_ISIC_0028980.jpg_aeb01eff-f4e3-434c-a714-ed93e43dde99.jpg',\n",
       " '/content/drive/MyDrive/Skin cancer ISIC The International Skin Imaging Collaboration/Train/basal cell carcinoma/output/basal cell carcinoma_original_ISIC_0028871.jpg_d798a96c-b09a-41d0-917f-a6bae4fb7634.jpg',\n",
       " '/content/drive/MyDrive/Skin cancer ISIC The International Skin Imaging Collaboration/Train/basal cell carcinoma/output/basal cell carcinoma_original_ISIC_0026343.jpg_b93ac65a-9e4b-44f2-b854-055aeb78061f.jpg',\n",
       " '/content/drive/MyDrive/Skin cancer ISIC The International Skin Imaging Collaboration/Train/basal cell carcinoma/output/basal cell carcinoma_original_ISIC_0030339.jpg_a852cd5c-da34-4fa9-b39c-7a90cb97879e.jpg',\n",
       " '/content/drive/MyDrive/Skin cancer ISIC The International Skin Imaging Collaboration/Train/basal cell carcinoma/output/basal cell carcinoma_original_ISIC_0026350.jpg_b681c394-3be8-47c1-933e-90e23ab676dc.jpg',\n",
       " '/content/drive/MyDrive/Skin cancer ISIC The International Skin Imaging Collaboration/Train/basal cell carcinoma/output/basal cell carcinoma_original_ISIC_0028079.jpg_fa3e72db-b878-4ed5-bb4e-8c97e03183bc.jpg',\n",
       " '/content/drive/MyDrive/Skin cancer ISIC The International Skin Imaging Collaboration/Train/basal cell carcinoma/output/basal cell carcinoma_original_ISIC_0024515.jpg_9789895e-122f-4580-9724-52c5bbfad81b.jpg',\n",
       " '/content/drive/MyDrive/Skin cancer ISIC The International Skin Imaging Collaboration/Train/basal cell carcinoma/output/basal cell carcinoma_original_ISIC_0028238.jpg_4516dd13-33f9-4245-bc37-3bcee64975f2.jpg',\n",
       " '/content/drive/MyDrive/Skin cancer ISIC The International Skin Imaging Collaboration/Train/basal cell carcinoma/output/basal cell carcinoma_original_ISIC_0026337.jpg_2ac186f0-2fb2-4f70-a8d9-38ea13786bb8.jpg',\n",
       " '/content/drive/MyDrive/Skin cancer ISIC The International Skin Imaging Collaboration/Train/basal cell carcinoma/output/basal cell carcinoma_original_ISIC_0029192.jpg_8e3072f8-d463-4bc4-b99f-35ac9c259b72.jpg',\n",
       " '/content/drive/MyDrive/Skin cancer ISIC The International Skin Imaging Collaboration/Train/basal cell carcinoma/output/basal cell carcinoma_original_ISIC_0028457.jpg_d8037d59-2ed6-4f40-a690-cae124a09461.jpg',\n",
       " '/content/drive/MyDrive/Skin cancer ISIC The International Skin Imaging Collaboration/Train/basal cell carcinoma/output/basal cell carcinoma_original_ISIC_0027090.jpg_14081562-51be-4517-bf13-779ef0220e2b.jpg',\n",
       " '/content/drive/MyDrive/Skin cancer ISIC The International Skin Imaging Collaboration/Train/basal cell carcinoma/output/basal cell carcinoma_original_ISIC_0029680.jpg_b11be44a-a5b6-4386-988e-b1bdaaf52502.jpg',\n",
       " '/content/drive/MyDrive/Skin cancer ISIC The International Skin Imaging Collaboration/Train/basal cell carcinoma/output/basal cell carcinoma_original_ISIC_0029263.jpg_01616eb7-6bfc-4943-aaa3-baa2768f7b40.jpg',\n",
       " '/content/drive/MyDrive/Skin cancer ISIC The International Skin Imaging Collaboration/Train/basal cell carcinoma/output/basal cell carcinoma_original_ISIC_0027004.jpg_490a5dc9-c017-492f-b669-e3108a91b79f.jpg',\n",
       " '/content/drive/MyDrive/Skin cancer ISIC The International Skin Imaging Collaboration/Train/basal cell carcinoma/output/basal cell carcinoma_original_ISIC_0025557.jpg_8a7e7fd0-8268-44c9-bf9c-6b4ab2cde3c9.jpg',\n",
       " '/content/drive/MyDrive/Skin cancer ISIC The International Skin Imaging Collaboration/Train/basal cell carcinoma/output/basal cell carcinoma_original_ISIC_0025752.jpg_1d07e1e8-6d10-4ec2-9737-5c4472d27e51.jpg',\n",
       " '/content/drive/MyDrive/Skin cancer ISIC The International Skin Imaging Collaboration/Train/basal cell carcinoma/output/basal cell carcinoma_original_ISIC_0030574.jpg_51fdcfc7-d2f1-406e-8719-2a4baa141a7c.jpg',\n",
       " '/content/drive/MyDrive/Skin cancer ISIC The International Skin Imaging Collaboration/Train/basal cell carcinoma/output/basal cell carcinoma_original_ISIC_0030271.jpg_2c4ef5fd-97c3-4150-8155-1b1e842a7145.jpg',\n",
       " '/content/drive/MyDrive/Skin cancer ISIC The International Skin Imaging Collaboration/Train/basal cell carcinoma/output/basal cell carcinoma_original_ISIC_0027525.jpg_ba4b459d-54c6-46d7-8d0a-5e2fd87ceab1.jpg',\n",
       " '/content/drive/MyDrive/Skin cancer ISIC The International Skin Imaging Collaboration/Train/basal cell carcinoma/output/basal cell carcinoma_original_ISIC_0028283.jpg_b046c43e-01da-4806-abc6-83d95aec147d.jpg',\n",
       " '/content/drive/MyDrive/Skin cancer ISIC The International Skin Imaging Collaboration/Train/basal cell carcinoma/output/basal cell carcinoma_original_ISIC_0026343.jpg_ba12b57e-170d-4744-958e-c417170911bb.jpg',\n",
       " '/content/drive/MyDrive/Skin cancer ISIC The International Skin Imaging Collaboration/Train/basal cell carcinoma/output/basal cell carcinoma_original_ISIC_0024885.jpg_56cb35b0-b7df-45db-97ed-edd86791594c.jpg',\n",
       " '/content/drive/MyDrive/Skin cancer ISIC The International Skin Imaging Collaboration/Train/basal cell carcinoma/output/basal cell carcinoma_original_ISIC_0030230.jpg_ca7455bf-8dc4-492d-a5ff-e7d3fec1f21a.jpg',\n",
       " '/content/drive/MyDrive/Skin cancer ISIC The International Skin Imaging Collaboration/Train/basal cell carcinoma/output/basal cell carcinoma_original_ISIC_0024582.jpg_18c8f7ad-51bd-4eee-b564-2630605a18f9.jpg',\n",
       " '/content/drive/MyDrive/Skin cancer ISIC The International Skin Imaging Collaboration/Train/basal cell carcinoma/output/basal cell carcinoma_original_ISIC_0027825.jpg_d82f49ba-bd55-4065-82ab-b2e604bff5b6.jpg',\n",
       " '/content/drive/MyDrive/Skin cancer ISIC The International Skin Imaging Collaboration/Train/basal cell carcinoma/output/basal cell carcinoma_original_ISIC_0028747.jpg_883ec0f3-ab32-477a-aadb-31922c318527.jpg',\n",
       " '/content/drive/MyDrive/Skin cancer ISIC The International Skin Imaging Collaboration/Train/basal cell carcinoma/output/basal cell carcinoma_original_ISIC_0031026.jpg_bad8dc39-7791-4a95-893a-d189a34e94e8.jpg',\n",
       " '/content/drive/MyDrive/Skin cancer ISIC The International Skin Imaging Collaboration/Train/basal cell carcinoma/output/basal cell carcinoma_original_ISIC_0025650.jpg_48ceb0e5-b8af-4316-81e0-59c067d9f716.jpg',\n",
       " '/content/drive/MyDrive/Skin cancer ISIC The International Skin Imaging Collaboration/Train/basal cell carcinoma/output/basal cell carcinoma_original_ISIC_0031351.jpg_b438f3fe-2478-4c22-870b-acd167faa493.jpg',\n",
       " '/content/drive/MyDrive/Skin cancer ISIC The International Skin Imaging Collaboration/Train/basal cell carcinoma/output/basal cell carcinoma_original_ISIC_0026988.jpg_020252fd-f1a0-4552-a06d-17082c9ebcae.jpg',\n",
       " '/content/drive/MyDrive/Skin cancer ISIC The International Skin Imaging Collaboration/Train/basal cell carcinoma/output/basal cell carcinoma_original_ISIC_0025932.jpg_2fe7de7c-492f-4145-a3bc-b770f35bc4d1.jpg',\n",
       " '/content/drive/MyDrive/Skin cancer ISIC The International Skin Imaging Collaboration/Train/basal cell carcinoma/output/basal cell carcinoma_original_ISIC_0026118.jpg_34471dbd-df34-4885-b64d-a82e93a94c01.jpg',\n",
       " '/content/drive/MyDrive/Skin cancer ISIC The International Skin Imaging Collaboration/Train/basal cell carcinoma/output/basal cell carcinoma_original_ISIC_0030755.jpg_21086e77-961b-4a5d-8be1-ea5261fb134f.jpg',\n",
       " '/content/drive/MyDrive/Skin cancer ISIC The International Skin Imaging Collaboration/Train/basal cell carcinoma/output/basal cell carcinoma_original_ISIC_0031063.jpg_ac33145c-ced2-4e60-b26d-246c72a0d6aa.jpg',\n",
       " '/content/drive/MyDrive/Skin cancer ISIC The International Skin Imaging Collaboration/Train/basal cell carcinoma/output/basal cell carcinoma_original_ISIC_0029951.jpg_699d17f3-049f-41b4-bcc9-c7eb19ba2cf9.jpg',\n",
       " '/content/drive/MyDrive/Skin cancer ISIC The International Skin Imaging Collaboration/Train/basal cell carcinoma/output/basal cell carcinoma_original_ISIC_0028303.jpg_d0e28cac-bb36-4707-bbb7-c6292e83e3ef.jpg',\n",
       " '/content/drive/MyDrive/Skin cancer ISIC The International Skin Imaging Collaboration/Train/basal cell carcinoma/output/basal cell carcinoma_original_ISIC_0026090.jpg_d3f0e522-dc3a-4606-b61f-9ca8dac8fd52.jpg',\n",
       " '/content/drive/MyDrive/Skin cancer ISIC The International Skin Imaging Collaboration/Train/basal cell carcinoma/output/basal cell carcinoma_original_ISIC_0028670.jpg_b53ce3bc-0b53-469d-80eb-9b7a643b199c.jpg',\n",
       " '/content/drive/MyDrive/Skin cancer ISIC The International Skin Imaging Collaboration/Train/basal cell carcinoma/output/basal cell carcinoma_original_ISIC_0028106.jpg_b5b02115-d5af-40ab-a242-12bf1f47e732.jpg',\n",
       " '/content/drive/MyDrive/Skin cancer ISIC The International Skin Imaging Collaboration/Train/basal cell carcinoma/output/basal cell carcinoma_original_ISIC_0026192.jpg_da25dceb-d8c2-4d1a-a1c0-d0ce819f41b0.jpg',\n",
       " '/content/drive/MyDrive/Skin cancer ISIC The International Skin Imaging Collaboration/Train/basal cell carcinoma/output/basal cell carcinoma_original_ISIC_0030868.jpg_a239096a-5de0-4152-90f1-af73905fd12a.jpg',\n",
       " '/content/drive/MyDrive/Skin cancer ISIC The International Skin Imaging Collaboration/Train/basal cell carcinoma/output/basal cell carcinoma_original_ISIC_0027846.jpg_b60c7b97-3621-4f92-a78f-a3e17c3030cb.jpg',\n",
       " '/content/drive/MyDrive/Skin cancer ISIC The International Skin Imaging Collaboration/Train/basal cell carcinoma/output/basal cell carcinoma_original_ISIC_0030233.jpg_3d251300-12c0-4b66-894a-540387850536.jpg',\n",
       " '/content/drive/MyDrive/Skin cancer ISIC The International Skin Imaging Collaboration/Train/basal cell carcinoma/output/basal cell carcinoma_original_ISIC_0028747.jpg_0962b990-752d-4ef4-ba43-996d5bbe49de.jpg',\n",
       " '/content/drive/MyDrive/Skin cancer ISIC The International Skin Imaging Collaboration/Train/basal cell carcinoma/output/basal cell carcinoma_original_ISIC_0028814.jpg_9ac7736f-45b8-4396-8df4-d5f75092ddf5.jpg',\n",
       " '/content/drive/MyDrive/Skin cancer ISIC The International Skin Imaging Collaboration/Train/basal cell carcinoma/output/basal cell carcinoma_original_ISIC_0031007.jpg_1deef83c-2fa5-4f67-941d-37ab02bf3b6b.jpg',\n",
       " '/content/drive/MyDrive/Skin cancer ISIC The International Skin Imaging Collaboration/Train/basal cell carcinoma/output/basal cell carcinoma_original_ISIC_0025700.jpg_829e263f-4d4d-4736-843a-c7a301b40496.jpg',\n",
       " '/content/drive/MyDrive/Skin cancer ISIC The International Skin Imaging Collaboration/Train/basal cell carcinoma/output/basal cell carcinoma_original_ISIC_0029546.jpg_0ecaf433-6b7f-4352-ac68-0ea198555dd2.jpg',\n",
       " '/content/drive/MyDrive/Skin cancer ISIC The International Skin Imaging Collaboration/Train/basal cell carcinoma/output/basal cell carcinoma_original_ISIC_0028989.jpg_198d9fdb-c667-4bbf-afe6-f74c19edf277.jpg',\n",
       " '/content/drive/MyDrive/Skin cancer ISIC The International Skin Imaging Collaboration/Train/basal cell carcinoma/output/basal cell carcinoma_original_ISIC_0030452.jpg_b492fb15-4e70-4d6a-9966-819ba18cc380.jpg',\n",
       " '/content/drive/MyDrive/Skin cancer ISIC The International Skin Imaging Collaboration/Train/basal cell carcinoma/output/basal cell carcinoma_original_ISIC_0031245.jpg_7fd8fd3b-7fd3-4f69-b827-615ad7f7de7f.jpg',\n",
       " '/content/drive/MyDrive/Skin cancer ISIC The International Skin Imaging Collaboration/Train/basal cell carcinoma/output/basal cell carcinoma_original_ISIC_0031351.jpg_714923d3-fedb-400d-8d47-ce245725ffd3.jpg',\n",
       " '/content/drive/MyDrive/Skin cancer ISIC The International Skin Imaging Collaboration/Train/basal cell carcinoma/output/basal cell carcinoma_original_ISIC_0027788.jpg_358c8cc1-0f96-4c20-b639-ec73a27bb221.jpg',\n",
       " '/content/drive/MyDrive/Skin cancer ISIC The International Skin Imaging Collaboration/Train/basal cell carcinoma/output/basal cell carcinoma_original_ISIC_0028978.jpg_ea027723-73f0-4099-92ea-5f1f7a148d5c.jpg',\n",
       " '/content/drive/MyDrive/Skin cancer ISIC The International Skin Imaging Collaboration/Train/basal cell carcinoma/output/basal cell carcinoma_original_ISIC_0026845.jpg_3a3b5d72-5215-4d19-a0fc-5a5fb7fbc16f.jpg',\n",
       " '/content/drive/MyDrive/Skin cancer ISIC The International Skin Imaging Collaboration/Train/basal cell carcinoma/output/basal cell carcinoma_original_ISIC_0028283.jpg_1be026c7-b710-40ef-b5b4-b8f9685f67da.jpg',\n",
       " '/content/drive/MyDrive/Skin cancer ISIC The International Skin Imaging Collaboration/Train/basal cell carcinoma/output/basal cell carcinoma_original_ISIC_0031122.jpg_99e59564-ebb4-4981-9909-0dd0c6754b75.jpg',\n",
       " '/content/drive/MyDrive/Skin cancer ISIC The International Skin Imaging Collaboration/Train/basal cell carcinoma/output/basal cell carcinoma_original_ISIC_0028147.jpg_7559e945-c7c6-4a5c-adfe-6138f1a7ab73.jpg',\n",
       " '/content/drive/MyDrive/Skin cancer ISIC The International Skin Imaging Collaboration/Train/basal cell carcinoma/output/basal cell carcinoma_original_ISIC_0031614.jpg_9f652c30-2743-422d-a363-f6e2cf41df90.jpg',\n",
       " '/content/drive/MyDrive/Skin cancer ISIC The International Skin Imaging Collaboration/Train/basal cell carcinoma/output/basal cell carcinoma_original_ISIC_0025383.jpg_068dcfdb-5d5c-46fe-acd4-7f0c7abb5519.jpg',\n",
       " '/content/drive/MyDrive/Skin cancer ISIC The International Skin Imaging Collaboration/Train/basal cell carcinoma/output/basal cell carcinoma_original_ISIC_0030755.jpg_2b1bf7d8-d2d4-49a1-bbcd-afbfba0273b7.jpg',\n",
       " '/content/drive/MyDrive/Skin cancer ISIC The International Skin Imaging Collaboration/Train/basal cell carcinoma/output/basal cell carcinoma_original_ISIC_0027744.jpg_f1de8876-a3db-4213-8f2d-25073859cf1e.jpg',\n",
       " '/content/drive/MyDrive/Skin cancer ISIC The International Skin Imaging Collaboration/Train/basal cell carcinoma/output/basal cell carcinoma_original_ISIC_0031442.jpg_ab982029-740b-4954-944e-8e1ecd7f1a68.jpg',\n",
       " '/content/drive/MyDrive/Skin cancer ISIC The International Skin Imaging Collaboration/Train/basal cell carcinoma/output/basal cell carcinoma_original_ISIC_0029564.jpg_ba789c91-e8b7-49fe-8a99-2c25cc48b244.jpg',\n",
       " '/content/drive/MyDrive/Skin cancer ISIC The International Skin Imaging Collaboration/Train/basal cell carcinoma/output/basal cell carcinoma_original_ISIC_0029856.jpg_881d0354-adb0-4e3d-8210-65e88b832013.jpg',\n",
       " '/content/drive/MyDrive/Skin cancer ISIC The International Skin Imaging Collaboration/Train/basal cell carcinoma/output/basal cell carcinoma_original_ISIC_0025362.jpg_51d50b6e-b1c3-44e4-867a-fecb43adae04.jpg',\n",
       " '/content/drive/MyDrive/Skin cancer ISIC The International Skin Imaging Collaboration/Train/basal cell carcinoma/output/basal cell carcinoma_original_ISIC_0029082.jpg_2d628d5b-1802-484d-b843-1a38dfaa1e17.jpg',\n",
       " '/content/drive/MyDrive/Skin cancer ISIC The International Skin Imaging Collaboration/Train/basal cell carcinoma/output/basal cell carcinoma_original_ISIC_0025711.jpg_1669cb23-6ac6-4702-992b-38ff328e0654.jpg',\n",
       " '/content/drive/MyDrive/Skin cancer ISIC The International Skin Imaging Collaboration/Train/basal cell carcinoma/output/basal cell carcinoma_original_ISIC_0029745.jpg_9393ad39-e652-428d-bab7-c1841637bbc7.jpg',\n",
       " '/content/drive/MyDrive/Skin cancer ISIC The International Skin Imaging Collaboration/Train/basal cell carcinoma/output/basal cell carcinoma_original_ISIC_0029515.jpg_4e520180-8a48-49cf-a6a4-2760b3b09424.jpg',\n",
       " '/content/drive/MyDrive/Skin cancer ISIC The International Skin Imaging Collaboration/Train/basal cell carcinoma/output/basal cell carcinoma_original_ISIC_0027966.jpg_6ca20a7a-7ba0-4550-992c-65eefbffbb96.jpg',\n",
       " '/content/drive/MyDrive/Skin cancer ISIC The International Skin Imaging Collaboration/Train/basal cell carcinoma/output/basal cell carcinoma_original_ISIC_0026090.jpg_b12aa483-e542-4717-87b8-04379847a915.jpg',\n",
       " '/content/drive/MyDrive/Skin cancer ISIC The International Skin Imaging Collaboration/Train/basal cell carcinoma/output/basal cell carcinoma_original_ISIC_0030349.jpg_9177618d-f4f0-4e37-9119-2938f9f5c81d.jpg',\n",
       " '/content/drive/MyDrive/Skin cancer ISIC The International Skin Imaging Collaboration/Train/basal cell carcinoma/output/basal cell carcinoma_original_ISIC_0028978.jpg_d616be9d-223b-4574-aab4-b02b894e6348.jpg',\n",
       " '/content/drive/MyDrive/Skin cancer ISIC The International Skin Imaging Collaboration/Train/basal cell carcinoma/output/basal cell carcinoma_original_ISIC_0030755.jpg_ae19e6b1-382f-43d9-8980-46cc0d0f3b06.jpg',\n",
       " '/content/drive/MyDrive/Skin cancer ISIC The International Skin Imaging Collaboration/Train/basal cell carcinoma/output/basal cell carcinoma_original_ISIC_0028980.jpg_a2d3c327-03ca-47ff-9ed0-ae446cfd6041.jpg',\n",
       " '/content/drive/MyDrive/Skin cancer ISIC The International Skin Imaging Collaboration/Train/basal cell carcinoma/output/basal cell carcinoma_original_ISIC_0029083.jpg_dea67ebc-5326-45b5-8e28-0e194ce451d9.jpg',\n",
       " '/content/drive/MyDrive/Skin cancer ISIC The International Skin Imaging Collaboration/Train/basal cell carcinoma/output/basal cell carcinoma_original_ISIC_0029323.jpg_dd1e2d1e-f39e-4b72-9b81-16308e0dbad1.jpg',\n",
       " '/content/drive/MyDrive/Skin cancer ISIC The International Skin Imaging Collaboration/Train/basal cell carcinoma/output/basal cell carcinoma_original_ISIC_0031378.jpg_3eb0d460-ff22-452d-b82c-90bbe1bb0b27.jpg',\n",
       " '/content/drive/MyDrive/Skin cancer ISIC The International Skin Imaging Collaboration/Train/basal cell carcinoma/output/basal cell carcinoma_original_ISIC_0025383.jpg_063149ea-f2a5-401d-946e-a6ce2e39ec30.jpg',\n",
       " '/content/drive/MyDrive/Skin cancer ISIC The International Skin Imaging Collaboration/Train/basal cell carcinoma/output/basal cell carcinoma_original_ISIC_0031597.jpg_2b6f0bd8-5eb8-41ce-8788-f58036299e7e.jpg',\n",
       " '/content/drive/MyDrive/Skin cancer ISIC The International Skin Imaging Collaboration/Train/basal cell carcinoma/output/basal cell carcinoma_original_ISIC_0027175.jpg_8868da88-aba3-4cd0-b3fc-fc4ccaeab705.jpg',\n",
       " '/content/drive/MyDrive/Skin cancer ISIC The International Skin Imaging Collaboration/Train/basal cell carcinoma/output/basal cell carcinoma_original_ISIC_0030746.jpg_85fac1bd-9aff-4b2b-a5fc-f6ffac85aad7.jpg',\n",
       " '/content/drive/MyDrive/Skin cancer ISIC The International Skin Imaging Collaboration/Train/basal cell carcinoma/output/basal cell carcinoma_original_ISIC_0027595.jpg_14adc21f-7246-431e-a0eb-49d951b54e03.jpg',\n",
       " '/content/drive/MyDrive/Skin cancer ISIC The International Skin Imaging Collaboration/Train/basal cell carcinoma/output/basal cell carcinoma_original_ISIC_0029123.jpg_3bee8697-52c0-4d89-86dc-e85a81e14087.jpg',\n",
       " '/content/drive/MyDrive/Skin cancer ISIC The International Skin Imaging Collaboration/Train/basal cell carcinoma/output/basal cell carcinoma_original_ISIC_0025940.jpg_d5ba0f37-2e1c-41cd-adb6-9adbde9ea074.jpg',\n",
       " '/content/drive/MyDrive/Skin cancer ISIC The International Skin Imaging Collaboration/Train/basal cell carcinoma/output/basal cell carcinoma_original_ISIC_0028419.jpg_eb108d5d-12b7-4d26-a7da-296ba00804e7.jpg',\n",
       " '/content/drive/MyDrive/Skin cancer ISIC The International Skin Imaging Collaboration/Train/basal cell carcinoma/output/basal cell carcinoma_original_ISIC_0028677.jpg_1f807c9c-19a8-49ae-bce5-e59b57769ac9.jpg',\n",
       " '/content/drive/MyDrive/Skin cancer ISIC The International Skin Imaging Collaboration/Train/basal cell carcinoma/output/basal cell carcinoma_original_ISIC_0030271.jpg_83390752-5619-4897-b7f0-90a6efebcede.jpg',\n",
       " '/content/drive/MyDrive/Skin cancer ISIC The International Skin Imaging Collaboration/Train/basal cell carcinoma/output/basal cell carcinoma_original_ISIC_0027058.jpg_9e0e14f6-c210-456b-8ece-77e72cccd72c.jpg',\n",
       " '/content/drive/MyDrive/Skin cancer ISIC The International Skin Imaging Collaboration/Train/basal cell carcinoma/output/basal cell carcinoma_original_ISIC_0026090.jpg_c9346f68-5576-4d00-90ff-1122854016ee.jpg',\n",
       " '/content/drive/MyDrive/Skin cancer ISIC The International Skin Imaging Collaboration/Train/basal cell carcinoma/output/basal cell carcinoma_original_ISIC_0028747.jpg_fc9f2074-3df6-4d69-850d-60c625dd23bd.jpg',\n",
       " '/content/drive/MyDrive/Skin cancer ISIC The International Skin Imaging Collaboration/Train/basal cell carcinoma/output/basal cell carcinoma_original_ISIC_0024572.jpg_e931836e-1310-4cef-b6c9-e9e0a4a26141.jpg',\n",
       " '/content/drive/MyDrive/Skin cancer ISIC The International Skin Imaging Collaboration/Train/basal cell carcinoma/output/basal cell carcinoma_original_ISIC_0027525.jpg_094d0910-63a9-4cf6-817d-dc17a4d16547.jpg',\n",
       " '/content/drive/MyDrive/Skin cancer ISIC The International Skin Imaging Collaboration/Train/basal cell carcinoma/output/basal cell carcinoma_original_ISIC_0030349.jpg_f298ca96-23e6-4651-8b27-a04567b10f66.jpg',\n",
       " '/content/drive/MyDrive/Skin cancer ISIC The International Skin Imaging Collaboration/Train/basal cell carcinoma/output/basal cell carcinoma_original_ISIC_0028815.jpg_ba81e07d-55c3-44fd-a5cb-5fce882f2070.jpg',\n",
       " '/content/drive/MyDrive/Skin cancer ISIC The International Skin Imaging Collaboration/Train/basal cell carcinoma/output/basal cell carcinoma_original_ISIC_0028147.jpg_e91862e8-28a3-4f85-842f-1f931d0a6b2f.jpg',\n",
       " '/content/drive/MyDrive/Skin cancer ISIC The International Skin Imaging Collaboration/Train/basal cell carcinoma/output/basal cell carcinoma_original_ISIC_0026855.jpg_6aa7e62d-0acc-449d-8488-7b6ef39d30a1.jpg',\n",
       " '/content/drive/MyDrive/Skin cancer ISIC The International Skin Imaging Collaboration/Train/basal cell carcinoma/output/basal cell carcinoma_original_ISIC_0028050.jpg_5ee2d923-66cb-42dd-9122-148e39aa0889.jpg',\n",
       " '/content/drive/MyDrive/Skin cancer ISIC The International Skin Imaging Collaboration/Train/basal cell carcinoma/output/basal cell carcinoma_original_ISIC_0030954.jpg_6151d7d4-fd60-400e-a6f3-4e3b756b4951.jpg',\n",
       " '/content/drive/MyDrive/Skin cancer ISIC The International Skin Imaging Collaboration/Train/basal cell carcinoma/output/basal cell carcinoma_original_ISIC_0028890.jpg_860d1142-d8b1-4ed9-b393-ebab9d683fb3.jpg',\n",
       " '/content/drive/MyDrive/Skin cancer ISIC The International Skin Imaging Collaboration/Train/basal cell carcinoma/output/basal cell carcinoma_original_ISIC_0027090.jpg_3364a263-89be-4913-a4c7-ff4f143f9f0f.jpg',\n",
       " '/content/drive/MyDrive/Skin cancer ISIC The International Skin Imaging Collaboration/Train/basal cell carcinoma/output/basal cell carcinoma_original_ISIC_0027998.jpg_119d85ef-f7e5-41a9-b30b-0b484d1bdb34.jpg',\n",
       " '/content/drive/MyDrive/Skin cancer ISIC The International Skin Imaging Collaboration/Train/basal cell carcinoma/output/basal cell carcinoma_original_ISIC_0027915.jpg_435c33d7-a065-4811-99c4-093c1cb12b42.jpg',\n",
       " '/content/drive/MyDrive/Skin cancer ISIC The International Skin Imaging Collaboration/Train/basal cell carcinoma/output/basal cell carcinoma_original_ISIC_0026855.jpg_16a853e1-cfb1-434f-9244-c7b0b2c915a0.jpg',\n",
       " '/content/drive/MyDrive/Skin cancer ISIC The International Skin Imaging Collaboration/Train/basal cell carcinoma/output/basal cell carcinoma_original_ISIC_0031272.jpg_c72218ce-a183-486b-998b-cdeee67ec34a.jpg',\n",
       " '/content/drive/MyDrive/Skin cancer ISIC The International Skin Imaging Collaboration/Train/basal cell carcinoma/output/basal cell carcinoma_original_ISIC_0031062.jpg_863fb815-6a9b-46ed-8747-706cde1f7e87.jpg',\n",
       " '/content/drive/MyDrive/Skin cancer ISIC The International Skin Imaging Collaboration/Train/basal cell carcinoma/output/basal cell carcinoma_original_ISIC_0026952.jpg_8fc771e4-b4cf-4dd0-8ae2-e8a9fc0d19b9.jpg',\n",
       " '/content/drive/MyDrive/Skin cancer ISIC The International Skin Imaging Collaboration/Train/basal cell carcinoma/output/basal cell carcinoma_original_ISIC_0027858.jpg_776147bd-43e4-4ff8-9775-9561b01a6dab.jpg',\n",
       " '/content/drive/MyDrive/Skin cancer ISIC The International Skin Imaging Collaboration/Train/basal cell carcinoma/output/basal cell carcinoma_original_ISIC_0027819.jpg_72588823-00e4-44ec-b491-b850982504bc.jpg',\n",
       " '/content/drive/MyDrive/Skin cancer ISIC The International Skin Imaging Collaboration/Train/basal cell carcinoma/output/basal cell carcinoma_original_ISIC_0027473.jpg_e27f57ed-283a-4f07-a995-ab987e606402.jpg',\n",
       " '/content/drive/MyDrive/Skin cancer ISIC The International Skin Imaging Collaboration/Train/basal cell carcinoma/output/basal cell carcinoma_original_ISIC_0030181.jpg_c385d27f-54b9-46b3-8fdb-f77fa49663ce.jpg',\n",
       " '/content/drive/MyDrive/Skin cancer ISIC The International Skin Imaging Collaboration/Train/basal cell carcinoma/output/basal cell carcinoma_original_ISIC_0031294.jpg_57f1a820-97f2-4cf7-9509-adf3744636a7.jpg',\n",
       " '/content/drive/MyDrive/Skin cancer ISIC The International Skin Imaging Collaboration/Train/basal cell carcinoma/output/basal cell carcinoma_original_ISIC_0026213.jpg_81f4f50f-b6d1-42d6-b8a5-ea0b81746e97.jpg',\n",
       " '/content/drive/MyDrive/Skin cancer ISIC The International Skin Imaging Collaboration/Train/basal cell carcinoma/output/basal cell carcinoma_original_ISIC_0031062.jpg_db5ca404-f7c1-41e0-8585-46dd9441c24b.jpg',\n",
       " '/content/drive/MyDrive/Skin cancer ISIC The International Skin Imaging Collaboration/Train/basal cell carcinoma/output/basal cell carcinoma_original_ISIC_0031063.jpg_259e20cf-b07f-4f19-93ea-e9311d5d8f26.jpg',\n",
       " '/content/drive/MyDrive/Skin cancer ISIC The International Skin Imaging Collaboration/Train/basal cell carcinoma/output/basal cell carcinoma_original_ISIC_0026496.jpg_e22f135d-24ba-40e1-99c0-2c402f72aa8b.jpg',\n",
       " '/content/drive/MyDrive/Skin cancer ISIC The International Skin Imaging Collaboration/Train/basal cell carcinoma/output/basal cell carcinoma_original_ISIC_0026453.jpg_cbd1c3ba-6038-4094-9f97-784259e08bf4.jpg',\n",
       " '/content/drive/MyDrive/Skin cancer ISIC The International Skin Imaging Collaboration/Train/basal cell carcinoma/output/basal cell carcinoma_original_ISIC_0024897.jpg_81431978-3398-4fcf-b814-409e7bfdc89d.jpg',\n",
       " '/content/drive/MyDrive/Skin cancer ISIC The International Skin Imaging Collaboration/Train/basal cell carcinoma/output/basal cell carcinoma_original_ISIC_0024665.jpg_c20117b9-437a-4a45-aa8f-29e06641860f.jpg',\n",
       " '/content/drive/MyDrive/Skin cancer ISIC The International Skin Imaging Collaboration/Train/basal cell carcinoma/output/basal cell carcinoma_original_ISIC_0026496.jpg_d2eb53a2-1222-4cb3-93b4-1ba43c86bd69.jpg',\n",
       " '/content/drive/MyDrive/Skin cancer ISIC The International Skin Imaging Collaboration/Train/basal cell carcinoma/output/basal cell carcinoma_original_ISIC_0028652.jpg_14daca2e-50fe-440d-a4df-4f40bf4439f7.jpg',\n",
       " '/content/drive/MyDrive/Skin cancer ISIC The International Skin Imaging Collaboration/Train/basal cell carcinoma/output/basal cell carcinoma_original_ISIC_0030868.jpg_03725d06-7e20-4939-96d8-062eb8a239ed.jpg',\n",
       " '/content/drive/MyDrive/Skin cancer ISIC The International Skin Imaging Collaboration/Train/basal cell carcinoma/output/basal cell carcinoma_original_ISIC_0031140.jpg_03e00e15-b171-4569-8ecf-c4ce49f36bbb.jpg',\n",
       " '/content/drive/MyDrive/Skin cancer ISIC The International Skin Imaging Collaboration/Train/basal cell carcinoma/output/basal cell carcinoma_original_ISIC_0028747.jpg_f3aea5f0-2054-4e58-b985-71b276ce2341.jpg',\n",
       " '/content/drive/MyDrive/Skin cancer ISIC The International Skin Imaging Collaboration/Train/basal cell carcinoma/output/basal cell carcinoma_original_ISIC_0024550.jpg_e917e1d4-d252-4ff2-88a3-16194776e320.jpg',\n",
       " '/content/drive/MyDrive/Skin cancer ISIC The International Skin Imaging Collaboration/Train/basal cell carcinoma/output/basal cell carcinoma_original_ISIC_0029524.jpg_d59ae28b-f2e3-4f9e-a314-cbd12d971b28.jpg',\n",
       " '/content/drive/MyDrive/Skin cancer ISIC The International Skin Imaging Collaboration/Train/basal cell carcinoma/output/basal cell carcinoma_original_ISIC_0027473.jpg_0dcc4d40-5ae2-4933-9b9a-7090e05e3a1f.jpg',\n",
       " '/content/drive/MyDrive/Skin cancer ISIC The International Skin Imaging Collaboration/Train/basal cell carcinoma/output/basal cell carcinoma_original_ISIC_0030766.jpg_b6fe1213-47b8-4452-8d3a-063e96c1c57f.jpg',\n",
       " '/content/drive/MyDrive/Skin cancer ISIC The International Skin Imaging Collaboration/Train/basal cell carcinoma/output/basal cell carcinoma_original_ISIC_0030800.jpg_73a8c104-795c-4cb4-82cd-3bbb625cc9f7.jpg',\n",
       " '/content/drive/MyDrive/Skin cancer ISIC The International Skin Imaging Collaboration/Train/basal cell carcinoma/output/basal cell carcinoma_original_ISIC_0025046.jpg_1b12f24d-9dc8-4c61-8233-2bf6732606fb.jpg',\n",
       " '/content/drive/MyDrive/Skin cancer ISIC The International Skin Imaging Collaboration/Train/basal cell carcinoma/output/basal cell carcinoma_original_ISIC_0027825.jpg_cf1fa1de-0c89-44c4-96b8-81215b657df4.jpg',\n",
       " '/content/drive/MyDrive/Skin cancer ISIC The International Skin Imaging Collaboration/Train/basal cell carcinoma/output/basal cell carcinoma_original_ISIC_0026593.jpg_601877db-37a6-4988-9d99-2dd2a7983662.jpg',\n",
       " '/content/drive/MyDrive/Skin cancer ISIC The International Skin Imaging Collaboration/Train/basal cell carcinoma/output/basal cell carcinoma_original_ISIC_0028739.jpg_54d5189a-14c9-4dbe-a883-ccde521ee106.jpg',\n",
       " '/content/drive/MyDrive/Skin cancer ISIC The International Skin Imaging Collaboration/Train/basal cell carcinoma/output/basal cell carcinoma_original_ISIC_0028815.jpg_2904d451-164d-4d8a-bbbd-532328f55d20.jpg',\n",
       " '/content/drive/MyDrive/Skin cancer ISIC The International Skin Imaging Collaboration/Train/basal cell carcinoma/output/basal cell carcinoma_original_ISIC_0029974.jpg_bf9ff860-a227-47c8-a34a-a7322554ba28.jpg',\n",
       " '/content/drive/MyDrive/Skin cancer ISIC The International Skin Imaging Collaboration/Train/basal cell carcinoma/output/basal cell carcinoma_original_ISIC_0029035.jpg_04facb4f-3ec9-450d-be09-16332a9ca3ef.jpg',\n",
       " '/content/drive/MyDrive/Skin cancer ISIC The International Skin Imaging Collaboration/Train/basal cell carcinoma/output/basal cell carcinoma_original_ISIC_0028568.jpg_47bb82d9-c59b-4d23-82b5-56bac51f20ca.jpg',\n",
       " '/content/drive/MyDrive/Skin cancer ISIC The International Skin Imaging Collaboration/Train/basal cell carcinoma/output/basal cell carcinoma_original_ISIC_0025576.jpg_d4f13fa8-2a87-45e4-a681-f841484a0b0b.jpg',\n",
       " '/content/drive/MyDrive/Skin cancer ISIC The International Skin Imaging Collaboration/Train/basal cell carcinoma/output/basal cell carcinoma_original_ISIC_0030800.jpg_f73866f1-460d-4636-a2d1-2abd8fb31bb2.jpg',\n",
       " '/content/drive/MyDrive/Skin cancer ISIC The International Skin Imaging Collaboration/Train/basal cell carcinoma/output/basal cell carcinoma_original_ISIC_0029129.jpg_c0f01852-2877-4b3f-9535-4fdf9800607d.jpg',\n",
       " '/content/drive/MyDrive/Skin cancer ISIC The International Skin Imaging Collaboration/Train/basal cell carcinoma/output/basal cell carcinoma_original_ISIC_0029501.jpg_e1cc0121-0916-4e57-9e02-7a6630faf012.jpg',\n",
       " '/content/drive/MyDrive/Skin cancer ISIC The International Skin Imaging Collaboration/Train/basal cell carcinoma/output/basal cell carcinoma_original_ISIC_0031526.jpg_93d3f1c3-0638-450a-9650-e7b639c3e7c5.jpg',\n",
       " '/content/drive/MyDrive/Skin cancer ISIC The International Skin Imaging Collaboration/Train/basal cell carcinoma/output/basal cell carcinoma_original_ISIC_0030452.jpg_42b42d8e-ea75-4f81-9a9f-124ce27e4160.jpg',\n",
       " '/content/drive/MyDrive/Skin cancer ISIC The International Skin Imaging Collaboration/Train/basal cell carcinoma/output/basal cell carcinoma_original_ISIC_0031095.jpg_4dfe1da3-cbe0-48af-985d-e20f42e99abc.jpg',\n",
       " '/content/drive/MyDrive/Skin cancer ISIC The International Skin Imaging Collaboration/Train/basal cell carcinoma/output/basal cell carcinoma_original_ISIC_0030514.jpg_6df241b8-3b34-4912-960f-4cf98c650107.jpg',\n",
       " '/content/drive/MyDrive/Skin cancer ISIC The International Skin Imaging Collaboration/Train/basal cell carcinoma/output/basal cell carcinoma_original_ISIC_0024799.jpg_df19f75f-d4b0-47bb-a34f-851c3cbfe067.jpg',\n",
       " '/content/drive/MyDrive/Skin cancer ISIC The International Skin Imaging Collaboration/Train/basal cell carcinoma/output/basal cell carcinoma_original_ISIC_0026090.jpg_df8a2aa3-38c2-460a-9255-2d6ad9c57c14.jpg',\n",
       " '/content/drive/MyDrive/Skin cancer ISIC The International Skin Imaging Collaboration/Train/basal cell carcinoma/output/basal cell carcinoma_original_ISIC_0030339.jpg_fa7ba90e-b04c-4675-b3ed-c9e17dd421dd.jpg',\n",
       " '/content/drive/MyDrive/Skin cancer ISIC The International Skin Imaging Collaboration/Train/basal cell carcinoma/output/basal cell carcinoma_original_ISIC_0031166.jpg_6bd1126d-61e0-4ea8-a9f3-e53aaa8fdba7.jpg',\n",
       " '/content/drive/MyDrive/Skin cancer ISIC The International Skin Imaging Collaboration/Train/basal cell carcinoma/output/basal cell carcinoma_original_ISIC_0028978.jpg_47e59e57-5ffb-4106-b7cd-5583f57d3510.jpg',\n",
       " '/content/drive/MyDrive/Skin cancer ISIC The International Skin Imaging Collaboration/Train/basal cell carcinoma/output/basal cell carcinoma_original_ISIC_0028807.jpg_ff2122b7-e239-4067-86ce-e17dd512c632.jpg',\n",
       " '/content/drive/MyDrive/Skin cancer ISIC The International Skin Imaging Collaboration/Train/basal cell carcinoma/output/basal cell carcinoma_original_ISIC_0026902.jpg_2ee64e6d-6fa1-4554-96e8-fa87c3e07dae.jpg',\n",
       " '/content/drive/MyDrive/Skin cancer ISIC The International Skin Imaging Collaboration/Train/basal cell carcinoma/output/basal cell carcinoma_original_ISIC_0027609.jpg_00bb85e5-e799-43f1-ba8d-c739de708d0f.jpg',\n",
       " '/content/drive/MyDrive/Skin cancer ISIC The International Skin Imaging Collaboration/Train/basal cell carcinoma/output/basal cell carcinoma_original_ISIC_0026117.jpg_4d58d777-1a39-40ba-b913-7c25591c819f.jpg',\n",
       " '/content/drive/MyDrive/Skin cancer ISIC The International Skin Imaging Collaboration/Train/basal cell carcinoma/output/basal cell carcinoma_original_ISIC_0025557.jpg_daa45c4a-13a7-4179-b18c-3c88b7ecf54e.jpg',\n",
       " '/content/drive/MyDrive/Skin cancer ISIC The International Skin Imaging Collaboration/Train/basal cell carcinoma/output/basal cell carcinoma_original_ISIC_0030349.jpg_7944908e-777d-4b67-be40-35a814518870.jpg',\n",
       " '/content/drive/MyDrive/Skin cancer ISIC The International Skin Imaging Collaboration/Train/basal cell carcinoma/output/basal cell carcinoma_original_ISIC_0028542.jpg_d25babd0-73b4-4f90-81d0-6e2822154d6f.jpg',\n",
       " '/content/drive/MyDrive/Skin cancer ISIC The International Skin Imaging Collaboration/Train/basal cell carcinoma/output/basal cell carcinoma_original_ISIC_0026766.jpg_3040f1b9-5058-45f4-991c-6c6352bd6c07.jpg',\n",
       " '/content/drive/MyDrive/Skin cancer ISIC The International Skin Imaging Collaboration/Train/basal cell carcinoma/output/basal cell carcinoma_original_ISIC_0027433.jpg_e8be7002-6a13-43af-aca8-cf2b2280c89e.jpg',\n",
       " '/content/drive/MyDrive/Skin cancer ISIC The International Skin Imaging Collaboration/Train/basal cell carcinoma/output/basal cell carcinoma_original_ISIC_0028113.jpg_7f7e3be3-9298-4c28-a9a0-ce64a4aea073.jpg',\n",
       " '/content/drive/MyDrive/Skin cancer ISIC The International Skin Imaging Collaboration/Train/basal cell carcinoma/output/basal cell carcinoma_original_ISIC_0029564.jpg_9e72a51e-d7ed-4db8-bde1-4d323d017333.jpg',\n",
       " '/content/drive/MyDrive/Skin cancer ISIC The International Skin Imaging Collaboration/Train/basal cell carcinoma/output/basal cell carcinoma_original_ISIC_0025383.jpg_f2a579b7-46b8-4e7a-a87a-6a2bad8204a4.jpg',\n",
       " '/content/drive/MyDrive/Skin cancer ISIC The International Skin Imaging Collaboration/Train/basal cell carcinoma/output/basal cell carcinoma_original_ISIC_0028973.jpg_66b74076-4034-4abb-be85-dbeb778b1b6b.jpg',\n",
       " '/content/drive/MyDrive/Skin cancer ISIC The International Skin Imaging Collaboration/Train/basal cell carcinoma/output/basal cell carcinoma_original_ISIC_0024949.jpg_28614602-e4bf-46a3-9053-c474043de003.jpg',\n",
       " '/content/drive/MyDrive/Skin cancer ISIC The International Skin Imaging Collaboration/Train/basal cell carcinoma/output/basal cell carcinoma_original_ISIC_0029779.jpg_d092b90c-ca88-4070-885f-76bed31a8821.jpg',\n",
       " '/content/drive/MyDrive/Skin cancer ISIC The International Skin Imaging Collaboration/Train/basal cell carcinoma/output/basal cell carcinoma_original_ISIC_0030114.jpg_1e68d199-8b41-4519-8022-eeaf598c9163.jpg',\n",
       " '/content/drive/MyDrive/Skin cancer ISIC The International Skin Imaging Collaboration/Train/basal cell carcinoma/output/basal cell carcinoma_original_ISIC_0028670.jpg_49699ae4-d85d-4c51-a2c4-660dbf76922c.jpg',\n",
       " '/content/drive/MyDrive/Skin cancer ISIC The International Skin Imaging Collaboration/Train/basal cell carcinoma/output/basal cell carcinoma_original_ISIC_0029020.jpg_39af1068-c484-442b-a307-b65dc35268b9.jpg',\n",
       " '/content/drive/MyDrive/Skin cancer ISIC The International Skin Imaging Collaboration/Train/basal cell carcinoma/output/basal cell carcinoma_original_ISIC_0030800.jpg_a246d73d-119a-4986-a779-6337f2ebed74.jpg',\n",
       " '/content/drive/MyDrive/Skin cancer ISIC The International Skin Imaging Collaboration/Train/basal cell carcinoma/output/basal cell carcinoma_original_ISIC_0027117.jpg_49ed86c9-7cd3-4c49-b442-0d8825d108a6.jpg',\n",
       " '/content/drive/MyDrive/Skin cancer ISIC The International Skin Imaging Collaboration/Train/basal cell carcinoma/output/basal cell carcinoma_original_ISIC_0031407.jpg_480cf2b7-927d-4f5f-971d-1126554c082b.jpg',\n",
       " '/content/drive/MyDrive/Skin cancer ISIC The International Skin Imaging Collaboration/Train/basal cell carcinoma/output/basal cell carcinoma_original_ISIC_0026988.jpg_77d5ae61-8e2a-4fa1-a3e7-3531b3da5b62.jpg',\n",
       " '/content/drive/MyDrive/Skin cancer ISIC The International Skin Imaging Collaboration/Train/basal cell carcinoma/output/basal cell carcinoma_original_ISIC_0031236.jpg_bc2475eb-63db-4505-a653-37efaea1669e.jpg',\n",
       " '/content/drive/MyDrive/Skin cancer ISIC The International Skin Imaging Collaboration/Train/basal cell carcinoma/output/basal cell carcinoma_original_ISIC_0028556.jpg_51f51de6-2f13-45b0-80ab-39ea916b9e54.jpg',\n",
       " '/content/drive/MyDrive/Skin cancer ISIC The International Skin Imaging Collaboration/Train/basal cell carcinoma/output/basal cell carcinoma_original_ISIC_0029391.jpg_7ac592d3-03f5-4e16-95cd-e1977d81113f.jpg',\n",
       " '/content/drive/MyDrive/Skin cancer ISIC The International Skin Imaging Collaboration/Train/basal cell carcinoma/output/basal cell carcinoma_original_ISIC_0030314.jpg_0f081051-7378-4b5a-84ad-ed3a840b5a28.jpg',\n",
       " '/content/drive/MyDrive/Skin cancer ISIC The International Skin Imaging Collaboration/Train/basal cell carcinoma/output/basal cell carcinoma_original_ISIC_0030339.jpg_72f8ff46-4969-4f03-bc79-b84e782adafb.jpg',\n",
       " '/content/drive/MyDrive/Skin cancer ISIC The International Skin Imaging Collaboration/Train/basal cell carcinoma/output/basal cell carcinoma_original_ISIC_0031009.jpg_5a10d7f3-fb39-4ad9-a94b-a15ecbd07f8e.jpg',\n",
       " '/content/drive/MyDrive/Skin cancer ISIC The International Skin Imaging Collaboration/Train/basal cell carcinoma/output/basal cell carcinoma_original_ISIC_0030712.jpg_9232d9c2-24b1-4806-a08b-57dd3dc76a25.jpg',\n",
       " '/content/drive/MyDrive/Skin cancer ISIC The International Skin Imaging Collaboration/Train/basal cell carcinoma/output/basal cell carcinoma_original_ISIC_0030138.jpg_531fdcb3-2bb6-4caf-a746-ae44577bcd06.jpg',\n",
       " '/content/drive/MyDrive/Skin cancer ISIC The International Skin Imaging Collaboration/Train/basal cell carcinoma/output/basal cell carcinoma_original_ISIC_0024949.jpg_78995d3d-a7f6-4149-8cb3-b8b8c23dfc23.jpg',\n",
       " '/content/drive/MyDrive/Skin cancer ISIC The International Skin Imaging Collaboration/Train/basal cell carcinoma/output/basal cell carcinoma_original_ISIC_0031057.jpg_e1c7a5a0-f963-4640-89aa-9308463f5916.jpg',\n",
       " '/content/drive/MyDrive/Skin cancer ISIC The International Skin Imaging Collaboration/Train/basal cell carcinoma/output/basal cell carcinoma_original_ISIC_0026324.jpg_2aa923ba-7909-4ea7-94fb-8d220bf0ce24.jpg',\n",
       " '/content/drive/MyDrive/Skin cancer ISIC The International Skin Imaging Collaboration/Train/basal cell carcinoma/output/basal cell carcinoma_original_ISIC_0028147.jpg_6d84a61d-d31c-4715-b004-bc31dce7ccae.jpg',\n",
       " '/content/drive/MyDrive/Skin cancer ISIC The International Skin Imaging Collaboration/Train/basal cell carcinoma/output/basal cell carcinoma_original_ISIC_0027229.jpg_b99ae6f4-48bf-4ede-bb33-6745324c933c.jpg',\n",
       " '/content/drive/MyDrive/Skin cancer ISIC The International Skin Imaging Collaboration/Train/basal cell carcinoma/output/basal cell carcinoma_original_ISIC_0028350.jpg_6eefe39a-bc10-4daa-a6ab-a63f49266a80.jpg',\n",
       " '/content/drive/MyDrive/Skin cancer ISIC The International Skin Imaging Collaboration/Train/basal cell carcinoma/output/basal cell carcinoma_original_ISIC_0028719.jpg_39b0e270-b9b7-492f-a340-7b5469f7749c.jpg',\n",
       " '/content/drive/MyDrive/Skin cancer ISIC The International Skin Imaging Collaboration/Train/basal cell carcinoma/output/basal cell carcinoma_original_ISIC_0028815.jpg_c3ede7ef-8aa7-4ef6-8446-bbe1f1791466.jpg',\n",
       " '/content/drive/MyDrive/Skin cancer ISIC The International Skin Imaging Collaboration/Train/basal cell carcinoma/output/basal cell carcinoma_original_ISIC_0027976.jpg_6dd7264c-1b66-490b-85fb-ed80c27feb79.jpg',\n",
       " '/content/drive/MyDrive/Skin cancer ISIC The International Skin Imaging Collaboration/Train/basal cell carcinoma/output/basal cell carcinoma_original_ISIC_0024897.jpg_ad5f87a7-be15-4bbf-811d-b34c310bb3b7.jpg',\n",
       " '/content/drive/MyDrive/Skin cancer ISIC The International Skin Imaging Collaboration/Train/basal cell carcinoma/output/basal cell carcinoma_original_ISIC_0026091.jpg_f0eeb04d-d09e-46bd-a1dd-8c80b462a6ab.jpg',\n",
       " '/content/drive/MyDrive/Skin cancer ISIC The International Skin Imaging Collaboration/Train/basal cell carcinoma/output/basal cell carcinoma_original_ISIC_0031140.jpg_d779b33c-cab6-4394-9b7b-8eabdc9f4e9d.jpg',\n",
       " '/content/drive/MyDrive/Skin cancer ISIC The International Skin Imaging Collaboration/Train/basal cell carcinoma/output/basal cell carcinoma_original_ISIC_0029602.jpg_91c54ff5-54ce-45c7-9b98-e3d1a416ea47.jpg',\n",
       " '/content/drive/MyDrive/Skin cancer ISIC The International Skin Imaging Collaboration/Train/basal cell carcinoma/output/basal cell carcinoma_original_ISIC_0029856.jpg_2d942111-dc07-4315-b868-d9295911beda.jpg',\n",
       " '/content/drive/MyDrive/Skin cancer ISIC The International Skin Imaging Collaboration/Train/basal cell carcinoma/output/basal cell carcinoma_original_ISIC_0031041.jpg_1f41a79b-4aaf-4625-9b5e-62a2a37605ee.jpg',\n",
       " '/content/drive/MyDrive/Skin cancer ISIC The International Skin Imaging Collaboration/Train/basal cell carcinoma/output/basal cell carcinoma_original_ISIC_0028122.jpg_3f882b58-f9fb-4c4b-b2ba-d0d2a0e8d9a9.jpg',\n",
       " '/content/drive/MyDrive/Skin cancer ISIC The International Skin Imaging Collaboration/Train/basal cell carcinoma/output/basal cell carcinoma_original_ISIC_0027046.jpg_6efd9301-2093-43b2-911e-454e9cc3ab75.jpg',\n",
       " '/content/drive/MyDrive/Skin cancer ISIC The International Skin Imaging Collaboration/Train/basal cell carcinoma/output/basal cell carcinoma_original_ISIC_0026995.jpg_3b7aba3b-edf7-42db-942e-9d4a5e046c6a.jpg',\n",
       " '/content/drive/MyDrive/Skin cancer ISIC The International Skin Imaging Collaboration/Train/basal cell carcinoma/output/basal cell carcinoma_original_ISIC_0024632.jpg_625077ba-2915-485b-a2c0-ceb8db4a78ee.jpg',\n",
       " '/content/drive/MyDrive/Skin cancer ISIC The International Skin Imaging Collaboration/Train/basal cell carcinoma/output/basal cell carcinoma_original_ISIC_0024897.jpg_05173fa5-0198-481b-9b3b-2f5c63ee4f4a.jpg',\n",
       " '/content/drive/MyDrive/Skin cancer ISIC The International Skin Imaging Collaboration/Train/basal cell carcinoma/output/basal cell carcinoma_original_ISIC_0027117.jpg_9a3c1db2-488f-475b-be93-353be37802a8.jpg',\n",
       " '/content/drive/MyDrive/Skin cancer ISIC The International Skin Imaging Collaboration/Train/basal cell carcinoma/output/basal cell carcinoma_original_ISIC_0025691.jpg_9500ef2a-032c-4fe6-8f4d-6e3307775645.jpg',\n",
       " '/content/drive/MyDrive/Skin cancer ISIC The International Skin Imaging Collaboration/Train/basal cell carcinoma/output/basal cell carcinoma_original_ISIC_0026831.jpg_c169371f-1041-4bc5-bb09-7e0a6e602a8d.jpg',\n",
       " '/content/drive/MyDrive/Skin cancer ISIC The International Skin Imaging Collaboration/Train/basal cell carcinoma/output/basal cell carcinoma_original_ISIC_0026321.jpg_50af12d0-98e9-441d-b152-615f282716ed.jpg',\n",
       " '/content/drive/MyDrive/Skin cancer ISIC The International Skin Imaging Collaboration/Train/basal cell carcinoma/output/basal cell carcinoma_original_ISIC_0031470.jpg_4bca6445-c991-4fb2-98fd-1a4d0dcfb6fb.jpg',\n",
       " '/content/drive/MyDrive/Skin cancer ISIC The International Skin Imaging Collaboration/Train/basal cell carcinoma/output/basal cell carcinoma_original_ISIC_0031026.jpg_9aab3b3a-6498-417e-a5c5-07daf8d9c3c6.jpg',\n",
       " '/content/drive/MyDrive/Skin cancer ISIC The International Skin Imaging Collaboration/Train/basal cell carcinoma/output/basal cell carcinoma_original_ISIC_0027337.jpg_ccc5a8cc-cd5c-48ad-8511-11f4ed6256d8.jpg',\n",
       " '/content/drive/MyDrive/Skin cancer ISIC The International Skin Imaging Collaboration/Train/basal cell carcinoma/output/basal cell carcinoma_original_ISIC_0024931.jpg_7509c700-54b8-466d-9c6f-bd98233d2bf5.jpg',\n",
       " '/content/drive/MyDrive/Skin cancer ISIC The International Skin Imaging Collaboration/Train/basal cell carcinoma/output/basal cell carcinoma_original_ISIC_0030249.jpg_aa6cec98-950b-4d67-9a5d-80d2a25eed06.jpg',\n",
       " '/content/drive/MyDrive/Skin cancer ISIC The International Skin Imaging Collaboration/Train/basal cell carcinoma/output/basal cell carcinoma_original_ISIC_0026865.jpg_f4f92d49-d9cc-4ca5-81a5-23651bc521a4.jpg',\n",
       " '/content/drive/MyDrive/Skin cancer ISIC The International Skin Imaging Collaboration/Train/basal cell carcinoma/output/basal cell carcinoma_original_ISIC_0030230.jpg_ec5823da-bc19-4363-9496-c1f60b6640ef.jpg',\n",
       " '/content/drive/MyDrive/Skin cancer ISIC The International Skin Imaging Collaboration/Train/basal cell carcinoma/output/basal cell carcinoma_original_ISIC_0031175.jpg_bec73704-9226-44f0-baa7-4a609c7b2cfd.jpg',\n",
       " '/content/drive/MyDrive/Skin cancer ISIC The International Skin Imaging Collaboration/Train/basal cell carcinoma/output/basal cell carcinoma_original_ISIC_0025644.jpg_230c397e-1410-4670-9a7c-479d61765bfe.jpg',\n",
       " '/content/drive/MyDrive/Skin cancer ISIC The International Skin Imaging Collaboration/Train/basal cell carcinoma/output/basal cell carcinoma_original_ISIC_0027786.jpg_a2a95932-cf45-4f08-b974-c9b1f3ae3da0.jpg',\n",
       " '/content/drive/MyDrive/Skin cancer ISIC The International Skin Imaging Collaboration/Train/basal cell carcinoma/output/basal cell carcinoma_original_ISIC_0029123.jpg_0e72032b-39e6-41fc-9e26-766a5ab99e8e.jpg',\n",
       " '/content/drive/MyDrive/Skin cancer ISIC The International Skin Imaging Collaboration/Train/basal cell carcinoma/output/basal cell carcinoma_original_ISIC_0024885.jpg_fe1dbc35-f6f7-4f22-bddf-238adc1f1c42.jpg',\n",
       " '/content/drive/MyDrive/Skin cancer ISIC The International Skin Imaging Collaboration/Train/basal cell carcinoma/output/basal cell carcinoma_original_ISIC_0029680.jpg_2b38095b-187a-4706-a95e-0702a9bc3bc0.jpg',\n",
       " '/content/drive/MyDrive/Skin cancer ISIC The International Skin Imaging Collaboration/Train/basal cell carcinoma/output/basal cell carcinoma_original_ISIC_0025940.jpg_d77d6eee-111d-4918-a167-b27f91dfa10a.jpg',\n",
       " '/content/drive/MyDrive/Skin cancer ISIC The International Skin Imaging Collaboration/Train/basal cell carcinoma/output/basal cell carcinoma_original_ISIC_0028329.jpg_966f66b4-b02e-40f8-80aa-2883659ced2e.jpg',\n",
       " ...]"
      ]
     },
     "execution_count": 38,
     "metadata": {},
     "output_type": "execute_result"
    }
   ],
   "source": [
    "path_list = [x for x in glob(os.path.join(data_dir_train, '*','output', '*.jpg'))]\n",
    "path_list\n"
   ]
  },
  {
   "cell_type": "code",
   "execution_count": 39,
   "metadata": {
    "colab": {
     "base_uri": "https://localhost:8080/"
    },
    "executionInfo": {
     "elapsed": 930,
     "status": "ok",
     "timestamp": 1666190546866,
     "user": {
      "displayName": "satya sravan",
      "userId": "17412231274937908256"
     },
     "user_tz": -330
    },
    "id": "Et-LJiDNsW_y",
    "outputId": "e23b87d7-8bff-4ef1-94ed-cbea2a70df34"
   },
   "outputs": [
    {
     "data": {
      "text/plain": [
       "['actinic keratosis',\n",
       " 'actinic keratosis',\n",
       " 'actinic keratosis',\n",
       " 'actinic keratosis',\n",
       " 'actinic keratosis',\n",
       " 'actinic keratosis',\n",
       " 'actinic keratosis',\n",
       " 'actinic keratosis',\n",
       " 'actinic keratosis',\n",
       " 'actinic keratosis',\n",
       " 'actinic keratosis',\n",
       " 'actinic keratosis',\n",
       " 'actinic keratosis',\n",
       " 'actinic keratosis',\n",
       " 'actinic keratosis',\n",
       " 'actinic keratosis',\n",
       " 'actinic keratosis',\n",
       " 'actinic keratosis',\n",
       " 'actinic keratosis',\n",
       " 'actinic keratosis',\n",
       " 'actinic keratosis',\n",
       " 'actinic keratosis',\n",
       " 'actinic keratosis',\n",
       " 'actinic keratosis',\n",
       " 'actinic keratosis',\n",
       " 'actinic keratosis',\n",
       " 'actinic keratosis',\n",
       " 'actinic keratosis',\n",
       " 'actinic keratosis',\n",
       " 'actinic keratosis',\n",
       " 'actinic keratosis',\n",
       " 'actinic keratosis',\n",
       " 'actinic keratosis',\n",
       " 'actinic keratosis',\n",
       " 'actinic keratosis',\n",
       " 'actinic keratosis',\n",
       " 'actinic keratosis',\n",
       " 'actinic keratosis',\n",
       " 'actinic keratosis',\n",
       " 'actinic keratosis',\n",
       " 'actinic keratosis',\n",
       " 'actinic keratosis',\n",
       " 'actinic keratosis',\n",
       " 'actinic keratosis',\n",
       " 'actinic keratosis',\n",
       " 'actinic keratosis',\n",
       " 'actinic keratosis',\n",
       " 'actinic keratosis',\n",
       " 'actinic keratosis',\n",
       " 'actinic keratosis',\n",
       " 'actinic keratosis',\n",
       " 'actinic keratosis',\n",
       " 'actinic keratosis',\n",
       " 'actinic keratosis',\n",
       " 'actinic keratosis',\n",
       " 'actinic keratosis',\n",
       " 'actinic keratosis',\n",
       " 'actinic keratosis',\n",
       " 'actinic keratosis',\n",
       " 'actinic keratosis',\n",
       " 'actinic keratosis',\n",
       " 'actinic keratosis',\n",
       " 'actinic keratosis',\n",
       " 'actinic keratosis',\n",
       " 'actinic keratosis',\n",
       " 'actinic keratosis',\n",
       " 'actinic keratosis',\n",
       " 'actinic keratosis',\n",
       " 'actinic keratosis',\n",
       " 'actinic keratosis',\n",
       " 'actinic keratosis',\n",
       " 'actinic keratosis',\n",
       " 'actinic keratosis',\n",
       " 'actinic keratosis',\n",
       " 'actinic keratosis',\n",
       " 'actinic keratosis',\n",
       " 'actinic keratosis',\n",
       " 'actinic keratosis',\n",
       " 'actinic keratosis',\n",
       " 'actinic keratosis',\n",
       " 'actinic keratosis',\n",
       " 'actinic keratosis',\n",
       " 'actinic keratosis',\n",
       " 'actinic keratosis',\n",
       " 'actinic keratosis',\n",
       " 'actinic keratosis',\n",
       " 'actinic keratosis',\n",
       " 'actinic keratosis',\n",
       " 'actinic keratosis',\n",
       " 'actinic keratosis',\n",
       " 'actinic keratosis',\n",
       " 'actinic keratosis',\n",
       " 'actinic keratosis',\n",
       " 'actinic keratosis',\n",
       " 'actinic keratosis',\n",
       " 'actinic keratosis',\n",
       " 'actinic keratosis',\n",
       " 'actinic keratosis',\n",
       " 'actinic keratosis',\n",
       " 'actinic keratosis',\n",
       " 'actinic keratosis',\n",
       " 'actinic keratosis',\n",
       " 'actinic keratosis',\n",
       " 'actinic keratosis',\n",
       " 'actinic keratosis',\n",
       " 'actinic keratosis',\n",
       " 'actinic keratosis',\n",
       " 'actinic keratosis',\n",
       " 'actinic keratosis',\n",
       " 'actinic keratosis',\n",
       " 'actinic keratosis',\n",
       " 'actinic keratosis',\n",
       " 'actinic keratosis',\n",
       " 'actinic keratosis',\n",
       " 'actinic keratosis',\n",
       " 'actinic keratosis',\n",
       " 'actinic keratosis',\n",
       " 'actinic keratosis',\n",
       " 'actinic keratosis',\n",
       " 'actinic keratosis',\n",
       " 'actinic keratosis',\n",
       " 'actinic keratosis',\n",
       " 'actinic keratosis',\n",
       " 'actinic keratosis',\n",
       " 'actinic keratosis',\n",
       " 'actinic keratosis',\n",
       " 'actinic keratosis',\n",
       " 'actinic keratosis',\n",
       " 'actinic keratosis',\n",
       " 'actinic keratosis',\n",
       " 'actinic keratosis',\n",
       " 'actinic keratosis',\n",
       " 'actinic keratosis',\n",
       " 'actinic keratosis',\n",
       " 'actinic keratosis',\n",
       " 'actinic keratosis',\n",
       " 'actinic keratosis',\n",
       " 'actinic keratosis',\n",
       " 'actinic keratosis',\n",
       " 'actinic keratosis',\n",
       " 'actinic keratosis',\n",
       " 'actinic keratosis',\n",
       " 'actinic keratosis',\n",
       " 'actinic keratosis',\n",
       " 'actinic keratosis',\n",
       " 'actinic keratosis',\n",
       " 'actinic keratosis',\n",
       " 'actinic keratosis',\n",
       " 'actinic keratosis',\n",
       " 'actinic keratosis',\n",
       " 'actinic keratosis',\n",
       " 'actinic keratosis',\n",
       " 'actinic keratosis',\n",
       " 'actinic keratosis',\n",
       " 'actinic keratosis',\n",
       " 'actinic keratosis',\n",
       " 'actinic keratosis',\n",
       " 'actinic keratosis',\n",
       " 'actinic keratosis',\n",
       " 'actinic keratosis',\n",
       " 'actinic keratosis',\n",
       " 'actinic keratosis',\n",
       " 'actinic keratosis',\n",
       " 'actinic keratosis',\n",
       " 'actinic keratosis',\n",
       " 'actinic keratosis',\n",
       " 'actinic keratosis',\n",
       " 'actinic keratosis',\n",
       " 'actinic keratosis',\n",
       " 'actinic keratosis',\n",
       " 'actinic keratosis',\n",
       " 'actinic keratosis',\n",
       " 'actinic keratosis',\n",
       " 'actinic keratosis',\n",
       " 'actinic keratosis',\n",
       " 'actinic keratosis',\n",
       " 'actinic keratosis',\n",
       " 'actinic keratosis',\n",
       " 'actinic keratosis',\n",
       " 'actinic keratosis',\n",
       " 'actinic keratosis',\n",
       " 'actinic keratosis',\n",
       " 'actinic keratosis',\n",
       " 'actinic keratosis',\n",
       " 'actinic keratosis',\n",
       " 'actinic keratosis',\n",
       " 'actinic keratosis',\n",
       " 'actinic keratosis',\n",
       " 'actinic keratosis',\n",
       " 'actinic keratosis',\n",
       " 'actinic keratosis',\n",
       " 'actinic keratosis',\n",
       " 'actinic keratosis',\n",
       " 'actinic keratosis',\n",
       " 'actinic keratosis',\n",
       " 'actinic keratosis',\n",
       " 'actinic keratosis',\n",
       " 'actinic keratosis',\n",
       " 'actinic keratosis',\n",
       " 'actinic keratosis',\n",
       " 'actinic keratosis',\n",
       " 'actinic keratosis',\n",
       " 'actinic keratosis',\n",
       " 'actinic keratosis',\n",
       " 'actinic keratosis',\n",
       " 'actinic keratosis',\n",
       " 'actinic keratosis',\n",
       " 'actinic keratosis',\n",
       " 'actinic keratosis',\n",
       " 'actinic keratosis',\n",
       " 'actinic keratosis',\n",
       " 'actinic keratosis',\n",
       " 'actinic keratosis',\n",
       " 'actinic keratosis',\n",
       " 'actinic keratosis',\n",
       " 'actinic keratosis',\n",
       " 'actinic keratosis',\n",
       " 'actinic keratosis',\n",
       " 'actinic keratosis',\n",
       " 'actinic keratosis',\n",
       " 'actinic keratosis',\n",
       " 'actinic keratosis',\n",
       " 'actinic keratosis',\n",
       " 'actinic keratosis',\n",
       " 'actinic keratosis',\n",
       " 'actinic keratosis',\n",
       " 'actinic keratosis',\n",
       " 'actinic keratosis',\n",
       " 'actinic keratosis',\n",
       " 'actinic keratosis',\n",
       " 'actinic keratosis',\n",
       " 'actinic keratosis',\n",
       " 'actinic keratosis',\n",
       " 'actinic keratosis',\n",
       " 'actinic keratosis',\n",
       " 'actinic keratosis',\n",
       " 'actinic keratosis',\n",
       " 'actinic keratosis',\n",
       " 'actinic keratosis',\n",
       " 'actinic keratosis',\n",
       " 'actinic keratosis',\n",
       " 'actinic keratosis',\n",
       " 'actinic keratosis',\n",
       " 'actinic keratosis',\n",
       " 'actinic keratosis',\n",
       " 'actinic keratosis',\n",
       " 'actinic keratosis',\n",
       " 'actinic keratosis',\n",
       " 'actinic keratosis',\n",
       " 'actinic keratosis',\n",
       " 'actinic keratosis',\n",
       " 'actinic keratosis',\n",
       " 'actinic keratosis',\n",
       " 'actinic keratosis',\n",
       " 'actinic keratosis',\n",
       " 'actinic keratosis',\n",
       " 'actinic keratosis',\n",
       " 'actinic keratosis',\n",
       " 'actinic keratosis',\n",
       " 'actinic keratosis',\n",
       " 'actinic keratosis',\n",
       " 'actinic keratosis',\n",
       " 'actinic keratosis',\n",
       " 'actinic keratosis',\n",
       " 'actinic keratosis',\n",
       " 'actinic keratosis',\n",
       " 'actinic keratosis',\n",
       " 'actinic keratosis',\n",
       " 'actinic keratosis',\n",
       " 'actinic keratosis',\n",
       " 'actinic keratosis',\n",
       " 'actinic keratosis',\n",
       " 'actinic keratosis',\n",
       " 'actinic keratosis',\n",
       " 'actinic keratosis',\n",
       " 'actinic keratosis',\n",
       " 'actinic keratosis',\n",
       " 'actinic keratosis',\n",
       " 'actinic keratosis',\n",
       " 'actinic keratosis',\n",
       " 'actinic keratosis',\n",
       " 'actinic keratosis',\n",
       " 'actinic keratosis',\n",
       " 'actinic keratosis',\n",
       " 'actinic keratosis',\n",
       " 'actinic keratosis',\n",
       " 'actinic keratosis',\n",
       " 'actinic keratosis',\n",
       " 'actinic keratosis',\n",
       " 'actinic keratosis',\n",
       " 'actinic keratosis',\n",
       " 'actinic keratosis',\n",
       " 'actinic keratosis',\n",
       " 'actinic keratosis',\n",
       " 'actinic keratosis',\n",
       " 'actinic keratosis',\n",
       " 'actinic keratosis',\n",
       " 'actinic keratosis',\n",
       " 'actinic keratosis',\n",
       " 'actinic keratosis',\n",
       " 'actinic keratosis',\n",
       " 'actinic keratosis',\n",
       " 'actinic keratosis',\n",
       " 'actinic keratosis',\n",
       " 'actinic keratosis',\n",
       " 'actinic keratosis',\n",
       " 'actinic keratosis',\n",
       " 'actinic keratosis',\n",
       " 'actinic keratosis',\n",
       " 'actinic keratosis',\n",
       " 'actinic keratosis',\n",
       " 'actinic keratosis',\n",
       " 'actinic keratosis',\n",
       " 'actinic keratosis',\n",
       " 'actinic keratosis',\n",
       " 'actinic keratosis',\n",
       " 'actinic keratosis',\n",
       " 'actinic keratosis',\n",
       " 'actinic keratosis',\n",
       " 'actinic keratosis',\n",
       " 'actinic keratosis',\n",
       " 'actinic keratosis',\n",
       " 'actinic keratosis',\n",
       " 'actinic keratosis',\n",
       " 'actinic keratosis',\n",
       " 'actinic keratosis',\n",
       " 'actinic keratosis',\n",
       " 'actinic keratosis',\n",
       " 'actinic keratosis',\n",
       " 'actinic keratosis',\n",
       " 'actinic keratosis',\n",
       " 'actinic keratosis',\n",
       " 'actinic keratosis',\n",
       " 'actinic keratosis',\n",
       " 'actinic keratosis',\n",
       " 'actinic keratosis',\n",
       " 'actinic keratosis',\n",
       " 'actinic keratosis',\n",
       " 'actinic keratosis',\n",
       " 'actinic keratosis',\n",
       " 'actinic keratosis',\n",
       " 'actinic keratosis',\n",
       " 'actinic keratosis',\n",
       " 'actinic keratosis',\n",
       " 'actinic keratosis',\n",
       " 'actinic keratosis',\n",
       " 'actinic keratosis',\n",
       " 'actinic keratosis',\n",
       " 'actinic keratosis',\n",
       " 'actinic keratosis',\n",
       " 'actinic keratosis',\n",
       " 'actinic keratosis',\n",
       " 'actinic keratosis',\n",
       " 'actinic keratosis',\n",
       " 'actinic keratosis',\n",
       " 'actinic keratosis',\n",
       " 'actinic keratosis',\n",
       " 'actinic keratosis',\n",
       " 'actinic keratosis',\n",
       " 'actinic keratosis',\n",
       " 'actinic keratosis',\n",
       " 'actinic keratosis',\n",
       " 'actinic keratosis',\n",
       " 'actinic keratosis',\n",
       " 'actinic keratosis',\n",
       " 'actinic keratosis',\n",
       " 'actinic keratosis',\n",
       " 'actinic keratosis',\n",
       " 'actinic keratosis',\n",
       " 'actinic keratosis',\n",
       " 'actinic keratosis',\n",
       " 'actinic keratosis',\n",
       " 'actinic keratosis',\n",
       " 'actinic keratosis',\n",
       " 'actinic keratosis',\n",
       " 'actinic keratosis',\n",
       " 'actinic keratosis',\n",
       " 'actinic keratosis',\n",
       " 'actinic keratosis',\n",
       " 'actinic keratosis',\n",
       " 'actinic keratosis',\n",
       " 'actinic keratosis',\n",
       " 'actinic keratosis',\n",
       " 'actinic keratosis',\n",
       " 'actinic keratosis',\n",
       " 'actinic keratosis',\n",
       " 'actinic keratosis',\n",
       " 'actinic keratosis',\n",
       " 'actinic keratosis',\n",
       " 'actinic keratosis',\n",
       " 'actinic keratosis',\n",
       " 'actinic keratosis',\n",
       " 'actinic keratosis',\n",
       " 'actinic keratosis',\n",
       " 'actinic keratosis',\n",
       " 'actinic keratosis',\n",
       " 'actinic keratosis',\n",
       " 'actinic keratosis',\n",
       " 'actinic keratosis',\n",
       " 'actinic keratosis',\n",
       " 'actinic keratosis',\n",
       " 'actinic keratosis',\n",
       " 'actinic keratosis',\n",
       " 'actinic keratosis',\n",
       " 'actinic keratosis',\n",
       " 'actinic keratosis',\n",
       " 'actinic keratosis',\n",
       " 'actinic keratosis',\n",
       " 'actinic keratosis',\n",
       " 'actinic keratosis',\n",
       " 'actinic keratosis',\n",
       " 'actinic keratosis',\n",
       " 'actinic keratosis',\n",
       " 'actinic keratosis',\n",
       " 'actinic keratosis',\n",
       " 'actinic keratosis',\n",
       " 'actinic keratosis',\n",
       " 'actinic keratosis',\n",
       " 'actinic keratosis',\n",
       " 'actinic keratosis',\n",
       " 'actinic keratosis',\n",
       " 'actinic keratosis',\n",
       " 'actinic keratosis',\n",
       " 'actinic keratosis',\n",
       " 'actinic keratosis',\n",
       " 'actinic keratosis',\n",
       " 'actinic keratosis',\n",
       " 'actinic keratosis',\n",
       " 'actinic keratosis',\n",
       " 'actinic keratosis',\n",
       " 'actinic keratosis',\n",
       " 'actinic keratosis',\n",
       " 'actinic keratosis',\n",
       " 'actinic keratosis',\n",
       " 'actinic keratosis',\n",
       " 'actinic keratosis',\n",
       " 'actinic keratosis',\n",
       " 'actinic keratosis',\n",
       " 'actinic keratosis',\n",
       " 'actinic keratosis',\n",
       " 'actinic keratosis',\n",
       " 'actinic keratosis',\n",
       " 'actinic keratosis',\n",
       " 'actinic keratosis',\n",
       " 'actinic keratosis',\n",
       " 'actinic keratosis',\n",
       " 'actinic keratosis',\n",
       " 'actinic keratosis',\n",
       " 'actinic keratosis',\n",
       " 'actinic keratosis',\n",
       " 'actinic keratosis',\n",
       " 'actinic keratosis',\n",
       " 'actinic keratosis',\n",
       " 'actinic keratosis',\n",
       " 'actinic keratosis',\n",
       " 'actinic keratosis',\n",
       " 'actinic keratosis',\n",
       " 'actinic keratosis',\n",
       " 'actinic keratosis',\n",
       " 'actinic keratosis',\n",
       " 'actinic keratosis',\n",
       " 'actinic keratosis',\n",
       " 'actinic keratosis',\n",
       " 'actinic keratosis',\n",
       " 'actinic keratosis',\n",
       " 'actinic keratosis',\n",
       " 'actinic keratosis',\n",
       " 'actinic keratosis',\n",
       " 'actinic keratosis',\n",
       " 'actinic keratosis',\n",
       " 'actinic keratosis',\n",
       " 'actinic keratosis',\n",
       " 'actinic keratosis',\n",
       " 'actinic keratosis',\n",
       " 'actinic keratosis',\n",
       " 'actinic keratosis',\n",
       " 'actinic keratosis',\n",
       " 'actinic keratosis',\n",
       " 'actinic keratosis',\n",
       " 'actinic keratosis',\n",
       " 'actinic keratosis',\n",
       " 'actinic keratosis',\n",
       " 'actinic keratosis',\n",
       " 'actinic keratosis',\n",
       " 'actinic keratosis',\n",
       " 'actinic keratosis',\n",
       " 'actinic keratosis',\n",
       " 'actinic keratosis',\n",
       " 'actinic keratosis',\n",
       " 'actinic keratosis',\n",
       " 'actinic keratosis',\n",
       " 'actinic keratosis',\n",
       " 'actinic keratosis',\n",
       " 'actinic keratosis',\n",
       " 'actinic keratosis',\n",
       " 'actinic keratosis',\n",
       " 'actinic keratosis',\n",
       " 'actinic keratosis',\n",
       " 'actinic keratosis',\n",
       " 'actinic keratosis',\n",
       " 'basal cell carcinoma',\n",
       " 'basal cell carcinoma',\n",
       " 'basal cell carcinoma',\n",
       " 'basal cell carcinoma',\n",
       " 'basal cell carcinoma',\n",
       " 'basal cell carcinoma',\n",
       " 'basal cell carcinoma',\n",
       " 'basal cell carcinoma',\n",
       " 'basal cell carcinoma',\n",
       " 'basal cell carcinoma',\n",
       " 'basal cell carcinoma',\n",
       " 'basal cell carcinoma',\n",
       " 'basal cell carcinoma',\n",
       " 'basal cell carcinoma',\n",
       " 'basal cell carcinoma',\n",
       " 'basal cell carcinoma',\n",
       " 'basal cell carcinoma',\n",
       " 'basal cell carcinoma',\n",
       " 'basal cell carcinoma',\n",
       " 'basal cell carcinoma',\n",
       " 'basal cell carcinoma',\n",
       " 'basal cell carcinoma',\n",
       " 'basal cell carcinoma',\n",
       " 'basal cell carcinoma',\n",
       " 'basal cell carcinoma',\n",
       " 'basal cell carcinoma',\n",
       " 'basal cell carcinoma',\n",
       " 'basal cell carcinoma',\n",
       " 'basal cell carcinoma',\n",
       " 'basal cell carcinoma',\n",
       " 'basal cell carcinoma',\n",
       " 'basal cell carcinoma',\n",
       " 'basal cell carcinoma',\n",
       " 'basal cell carcinoma',\n",
       " 'basal cell carcinoma',\n",
       " 'basal cell carcinoma',\n",
       " 'basal cell carcinoma',\n",
       " 'basal cell carcinoma',\n",
       " 'basal cell carcinoma',\n",
       " 'basal cell carcinoma',\n",
       " 'basal cell carcinoma',\n",
       " 'basal cell carcinoma',\n",
       " 'basal cell carcinoma',\n",
       " 'basal cell carcinoma',\n",
       " 'basal cell carcinoma',\n",
       " 'basal cell carcinoma',\n",
       " 'basal cell carcinoma',\n",
       " 'basal cell carcinoma',\n",
       " 'basal cell carcinoma',\n",
       " 'basal cell carcinoma',\n",
       " 'basal cell carcinoma',\n",
       " 'basal cell carcinoma',\n",
       " 'basal cell carcinoma',\n",
       " 'basal cell carcinoma',\n",
       " 'basal cell carcinoma',\n",
       " 'basal cell carcinoma',\n",
       " 'basal cell carcinoma',\n",
       " 'basal cell carcinoma',\n",
       " 'basal cell carcinoma',\n",
       " 'basal cell carcinoma',\n",
       " 'basal cell carcinoma',\n",
       " 'basal cell carcinoma',\n",
       " 'basal cell carcinoma',\n",
       " 'basal cell carcinoma',\n",
       " 'basal cell carcinoma',\n",
       " 'basal cell carcinoma',\n",
       " 'basal cell carcinoma',\n",
       " 'basal cell carcinoma',\n",
       " 'basal cell carcinoma',\n",
       " 'basal cell carcinoma',\n",
       " 'basal cell carcinoma',\n",
       " 'basal cell carcinoma',\n",
       " 'basal cell carcinoma',\n",
       " 'basal cell carcinoma',\n",
       " 'basal cell carcinoma',\n",
       " 'basal cell carcinoma',\n",
       " 'basal cell carcinoma',\n",
       " 'basal cell carcinoma',\n",
       " 'basal cell carcinoma',\n",
       " 'basal cell carcinoma',\n",
       " 'basal cell carcinoma',\n",
       " 'basal cell carcinoma',\n",
       " 'basal cell carcinoma',\n",
       " 'basal cell carcinoma',\n",
       " 'basal cell carcinoma',\n",
       " 'basal cell carcinoma',\n",
       " 'basal cell carcinoma',\n",
       " 'basal cell carcinoma',\n",
       " 'basal cell carcinoma',\n",
       " 'basal cell carcinoma',\n",
       " 'basal cell carcinoma',\n",
       " 'basal cell carcinoma',\n",
       " 'basal cell carcinoma',\n",
       " 'basal cell carcinoma',\n",
       " 'basal cell carcinoma',\n",
       " 'basal cell carcinoma',\n",
       " 'basal cell carcinoma',\n",
       " 'basal cell carcinoma',\n",
       " 'basal cell carcinoma',\n",
       " 'basal cell carcinoma',\n",
       " 'basal cell carcinoma',\n",
       " 'basal cell carcinoma',\n",
       " 'basal cell carcinoma',\n",
       " 'basal cell carcinoma',\n",
       " 'basal cell carcinoma',\n",
       " 'basal cell carcinoma',\n",
       " 'basal cell carcinoma',\n",
       " 'basal cell carcinoma',\n",
       " 'basal cell carcinoma',\n",
       " 'basal cell carcinoma',\n",
       " 'basal cell carcinoma',\n",
       " 'basal cell carcinoma',\n",
       " 'basal cell carcinoma',\n",
       " 'basal cell carcinoma',\n",
       " 'basal cell carcinoma',\n",
       " 'basal cell carcinoma',\n",
       " 'basal cell carcinoma',\n",
       " 'basal cell carcinoma',\n",
       " 'basal cell carcinoma',\n",
       " 'basal cell carcinoma',\n",
       " 'basal cell carcinoma',\n",
       " 'basal cell carcinoma',\n",
       " 'basal cell carcinoma',\n",
       " 'basal cell carcinoma',\n",
       " 'basal cell carcinoma',\n",
       " 'basal cell carcinoma',\n",
       " 'basal cell carcinoma',\n",
       " 'basal cell carcinoma',\n",
       " 'basal cell carcinoma',\n",
       " 'basal cell carcinoma',\n",
       " 'basal cell carcinoma',\n",
       " 'basal cell carcinoma',\n",
       " 'basal cell carcinoma',\n",
       " 'basal cell carcinoma',\n",
       " 'basal cell carcinoma',\n",
       " 'basal cell carcinoma',\n",
       " 'basal cell carcinoma',\n",
       " 'basal cell carcinoma',\n",
       " 'basal cell carcinoma',\n",
       " 'basal cell carcinoma',\n",
       " 'basal cell carcinoma',\n",
       " 'basal cell carcinoma',\n",
       " 'basal cell carcinoma',\n",
       " 'basal cell carcinoma',\n",
       " 'basal cell carcinoma',\n",
       " 'basal cell carcinoma',\n",
       " 'basal cell carcinoma',\n",
       " 'basal cell carcinoma',\n",
       " 'basal cell carcinoma',\n",
       " 'basal cell carcinoma',\n",
       " 'basal cell carcinoma',\n",
       " 'basal cell carcinoma',\n",
       " 'basal cell carcinoma',\n",
       " 'basal cell carcinoma',\n",
       " 'basal cell carcinoma',\n",
       " 'basal cell carcinoma',\n",
       " 'basal cell carcinoma',\n",
       " 'basal cell carcinoma',\n",
       " 'basal cell carcinoma',\n",
       " 'basal cell carcinoma',\n",
       " 'basal cell carcinoma',\n",
       " 'basal cell carcinoma',\n",
       " 'basal cell carcinoma',\n",
       " 'basal cell carcinoma',\n",
       " 'basal cell carcinoma',\n",
       " 'basal cell carcinoma',\n",
       " 'basal cell carcinoma',\n",
       " 'basal cell carcinoma',\n",
       " 'basal cell carcinoma',\n",
       " 'basal cell carcinoma',\n",
       " 'basal cell carcinoma',\n",
       " 'basal cell carcinoma',\n",
       " 'basal cell carcinoma',\n",
       " 'basal cell carcinoma',\n",
       " 'basal cell carcinoma',\n",
       " 'basal cell carcinoma',\n",
       " 'basal cell carcinoma',\n",
       " 'basal cell carcinoma',\n",
       " 'basal cell carcinoma',\n",
       " 'basal cell carcinoma',\n",
       " 'basal cell carcinoma',\n",
       " 'basal cell carcinoma',\n",
       " 'basal cell carcinoma',\n",
       " 'basal cell carcinoma',\n",
       " 'basal cell carcinoma',\n",
       " 'basal cell carcinoma',\n",
       " 'basal cell carcinoma',\n",
       " 'basal cell carcinoma',\n",
       " 'basal cell carcinoma',\n",
       " 'basal cell carcinoma',\n",
       " 'basal cell carcinoma',\n",
       " 'basal cell carcinoma',\n",
       " 'basal cell carcinoma',\n",
       " 'basal cell carcinoma',\n",
       " 'basal cell carcinoma',\n",
       " 'basal cell carcinoma',\n",
       " 'basal cell carcinoma',\n",
       " 'basal cell carcinoma',\n",
       " 'basal cell carcinoma',\n",
       " 'basal cell carcinoma',\n",
       " 'basal cell carcinoma',\n",
       " 'basal cell carcinoma',\n",
       " 'basal cell carcinoma',\n",
       " 'basal cell carcinoma',\n",
       " 'basal cell carcinoma',\n",
       " 'basal cell carcinoma',\n",
       " 'basal cell carcinoma',\n",
       " 'basal cell carcinoma',\n",
       " 'basal cell carcinoma',\n",
       " 'basal cell carcinoma',\n",
       " 'basal cell carcinoma',\n",
       " 'basal cell carcinoma',\n",
       " 'basal cell carcinoma',\n",
       " 'basal cell carcinoma',\n",
       " 'basal cell carcinoma',\n",
       " 'basal cell carcinoma',\n",
       " 'basal cell carcinoma',\n",
       " 'basal cell carcinoma',\n",
       " 'basal cell carcinoma',\n",
       " 'basal cell carcinoma',\n",
       " 'basal cell carcinoma',\n",
       " 'basal cell carcinoma',\n",
       " 'basal cell carcinoma',\n",
       " 'basal cell carcinoma',\n",
       " 'basal cell carcinoma',\n",
       " 'basal cell carcinoma',\n",
       " 'basal cell carcinoma',\n",
       " 'basal cell carcinoma',\n",
       " 'basal cell carcinoma',\n",
       " 'basal cell carcinoma',\n",
       " 'basal cell carcinoma',\n",
       " 'basal cell carcinoma',\n",
       " 'basal cell carcinoma',\n",
       " 'basal cell carcinoma',\n",
       " 'basal cell carcinoma',\n",
       " 'basal cell carcinoma',\n",
       " 'basal cell carcinoma',\n",
       " 'basal cell carcinoma',\n",
       " 'basal cell carcinoma',\n",
       " 'basal cell carcinoma',\n",
       " 'basal cell carcinoma',\n",
       " 'basal cell carcinoma',\n",
       " 'basal cell carcinoma',\n",
       " 'basal cell carcinoma',\n",
       " 'basal cell carcinoma',\n",
       " 'basal cell carcinoma',\n",
       " 'basal cell carcinoma',\n",
       " 'basal cell carcinoma',\n",
       " 'basal cell carcinoma',\n",
       " 'basal cell carcinoma',\n",
       " 'basal cell carcinoma',\n",
       " 'basal cell carcinoma',\n",
       " 'basal cell carcinoma',\n",
       " 'basal cell carcinoma',\n",
       " 'basal cell carcinoma',\n",
       " 'basal cell carcinoma',\n",
       " 'basal cell carcinoma',\n",
       " 'basal cell carcinoma',\n",
       " 'basal cell carcinoma',\n",
       " 'basal cell carcinoma',\n",
       " 'basal cell carcinoma',\n",
       " 'basal cell carcinoma',\n",
       " 'basal cell carcinoma',\n",
       " 'basal cell carcinoma',\n",
       " 'basal cell carcinoma',\n",
       " 'basal cell carcinoma',\n",
       " 'basal cell carcinoma',\n",
       " 'basal cell carcinoma',\n",
       " 'basal cell carcinoma',\n",
       " 'basal cell carcinoma',\n",
       " 'basal cell carcinoma',\n",
       " 'basal cell carcinoma',\n",
       " 'basal cell carcinoma',\n",
       " 'basal cell carcinoma',\n",
       " 'basal cell carcinoma',\n",
       " 'basal cell carcinoma',\n",
       " 'basal cell carcinoma',\n",
       " 'basal cell carcinoma',\n",
       " 'basal cell carcinoma',\n",
       " 'basal cell carcinoma',\n",
       " 'basal cell carcinoma',\n",
       " 'basal cell carcinoma',\n",
       " 'basal cell carcinoma',\n",
       " 'basal cell carcinoma',\n",
       " 'basal cell carcinoma',\n",
       " 'basal cell carcinoma',\n",
       " 'basal cell carcinoma',\n",
       " 'basal cell carcinoma',\n",
       " 'basal cell carcinoma',\n",
       " 'basal cell carcinoma',\n",
       " 'basal cell carcinoma',\n",
       " 'basal cell carcinoma',\n",
       " 'basal cell carcinoma',\n",
       " 'basal cell carcinoma',\n",
       " 'basal cell carcinoma',\n",
       " 'basal cell carcinoma',\n",
       " 'basal cell carcinoma',\n",
       " 'basal cell carcinoma',\n",
       " 'basal cell carcinoma',\n",
       " 'basal cell carcinoma',\n",
       " 'basal cell carcinoma',\n",
       " 'basal cell carcinoma',\n",
       " 'basal cell carcinoma',\n",
       " 'basal cell carcinoma',\n",
       " 'basal cell carcinoma',\n",
       " 'basal cell carcinoma',\n",
       " 'basal cell carcinoma',\n",
       " 'basal cell carcinoma',\n",
       " 'basal cell carcinoma',\n",
       " 'basal cell carcinoma',\n",
       " 'basal cell carcinoma',\n",
       " 'basal cell carcinoma',\n",
       " 'basal cell carcinoma',\n",
       " 'basal cell carcinoma',\n",
       " 'basal cell carcinoma',\n",
       " 'basal cell carcinoma',\n",
       " 'basal cell carcinoma',\n",
       " 'basal cell carcinoma',\n",
       " 'basal cell carcinoma',\n",
       " 'basal cell carcinoma',\n",
       " 'basal cell carcinoma',\n",
       " 'basal cell carcinoma',\n",
       " 'basal cell carcinoma',\n",
       " 'basal cell carcinoma',\n",
       " 'basal cell carcinoma',\n",
       " 'basal cell carcinoma',\n",
       " 'basal cell carcinoma',\n",
       " 'basal cell carcinoma',\n",
       " 'basal cell carcinoma',\n",
       " 'basal cell carcinoma',\n",
       " 'basal cell carcinoma',\n",
       " 'basal cell carcinoma',\n",
       " 'basal cell carcinoma',\n",
       " 'basal cell carcinoma',\n",
       " 'basal cell carcinoma',\n",
       " 'basal cell carcinoma',\n",
       " 'basal cell carcinoma',\n",
       " 'basal cell carcinoma',\n",
       " 'basal cell carcinoma',\n",
       " 'basal cell carcinoma',\n",
       " 'basal cell carcinoma',\n",
       " 'basal cell carcinoma',\n",
       " 'basal cell carcinoma',\n",
       " 'basal cell carcinoma',\n",
       " 'basal cell carcinoma',\n",
       " 'basal cell carcinoma',\n",
       " 'basal cell carcinoma',\n",
       " 'basal cell carcinoma',\n",
       " 'basal cell carcinoma',\n",
       " 'basal cell carcinoma',\n",
       " 'basal cell carcinoma',\n",
       " 'basal cell carcinoma',\n",
       " 'basal cell carcinoma',\n",
       " 'basal cell carcinoma',\n",
       " 'basal cell carcinoma',\n",
       " 'basal cell carcinoma',\n",
       " 'basal cell carcinoma',\n",
       " 'basal cell carcinoma',\n",
       " 'basal cell carcinoma',\n",
       " 'basal cell carcinoma',\n",
       " 'basal cell carcinoma',\n",
       " 'basal cell carcinoma',\n",
       " 'basal cell carcinoma',\n",
       " 'basal cell carcinoma',\n",
       " 'basal cell carcinoma',\n",
       " 'basal cell carcinoma',\n",
       " 'basal cell carcinoma',\n",
       " 'basal cell carcinoma',\n",
       " 'basal cell carcinoma',\n",
       " 'basal cell carcinoma',\n",
       " 'basal cell carcinoma',\n",
       " 'basal cell carcinoma',\n",
       " 'basal cell carcinoma',\n",
       " 'basal cell carcinoma',\n",
       " 'basal cell carcinoma',\n",
       " 'basal cell carcinoma',\n",
       " 'basal cell carcinoma',\n",
       " 'basal cell carcinoma',\n",
       " 'basal cell carcinoma',\n",
       " 'basal cell carcinoma',\n",
       " 'basal cell carcinoma',\n",
       " 'basal cell carcinoma',\n",
       " 'basal cell carcinoma',\n",
       " 'basal cell carcinoma',\n",
       " 'basal cell carcinoma',\n",
       " 'basal cell carcinoma',\n",
       " 'basal cell carcinoma',\n",
       " 'basal cell carcinoma',\n",
       " 'basal cell carcinoma',\n",
       " 'basal cell carcinoma',\n",
       " 'basal cell carcinoma',\n",
       " 'basal cell carcinoma',\n",
       " 'basal cell carcinoma',\n",
       " 'basal cell carcinoma',\n",
       " 'basal cell carcinoma',\n",
       " 'basal cell carcinoma',\n",
       " 'basal cell carcinoma',\n",
       " 'basal cell carcinoma',\n",
       " 'basal cell carcinoma',\n",
       " 'basal cell carcinoma',\n",
       " 'basal cell carcinoma',\n",
       " 'basal cell carcinoma',\n",
       " 'basal cell carcinoma',\n",
       " 'basal cell carcinoma',\n",
       " 'basal cell carcinoma',\n",
       " 'basal cell carcinoma',\n",
       " 'basal cell carcinoma',\n",
       " 'basal cell carcinoma',\n",
       " 'basal cell carcinoma',\n",
       " 'basal cell carcinoma',\n",
       " 'basal cell carcinoma',\n",
       " 'basal cell carcinoma',\n",
       " 'basal cell carcinoma',\n",
       " 'basal cell carcinoma',\n",
       " 'basal cell carcinoma',\n",
       " 'basal cell carcinoma',\n",
       " 'basal cell carcinoma',\n",
       " 'basal cell carcinoma',\n",
       " 'basal cell carcinoma',\n",
       " 'basal cell carcinoma',\n",
       " 'basal cell carcinoma',\n",
       " 'basal cell carcinoma',\n",
       " 'basal cell carcinoma',\n",
       " 'basal cell carcinoma',\n",
       " 'basal cell carcinoma',\n",
       " 'basal cell carcinoma',\n",
       " 'basal cell carcinoma',\n",
       " 'basal cell carcinoma',\n",
       " 'basal cell carcinoma',\n",
       " 'basal cell carcinoma',\n",
       " 'basal cell carcinoma',\n",
       " 'basal cell carcinoma',\n",
       " 'basal cell carcinoma',\n",
       " 'basal cell carcinoma',\n",
       " 'basal cell carcinoma',\n",
       " 'basal cell carcinoma',\n",
       " 'basal cell carcinoma',\n",
       " 'basal cell carcinoma',\n",
       " 'basal cell carcinoma',\n",
       " 'basal cell carcinoma',\n",
       " 'basal cell carcinoma',\n",
       " 'basal cell carcinoma',\n",
       " 'basal cell carcinoma',\n",
       " 'basal cell carcinoma',\n",
       " 'basal cell carcinoma',\n",
       " 'basal cell carcinoma',\n",
       " 'basal cell carcinoma',\n",
       " 'basal cell carcinoma',\n",
       " 'basal cell carcinoma',\n",
       " 'basal cell carcinoma',\n",
       " 'basal cell carcinoma',\n",
       " 'basal cell carcinoma',\n",
       " 'basal cell carcinoma',\n",
       " 'basal cell carcinoma',\n",
       " 'basal cell carcinoma',\n",
       " 'basal cell carcinoma',\n",
       " 'basal cell carcinoma',\n",
       " 'basal cell carcinoma',\n",
       " 'basal cell carcinoma',\n",
       " 'basal cell carcinoma',\n",
       " 'basal cell carcinoma',\n",
       " 'basal cell carcinoma',\n",
       " 'basal cell carcinoma',\n",
       " 'basal cell carcinoma',\n",
       " 'basal cell carcinoma',\n",
       " 'basal cell carcinoma',\n",
       " 'basal cell carcinoma',\n",
       " 'basal cell carcinoma',\n",
       " 'basal cell carcinoma',\n",
       " 'basal cell carcinoma',\n",
       " 'basal cell carcinoma',\n",
       " 'basal cell carcinoma',\n",
       " 'basal cell carcinoma',\n",
       " 'basal cell carcinoma',\n",
       " 'basal cell carcinoma',\n",
       " 'basal cell carcinoma',\n",
       " 'basal cell carcinoma',\n",
       " 'basal cell carcinoma',\n",
       " 'basal cell carcinoma',\n",
       " 'basal cell carcinoma',\n",
       " 'basal cell carcinoma',\n",
       " 'basal cell carcinoma',\n",
       " 'basal cell carcinoma',\n",
       " 'basal cell carcinoma',\n",
       " 'basal cell carcinoma',\n",
       " 'basal cell carcinoma',\n",
       " 'basal cell carcinoma',\n",
       " 'basal cell carcinoma',\n",
       " 'basal cell carcinoma',\n",
       " 'basal cell carcinoma',\n",
       " 'basal cell carcinoma',\n",
       " 'basal cell carcinoma',\n",
       " 'basal cell carcinoma',\n",
       " 'basal cell carcinoma',\n",
       " 'basal cell carcinoma',\n",
       " 'basal cell carcinoma',\n",
       " 'basal cell carcinoma',\n",
       " 'basal cell carcinoma',\n",
       " 'basal cell carcinoma',\n",
       " 'basal cell carcinoma',\n",
       " ...]"
      ]
     },
     "execution_count": 39,
     "metadata": {},
     "output_type": "execute_result"
    }
   ],
   "source": [
    "lesion_list_new = [os.path.basename(os.path.dirname(os.path.dirname(y))) for y in glob(os.path.join(data_dir_train, '*','output', '*.jpg'))]\n",
    "lesion_list_new"
   ]
  },
  {
   "cell_type": "code",
   "execution_count": 40,
   "metadata": {
    "executionInfo": {
     "elapsed": 4,
     "status": "ok",
     "timestamp": 1666190603980,
     "user": {
      "displayName": "satya sravan",
      "userId": "17412231274937908256"
     },
     "user_tz": -330
    },
    "id": "ZNEck9D3sg63"
   },
   "outputs": [],
   "source": [
    "# 'train/class_name/output/221tews.jpg'.split('/')[-3]"
   ]
  },
  {
   "cell_type": "code",
   "execution_count": 41,
   "metadata": {
    "executionInfo": {
     "elapsed": 4,
     "status": "ok",
     "timestamp": 1666190621900,
     "user": {
      "displayName": "satya sravan",
      "userId": "17412231274937908256"
     },
     "user_tz": -330
    },
    "id": "dtxgfs1PsvGX"
   },
   "outputs": [],
   "source": [
    "dataframe_dict_new = dict(zip(path_list, lesion_list_new))"
   ]
  },
  {
   "cell_type": "code",
   "execution_count": 42,
   "metadata": {
    "executionInfo": {
     "elapsed": 4,
     "status": "ok",
     "timestamp": 1666190630622,
     "user": {
      "displayName": "satya sravan",
      "userId": "17412231274937908256"
     },
     "user_tz": -330
    },
    "id": "E2LSw8h5szXB"
   },
   "outputs": [],
   "source": [
    "df2 = pd.DataFrame(list(dataframe_dict_new.items()),columns = ['Path','Label'])\n",
    "new_df = original_df.append(df2)"
   ]
  },
  {
   "cell_type": "code",
   "execution_count": 43,
   "metadata": {
    "colab": {
     "base_uri": "https://localhost:8080/"
    },
    "executionInfo": {
     "elapsed": 43,
     "status": "ok",
     "timestamp": 1666190643927,
     "user": {
      "displayName": "satya sravan",
      "userId": "17412231274937908256"
     },
     "user_tz": -330
    },
    "id": "WceV11bIs1ax",
    "outputId": "a5d27d8b-2a5e-4ffc-ea8e-d30b95df4806"
   },
   "outputs": [
    {
     "data": {
      "text/plain": [
       "pigmented benign keratosis    962\n",
       "melanoma                      938\n",
       "basal cell carcinoma          876\n",
       "nevus                         857\n",
       "squamous cell carcinoma       681\n",
       "vascular lesion               639\n",
       "actinic keratosis             614\n",
       "dermatofibroma                595\n",
       "seborrheic keratosis          577\n",
       "Name: Label, dtype: int64"
      ]
     },
     "execution_count": 43,
     "metadata": {},
     "output_type": "execute_result"
    }
   ],
   "source": [
    "new_df['Label'].value_counts()"
   ]
  },
  {
   "cell_type": "markdown",
   "metadata": {
    "id": "JeMS86IBtBGp"
   },
   "source": [
    "So, now we have added 500 images to all the classes to maintain some class balance. We can add more images as we want to improve training process.\n",
    "\n",
    "Todo: Train the model on the data created using Augmentor"
   ]
  },
  {
   "cell_type": "code",
   "execution_count": 45,
   "metadata": {
    "executionInfo": {
     "elapsed": 3,
     "status": "ok",
     "timestamp": 1666190722190,
     "user": {
      "displayName": "satya sravan",
      "userId": "17412231274937908256"
     },
     "user_tz": -330
    },
    "id": "9orzMXnztBvE"
   },
   "outputs": [],
   "source": [
    "batch_size = 32\n",
    "img_height = 180\n",
    "img_width = 180"
   ]
  },
  {
   "cell_type": "markdown",
   "metadata": {
    "id": "NXMgw2e2tPyy"
   },
   "source": [
    "Todo: Create a training dataset"
   ]
  },
  {
   "cell_type": "code",
   "execution_count": 47,
   "metadata": {
    "colab": {
     "base_uri": "https://localhost:8080/"
    },
    "executionInfo": {
     "elapsed": 2278,
     "status": "ok",
     "timestamp": 1666190784979,
     "user": {
      "displayName": "satya sravan",
      "userId": "17412231274937908256"
     },
     "user_tz": -330
    },
    "id": "isVdtV4qtQIi",
    "outputId": "bb903a7d-65d0-4495-bef7-81af182f6d88"
   },
   "outputs": [
    {
     "name": "stdout",
     "output_type": "stream",
     "text": [
      "Found 6739 files belonging to 9 classes.\n",
      "Using 5392 files for training.\n"
     ]
    }
   ],
   "source": [
    "data_dir_train=\"/content/drive/MyDrive/Skin cancer ISIC The International Skin Imaging Collaboration/Train\"\n",
    "train_ds = tf.keras.preprocessing.image_dataset_from_directory(\n",
    "                                  data_dir_train,\n",
    "                                  seed=123,\n",
    "                                  validation_split = 0.2,\n",
    "                                  subset = 'training',## Todo choose the correct parameter value, so that only training data is refered to,,\n",
    "                                  image_size=(img_height, img_width),\n",
    "                                  batch_size=batch_size)"
   ]
  },
  {
   "cell_type": "code",
   "execution_count": null,
   "metadata": {
    "id": "DDcYOBpttU38"
   },
   "outputs": [],
   "source": []
  },
  {
   "cell_type": "markdown",
   "metadata": {
    "id": "pqlR2ehRte_5"
   },
   "source": [
    "Todo: Create a validation dataset"
   ]
  },
  {
   "cell_type": "code",
   "execution_count": 48,
   "metadata": {
    "colab": {
     "base_uri": "https://localhost:8080/"
    },
    "executionInfo": {
     "elapsed": 2202,
     "status": "ok",
     "timestamp": 1666190812106,
     "user": {
      "displayName": "satya sravan",
      "userId": "17412231274937908256"
     },
     "user_tz": -330
    },
    "id": "yJKp-uhwtfbq",
    "outputId": "f6482735-20a2-4e45-b991-f3dd3d78f501"
   },
   "outputs": [
    {
     "name": "stdout",
     "output_type": "stream",
     "text": [
      "Found 6739 files belonging to 9 classes.\n",
      "Using 1347 files for validation.\n"
     ]
    }
   ],
   "source": [
    "val_ds = tf.keras.preprocessing.image_dataset_from_directory(\n",
    "                                  data_dir_train,\n",
    "                                  seed=123,\n",
    "                                  validation_split = 0.2,\n",
    "                                  subset = 'validation',## Todo choose the correct parameter value, so that only validation data is refered to,\n",
    "                                  image_size=(img_height, img_width),\n",
    "                                  batch_size=batch_size)"
   ]
  },
  {
   "cell_type": "code",
   "execution_count": null,
   "metadata": {
    "id": "f8LU7xPYthRY"
   },
   "outputs": [],
   "source": []
  },
  {
   "cell_type": "markdown",
   "metadata": {
    "id": "rWmg6hshtoJl"
   },
   "source": [
    "Todo: Create your model (make sure to include normalization)"
   ]
  },
  {
   "cell_type": "code",
   "execution_count": 49,
   "metadata": {
    "executionInfo": {
     "elapsed": 5,
     "status": "ok",
     "timestamp": 1666190852386,
     "user": {
      "displayName": "satya sravan",
      "userId": "17412231274937908256"
     },
     "user_tz": -330
    },
    "id": "5tu4pcpStofl"
   },
   "outputs": [],
   "source": [
    "## your code goes here\n",
    "num_classes = 9\n",
    "model = Sequential([\n",
    "  data_augmentation,\n",
    "  layers.Rescaling(1./255),\n",
    "  layers.Conv2D(16, 3, padding='same', activation='relu'),\n",
    "  layers.MaxPooling2D(),\n",
    "  layers.Conv2D(32, 3, padding='same', activation='relu'),\n",
    "  layers.MaxPooling2D(),\n",
    "  layers.Conv2D(64, 3, padding='same', activation='relu'),\n",
    "  layers.MaxPooling2D(),\n",
    "  layers.Dropout(0.3),\n",
    "  layers.Flatten(),\n",
    "  layers.Dense(128, activation='relu'),\n",
    "  layers.Dropout(0.2),\n",
    "  layers.Dense(num_classes)\n",
    "])"
   ]
  },
  {
   "cell_type": "code",
   "execution_count": null,
   "metadata": {
    "id": "usMbY3l-trgB"
   },
   "outputs": [],
   "source": []
  },
  {
   "cell_type": "markdown",
   "metadata": {
    "id": "kpePFXsttuXb"
   },
   "source": [
    "Todo: Compile your model (Choose optimizer and loss function appropriately)"
   ]
  },
  {
   "cell_type": "code",
   "execution_count": 50,
   "metadata": {
    "executionInfo": {
     "elapsed": 4,
     "status": "ok",
     "timestamp": 1666190871748,
     "user": {
      "displayName": "satya sravan",
      "userId": "17412231274937908256"
     },
     "user_tz": -330
    },
    "id": "nYIw720Stuui"
   },
   "outputs": [],
   "source": [
    "## your code goes here\n",
    "model.compile(optimizer='adam',\n",
    "              loss=tf.keras.losses.SparseCategoricalCrossentropy(from_logits=True),\n",
    "              metrics=['accuracy'])"
   ]
  },
  {
   "cell_type": "code",
   "execution_count": 51,
   "metadata": {
    "colab": {
     "base_uri": "https://localhost:8080/"
    },
    "executionInfo": {
     "elapsed": 252718,
     "status": "ok",
     "timestamp": 1666191991647,
     "user": {
      "displayName": "satya sravan",
      "userId": "17412231274937908256"
     },
     "user_tz": -330
    },
    "id": "NxltS-qWtwa9",
    "outputId": "c931bef1-5329-4887-fbc3-cc7c08551982"
   },
   "outputs": [
    {
     "name": "stdout",
     "output_type": "stream",
     "text": [
      "Epoch 1/30\n",
      "169/169 [==============================] - 41s 226ms/step - loss: 1.9318 - accuracy: 0.2522 - val_loss: 1.5642 - val_accuracy: 0.3890\n",
      "Epoch 2/30\n",
      "169/169 [==============================] - 36s 207ms/step - loss: 1.5322 - accuracy: 0.4143 - val_loss: 1.4351 - val_accuracy: 0.4558\n",
      "Epoch 3/30\n",
      "169/169 [==============================] - 36s 206ms/step - loss: 1.4532 - accuracy: 0.4414 - val_loss: 1.4230 - val_accuracy: 0.4595\n",
      "Epoch 4/30\n",
      "169/169 [==============================] - 35s 204ms/step - loss: 1.4059 - accuracy: 0.4605 - val_loss: 1.3488 - val_accuracy: 0.4840\n",
      "Epoch 5/30\n",
      "169/169 [==============================] - 36s 205ms/step - loss: 1.3417 - accuracy: 0.4792 - val_loss: 1.3185 - val_accuracy: 0.4892\n",
      "Epoch 6/30\n",
      "169/169 [==============================] - 36s 204ms/step - loss: 1.3274 - accuracy: 0.4850 - val_loss: 1.2775 - val_accuracy: 0.5004\n",
      "Epoch 7/30\n",
      "169/169 [==============================] - 36s 204ms/step - loss: 1.2839 - accuracy: 0.5013 - val_loss: 1.2723 - val_accuracy: 0.5026\n",
      "Epoch 8/30\n",
      "169/169 [==============================] - 35s 203ms/step - loss: 1.3095 - accuracy: 0.4926 - val_loss: 1.2285 - val_accuracy: 0.5330\n",
      "Epoch 9/30\n",
      "169/169 [==============================] - 35s 201ms/step - loss: 1.2469 - accuracy: 0.5174 - val_loss: 1.3029 - val_accuracy: 0.4900\n",
      "Epoch 10/30\n",
      "169/169 [==============================] - 35s 203ms/step - loss: 1.2667 - accuracy: 0.5067 - val_loss: 1.2206 - val_accuracy: 0.5167\n",
      "Epoch 11/30\n",
      "169/169 [==============================] - 38s 222ms/step - loss: 1.2296 - accuracy: 0.5232 - val_loss: 1.2461 - val_accuracy: 0.5293\n",
      "Epoch 12/30\n",
      "169/169 [==============================] - 35s 202ms/step - loss: 1.1971 - accuracy: 0.5386 - val_loss: 1.2076 - val_accuracy: 0.5397\n",
      "Epoch 13/30\n",
      "169/169 [==============================] - 35s 202ms/step - loss: 1.1458 - accuracy: 0.5532 - val_loss: 1.1521 - val_accuracy: 0.5479\n",
      "Epoch 14/30\n",
      "169/169 [==============================] - 35s 201ms/step - loss: 1.1371 - accuracy: 0.5571 - val_loss: 1.1353 - val_accuracy: 0.5523\n",
      "Epoch 15/30\n",
      "169/169 [==============================] - 35s 201ms/step - loss: 1.1089 - accuracy: 0.5664 - val_loss: 1.1397 - val_accuracy: 0.5419\n",
      "Epoch 16/30\n",
      "169/169 [==============================] - 35s 201ms/step - loss: 1.1109 - accuracy: 0.5608 - val_loss: 1.1242 - val_accuracy: 0.5612\n",
      "Epoch 17/30\n",
      "169/169 [==============================] - 35s 202ms/step - loss: 1.1083 - accuracy: 0.5606 - val_loss: 1.0777 - val_accuracy: 0.5635\n",
      "Epoch 18/30\n",
      "169/169 [==============================] - 35s 203ms/step - loss: 1.0991 - accuracy: 0.5731 - val_loss: 1.1182 - val_accuracy: 0.5546\n",
      "Epoch 19/30\n",
      "169/169 [==============================] - 35s 201ms/step - loss: 1.0751 - accuracy: 0.5849 - val_loss: 1.0997 - val_accuracy: 0.5731\n",
      "Epoch 20/30\n",
      "169/169 [==============================] - 35s 201ms/step - loss: 1.0480 - accuracy: 0.5907 - val_loss: 1.1095 - val_accuracy: 0.5754\n",
      "Epoch 21/30\n",
      "169/169 [==============================] - 37s 215ms/step - loss: 1.0048 - accuracy: 0.5979 - val_loss: 1.0927 - val_accuracy: 0.5880\n",
      "Epoch 22/30\n",
      "169/169 [==============================] - 35s 199ms/step - loss: 0.9883 - accuracy: 0.6181 - val_loss: 1.0196 - val_accuracy: 0.6110\n",
      "Epoch 23/30\n",
      "169/169 [==============================] - 35s 200ms/step - loss: 0.9814 - accuracy: 0.6115 - val_loss: 1.0895 - val_accuracy: 0.5895\n",
      "Epoch 24/30\n",
      "169/169 [==============================] - 35s 202ms/step - loss: 0.9911 - accuracy: 0.6129 - val_loss: 1.0599 - val_accuracy: 0.5857\n",
      "Epoch 25/30\n",
      "169/169 [==============================] - 35s 201ms/step - loss: 0.9486 - accuracy: 0.6282 - val_loss: 1.0307 - val_accuracy: 0.6162\n",
      "Epoch 26/30\n",
      "169/169 [==============================] - 35s 204ms/step - loss: 0.9344 - accuracy: 0.6315 - val_loss: 1.0015 - val_accuracy: 0.6214\n",
      "Epoch 27/30\n",
      "169/169 [==============================] - 35s 203ms/step - loss: 0.9289 - accuracy: 0.6307 - val_loss: 1.0352 - val_accuracy: 0.6140\n",
      "Epoch 28/30\n",
      "169/169 [==============================] - 35s 202ms/step - loss: 0.9215 - accuracy: 0.6397 - val_loss: 0.9901 - val_accuracy: 0.6251\n",
      "Epoch 29/30\n",
      "169/169 [==============================] - 35s 201ms/step - loss: 0.9031 - accuracy: 0.6439 - val_loss: 0.9606 - val_accuracy: 0.6288\n",
      "Epoch 30/30\n",
      "169/169 [==============================] - 38s 219ms/step - loss: 0.8958 - accuracy: 0.6482 - val_loss: 1.0450 - val_accuracy: 0.5984\n"
     ]
    }
   ],
   "source": [
    "epochs = 30\n",
    "## Your code goes here, use 50 epochs.\n",
    "history30 = model.fit(\n",
    "  train_ds,\n",
    "  validation_data=val_ds,\n",
    "  epochs=epochs\n",
    ")# your model fit code"
   ]
  },
  {
   "cell_type": "code",
   "execution_count": 53,
   "metadata": {
    "colab": {
     "base_uri": "https://localhost:8080/",
     "height": 444
    },
    "executionInfo": {
     "elapsed": 1025,
     "status": "ok",
     "timestamp": 1666192040824,
     "user": {
      "displayName": "satya sravan",
      "userId": "17412231274937908256"
     },
     "user_tz": -330
    },
    "id": "a636gLVytzuN",
    "outputId": "14ac76b9-c4df-4ccb-8041-d97dcdd247b2"
   },
   "outputs": [
    {
     "data": {
      "image/png": "[encoded data removed]",
      "text/plain": [
       "<Figure size 504x504 with 2 Axes>"
      ]
     },
     "metadata": {
      "needs_background": "light"
     },
     "output_type": "display_data"
    }
   ],
   "source": [
    "acc = history30.history['accuracy']\n",
    "val_acc = history30.history['val_accuracy']\n",
    "\n",
    "loss = history30.history['loss']\n",
    "val_loss = history30.history['val_loss']\n",
    "\n",
    "epochs_range = range(epochs)\n",
    "\n",
    "plt.figure(figsize=(7, 7))\n",
    "plt.subplot(1, 2, 1)\n",
    "plt.plot(epochs_range, acc, label='Training Accuracy')\n",
    "plt.plot(epochs_range, val_acc, label='Validation Accuracy')\n",
    "plt.legend(loc='lower right')\n",
    "plt.title('Training and Validation Accuracy')\n",
    "\n",
    "plt.subplot(1, 2, 2)\n",
    "plt.plot(epochs_range, loss, label='Training Loss')\n",
    "plt.plot(epochs_range, val_loss, label='Validation Loss')\n",
    "plt.legend(loc='upper right')\n",
    "plt.title('Training and Validation Loss')\n",
    "plt.show()"
   ]
  },
  {
   "cell_type": "markdown",
   "metadata": {
    "id": "iYx_B8TLySWh"
   },
   "source": [
    "Todo: Analyze your results here. Did you get rid of underfitting/overfitting? Did class rebalance help?\n",
    "\n",
    "Overfitting and underfitting problem was solved and the model was well trained for predictions. In order to improve the performance, Data augmentation, outliers, and class equalization was used and found to be helpful.\n",
    "\n",
    "Train the model for 50 more epochs"
   ]
  },
  {
   "cell_type": "code",
   "execution_count": 55,
   "metadata": {
    "colab": {
     "base_uri": "https://localhost:8080/"
    },
    "executionInfo": {
     "elapsed": 932335,
     "status": "ok",
     "timestamp": 1666195892872,
     "user": {
      "displayName": "satya sravan",
      "userId": "17412231274937908256"
     },
     "user_tz": -330
    },
    "id": "tjWNfP-qySy1",
    "outputId": "5020ba15-5a9f-49be-f3ec-c23258b894c7"
   },
   "outputs": [
    {
     "name": "stdout",
     "output_type": "stream",
     "text": [
      "Epoch 1/50\n",
      "169/169 [==============================] - 42s 241ms/step - loss: 0.6403 - accuracy: 0.7472 - val_loss: 1.0195 - val_accuracy: 0.6823\n",
      "Epoch 2/50\n",
      "169/169 [==============================] - 39s 227ms/step - loss: 0.6578 - accuracy: 0.7326 - val_loss: 0.9707 - val_accuracy: 0.6845\n",
      "Epoch 3/50\n",
      "169/169 [==============================] - 37s 215ms/step - loss: 0.6368 - accuracy: 0.7461 - val_loss: 0.9952 - val_accuracy: 0.6785\n",
      "Epoch 4/50\n",
      "169/169 [==============================] - 36s 208ms/step - loss: 0.6200 - accuracy: 0.7591 - val_loss: 1.0332 - val_accuracy: 0.6711\n",
      "Epoch 5/50\n",
      "169/169 [==============================] - 36s 206ms/step - loss: 0.6241 - accuracy: 0.7587 - val_loss: 1.0445 - val_accuracy: 0.6719\n",
      "Epoch 6/50\n",
      "169/169 [==============================] - 36s 206ms/step - loss: 0.6364 - accuracy: 0.7498 - val_loss: 0.9518 - val_accuracy: 0.6919\n",
      "Epoch 7/50\n",
      "169/169 [==============================] - 36s 208ms/step - loss: 0.6244 - accuracy: 0.7500 - val_loss: 0.9472 - val_accuracy: 0.7008\n",
      "Epoch 8/50\n",
      "169/169 [==============================] - 36s 206ms/step - loss: 0.5972 - accuracy: 0.7596 - val_loss: 0.9630 - val_accuracy: 0.7030\n",
      "Epoch 9/50\n",
      "169/169 [==============================] - 36s 206ms/step - loss: 0.6260 - accuracy: 0.7517 - val_loss: 1.0332 - val_accuracy: 0.6733\n",
      "Epoch 10/50\n",
      "169/169 [==============================] - 36s 207ms/step - loss: 0.6132 - accuracy: 0.7632 - val_loss: 0.9223 - val_accuracy: 0.7045\n",
      "Epoch 11/50\n",
      "169/169 [==============================] - 39s 222ms/step - loss: 0.6495 - accuracy: 0.7483 - val_loss: 1.0796 - val_accuracy: 0.6615\n",
      "Epoch 12/50\n",
      "169/169 [==============================] - 36s 206ms/step - loss: 0.6209 - accuracy: 0.7647 - val_loss: 0.9668 - val_accuracy: 0.7090\n",
      "Epoch 13/50\n",
      "169/169 [==============================] - 36s 207ms/step - loss: 0.6216 - accuracy: 0.7622 - val_loss: 1.0036 - val_accuracy: 0.6986\n",
      "Epoch 14/50\n",
      "169/169 [==============================] - 36s 208ms/step - loss: 0.5990 - accuracy: 0.7663 - val_loss: 0.9802 - val_accuracy: 0.6845\n",
      "Epoch 15/50\n",
      "169/169 [==============================] - 36s 206ms/step - loss: 0.5829 - accuracy: 0.7702 - val_loss: 1.0617 - val_accuracy: 0.6763\n",
      "Epoch 16/50\n",
      "169/169 [==============================] - 36s 206ms/step - loss: 0.5879 - accuracy: 0.7613 - val_loss: 0.9652 - val_accuracy: 0.7060\n",
      "Epoch 17/50\n",
      "169/169 [==============================] - 36s 205ms/step - loss: 0.6005 - accuracy: 0.7639 - val_loss: 1.0802 - val_accuracy: 0.6815\n",
      "Epoch 18/50\n",
      "169/169 [==============================] - 36s 204ms/step - loss: 0.5996 - accuracy: 0.7658 - val_loss: 1.0957 - val_accuracy: 0.6704\n",
      "Epoch 19/50\n",
      "169/169 [==============================] - 35s 202ms/step - loss: 0.5856 - accuracy: 0.7656 - val_loss: 0.9589 - val_accuracy: 0.7082\n",
      "Epoch 20/50\n",
      "169/169 [==============================] - 38s 218ms/step - loss: 0.5935 - accuracy: 0.7676 - val_loss: 0.9856 - val_accuracy: 0.6934\n",
      "Epoch 21/50\n",
      "169/169 [==============================] - 35s 203ms/step - loss: 0.6339 - accuracy: 0.7470 - val_loss: 0.9953 - val_accuracy: 0.6927\n",
      "Epoch 22/50\n",
      "169/169 [==============================] - 36s 205ms/step - loss: 0.6047 - accuracy: 0.7615 - val_loss: 0.9177 - val_accuracy: 0.7090\n",
      "Epoch 23/50\n",
      "169/169 [==============================] - 36s 207ms/step - loss: 0.5773 - accuracy: 0.7689 - val_loss: 1.0351 - val_accuracy: 0.6882\n",
      "Epoch 24/50\n",
      "169/169 [==============================] - 35s 203ms/step - loss: 0.5551 - accuracy: 0.7784 - val_loss: 1.0057 - val_accuracy: 0.7157\n",
      "Epoch 25/50\n",
      "169/169 [==============================] - 36s 205ms/step - loss: 0.6009 - accuracy: 0.7598 - val_loss: 0.8858 - val_accuracy: 0.7253\n",
      "Epoch 26/50\n",
      "169/169 [==============================] - 36s 208ms/step - loss: 0.5418 - accuracy: 0.7854 - val_loss: 1.0597 - val_accuracy: 0.6941\n",
      "Epoch 27/50\n",
      "169/169 [==============================] - 36s 207ms/step - loss: 0.5789 - accuracy: 0.7698 - val_loss: 1.0359 - val_accuracy: 0.6971\n",
      "Epoch 28/50\n",
      "169/169 [==============================] - 36s 209ms/step - loss: 0.5588 - accuracy: 0.7812 - val_loss: 1.0346 - val_accuracy: 0.6978\n",
      "Epoch 29/50\n",
      "169/169 [==============================] - 39s 225ms/step - loss: 0.5383 - accuracy: 0.7828 - val_loss: 1.0216 - val_accuracy: 0.7060\n",
      "Epoch 30/50\n",
      "169/169 [==============================] - 36s 210ms/step - loss: 0.5777 - accuracy: 0.7736 - val_loss: 1.0678 - val_accuracy: 0.6889\n",
      "Epoch 31/50\n",
      "169/169 [==============================] - 36s 210ms/step - loss: 0.5613 - accuracy: 0.7787 - val_loss: 0.9558 - val_accuracy: 0.7231\n",
      "Epoch 32/50\n",
      "169/169 [==============================] - 36s 209ms/step - loss: 0.5223 - accuracy: 0.7902 - val_loss: 1.2510 - val_accuracy: 0.6733\n",
      "Epoch 33/50\n",
      "169/169 [==============================] - 36s 207ms/step - loss: 0.5510 - accuracy: 0.7813 - val_loss: 0.9409 - val_accuracy: 0.7261\n",
      "Epoch 34/50\n",
      "169/169 [==============================] - 36s 208ms/step - loss: 0.5136 - accuracy: 0.7949 - val_loss: 0.9976 - val_accuracy: 0.7112\n",
      "Epoch 35/50\n",
      "169/169 [==============================] - 36s 210ms/step - loss: 0.5477 - accuracy: 0.7869 - val_loss: 0.9823 - val_accuracy: 0.7201\n",
      "Epoch 36/50\n",
      "169/169 [==============================] - 36s 208ms/step - loss: 0.5640 - accuracy: 0.7736 - val_loss: 0.9429 - val_accuracy: 0.7194\n",
      "Epoch 37/50\n",
      "169/169 [==============================] - 36s 209ms/step - loss: 0.5193 - accuracy: 0.7930 - val_loss: 0.9217 - val_accuracy: 0.7253\n",
      "Epoch 38/50\n",
      "169/169 [==============================] - 38s 210ms/step - loss: 0.5405 - accuracy: 0.7925 - val_loss: 1.0709 - val_accuracy: 0.7053\n",
      "Epoch 39/50\n",
      "169/169 [==============================] - 36s 210ms/step - loss: 0.5425 - accuracy: 0.7858 - val_loss: 0.9253 - val_accuracy: 0.7253\n",
      "Epoch 40/50\n",
      "169/169 [==============================] - 36s 205ms/step - loss: 0.5054 - accuracy: 0.8053 - val_loss: 0.9462 - val_accuracy: 0.7142\n",
      "Epoch 41/50\n",
      "169/169 [==============================] - 36s 205ms/step - loss: 0.5306 - accuracy: 0.7865 - val_loss: 1.1314 - val_accuracy: 0.7008\n",
      "Epoch 42/50\n",
      "169/169 [==============================] - 35s 204ms/step - loss: 0.5077 - accuracy: 0.8036 - val_loss: 1.1842 - val_accuracy: 0.6912\n",
      "Epoch 43/50\n",
      "169/169 [==============================] - 35s 204ms/step - loss: 0.5125 - accuracy: 0.8004 - val_loss: 0.9077 - val_accuracy: 0.7379\n",
      "Epoch 44/50\n",
      "169/169 [==============================] - 36s 205ms/step - loss: 0.5409 - accuracy: 0.7875 - val_loss: 1.0449 - val_accuracy: 0.7268\n",
      "Epoch 45/50\n",
      "169/169 [==============================] - 36s 205ms/step - loss: 0.5559 - accuracy: 0.7769 - val_loss: 1.0104 - val_accuracy: 0.7365\n",
      "Epoch 46/50\n",
      "169/169 [==============================] - 39s 222ms/step - loss: 0.5394 - accuracy: 0.7930 - val_loss: 0.9358 - val_accuracy: 0.7335\n",
      "Epoch 47/50\n",
      "169/169 [==============================] - 36s 206ms/step - loss: 0.5014 - accuracy: 0.8068 - val_loss: 0.9271 - val_accuracy: 0.7179\n",
      "Epoch 48/50\n",
      "169/169 [==============================] - 36s 204ms/step - loss: 0.5231 - accuracy: 0.7962 - val_loss: 1.1190 - val_accuracy: 0.6800\n",
      "Epoch 49/50\n",
      "169/169 [==============================] - 36s 205ms/step - loss: 0.5167 - accuracy: 0.7915 - val_loss: 1.0272 - val_accuracy: 0.7045\n",
      "Epoch 50/50\n",
      "169/169 [==============================] - 36s 206ms/step - loss: 0.4767 - accuracy: 0.8106 - val_loss: 1.0361 - val_accuracy: 0.7179\n"
     ]
    }
   ],
   "source": [
    "epochs = 50\n",
    "## Your code goes here, use 30 epochs.\n",
    "history = model.fit(\n",
    "  train_ds,\n",
    "  validation_data=val_ds,\n",
    "  epochs=epochs\n",
    ")# your model fit code"
   ]
  },
  {
   "cell_type": "markdown",
   "metadata": {
    "id": "4UaCzZZSBQJT"
   },
   "source": [
    "Visualize the model results for 50 more epochs"
   ]
  },
  {
   "cell_type": "code",
   "execution_count": 56,
   "metadata": {
    "colab": {
     "base_uri": "https://localhost:8080/",
     "height": 444
    },
    "executionInfo": {
     "elapsed": 1244,
     "status": "ok",
     "timestamp": 1666196007032,
     "user": {
      "displayName": "satya sravan",
      "userId": "17412231274937908256"
     },
     "user_tz": -330
    },
    "id": "uKNuGQZUzuUW",
    "outputId": "817d8c75-4578-4866-d23b-daa3854bdd54"
   },
   "outputs": [
    {
     "data": {
      "image/png": "[encoded data removed]",
      "text/plain": [
       "<Figure size 504x504 with 2 Axes>"
      ]
     },
     "metadata": {
      "needs_background": "light"
     },
     "output_type": "display_data"
    }
   ],
   "source": [
    "acc = history.history['accuracy']\n",
    "val_acc = history.history['val_accuracy']\n",
    "\n",
    "loss = history.history['loss']\n",
    "val_loss = history.history['val_loss']\n",
    "\n",
    "epochs_range = range(epochs)\n",
    "\n",
    "plt.figure(figsize=(7, 7))\n",
    "plt.subplot(1, 2, 1)\n",
    "plt.plot(epochs_range, acc, label='Training Accuracy')\n",
    "plt.plot(epochs_range, val_acc, label='Validation Accuracy')\n",
    "plt.legend(loc='lower right')\n",
    "plt.title('Training and Validation Accuracy')\n",
    "\n",
    "plt.subplot(1, 2, 2)\n",
    "plt.plot(epochs_range, loss, label='Training Loss')\n",
    "plt.plot(epochs_range, val_loss, label='Validation Loss')\n",
    "plt.legend(loc='upper right')\n",
    "plt.title('Training and Validation Loss')\n",
    "plt.show()"
   ]
  },
  {
   "cell_type": "code",
   "execution_count": null,
   "metadata": {
    "id": "ClKx3fcpBV5q"
   },
   "outputs": [],
   "source": []
  }
 ],
 "metadata": {
  "accelerator": "GPU",
  "colab": {
   "authorship_tag": "ABX9TyOxG4oIbKNueSa5yvG2nVds",
   "collapsed_sections": [],
   "provenance": []
  },
  "kernelspec": {
   "display_name": "Python 3 (ipykernel)",
   "language": "python",
   "name": "python3"
  },
  "language_info": {
   "codemirror_mode": {
    "name": "ipython",
    "version": 3
   },
   "file_extension": ".py",
   "mimetype": "text/x-python",
   "name": "python",
   "nbconvert_exporter": "python",
   "pygments_lexer": "ipython3",
   "version": "3.9.7"
  }
 },
 "nbformat": 4,
 "nbformat_minor": 1
}
